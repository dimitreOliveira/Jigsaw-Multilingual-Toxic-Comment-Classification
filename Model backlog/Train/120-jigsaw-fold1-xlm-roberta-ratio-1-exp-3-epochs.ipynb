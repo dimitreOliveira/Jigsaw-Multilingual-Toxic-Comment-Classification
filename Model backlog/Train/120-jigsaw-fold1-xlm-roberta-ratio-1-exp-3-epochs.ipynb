{
 "cells": [
  {
   "cell_type": "markdown",
   "execution_count": null,
   "metadata": {},
   "source": [
    "## Dependencies"
   ]
  },
  {
   "cell_type": "code",
   "execution_count": 1,
   "metadata": {
    "_kg_hide-input": true,
    "_kg_hide-output": true
   },
   "outputs": [
    {
     "name": "stderr",
     "output_type": "stream",
     "text": [
      "\u001b[34m\u001b[1mwandb\u001b[0m: \u001b[33mWARNING\u001b[0m W&B installed but not logged in.  Run `wandb login` or set the WANDB_API_KEY env variable.\n"
     ]
    }
   ],
   "source": [
    "import json, warnings, shutil, glob\n",
    "from jigsaw_utility_scripts import *\n",
    "from scripts_step_lr_schedulers import *\n",
    "from transformers import TFXLMRobertaModel, XLMRobertaConfig\n",
    "from tensorflow.keras.models import Model\n",
    "from tensorflow.keras import optimizers, metrics, losses, layers\n",
    "\n",
    "SEED = 0\n",
    "seed_everything(SEED)\n",
    "warnings.filterwarnings(\"ignore\")\n",
    "pd.set_option('max_colwidth', 120)\n",
    "pd.set_option('display.float_format', lambda x: '%.4f' % x)"
   ]
  },
  {
   "cell_type": "markdown",
   "execution_count": null,
   "metadata": {},
   "source": [
    "## TPU configuration"
   ]
  },
  {
   "cell_type": "code",
   "execution_count": 2,
   "metadata": {
    "_cell_guid": "79c7e3d0-c299-4dcb-8224-4455121ee9b0",
    "_kg_hide-input": true,
    "_uuid": "d629ff2d2480ee46fbb7e2d37f6b5fab8052498a"
   },
   "outputs": [
    {
     "name": "stdout",
     "output_type": "stream",
     "text": [
      "Running on TPU  grpc://10.0.0.2:8470\n",
      "REPLICAS:  8\n"
     ]
    }
   ],
   "source": [
    "strategy, tpu = set_up_strategy()\n",
    "print(\"REPLICAS: \", strategy.num_replicas_in_sync)\n",
    "AUTO = tf.data.experimental.AUTOTUNE"
   ]
  },
  {
   "cell_type": "markdown",
   "execution_count": null,
   "metadata": {},
   "source": [
    "# Load data"
   ]
  },
  {
   "cell_type": "code",
   "execution_count": 3,
   "metadata": {
    "_kg_hide-input": true
   },
   "outputs": [
    {
     "name": "stdout",
     "output_type": "stream",
     "text": [
      "Train samples: 267220\n"
     ]
    },
    {
     "data": {
      "text/html": [
       "<div>\n",
       "<style scoped>\n",
       "    .dataframe tbody tr th:only-of-type {\n",
       "        vertical-align: middle;\n",
       "    }\n",
       "\n",
       "    .dataframe tbody tr th {\n",
       "        vertical-align: top;\n",
       "    }\n",
       "\n",
       "    .dataframe thead th {\n",
       "        text-align: right;\n",
       "    }\n",
       "</style>\n",
       "<table border=\"1\" class=\"dataframe\">\n",
       "  <thead>\n",
       "    <tr style=\"text-align: right;\">\n",
       "      <th></th>\n",
       "      <th>comment_text</th>\n",
       "      <th>toxic</th>\n",
       "      <th>length</th>\n",
       "      <th>word_count</th>\n",
       "      <th>token_count</th>\n",
       "      <th>toxic_int</th>\n",
       "      <th>fold_1</th>\n",
       "      <th>fold_2</th>\n",
       "      <th>fold_3</th>\n",
       "      <th>fold_4</th>\n",
       "      <th>fold_5</th>\n",
       "    </tr>\n",
       "  </thead>\n",
       "  <tbody>\n",
       "    <tr>\n",
       "      <th>0</th>\n",
       "      <td>It would be helpful if either story about this incident contained additional facts about what happened. Was the vict...</td>\n",
       "      <td>0.2000</td>\n",
       "      <td>248</td>\n",
       "      <td>41</td>\n",
       "      <td>57</td>\n",
       "      <td>0</td>\n",
       "      <td>train</td>\n",
       "      <td>train</td>\n",
       "      <td>validation</td>\n",
       "      <td>train</td>\n",
       "      <td>train</td>\n",
       "    </tr>\n",
       "    <tr>\n",
       "      <th>1</th>\n",
       "      <td>What's missing in your stats is the percentage of Canadians who believed there was a clean exit to this mess. I'm no...</td>\n",
       "      <td>0.0000</td>\n",
       "      <td>610</td>\n",
       "      <td>109</td>\n",
       "      <td>146</td>\n",
       "      <td>0</td>\n",
       "      <td>train</td>\n",
       "      <td>train</td>\n",
       "      <td>validation</td>\n",
       "      <td>train</td>\n",
       "      <td>train</td>\n",
       "    </tr>\n",
       "    <tr>\n",
       "      <th>2</th>\n",
       "      <td>Great another mediocre season.</td>\n",
       "      <td>0.6000</td>\n",
       "      <td>30</td>\n",
       "      <td>4</td>\n",
       "      <td>8</td>\n",
       "      <td>1</td>\n",
       "      <td>train</td>\n",
       "      <td>train</td>\n",
       "      <td>validation</td>\n",
       "      <td>train</td>\n",
       "      <td>train</td>\n",
       "    </tr>\n",
       "    <tr>\n",
       "      <th>3</th>\n",
       "      <td>Putting your money where your mouth is. Can't fault him for that, for sure. Oh, wait, that's right, he had no proble...</td>\n",
       "      <td>0.6562</td>\n",
       "      <td>170</td>\n",
       "      <td>30</td>\n",
       "      <td>49</td>\n",
       "      <td>1</td>\n",
       "      <td>validation</td>\n",
       "      <td>train</td>\n",
       "      <td>train</td>\n",
       "      <td>train</td>\n",
       "      <td>train</td>\n",
       "    </tr>\n",
       "    <tr>\n",
       "      <th>4</th>\n",
       "      <td>Just call me Nemo.... I'm writing about the HB visa program and so is the author of the article. There are , opening...</td>\n",
       "      <td>0.0000</td>\n",
       "      <td>311</td>\n",
       "      <td>60</td>\n",
       "      <td>85</td>\n",
       "      <td>0</td>\n",
       "      <td>train</td>\n",
       "      <td>train</td>\n",
       "      <td>train</td>\n",
       "      <td>train</td>\n",
       "      <td>validation</td>\n",
       "    </tr>\n",
       "  </tbody>\n",
       "</table>\n",
       "</div>"
      ],
      "text/plain": [
       "                                                                                                              comment_text  \\\n",
       "0  It would be helpful if either story about this incident contained additional facts about what happened. Was the vict...   \n",
       "1  What's missing in your stats is the percentage of Canadians who believed there was a clean exit to this mess. I'm no...   \n",
       "2                                                                                           Great another mediocre season.   \n",
       "3  Putting your money where your mouth is. Can't fault him for that, for sure. Oh, wait, that's right, he had no proble...   \n",
       "4  Just call me Nemo.... I'm writing about the HB visa program and so is the author of the article. There are , opening...   \n",
       "\n",
       "   toxic  length  word_count  token_count  toxic_int      fold_1 fold_2  \\\n",
       "0 0.2000     248          41           57          0       train  train   \n",
       "1 0.0000     610         109          146          0       train  train   \n",
       "2 0.6000      30           4            8          1       train  train   \n",
       "3 0.6562     170          30           49          1  validation  train   \n",
       "4 0.0000     311          60           85          0       train  train   \n",
       "\n",
       "       fold_3 fold_4      fold_5  \n",
       "0  validation  train       train  \n",
       "1  validation  train       train  \n",
       "2  validation  train       train  \n",
       "3       train  train       train  \n",
       "4       train  train  validation  "
      ]
     },
     "metadata": {},
     "output_type": "display_data"
    },
    {
     "name": "stdout",
     "output_type": "stream",
     "text": [
      "Validation samples: 8000\n"
     ]
    },
    {
     "data": {
      "text/html": [
       "<div>\n",
       "<style scoped>\n",
       "    .dataframe tbody tr th:only-of-type {\n",
       "        vertical-align: middle;\n",
       "    }\n",
       "\n",
       "    .dataframe tbody tr th {\n",
       "        vertical-align: top;\n",
       "    }\n",
       "\n",
       "    .dataframe thead th {\n",
       "        text-align: right;\n",
       "    }\n",
       "</style>\n",
       "<table border=\"1\" class=\"dataframe\">\n",
       "  <thead>\n",
       "    <tr style=\"text-align: right;\">\n",
       "      <th></th>\n",
       "      <th>comment_text</th>\n",
       "      <th>lang</th>\n",
       "      <th>toxic</th>\n",
       "    </tr>\n",
       "  </thead>\n",
       "  <tbody>\n",
       "    <tr>\n",
       "      <th>0</th>\n",
       "      <td>Este usuario ni siquiera llega al rango de    hereje   . Por lo tanto debería ser quemado en la barbacoa para purifi...</td>\n",
       "      <td>es</td>\n",
       "      <td>0</td>\n",
       "    </tr>\n",
       "    <tr>\n",
       "      <th>1</th>\n",
       "      <td>Il testo di questa voce pare esser scopiazzato direttamente da qui. Immagino possano esserci problemi di copyright, ...</td>\n",
       "      <td>it</td>\n",
       "      <td>0</td>\n",
       "    </tr>\n",
       "    <tr>\n",
       "      <th>2</th>\n",
       "      <td>Vale. Sólo expongo mi pasado. Todo tiempo pasado fue mejor, ni mucho menos, yo no quisiera retroceder 31 años a nive...</td>\n",
       "      <td>es</td>\n",
       "      <td>1</td>\n",
       "    </tr>\n",
       "    <tr>\n",
       "      <th>3</th>\n",
       "      <td>Bu maddenin alt başlığı olarak  uluslararası ilişkiler  ile konuyu sürdürmek ile ilgili tereddütlerim var.Önerim siy...</td>\n",
       "      <td>tr</td>\n",
       "      <td>0</td>\n",
       "    </tr>\n",
       "    <tr>\n",
       "      <th>4</th>\n",
       "      <td>Belçika nın şehirlerinin yanında ilçe ve beldelerini yaparken sanırım Portekizi örnek alacaksın. Ben de uzak gelecek...</td>\n",
       "      <td>tr</td>\n",
       "      <td>0</td>\n",
       "    </tr>\n",
       "  </tbody>\n",
       "</table>\n",
       "</div>"
      ],
      "text/plain": [
       "                                                                                                              comment_text  \\\n",
       "0  Este usuario ni siquiera llega al rango de    hereje   . Por lo tanto debería ser quemado en la barbacoa para purifi...   \n",
       "1  Il testo di questa voce pare esser scopiazzato direttamente da qui. Immagino possano esserci problemi di copyright, ...   \n",
       "2  Vale. Sólo expongo mi pasado. Todo tiempo pasado fue mejor, ni mucho menos, yo no quisiera retroceder 31 años a nive...   \n",
       "3  Bu maddenin alt başlığı olarak  uluslararası ilişkiler  ile konuyu sürdürmek ile ilgili tereddütlerim var.Önerim siy...   \n",
       "4  Belçika nın şehirlerinin yanında ilçe ve beldelerini yaparken sanırım Portekizi örnek alacaksın. Ben de uzak gelecek...   \n",
       "\n",
       "  lang  toxic  \n",
       "0   es      0  \n",
       "1   it      0  \n",
       "2   es      1  \n",
       "3   tr      0  \n",
       "4   tr      0  "
      ]
     },
     "metadata": {},
     "output_type": "display_data"
    }
   ],
   "source": [
    "database_base_path = '/kaggle/input/jigsaw-data-split-roberta-192-ratio-1-clean-polish/'\n",
    "k_fold = pd.read_csv(database_base_path + '5-fold.csv')\n",
    "valid_df = pd.read_csv(\"/kaggle/input/jigsaw-multilingual-toxic-comment-classification/validation.csv\", \n",
    "                       usecols=['comment_text', 'toxic', 'lang'])\n",
    "\n",
    "print('Train samples: %d' % len(k_fold))\n",
    "display(k_fold.head())\n",
    "print('Validation samples: %d' % len(valid_df))\n",
    "display(valid_df.head())\n",
    "\n",
    "base_data_path = 'fold_1/'\n",
    "fold_n = 1\n",
    "# Unzip files\n",
    "!tar -xf /kaggle/input/jigsaw-data-split-roberta-192-ratio-1-clean-polish/fold_1.tar.gz"
   ]
  },
  {
   "cell_type": "markdown",
   "execution_count": null,
   "metadata": {},
   "source": [
    "# Model parameters"
   ]
  },
  {
   "cell_type": "code",
   "execution_count": 4,
   "metadata": {
    "_kg_hide-input": true
   },
   "outputs": [
    {
     "data": {
      "text/plain": [
       "{'MAX_LEN': 192,\n",
       " 'BATCH_SIZE': 128,\n",
       " 'EPOCHS': 3,\n",
       " 'LEARNING_RATE': 1e-05,\n",
       " 'ES_PATIENCE': None,\n",
       " 'base_model_path': '/kaggle/input/jigsaw-transformers/XLM-RoBERTa/tf-xlm-roberta-large-tf_model.h5',\n",
       " 'config_path': '/kaggle/input/jigsaw-transformers/XLM-RoBERTa/xlm-roberta-large-config.json'}"
      ]
     },
     "execution_count": 4,
     "metadata": {},
     "output_type": "execute_result"
    }
   ],
   "source": [
    "base_path = '/kaggle/input/jigsaw-transformers/XLM-RoBERTa/'\n",
    "\n",
    "config = {\n",
    "  \"MAX_LEN\": 192,\n",
    "  \"BATCH_SIZE\": 128,\n",
    "  \"EPOCHS\": 3,\n",
    "  \"LEARNING_RATE\": 1e-5, \n",
    "  \"ES_PATIENCE\": None,\n",
    "  \"base_model_path\": base_path + 'tf-xlm-roberta-large-tf_model.h5',\n",
    "  \"config_path\": base_path + 'xlm-roberta-large-config.json'\n",
    "}\n",
    "\n",
    "with open('config.json', 'w') as json_file:\n",
    "    json.dump(json.loads(json.dumps(config)), json_file)\n",
    "    \n",
    "config"
   ]
  },
  {
   "cell_type": "markdown",
   "execution_count": null,
   "metadata": {},
   "source": [
    "## Learning rate schedule"
   ]
  },
  {
   "cell_type": "code",
   "execution_count": 5,
   "metadata": {
    "_kg_hide-input": true
   },
   "outputs": [
    {
     "name": "stdout",
     "output_type": "stream",
     "text": [
      "Learning rate schedule: 0 to 9.96e-06 to 2.65e-06\n"
     ]
    },
    {
     "data": {
      "image/png": "[encoded data removed]",
      "text/plain": [
       "<Figure size 1440x432 with 1 Axes>"
      ]
     },
     "metadata": {},
     "output_type": "display_data"
    }
   ],
   "source": [
    "lr_min = 1e-7\n",
    "lr_start = 0\n",
    "lr_max = config['LEARNING_RATE']\n",
    "step_size = (len(k_fold[k_fold[f'fold_{fold_n}'] == 'train']) * 2) // config['BATCH_SIZE']\n",
    "total_steps = config['EPOCHS'] * step_size\n",
    "hold_max_steps = 0\n",
    "warmup_steps = step_size * 1\n",
    "decay = .9998\n",
    "\n",
    "rng = [i for i in range(0, total_steps, config['BATCH_SIZE'])]\n",
    "y = [exponential_schedule_with_warmup(tf.cast(x, tf.float32), warmup_steps, hold_max_steps, \n",
    "                                      lr_start, lr_max, lr_min, decay) for x in rng]\n",
    "\n",
    "sns.set(style=\"whitegrid\")\n",
    "fig, ax = plt.subplots(figsize=(20, 6))\n",
    "plt.plot(rng, y)\n",
    "print(\"Learning rate schedule: {:.3g} to {:.3g} to {:.3g}\".format(y[0], max(y), y[-1]))"
   ]
  },
  {
   "cell_type": "markdown",
   "execution_count": null,
   "metadata": {},
   "source": [
    "# Model"
   ]
  },
  {
   "cell_type": "code",
   "execution_count": 6,
   "metadata": {},
   "outputs": [],
   "source": [
    "module_config = XLMRobertaConfig.from_pretrained(config['config_path'], output_hidden_states=False)\n",
    "\n",
    "def model_fn(MAX_LEN):\n",
    "    input_ids = layers.Input(shape=(MAX_LEN,), dtype=tf.int32, name='input_ids')\n",
    "    attention_mask = layers.Input(shape=(MAX_LEN,), dtype=tf.int32, name='attention_mask')\n",
    "    \n",
    "    base_model = TFXLMRobertaModel.from_pretrained(config['base_model_path'], config=module_config)\n",
    "    last_hidden_state, _ = base_model({'input_ids': input_ids, 'attention_mask': attention_mask})\n",
    "    cls_token = last_hidden_state[:, 0, :]\n",
    "    \n",
    "    output = layers.Dense(1, activation='sigmoid', name='output')(cls_token)\n",
    "    \n",
    "    model = Model(inputs=[input_ids, attention_mask], outputs=output)\n",
    "    \n",
    "    return model"
   ]
  },
  {
   "cell_type": "markdown",
   "execution_count": null,
   "metadata": {},
   "source": [
    "# Train"
   ]
  },
  {
   "cell_type": "code",
   "execution_count": 7,
   "metadata": {
    "_kg_hide-input": true
   },
   "outputs": [],
   "source": [
    "# Load data\n",
    "x_train = np.load(base_data_path + 'x_train.npy')\n",
    "y_train = np.load(base_data_path + 'y_train_int.npy').reshape(x_train.shape[1], 1).astype(np.float32)\n",
    "x_valid = np.load(base_data_path + 'x_valid.npy')\n",
    "y_valid = np.load(base_data_path + 'y_valid_int.npy').reshape(x_valid.shape[1], 1).astype(np.float32)\n",
    "x_valid_ml = np.load(database_base_path + 'x_valid.npy')\n",
    "y_valid_ml = np.load(database_base_path + 'y_valid.npy').reshape(x_valid_ml.shape[1], 1).astype(np.float32)\n",
    "\n",
    "#################### ADD TAIL ####################\n",
    "x_train_tail = np.load(base_data_path + 'x_train_tail.npy')\n",
    "y_train_tail = np.load(base_data_path + 'y_train_int_tail.npy').reshape(x_train_tail.shape[1], 1).astype(np.float32)\n",
    "x_train = np.hstack([x_train, x_train_tail])\n",
    "y_train = np.vstack([y_train, y_train_tail])\n",
    "\n",
    "step_size = x_train.shape[1] // config['BATCH_SIZE']\n",
    "valid_step_size = x_valid_ml.shape[1] // config['BATCH_SIZE']\n",
    "valid_2_step_size = x_valid.shape[1] // config['BATCH_SIZE']\n",
    "\n",
    "# Build TF datasets\n",
    "train_dist_ds = strategy.experimental_distribute_dataset(get_training_dataset(x_train, y_train, config['BATCH_SIZE'], AUTO, seed=SEED))\n",
    "valid_dist_ds = strategy.experimental_distribute_dataset(get_validation_dataset(x_valid_ml, y_valid_ml, config['BATCH_SIZE'], AUTO, repeated=True, seed=SEED))\n",
    "valid_2_dist_ds = strategy.experimental_distribute_dataset(get_validation_dataset(x_valid, y_valid, config['BATCH_SIZE'], AUTO, repeated=True, seed=SEED))\n",
    "train_data_iter = iter(train_dist_ds)\n",
    "valid_data_iter = iter(valid_dist_ds)\n",
    "valid_2_data_iter = iter(valid_2_dist_ds)"
   ]
  },
  {
   "cell_type": "code",
   "execution_count": 8,
   "metadata": {
    "_kg_hide-input": true
   },
   "outputs": [],
   "source": [
    "# Step functions\n",
    "@tf.function\n",
    "def train_step(data_iter):\n",
    "    def train_step_fn(x, y):\n",
    "        with tf.GradientTape() as tape:\n",
    "            probabilities = model(x, training=True)\n",
    "            loss = loss_fn(y, probabilities)\n",
    "        grads = tape.gradient(loss, model.trainable_variables)\n",
    "        optimizer.apply_gradients(zip(grads, model.trainable_variables))\n",
    "        train_auc.update_state(y, probabilities)\n",
    "        train_loss.update_state(loss)\n",
    "    for _ in tf.range(step_size):\n",
    "        strategy.experimental_run_v2(train_step_fn, next(data_iter))\n",
    "\n",
    "@tf.function\n",
    "def valid_step(data_iter):\n",
    "    def valid_step_fn(x, y):\n",
    "        probabilities = model(x, training=False)\n",
    "        loss = loss_fn(y, probabilities)\n",
    "        valid_auc.update_state(y, probabilities)\n",
    "        valid_loss.update_state(loss)\n",
    "    for _ in tf.range(valid_step_size):\n",
    "        strategy.experimental_run_v2(valid_step_fn, next(data_iter))\n",
    "\n",
    "@tf.function\n",
    "def valid_2_step(data_iter):\n",
    "    def valid_step_fn(x, y):\n",
    "        probabilities = model(x, training=False)\n",
    "        loss = loss_fn(y, probabilities)\n",
    "        valid_2_auc.update_state(y, probabilities)\n",
    "        valid_2_loss.update_state(loss)\n",
    "    for _ in tf.range(valid_2_step_size):\n",
    "        strategy.experimental_run_v2(valid_step_fn, next(data_iter))"
   ]
  },
  {
   "cell_type": "code",
   "execution_count": 9,
   "metadata": {
    "_kg_hide-input": true
   },
   "outputs": [
    {
     "name": "stdout",
     "output_type": "stream",
     "text": [
      "Train for 3340 steps, validate for 62 steps, validate_2 for 417 steps\n",
      "\n",
      "EPOCH 1/3\n",
      "time: 1074.3s loss: 0.3107 auc: 0.9400 val_loss: 0.3254 val_auc: 0.9244 val_2_loss: 0.2137 val_2_auc: 0.9749\n",
      "\n",
      "EPOCH 2/3\n",
      "time: 918.5s loss: 0.1801 auc: 0.9791 val_loss: 0.3355 val_auc: 0.9229 val_2_loss: 0.2184 val_2_auc: 0.9761\n",
      "\n",
      "EPOCH 3/3\n",
      "time: 918.4s loss: 0.1327 auc: 0.9881 val_loss: 0.3875 val_auc: 0.9116 val_2_loss: 0.2594 val_2_auc: 0.9714\n",
      "Training finished\n"
     ]
    }
   ],
   "source": [
    "# Train model\n",
    "with strategy.scope():\n",
    "    model = model_fn(config['MAX_LEN'])\n",
    "    \n",
    "    lr = lambda: exponential_schedule_with_warmup(tf.cast(optimizer.iterations, tf.float32), \n",
    "                                                  warmup_steps=warmup_steps, lr_start=lr_start, \n",
    "                                                  lr_max=lr_max, decay=decay)\n",
    "    \n",
    "    optimizer = optimizers.Adam(learning_rate=lr)\n",
    "    loss_fn = losses.binary_crossentropy\n",
    "    train_auc = metrics.AUC()\n",
    "    valid_auc = metrics.AUC()\n",
    "    valid_2_auc = metrics.AUC()\n",
    "    train_loss = metrics.Sum()\n",
    "    valid_loss = metrics.Sum()\n",
    "    valid_2_loss = metrics.Sum()\n",
    "\n",
    "metrics_dict = {'loss': train_loss, 'auc': train_auc, \n",
    "                'val_loss': valid_loss, 'val_auc': valid_auc, \n",
    "                'val_2_loss': valid_2_loss, 'val_2_auc': valid_2_auc}\n",
    "\n",
    "history = custom_fit_2(model, metrics_dict, train_step, valid_step, valid_2_step, train_data_iter, \n",
    "                       valid_data_iter, valid_2_data_iter, step_size, valid_step_size, valid_2_step_size, \n",
    "                       config['BATCH_SIZE'], config['EPOCHS'], config['ES_PATIENCE'], save_last=False)\n",
    "# model.save_weights('model.h5')\n",
    "\n",
    "# Make predictions\n",
    "# x_train = np.load(base_data_path + 'x_train.npy')\n",
    "# x_valid = np.load(base_data_path + 'x_valid.npy')\n",
    "x_valid_ml_eval = np.load(database_base_path + 'x_valid.npy')\n",
    "\n",
    "# train_preds = model.predict(get_test_dataset(x_train, config['BATCH_SIZE'], AUTO))\n",
    "# valid_preds = model.predict(get_test_dataset(x_valid, config['BATCH_SIZE'], AUTO))\n",
    "valid_ml_preds = model.predict(get_test_dataset(x_valid_ml_eval, config['BATCH_SIZE'], AUTO))\n",
    "\n",
    "# k_fold.loc[k_fold[f'fold_{fold_n}'] == 'train', f'pred_{fold_n}'] = np.round(train_preds)\n",
    "# k_fold.loc[k_fold[f'fold_{fold_n}'] == 'validation', f'pred_{fold_n}'] = np.round(valid_preds)\n",
    "valid_df[f'pred_{fold_n}'] = valid_ml_preds"
   ]
  },
  {
   "cell_type": "code",
   "execution_count": 10,
   "metadata": {
    "_kg_hide-input": true
   },
   "outputs": [],
   "source": [
    "# Fine-tune on validation set\n",
    "#################### ADD TAIL ####################\n",
    "x_valid_ml_tail = np.hstack([x_valid_ml, np.load(database_base_path + 'x_valid_tail.npy')])\n",
    "y_valid_ml_tail = np.vstack([y_valid_ml, y_valid_ml])\n",
    "\n",
    "valid_step_size_tail = x_valid_ml_tail.shape[1] // config['BATCH_SIZE']\n",
    "\n",
    "# Build TF datasets\n",
    "train_ml_dist_ds = strategy.experimental_distribute_dataset(get_training_dataset(x_valid_ml_tail, y_valid_ml_tail, config['BATCH_SIZE'], AUTO, seed=SEED))\n",
    "train_ml_data_iter = iter(train_ml_dist_ds)"
   ]
  },
  {
   "cell_type": "code",
   "execution_count": 11,
   "metadata": {
    "_kg_hide-input": true
   },
   "outputs": [],
   "source": [
    "# Step functions\n",
    "@tf.function\n",
    "def train_ml_step(data_iter):\n",
    "    def train_step_fn(x, y):\n",
    "        with tf.GradientTape() as tape:\n",
    "            probabilities = model(x, training=True)\n",
    "            loss = loss_fn(y, probabilities)\n",
    "        grads = tape.gradient(loss, model.trainable_variables)\n",
    "        optimizer.apply_gradients(zip(grads, model.trainable_variables))\n",
    "        train_auc.update_state(y, probabilities)\n",
    "        train_loss.update_state(loss)\n",
    "    for _ in tf.range(valid_step_size_tail):\n",
    "        strategy.experimental_run_v2(train_step_fn, next(data_iter))"
   ]
  },
  {
   "cell_type": "code",
   "execution_count": 12,
   "metadata": {
    "_kg_hide-input": true
   },
   "outputs": [
    {
     "name": "stdout",
     "output_type": "stream",
     "text": [
      "Train for 125 steps, validate for 62 steps, validate_2 for 417 steps\n",
      "\n",
      "EPOCH 1/2\n",
      "time: 163.6s loss: 0.2160 auc: 0.9393 val_loss: 0.1695 val_auc: 0.9699 val_2_loss: 0.2167 val_2_auc: 0.9713\n",
      "\n",
      "EPOCH 2/2\n",
      "time: 69.7s loss: 0.1598 auc: 0.9675 val_loss: 0.1141 val_auc: 0.9858 val_2_loss: 0.2452 val_2_auc: 0.9694\n",
      "Training finished\n"
     ]
    }
   ],
   "source": [
    "# Fine-tune on validation set\n",
    "history_ml = custom_fit_2(model, metrics_dict, train_ml_step, valid_step, valid_2_step, train_ml_data_iter, \n",
    "                          valid_data_iter, valid_2_data_iter, valid_step_size_tail, valid_step_size, valid_2_step_size, \n",
    "                          config['BATCH_SIZE'], 2, config['ES_PATIENCE'], save_last=False)\n",
    "\n",
    "# Join history\n",
    "for key in history_ml.keys():\n",
    "    history[key] += history_ml[key]\n",
    "    \n",
    "model.save_weights('model.h5')\n",
    "\n",
    "# Make predictions\n",
    "valid_ml_preds = model.predict(get_test_dataset(x_valid_ml_eval, config['BATCH_SIZE'], AUTO))\n",
    "valid_df[f'pred_ml_{fold_n}'] = valid_ml_preds\n",
    "\n",
    "### Delete data dir\n",
    "shutil.rmtree(base_data_path)"
   ]
  },
  {
   "cell_type": "markdown",
   "execution_count": null,
   "metadata": {},
   "source": [
    "## Model loss graph"
   ]
  },
  {
   "cell_type": "code",
   "execution_count": 13,
   "metadata": {
    "_kg_hide-input": true
   },
   "outputs": [
    {
     "data": {
      "image/png": "[encoded data removed]",
      "text/plain": [
       "<Figure size 1440x720 with 2 Axes>"
      ]
     },
     "metadata": {},
     "output_type": "display_data"
    }
   ],
   "source": [
    "plot_metrics_2(history)"
   ]
  },
  {
   "cell_type": "markdown",
   "execution_count": null,
   "metadata": {},
   "source": [
    "# Model evaluation"
   ]
  },
  {
   "cell_type": "code",
   "execution_count": 14,
   "metadata": {
    "_kg_hide-input": true
   },
   "outputs": [],
   "source": [
    "# display(evaluate_model_single_fold(k_fold, fold_n, label_col='toxic_int').style.applymap(color_map))"
   ]
  },
  {
   "cell_type": "markdown",
   "execution_count": null,
   "metadata": {},
   "source": [
    "# Confusion matrix"
   ]
  },
  {
   "cell_type": "code",
   "execution_count": 15,
   "metadata": {
    "_kg_hide-input": true
   },
   "outputs": [],
   "source": [
    "# train_set = k_fold[k_fold[f'fold_{fold_n}'] == 'train']\n",
    "# validation_set = k_fold[k_fold[f'fold_{fold_n}'] == 'validation'] \n",
    "# plot_confusion_matrix(train_set['toxic_int'], train_set[f'pred_{fold_n}'], \n",
    "#                       validation_set['toxic_int'], validation_set[f'pred_{fold_n}'])"
   ]
  },
  {
   "cell_type": "markdown",
   "execution_count": null,
   "metadata": {},
   "source": [
    "# Model evaluation by language"
   ]
  },
  {
   "cell_type": "code",
   "execution_count": 16,
   "metadata": {
    "_kg_hide-input": true
   },
   "outputs": [
    {
     "data": {
      "text/html": [
       "<style  type=\"text/css\" >\n",
       "    #T_a2c09ff0_ae6c_11ea_88da_0242ac130202row0_col0 {\n",
       "            color:  green;\n",
       "        }    #T_a2c09ff0_ae6c_11ea_88da_0242ac130202row0_col1 {\n",
       "            color:  green;\n",
       "        }    #T_a2c09ff0_ae6c_11ea_88da_0242ac130202row1_col0 {\n",
       "            color:  green;\n",
       "        }    #T_a2c09ff0_ae6c_11ea_88da_0242ac130202row1_col1 {\n",
       "            color:  green;\n",
       "        }    #T_a2c09ff0_ae6c_11ea_88da_0242ac130202row2_col0 {\n",
       "            color:  green;\n",
       "        }    #T_a2c09ff0_ae6c_11ea_88da_0242ac130202row2_col1 {\n",
       "            color:  green;\n",
       "        }    #T_a2c09ff0_ae6c_11ea_88da_0242ac130202row3_col0 {\n",
       "            color:  green;\n",
       "        }    #T_a2c09ff0_ae6c_11ea_88da_0242ac130202row3_col1 {\n",
       "            color:  green;\n",
       "        }</style><table id=\"T_a2c09ff0_ae6c_11ea_88da_0242ac130202\" ><thead>    <tr>        <th class=\"blank level0\" ></th>        <th class=\"col_heading level0 col0\" >Mean</th>        <th class=\"col_heading level0 col1\" >Fold_1</th>    </tr>    <tr>        <th class=\"index_name level0\" >Lang / ROC AUC</th>        <th class=\"blank\" ></th>        <th class=\"blank\" ></th>    </tr></thead><tbody>\n",
       "                <tr>\n",
       "                        <th id=\"T_a2c09ff0_ae6c_11ea_88da_0242ac130202level0_row0\" class=\"row_heading level0 row0\" >Overall</th>\n",
       "                        <td id=\"T_a2c09ff0_ae6c_11ea_88da_0242ac130202row0_col0\" class=\"data row0 col0\" >0.921277</td>\n",
       "                        <td id=\"T_a2c09ff0_ae6c_11ea_88da_0242ac130202row0_col1\" class=\"data row0 col1\" >0.921277</td>\n",
       "            </tr>\n",
       "            <tr>\n",
       "                        <th id=\"T_a2c09ff0_ae6c_11ea_88da_0242ac130202level0_row1\" class=\"row_heading level0 row1\" >es</th>\n",
       "                        <td id=\"T_a2c09ff0_ae6c_11ea_88da_0242ac130202row1_col0\" class=\"data row1 col0\" >0.901677</td>\n",
       "                        <td id=\"T_a2c09ff0_ae6c_11ea_88da_0242ac130202row1_col1\" class=\"data row1 col1\" >0.901677</td>\n",
       "            </tr>\n",
       "            <tr>\n",
       "                        <th id=\"T_a2c09ff0_ae6c_11ea_88da_0242ac130202level0_row2\" class=\"row_heading level0 row2\" >it</th>\n",
       "                        <td id=\"T_a2c09ff0_ae6c_11ea_88da_0242ac130202row2_col0\" class=\"data row2 col0\" >0.890456</td>\n",
       "                        <td id=\"T_a2c09ff0_ae6c_11ea_88da_0242ac130202row2_col1\" class=\"data row2 col1\" >0.890456</td>\n",
       "            </tr>\n",
       "            <tr>\n",
       "                        <th id=\"T_a2c09ff0_ae6c_11ea_88da_0242ac130202level0_row3\" class=\"row_heading level0 row3\" >tr</th>\n",
       "                        <td id=\"T_a2c09ff0_ae6c_11ea_88da_0242ac130202row3_col0\" class=\"data row3 col0\" >0.973474</td>\n",
       "                        <td id=\"T_a2c09ff0_ae6c_11ea_88da_0242ac130202row3_col1\" class=\"data row3 col1\" >0.973474</td>\n",
       "            </tr>\n",
       "    </tbody></table>"
      ],
      "text/plain": [
       "<pandas.io.formats.style.Styler at 0x7f2152d9c190>"
      ]
     },
     "metadata": {},
     "output_type": "display_data"
    },
    {
     "data": {
      "text/html": [
       "<style  type=\"text/css\" >\n",
       "    #T_a2c791ca_ae6c_11ea_88da_0242ac130202row0_col0 {\n",
       "            color:  green;\n",
       "        }    #T_a2c791ca_ae6c_11ea_88da_0242ac130202row0_col1 {\n",
       "            color:  green;\n",
       "        }    #T_a2c791ca_ae6c_11ea_88da_0242ac130202row1_col0 {\n",
       "            color:  green;\n",
       "        }    #T_a2c791ca_ae6c_11ea_88da_0242ac130202row1_col1 {\n",
       "            color:  green;\n",
       "        }    #T_a2c791ca_ae6c_11ea_88da_0242ac130202row2_col0 {\n",
       "            color:  green;\n",
       "        }    #T_a2c791ca_ae6c_11ea_88da_0242ac130202row2_col1 {\n",
       "            color:  green;\n",
       "        }    #T_a2c791ca_ae6c_11ea_88da_0242ac130202row3_col0 {\n",
       "            color:  green;\n",
       "        }    #T_a2c791ca_ae6c_11ea_88da_0242ac130202row3_col1 {\n",
       "            color:  green;\n",
       "        }</style><table id=\"T_a2c791ca_ae6c_11ea_88da_0242ac130202\" ><thead>    <tr>        <th class=\"blank level0\" ></th>        <th class=\"col_heading level0 col0\" >Mean</th>        <th class=\"col_heading level0 col1\" >Fold_1</th>    </tr>    <tr>        <th class=\"index_name level0\" >Lang / ROC AUC</th>        <th class=\"blank\" ></th>        <th class=\"blank\" ></th>    </tr></thead><tbody>\n",
       "                <tr>\n",
       "                        <th id=\"T_a2c791ca_ae6c_11ea_88da_0242ac130202level0_row0\" class=\"row_heading level0 row0\" >Overall</th>\n",
       "                        <td id=\"T_a2c791ca_ae6c_11ea_88da_0242ac130202row0_col0\" class=\"data row0 col0\" >0.986103</td>\n",
       "                        <td id=\"T_a2c791ca_ae6c_11ea_88da_0242ac130202row0_col1\" class=\"data row0 col1\" >0.986103</td>\n",
       "            </tr>\n",
       "            <tr>\n",
       "                        <th id=\"T_a2c791ca_ae6c_11ea_88da_0242ac130202level0_row1\" class=\"row_heading level0 row1\" >es</th>\n",
       "                        <td id=\"T_a2c791ca_ae6c_11ea_88da_0242ac130202row1_col0\" class=\"data row1 col0\" >0.979000</td>\n",
       "                        <td id=\"T_a2c791ca_ae6c_11ea_88da_0242ac130202row1_col1\" class=\"data row1 col1\" >0.979000</td>\n",
       "            </tr>\n",
       "            <tr>\n",
       "                        <th id=\"T_a2c791ca_ae6c_11ea_88da_0242ac130202level0_row2\" class=\"row_heading level0 row2\" >it</th>\n",
       "                        <td id=\"T_a2c791ca_ae6c_11ea_88da_0242ac130202row2_col0\" class=\"data row2 col0\" >0.979515</td>\n",
       "                        <td id=\"T_a2c791ca_ae6c_11ea_88da_0242ac130202row2_col1\" class=\"data row2 col1\" >0.979515</td>\n",
       "            </tr>\n",
       "            <tr>\n",
       "                        <th id=\"T_a2c791ca_ae6c_11ea_88da_0242ac130202level0_row3\" class=\"row_heading level0 row3\" >tr</th>\n",
       "                        <td id=\"T_a2c791ca_ae6c_11ea_88da_0242ac130202row3_col0\" class=\"data row3 col0\" >0.995768</td>\n",
       "                        <td id=\"T_a2c791ca_ae6c_11ea_88da_0242ac130202row3_col1\" class=\"data row3 col1\" >0.995768</td>\n",
       "            </tr>\n",
       "    </tbody></table>"
      ],
      "text/plain": [
       "<pandas.io.formats.style.Styler at 0x7f2152e0b590>"
      ]
     },
     "metadata": {},
     "output_type": "display_data"
    }
   ],
   "source": [
    "display(evaluate_model_single_fold_lang(valid_df, fold_n).style.applymap(color_map))\n",
    "# ML fine-tunned preds\n",
    "display(evaluate_model_single_fold_lang(valid_df, fold_n, pred_col='pred_ml').style.applymap(color_map))"
   ]
  },
  {
   "cell_type": "markdown",
   "execution_count": null,
   "metadata": {},
   "source": [
    "# Visualize predictions"
   ]
  },
  {
   "cell_type": "code",
   "execution_count": 17,
   "metadata": {
    "_kg_hide-input": true
   },
   "outputs": [
    {
     "name": "stdout",
     "output_type": "stream",
     "text": [
      "English validation set\n"
     ]
    },
    {
     "data": {
      "text/html": [
       "<div>\n",
       "<style scoped>\n",
       "    .dataframe tbody tr th:only-of-type {\n",
       "        vertical-align: middle;\n",
       "    }\n",
       "\n",
       "    .dataframe tbody tr th {\n",
       "        vertical-align: top;\n",
       "    }\n",
       "\n",
       "    .dataframe thead th {\n",
       "        text-align: right;\n",
       "    }\n",
       "</style>\n",
       "<table border=\"1\" class=\"dataframe\">\n",
       "  <thead>\n",
       "    <tr style=\"text-align: right;\">\n",
       "      <th></th>\n",
       "      <th>comment_text</th>\n",
       "      <th>toxic</th>\n",
       "    </tr>\n",
       "  </thead>\n",
       "  <tbody>\n",
       "    <tr>\n",
       "      <th>0</th>\n",
       "      <td>It would be helpful if either story about this incident contained additional facts about what happened. Was the vict...</td>\n",
       "      <td>0.2000</td>\n",
       "    </tr>\n",
       "    <tr>\n",
       "      <th>1</th>\n",
       "      <td>What's missing in your stats is the percentage of Canadians who believed there was a clean exit to this mess. I'm no...</td>\n",
       "      <td>0.0000</td>\n",
       "    </tr>\n",
       "    <tr>\n",
       "      <th>2</th>\n",
       "      <td>Great another mediocre season.</td>\n",
       "      <td>0.6000</td>\n",
       "    </tr>\n",
       "    <tr>\n",
       "      <th>3</th>\n",
       "      <td>Putting your money where your mouth is. Can't fault him for that, for sure. Oh, wait, that's right, he had no proble...</td>\n",
       "      <td>0.6562</td>\n",
       "    </tr>\n",
       "    <tr>\n",
       "      <th>4</th>\n",
       "      <td>Just call me Nemo.... I'm writing about the HB visa program and so is the author of the article. There are , opening...</td>\n",
       "      <td>0.0000</td>\n",
       "    </tr>\n",
       "    <tr>\n",
       "      <th>5</th>\n",
       "      <td>you are an incredible optimist. You see shiny bright full, I see dark clouds obscuring the edge that humans are tott...</td>\n",
       "      <td>0.0000</td>\n",
       "    </tr>\n",
       "    <tr>\n",
       "      <th>6</th>\n",
       "      <td>What about Junior's vacation investigation; Morneau and his conflicts of interest; Junior's and Morneau's hidden mon...</td>\n",
       "      <td>0.6000</td>\n",
       "    </tr>\n",
       "    <tr>\n",
       "      <th>7</th>\n",
       "      <td>If you are not well later in life, you need the extra money to cover home care or a residence. Or perhaps, you are h...</td>\n",
       "      <td>0.0000</td>\n",
       "    </tr>\n",
       "    <tr>\n",
       "      <th>8</th>\n",
       "      <td>scuppers.. Facts and reality won't help your case. You'll need to get into the gutter with false facts, false accusa...</td>\n",
       "      <td>1.0000</td>\n",
       "    </tr>\n",
       "    <tr>\n",
       "      <th>9</th>\n",
       "      <td>Yes, electoral districts that voted for Trump had higher median incomes. No, they did not have more education So the...</td>\n",
       "      <td>0.0000</td>\n",
       "    </tr>\n",
       "  </tbody>\n",
       "</table>\n",
       "</div>"
      ],
      "text/plain": [
       "                                                                                                              comment_text  \\\n",
       "0  It would be helpful if either story about this incident contained additional facts about what happened. Was the vict...   \n",
       "1  What's missing in your stats is the percentage of Canadians who believed there was a clean exit to this mess. I'm no...   \n",
       "2                                                                                           Great another mediocre season.   \n",
       "3  Putting your money where your mouth is. Can't fault him for that, for sure. Oh, wait, that's right, he had no proble...   \n",
       "4  Just call me Nemo.... I'm writing about the HB visa program and so is the author of the article. There are , opening...   \n",
       "5  you are an incredible optimist. You see shiny bright full, I see dark clouds obscuring the edge that humans are tott...   \n",
       "6  What about Junior's vacation investigation; Morneau and his conflicts of interest; Junior's and Morneau's hidden mon...   \n",
       "7  If you are not well later in life, you need the extra money to cover home care or a residence. Or perhaps, you are h...   \n",
       "8  scuppers.. Facts and reality won't help your case. You'll need to get into the gutter with false facts, false accusa...   \n",
       "9  Yes, electoral districts that voted for Trump had higher median incomes. No, they did not have more education So the...   \n",
       "\n",
       "   toxic  \n",
       "0 0.2000  \n",
       "1 0.0000  \n",
       "2 0.6000  \n",
       "3 0.6562  \n",
       "4 0.0000  \n",
       "5 0.0000  \n",
       "6 0.6000  \n",
       "7 0.0000  \n",
       "8 1.0000  \n",
       "9 0.0000  "
      ]
     },
     "metadata": {},
     "output_type": "display_data"
    },
    {
     "name": "stdout",
     "output_type": "stream",
     "text": [
      "Multilingual validation set\n"
     ]
    },
    {
     "data": {
      "text/html": [
       "<div>\n",
       "<style scoped>\n",
       "    .dataframe tbody tr th:only-of-type {\n",
       "        vertical-align: middle;\n",
       "    }\n",
       "\n",
       "    .dataframe tbody tr th {\n",
       "        vertical-align: top;\n",
       "    }\n",
       "\n",
       "    .dataframe thead th {\n",
       "        text-align: right;\n",
       "    }\n",
       "</style>\n",
       "<table border=\"1\" class=\"dataframe\">\n",
       "  <thead>\n",
       "    <tr style=\"text-align: right;\">\n",
       "      <th></th>\n",
       "      <th>comment_text</th>\n",
       "      <th>toxic</th>\n",
       "      <th>pred_1</th>\n",
       "      <th>pred_ml_1</th>\n",
       "    </tr>\n",
       "  </thead>\n",
       "  <tbody>\n",
       "    <tr>\n",
       "      <th>0</th>\n",
       "      <td>Este usuario ni siquiera llega al rango de    hereje   . Por lo tanto debería ser quemado en la barbacoa para purifi...</td>\n",
       "      <td>0</td>\n",
       "      <td>0.9048</td>\n",
       "      <td>0.1433</td>\n",
       "    </tr>\n",
       "    <tr>\n",
       "      <th>1</th>\n",
       "      <td>Il testo di questa voce pare esser scopiazzato direttamente da qui. Immagino possano esserci problemi di copyright, ...</td>\n",
       "      <td>0</td>\n",
       "      <td>0.0001</td>\n",
       "      <td>0.0010</td>\n",
       "    </tr>\n",
       "    <tr>\n",
       "      <th>2</th>\n",
       "      <td>Vale. Sólo expongo mi pasado. Todo tiempo pasado fue mejor, ni mucho menos, yo no quisiera retroceder 31 años a nive...</td>\n",
       "      <td>1</td>\n",
       "      <td>0.9901</td>\n",
       "      <td>0.8740</td>\n",
       "    </tr>\n",
       "    <tr>\n",
       "      <th>3</th>\n",
       "      <td>Bu maddenin alt başlığı olarak  uluslararası ilişkiler  ile konuyu sürdürmek ile ilgili tereddütlerim var.Önerim siy...</td>\n",
       "      <td>0</td>\n",
       "      <td>0.0000</td>\n",
       "      <td>0.0000</td>\n",
       "    </tr>\n",
       "    <tr>\n",
       "      <th>4</th>\n",
       "      <td>Belçika nın şehirlerinin yanında ilçe ve beldelerini yaparken sanırım Portekizi örnek alacaksın. Ben de uzak gelecek...</td>\n",
       "      <td>0</td>\n",
       "      <td>0.0003</td>\n",
       "      <td>0.0004</td>\n",
       "    </tr>\n",
       "    <tr>\n",
       "      <th>5</th>\n",
       "      <td>güzel, zaten kaynaklandırması zor subjektif kategoriler bunlar. bazı maddelerden çıkartmak, kiminden çıkartıp kimind...</td>\n",
       "      <td>0</td>\n",
       "      <td>0.0000</td>\n",
       "      <td>0.0008</td>\n",
       "    </tr>\n",
       "    <tr>\n",
       "      <th>6</th>\n",
       "      <td>No es mala idea. De hecho, yo estaba pensando descolgarme ya del reto mensual, pero esto vuelve a ilusionarme. El pr...</td>\n",
       "      <td>0</td>\n",
       "      <td>0.0000</td>\n",
       "      <td>0.0000</td>\n",
       "    </tr>\n",
       "    <tr>\n",
       "      <th>7</th>\n",
       "      <td>Kod hatalarını düzeltmişsiniz,elinize sağlık çok teşekkürler.Önceki sürümleri araştırdım.13 Haziran 2010 da Kullanıc...</td>\n",
       "      <td>0</td>\n",
       "      <td>0.0005</td>\n",
       "      <td>0.0005</td>\n",
       "    </tr>\n",
       "    <tr>\n",
       "      <th>8</th>\n",
       "      <td>Levent Abi nasılsın? Hayat nasıl gidiyor? Umarım her şey istediğin gibidir. Bu arada Janet Jackson maddesi seçkin ma...</td>\n",
       "      <td>0</td>\n",
       "      <td>0.0004</td>\n",
       "      <td>0.0010</td>\n",
       "    </tr>\n",
       "    <tr>\n",
       "      <th>9</th>\n",
       "      <td>Creo que es importante que podamos reconocer a gente como Victor Manuel Vucetich , quien es originario de Tampico y ...</td>\n",
       "      <td>0</td>\n",
       "      <td>0.0001</td>\n",
       "      <td>0.0001</td>\n",
       "    </tr>\n",
       "  </tbody>\n",
       "</table>\n",
       "</div>"
      ],
      "text/plain": [
       "                                                                                                              comment_text  \\\n",
       "0  Este usuario ni siquiera llega al rango de    hereje   . Por lo tanto debería ser quemado en la barbacoa para purifi...   \n",
       "1  Il testo di questa voce pare esser scopiazzato direttamente da qui. Immagino possano esserci problemi di copyright, ...   \n",
       "2  Vale. Sólo expongo mi pasado. Todo tiempo pasado fue mejor, ni mucho menos, yo no quisiera retroceder 31 años a nive...   \n",
       "3  Bu maddenin alt başlığı olarak  uluslararası ilişkiler  ile konuyu sürdürmek ile ilgili tereddütlerim var.Önerim siy...   \n",
       "4  Belçika nın şehirlerinin yanında ilçe ve beldelerini yaparken sanırım Portekizi örnek alacaksın. Ben de uzak gelecek...   \n",
       "5  güzel, zaten kaynaklandırması zor subjektif kategoriler bunlar. bazı maddelerden çıkartmak, kiminden çıkartıp kimind...   \n",
       "6  No es mala idea. De hecho, yo estaba pensando descolgarme ya del reto mensual, pero esto vuelve a ilusionarme. El pr...   \n",
       "7  Kod hatalarını düzeltmişsiniz,elinize sağlık çok teşekkürler.Önceki sürümleri araştırdım.13 Haziran 2010 da Kullanıc...   \n",
       "8  Levent Abi nasılsın? Hayat nasıl gidiyor? Umarım her şey istediğin gibidir. Bu arada Janet Jackson maddesi seçkin ma...   \n",
       "9  Creo que es importante que podamos reconocer a gente como Victor Manuel Vucetich , quien es originario de Tampico y ...   \n",
       "\n",
       "   toxic  pred_1  pred_ml_1  \n",
       "0      0  0.9048     0.1433  \n",
       "1      0  0.0001     0.0010  \n",
       "2      1  0.9901     0.8740  \n",
       "3      0  0.0000     0.0000  \n",
       "4      0  0.0003     0.0004  \n",
       "5      0  0.0000     0.0008  \n",
       "6      0  0.0000     0.0000  \n",
       "7      0  0.0005     0.0005  \n",
       "8      0  0.0004     0.0010  \n",
       "9      0  0.0001     0.0001  "
      ]
     },
     "metadata": {},
     "output_type": "display_data"
    }
   ],
   "source": [
    "print('English validation set')\n",
    "display(k_fold[['comment_text', 'toxic'] + [c for c in k_fold.columns if c.startswith('pred')]].head(10))\n",
    "\n",
    "print('Multilingual validation set')\n",
    "display(valid_df[['comment_text', 'toxic'] + [c for c in valid_df.columns if c.startswith('pred')]].head(10))"
   ]
  },
  {
   "cell_type": "markdown",
   "execution_count": null,
   "metadata": {},
   "source": [
    "# Test set predictions"
   ]
  },
  {
   "cell_type": "code",
   "execution_count": 18,
   "metadata": {
    "_kg_hide-input": true
   },
   "outputs": [],
   "source": [
    "x_test = np.load(database_base_path + 'x_test.npy')\n",
    "test_preds = model.predict(get_test_dataset(x_test, config['BATCH_SIZE'], AUTO))"
   ]
  },
  {
   "cell_type": "code",
   "execution_count": 19,
   "metadata": {
    "_kg_hide-input": true
   },
   "outputs": [
    {
     "data": {
      "text/html": [
       "<div>\n",
       "<style scoped>\n",
       "    .dataframe tbody tr th:only-of-type {\n",
       "        vertical-align: middle;\n",
       "    }\n",
       "\n",
       "    .dataframe tbody tr th {\n",
       "        vertical-align: top;\n",
       "    }\n",
       "\n",
       "    .dataframe thead th {\n",
       "        text-align: right;\n",
       "    }\n",
       "</style>\n",
       "<table border=\"1\" class=\"dataframe\">\n",
       "  <thead>\n",
       "    <tr style=\"text-align: right;\">\n",
       "      <th></th>\n",
       "      <th>id</th>\n",
       "      <th>toxic</th>\n",
       "    </tr>\n",
       "  </thead>\n",
       "  <tbody>\n",
       "    <tr>\n",
       "      <th>count</th>\n",
       "      <td>63812.0000</td>\n",
       "      <td>63812.0000</td>\n",
       "    </tr>\n",
       "    <tr>\n",
       "      <th>mean</th>\n",
       "      <td>31905.5000</td>\n",
       "      <td>0.2317</td>\n",
       "    </tr>\n",
       "    <tr>\n",
       "      <th>std</th>\n",
       "      <td>18421.0820</td>\n",
       "      <td>0.3426</td>\n",
       "    </tr>\n",
       "    <tr>\n",
       "      <th>min</th>\n",
       "      <td>0.0000</td>\n",
       "      <td>0.0000</td>\n",
       "    </tr>\n",
       "    <tr>\n",
       "      <th>25%</th>\n",
       "      <td>15952.7500</td>\n",
       "      <td>0.0002</td>\n",
       "    </tr>\n",
       "    <tr>\n",
       "      <th>50%</th>\n",
       "      <td>31905.5000</td>\n",
       "      <td>0.0062</td>\n",
       "    </tr>\n",
       "    <tr>\n",
       "      <th>75%</th>\n",
       "      <td>47858.2500</td>\n",
       "      <td>0.4224</td>\n",
       "    </tr>\n",
       "    <tr>\n",
       "      <th>max</th>\n",
       "      <td>63811.0000</td>\n",
       "      <td>1.0000</td>\n",
       "    </tr>\n",
       "  </tbody>\n",
       "</table>\n",
       "</div>"
      ],
      "text/plain": [
       "              id      toxic\n",
       "count 63812.0000 63812.0000\n",
       "mean  31905.5000     0.2317\n",
       "std   18421.0820     0.3426\n",
       "min       0.0000     0.0000\n",
       "25%   15952.7500     0.0002\n",
       "50%   31905.5000     0.0062\n",
       "75%   47858.2500     0.4224\n",
       "max   63811.0000     1.0000"
      ]
     },
     "metadata": {},
     "output_type": "display_data"
    },
    {
     "data": {
      "text/html": [
       "<div>\n",
       "<style scoped>\n",
       "    .dataframe tbody tr th:only-of-type {\n",
       "        vertical-align: middle;\n",
       "    }\n",
       "\n",
       "    .dataframe tbody tr th {\n",
       "        vertical-align: top;\n",
       "    }\n",
       "\n",
       "    .dataframe thead th {\n",
       "        text-align: right;\n",
       "    }\n",
       "</style>\n",
       "<table border=\"1\" class=\"dataframe\">\n",
       "  <thead>\n",
       "    <tr style=\"text-align: right;\">\n",
       "      <th></th>\n",
       "      <th>id</th>\n",
       "      <th>toxic</th>\n",
       "    </tr>\n",
       "  </thead>\n",
       "  <tbody>\n",
       "    <tr>\n",
       "      <th>0</th>\n",
       "      <td>0</td>\n",
       "      <td>0.0001</td>\n",
       "    </tr>\n",
       "    <tr>\n",
       "      <th>1</th>\n",
       "      <td>1</td>\n",
       "      <td>0.0025</td>\n",
       "    </tr>\n",
       "    <tr>\n",
       "      <th>2</th>\n",
       "      <td>2</td>\n",
       "      <td>0.3963</td>\n",
       "    </tr>\n",
       "    <tr>\n",
       "      <th>3</th>\n",
       "      <td>3</td>\n",
       "      <td>0.0003</td>\n",
       "    </tr>\n",
       "    <tr>\n",
       "      <th>4</th>\n",
       "      <td>4</td>\n",
       "      <td>0.0009</td>\n",
       "    </tr>\n",
       "    <tr>\n",
       "      <th>5</th>\n",
       "      <td>5</td>\n",
       "      <td>0.0337</td>\n",
       "    </tr>\n",
       "    <tr>\n",
       "      <th>6</th>\n",
       "      <td>6</td>\n",
       "      <td>0.0001</td>\n",
       "    </tr>\n",
       "    <tr>\n",
       "      <th>7</th>\n",
       "      <td>7</td>\n",
       "      <td>0.0003</td>\n",
       "    </tr>\n",
       "    <tr>\n",
       "      <th>8</th>\n",
       "      <td>8</td>\n",
       "      <td>0.0366</td>\n",
       "    </tr>\n",
       "    <tr>\n",
       "      <th>9</th>\n",
       "      <td>9</td>\n",
       "      <td>0.1998</td>\n",
       "    </tr>\n",
       "  </tbody>\n",
       "</table>\n",
       "</div>"
      ],
      "text/plain": [
       "   id  toxic\n",
       "0   0 0.0001\n",
       "1   1 0.0025\n",
       "2   2 0.3963\n",
       "3   3 0.0003\n",
       "4   4 0.0009\n",
       "5   5 0.0337\n",
       "6   6 0.0001\n",
       "7   7 0.0003\n",
       "8   8 0.0366\n",
       "9   9 0.1998"
      ]
     },
     "metadata": {},
     "output_type": "display_data"
    }
   ],
   "source": [
    "submission = pd.read_csv('/kaggle/input/jigsaw-multilingual-toxic-comment-classification/sample_submission.csv')\n",
    "submission['toxic'] = test_preds\n",
    "submission.to_csv('submission.csv', index=False)\n",
    "\n",
    "display(submission.describe())\n",
    "display(submission.head(10))"
   ]
  }
 ],
 "metadata": {
  "kernelspec": {
   "display_name": "Python 3",
   "language": "python",
   "name": "python3"
  },
  "language_info": {
   "codemirror_mode": {
    "name": "ipython",
    "version": 3
   },
   "file_extension": ".py",
   "mimetype": "text/x-python",
   "name": "python",
   "nbconvert_exporter": "python",
   "pygments_lexer": "ipython3",
   "version": "3.7.6"
  }
 },
 "nbformat": 4,
 "nbformat_minor": 4
}
