{
 "cells": [
  {
   "cell_type": "markdown",
   "execution_count": null,
   "metadata": {},
   "source": [
    "## Dependencies"
   ]
  },
  {
   "cell_type": "code",
   "execution_count": 1,
   "metadata": {
    "_kg_hide-input": true
   },
   "outputs": [],
   "source": [
    "import json, warnings, shutil, glob\n",
    "from jigsaw_utility_scripts import *\n",
    "from scripts_step_lr_schedulers import *\n",
    "from transformers import TFXLMRobertaModel, XLMRobertaConfig\n",
    "from tensorflow.keras.models import Model\n",
    "from tensorflow.keras import optimizers, metrics, losses, layers\n",
    "\n",
    "SEED = 0\n",
    "seed_everything(SEED)\n",
    "warnings.filterwarnings(\"ignore\")"
   ]
  },
  {
   "cell_type": "markdown",
   "execution_count": null,
   "metadata": {},
   "source": [
    "## TPU configuration"
   ]
  },
  {
   "cell_type": "code",
   "execution_count": 2,
   "metadata": {
    "_cell_guid": "79c7e3d0-c299-4dcb-8224-4455121ee9b0",
    "_kg_hide-input": true,
    "_uuid": "d629ff2d2480ee46fbb7e2d37f6b5fab8052498a"
   },
   "outputs": [
    {
     "name": "stdout",
     "output_type": "stream",
     "text": [
      "Running on TPU  grpc://10.0.0.2:8470\n",
      "REPLICAS:  8\n"
     ]
    }
   ],
   "source": [
    "strategy, tpu = set_up_strategy()\n",
    "print(\"REPLICAS: \", strategy.num_replicas_in_sync)\n",
    "AUTO = tf.data.experimental.AUTOTUNE"
   ]
  },
  {
   "cell_type": "markdown",
   "execution_count": null,
   "metadata": {},
   "source": [
    "# Load data"
   ]
  },
  {
   "cell_type": "code",
   "execution_count": 3,
   "metadata": {
    "_kg_hide-input": true
   },
   "outputs": [
    {
     "name": "stdout",
     "output_type": "stream",
     "text": [
      "Train samples: 398350\n"
     ]
    },
    {
     "data": {
      "text/html": [
       "<div>\n",
       "<style scoped>\n",
       "    .dataframe tbody tr th:only-of-type {\n",
       "        vertical-align: middle;\n",
       "    }\n",
       "\n",
       "    .dataframe tbody tr th {\n",
       "        vertical-align: top;\n",
       "    }\n",
       "\n",
       "    .dataframe thead th {\n",
       "        text-align: right;\n",
       "    }\n",
       "</style>\n",
       "<table border=\"1\" class=\"dataframe\">\n",
       "  <thead>\n",
       "    <tr style=\"text-align: right;\">\n",
       "      <th></th>\n",
       "      <th>comment_text</th>\n",
       "      <th>toxic</th>\n",
       "      <th>length</th>\n",
       "      <th>word_count</th>\n",
       "      <th>token_count</th>\n",
       "      <th>toxic_int</th>\n",
       "      <th>fold_1</th>\n",
       "      <th>fold_2</th>\n",
       "      <th>fold_3</th>\n",
       "      <th>fold_4</th>\n",
       "      <th>fold_5</th>\n",
       "    </tr>\n",
       "  </thead>\n",
       "  <tbody>\n",
       "    <tr>\n",
       "      <th>0</th>\n",
       "      <td>If someone's 'short-circuiting' mentally speak...</td>\n",
       "      <td>0.0</td>\n",
       "      <td>588</td>\n",
       "      <td>97</td>\n",
       "      <td>148</td>\n",
       "      <td>0</td>\n",
       "      <td>train</td>\n",
       "      <td>validation</td>\n",
       "      <td>train</td>\n",
       "      <td>train</td>\n",
       "      <td>train</td>\n",
       "    </tr>\n",
       "    <tr>\n",
       "      <th>1</th>\n",
       "      <td>Oh Willy!! You took his bait! Ignore trolls li...</td>\n",
       "      <td>1.0</td>\n",
       "      <td>54</td>\n",
       "      <td>10</td>\n",
       "      <td>19</td>\n",
       "      <td>1</td>\n",
       "      <td>validation</td>\n",
       "      <td>train</td>\n",
       "      <td>train</td>\n",
       "      <td>train</td>\n",
       "      <td>train</td>\n",
       "    </tr>\n",
       "    <tr>\n",
       "      <th>2</th>\n",
       "      <td>What are you talking about, and why do you hav...</td>\n",
       "      <td>0.0</td>\n",
       "      <td>177</td>\n",
       "      <td>34</td>\n",
       "      <td>40</td>\n",
       "      <td>0</td>\n",
       "      <td>train</td>\n",
       "      <td>validation</td>\n",
       "      <td>train</td>\n",
       "      <td>train</td>\n",
       "      <td>train</td>\n",
       "    </tr>\n",
       "    <tr>\n",
       "      <th>3</th>\n",
       "      <td>Ohh, and Pennsylvania is down .% since in term...</td>\n",
       "      <td>0.0</td>\n",
       "      <td>155</td>\n",
       "      <td>26</td>\n",
       "      <td>35</td>\n",
       "      <td>0</td>\n",
       "      <td>train</td>\n",
       "      <td>train</td>\n",
       "      <td>train</td>\n",
       "      <td>validation</td>\n",
       "      <td>train</td>\n",
       "    </tr>\n",
       "    <tr>\n",
       "      <th>4</th>\n",
       "      <td>The consumer will end up paying more if this c...</td>\n",
       "      <td>0.0</td>\n",
       "      <td>341</td>\n",
       "      <td>62</td>\n",
       "      <td>71</td>\n",
       "      <td>0</td>\n",
       "      <td>validation</td>\n",
       "      <td>train</td>\n",
       "      <td>train</td>\n",
       "      <td>train</td>\n",
       "      <td>train</td>\n",
       "    </tr>\n",
       "  </tbody>\n",
       "</table>\n",
       "</div>"
      ],
      "text/plain": [
       "                                        comment_text  toxic  length  \\\n",
       "0  If someone's 'short-circuiting' mentally speak...    0.0     588   \n",
       "1  Oh Willy!! You took his bait! Ignore trolls li...    1.0      54   \n",
       "2  What are you talking about, and why do you hav...    0.0     177   \n",
       "3  Ohh, and Pennsylvania is down .% since in term...    0.0     155   \n",
       "4  The consumer will end up paying more if this c...    0.0     341   \n",
       "\n",
       "   word_count  token_count  toxic_int      fold_1      fold_2 fold_3  \\\n",
       "0          97          148          0       train  validation  train   \n",
       "1          10           19          1  validation       train  train   \n",
       "2          34           40          0       train  validation  train   \n",
       "3          26           35          0       train       train  train   \n",
       "4          62           71          0  validation       train  train   \n",
       "\n",
       "       fold_4 fold_5  \n",
       "0       train  train  \n",
       "1       train  train  \n",
       "2       train  train  \n",
       "3  validation  train  \n",
       "4       train  train  "
      ]
     },
     "metadata": {},
     "output_type": "display_data"
    },
    {
     "name": "stdout",
     "output_type": "stream",
     "text": [
      "Validation samples: 8000\n"
     ]
    },
    {
     "data": {
      "text/html": [
       "<div>\n",
       "<style scoped>\n",
       "    .dataframe tbody tr th:only-of-type {\n",
       "        vertical-align: middle;\n",
       "    }\n",
       "\n",
       "    .dataframe tbody tr th {\n",
       "        vertical-align: top;\n",
       "    }\n",
       "\n",
       "    .dataframe thead th {\n",
       "        text-align: right;\n",
       "    }\n",
       "</style>\n",
       "<table border=\"1\" class=\"dataframe\">\n",
       "  <thead>\n",
       "    <tr style=\"text-align: right;\">\n",
       "      <th></th>\n",
       "      <th>comment_text</th>\n",
       "      <th>lang</th>\n",
       "      <th>toxic</th>\n",
       "    </tr>\n",
       "  </thead>\n",
       "  <tbody>\n",
       "    <tr>\n",
       "      <th>0</th>\n",
       "      <td>Este usuario ni siquiera llega al rango de    ...</td>\n",
       "      <td>es</td>\n",
       "      <td>0</td>\n",
       "    </tr>\n",
       "    <tr>\n",
       "      <th>1</th>\n",
       "      <td>Il testo di questa voce pare esser scopiazzato...</td>\n",
       "      <td>it</td>\n",
       "      <td>0</td>\n",
       "    </tr>\n",
       "    <tr>\n",
       "      <th>2</th>\n",
       "      <td>Vale. Sólo expongo mi pasado. Todo tiempo pasa...</td>\n",
       "      <td>es</td>\n",
       "      <td>1</td>\n",
       "    </tr>\n",
       "    <tr>\n",
       "      <th>3</th>\n",
       "      <td>Bu maddenin alt başlığı olarak  uluslararası i...</td>\n",
       "      <td>tr</td>\n",
       "      <td>0</td>\n",
       "    </tr>\n",
       "    <tr>\n",
       "      <th>4</th>\n",
       "      <td>Belçika nın şehirlerinin yanında ilçe ve belde...</td>\n",
       "      <td>tr</td>\n",
       "      <td>0</td>\n",
       "    </tr>\n",
       "  </tbody>\n",
       "</table>\n",
       "</div>"
      ],
      "text/plain": [
       "                                        comment_text lang  toxic\n",
       "0  Este usuario ni siquiera llega al rango de    ...   es      0\n",
       "1  Il testo di questa voce pare esser scopiazzato...   it      0\n",
       "2  Vale. Sólo expongo mi pasado. Todo tiempo pasa...   es      1\n",
       "3  Bu maddenin alt başlığı olarak  uluslararası i...   tr      0\n",
       "4  Belçika nın şehirlerinin yanında ilçe ve belde...   tr      0"
      ]
     },
     "metadata": {},
     "output_type": "display_data"
    }
   ],
   "source": [
    "database_base_path = '/kaggle/input/jigsaw-data-split-roberta-128-ratio-2-clean-tail/'\n",
    "k_fold = pd.read_csv(database_base_path + '5-fold.csv')\n",
    "valid_df = pd.read_csv(\"/kaggle/input/jigsaw-multilingual-toxic-comment-classification/validation.csv\", \n",
    "                       usecols=['comment_text', 'toxic', 'lang'])\n",
    "\n",
    "print('Train samples: %d' % len(k_fold))\n",
    "display(k_fold.head())\n",
    "print('Validation samples: %d' % len(valid_df))\n",
    "display(valid_df.head())\n",
    "\n",
    "base_data_path = 'fold_1/'\n",
    "# Unzip files\n",
    "!tar -xf /kaggle/input/jigsaw-data-split-roberta-128-ratio-2-clean-tail/fold_1.tar.gz"
   ]
  },
  {
   "cell_type": "markdown",
   "execution_count": null,
   "metadata": {},
   "source": [
    "# Model parameters"
   ]
  },
  {
   "cell_type": "code",
   "execution_count": 4,
   "metadata": {
    "_kg_hide-input": false
   },
   "outputs": [],
   "source": [
    "base_path = '/kaggle/input/jigsaw-transformers/XLM-RoBERTa/'\n",
    "\n",
    "config = {\n",
    "  \"MAX_LEN\": 128,\n",
    "  \"BATCH_SIZE\": 128,\n",
    "  \"EPOCHS\": 4,\n",
    "  \"LEARNING_RATE\": 1e-5, \n",
    "  \"ES_PATIENCE\": None,\n",
    "  \"base_model_path\": base_path + 'tf-xlm-roberta-large-tf_model.h5',\n",
    "  \"config_path\": base_path + 'xlm-roberta-large-config.json'\n",
    "}\n",
    "\n",
    "with open('config.json', 'w') as json_file:\n",
    "    json.dump(json.loads(json.dumps(config)), json_file)"
   ]
  },
  {
   "cell_type": "markdown",
   "execution_count": null,
   "metadata": {},
   "source": [
    "## Learning rate schedule"
   ]
  },
  {
   "cell_type": "code",
   "execution_count": 5,
   "metadata": {
    "_kg_hide-input": true
   },
   "outputs": [
    {
     "name": "stdout",
     "output_type": "stream",
     "text": [
      "Learning rate schedule: 1e-07 to 9.8e-06 to 7.77e-07\n"
     ]
    },
    {
     "data": {
      "image/png": "[encoded data removed]",
      "text/plain": [
       "<Figure size 1440x432 with 1 Axes>"
      ]
     },
     "metadata": {},
     "output_type": "display_data"
    }
   ],
   "source": [
    "train_tail_len = 49676 # using tail\n",
    "lr_min = 1e-7\n",
    "lr_start = 1e-7\n",
    "lr_max = config['LEARNING_RATE']\n",
    "step_size = (len(k_fold[k_fold['fold_1'] == 'train']) + train_tail_len) // config['BATCH_SIZE']\n",
    "total_steps = config['EPOCHS'] * step_size\n",
    "hold_max_steps = 0\n",
    "warmup_steps = step_size * 1\n",
    "decay = .9997\n",
    "\n",
    "rng = [i for i in range(0, total_steps, config['BATCH_SIZE'])]\n",
    "y = [exponential_schedule_with_warmup(tf.cast(x, tf.float32), warmup_steps, hold_max_steps, \n",
    "                                      lr_start, lr_max, lr_min, decay) for x in rng]\n",
    "\n",
    "sns.set(style=\"whitegrid\")\n",
    "fig, ax = plt.subplots(figsize=(20, 6))\n",
    "plt.plot(rng, y)\n",
    "print(\"Learning rate schedule: {:.3g} to {:.3g} to {:.3g}\".format(y[0], max(y), y[-1]))"
   ]
  },
  {
   "cell_type": "markdown",
   "execution_count": null,
   "metadata": {},
   "source": [
    "# Model"
   ]
  },
  {
   "cell_type": "code",
   "execution_count": 6,
   "metadata": {},
   "outputs": [],
   "source": [
    "module_config = XLMRobertaConfig.from_pretrained(config['config_path'], output_hidden_states=False)\n",
    "\n",
    "def model_fn(MAX_LEN):\n",
    "    input_ids = layers.Input(shape=(MAX_LEN,), dtype=tf.int32, name='input_ids')\n",
    "    attention_mask = layers.Input(shape=(MAX_LEN,), dtype=tf.int32, name='attention_mask')\n",
    "    \n",
    "    base_model = TFXLMRobertaModel.from_pretrained(config['base_model_path'], config=module_config)\n",
    "    last_hidden_state, _ = base_model({'input_ids': input_ids, 'attention_mask': attention_mask})\n",
    "    cls_token = last_hidden_state[:, 0, :]\n",
    "    \n",
    "    output = layers.Dense(1, activation='sigmoid', name='output')(cls_token)\n",
    "    \n",
    "    model = Model(inputs=[input_ids, attention_mask], outputs=output)\n",
    "    \n",
    "    return model"
   ]
  },
  {
   "cell_type": "markdown",
   "execution_count": null,
   "metadata": {},
   "source": [
    "# Train"
   ]
  },
  {
   "cell_type": "code",
   "execution_count": 7,
   "metadata": {
    "_kg_hide-input": true
   },
   "outputs": [
    {
     "name": "stdout",
     "output_type": "stream",
     "text": [
      "Train for 2877 steps, validate for 62 steps\n",
      "\n",
      "EPOCH 1/4\n",
      "time: 779.5s loss: 0.4120 auc: 0.8777 val_loss: 0.2282 val_auc: 0.9342\n",
      "\n",
      "EPOCH 2/4\n",
      "time: 583.9s loss: 0.3442 auc: 0.9299 val_loss: 0.2357 val_auc: 0.9282\n",
      "\n",
      "EPOCH 3/4\n",
      "time: 583.9s loss: 0.3343 auc: 0.9357 val_loss: 0.2357 val_auc: 0.9279\n",
      "\n",
      "EPOCH 4/4\n",
      "time: 583.8s loss: 0.3287 auc: 0.9391 val_loss: 0.2453 val_auc: 0.9217\n",
      "Training finished\n",
      "Train for 75 steps, validate for 62 steps\n",
      "\n",
      "EPOCH 1/1\n",
      "time: 688.5s loss: 3.3607 auc: 0.9898 val_loss: 0.0047 val_auc: 1.0000\n",
      "Training finished\n"
     ]
    }
   ],
   "source": [
    "# Load data\n",
    "x_train = np.load(base_data_path + 'x_train.npy')\n",
    "y_train = np.load(base_data_path + 'y_train.npy').reshape(x_train.shape[1], 1).astype(np.float32)\n",
    "x_valid_ml = np.load(database_base_path + 'x_valid.npy')\n",
    "y_valid_ml = np.load(database_base_path + 'y_valid.npy').reshape(x_valid_ml.shape[1], 1).astype(np.float32)\n",
    "\n",
    "#################### ADD TAIL ####################\n",
    "x_train_tail = np.load(base_data_path + 'x_train_tail.npy')\n",
    "y_train_tail = np.load(base_data_path + 'y_train_tail.npy').reshape(x_train_tail.shape[1], 1).astype(np.float32)\n",
    "x_train = np.hstack([x_train, x_train_tail])\n",
    "y_train = np.vstack([y_train, y_train_tail])\n",
    "\n",
    "step_size = x_train.shape[1] // config['BATCH_SIZE']\n",
    "valid_step_size = x_valid_ml.shape[1] // config['BATCH_SIZE']\n",
    "\n",
    "# Build TF datasets\n",
    "train_dist_ds = strategy.experimental_distribute_dataset(get_training_dataset(x_train, y_train, config['BATCH_SIZE'], AUTO, seed=SEED))\n",
    "valid_dist_ds = strategy.experimental_distribute_dataset(get_validation_dataset(x_valid_ml, y_valid_ml, config['BATCH_SIZE'], AUTO, repeated=True, seed=SEED))\n",
    "train_data_iter = iter(train_dist_ds)\n",
    "valid_data_iter = iter(valid_dist_ds)\n",
    "\n",
    "# Step functions\n",
    "@tf.function\n",
    "def train_step(data_iter):\n",
    "    def train_step_fn(x, y):\n",
    "        with tf.GradientTape() as tape:\n",
    "            probabilities = model(x, training=True)\n",
    "            loss = loss_fn(y, probabilities)\n",
    "        grads = tape.gradient(loss, model.trainable_variables)\n",
    "        optimizer.apply_gradients(zip(grads, model.trainable_variables))\n",
    "        train_auc.update_state(y, probabilities)\n",
    "        train_loss.update_state(loss)\n",
    "    for _ in tf.range(step_size):\n",
    "        strategy.experimental_run_v2(train_step_fn, next(data_iter))\n",
    "\n",
    "@tf.function\n",
    "def valid_step(data_iter):\n",
    "    def valid_step_fn(x, y):\n",
    "        probabilities = model(x, training=False)\n",
    "        loss = loss_fn(y, probabilities)\n",
    "        valid_auc.update_state(y, probabilities)\n",
    "        valid_loss.update_state(loss)\n",
    "    for _ in tf.range(valid_step_size):\n",
    "        strategy.experimental_run_v2(valid_step_fn, next(data_iter))\n",
    "\n",
    "# Train model\n",
    "with strategy.scope():\n",
    "    model = model_fn(config['MAX_LEN'])\n",
    "    optimizer = optimizers.Adam(learning_rate=lambda: \n",
    "                                exponential_schedule_with_warmup(tf.cast(optimizer.iterations, tf.float32), \n",
    "                                                                 warmup_steps, hold_max_steps, lr_start, \n",
    "                                                                 lr_max, lr_min, decay))\n",
    "    loss_fn = losses.binary_crossentropy\n",
    "    train_auc = metrics.AUC()\n",
    "    valid_auc = metrics.AUC()\n",
    "    train_loss = metrics.Sum()\n",
    "    valid_loss = metrics.Sum()\n",
    "\n",
    "metrics_dict = {'loss': train_loss, 'auc': train_auc, \n",
    "                'val_loss': valid_loss, 'val_auc': valid_auc}\n",
    "\n",
    "history = custom_fit(model, metrics_dict, train_step, valid_step, train_data_iter, valid_data_iter, \n",
    "                     step_size, valid_step_size, config['BATCH_SIZE'], config['EPOCHS'], \n",
    "                     config['ES_PATIENCE'], save_last=False)\n",
    "# model.save_weights('model.h5')\n",
    "\n",
    "# Make predictions\n",
    "x_train = np.load(base_data_path + 'x_train.npy')\n",
    "x_valid = np.load(base_data_path + 'x_valid.npy')\n",
    "x_valid_ml_eval = np.load(database_base_path + 'x_valid.npy')\n",
    "\n",
    "train_preds = model.predict(get_test_dataset(x_train, config['BATCH_SIZE'], AUTO))\n",
    "valid_preds = model.predict(get_test_dataset(x_valid, config['BATCH_SIZE'], AUTO))\n",
    "valid_ml_preds = model.predict(get_test_dataset(x_valid_ml_eval, config['BATCH_SIZE'], AUTO))\n",
    "\n",
    "k_fold.loc[k_fold['fold_1'] == 'train', 'pred_1'] = np.round(train_preds)\n",
    "k_fold.loc[k_fold['fold_1'] == 'validation', 'pred_1'] = np.round(valid_preds)\n",
    "valid_df['pred_1'] = valid_ml_preds\n",
    "\n",
    "\n",
    "# Fine-tune on validation set\n",
    "#################### ADD TAIL ####################\n",
    "x_train_ml_tail = np.load(database_base_path + 'x_valid_tail.npy')\n",
    "y_train_ml_tail = np.load(database_base_path + 'y_valid_tail.npy').reshape(x_train_ml_tail.shape[1], 1).astype(np.float32)\n",
    "x_train_ml_tail = np.hstack([x_valid_ml, x_train_ml_tail])\n",
    "y_train_ml_tail = np.vstack([y_valid_ml, y_train_ml_tail])\n",
    "\n",
    "valid_step_size_tail = x_train_ml_tail.shape[1] // config['BATCH_SIZE']\n",
    "\n",
    "# Build TF datasets\n",
    "train_ml_dist_ds = strategy.experimental_distribute_dataset(get_training_dataset(x_train_ml_tail, y_train_ml_tail, \n",
    "                                                                                 config['BATCH_SIZE'], AUTO, seed=SEED))\n",
    "train_ml_data_iter = iter(train_ml_dist_ds)\n",
    "\n",
    "history_ml = custom_fit(model, metrics_dict, train_step, valid_step, train_ml_data_iter, valid_data_iter, \n",
    "                        valid_step_size_tail, valid_step_size, config['BATCH_SIZE'], 1, \n",
    "                        config['ES_PATIENCE'], save_last=False)\n",
    "model.save_weights('model_ml.h5')\n",
    "\n",
    "# Make predictions\n",
    "valid_ml_preds = model.predict(get_test_dataset(x_valid_ml_eval, config['BATCH_SIZE'], AUTO))\n",
    "valid_df['pred_ml_1'] = valid_ml_preds\n",
    "\n",
    "### Delete data dir\n",
    "shutil.rmtree(base_data_path)"
   ]
  },
  {
   "cell_type": "markdown",
   "execution_count": null,
   "metadata": {},
   "source": [
    "## Model loss graph"
   ]
  },
  {
   "cell_type": "code",
   "execution_count": 8,
   "metadata": {
    "_kg_hide-input": true
   },
   "outputs": [
    {
     "data": {
      "image/png": "[encoded data removed]",
      "text/plain": [
       "<Figure size 1440x720 with 2 Axes>"
      ]
     },
     "metadata": {},
     "output_type": "display_data"
    },
    {
     "data": {
      "image/png": "[encoded data removed]",
      "text/plain": [
       "<Figure size 1440x720 with 2 Axes>"
      ]
     },
     "metadata": {},
     "output_type": "display_data"
    }
   ],
   "source": [
    "plot_metrics(history)\n",
    "# ML fine-tunned preds\n",
    "plot_metrics(history_ml)"
   ]
  },
  {
   "cell_type": "markdown",
   "execution_count": null,
   "metadata": {},
   "source": [
    "# Model evaluation"
   ]
  },
  {
   "cell_type": "code",
   "execution_count": 9,
   "metadata": {
    "_kg_hide-input": true
   },
   "outputs": [
    {
     "data": {
      "text/html": [
       "<style  type=\"text/css\" >\n",
       "    #T_5fc3a81c_9a00_11ea_8e78_0242ac130202row0_col0 {\n",
       "            color:  green;\n",
       "        }    #T_5fc3a81c_9a00_11ea_8e78_0242ac130202row0_col1 {\n",
       "            color:  green;\n",
       "        }    #T_5fc3a81c_9a00_11ea_8e78_0242ac130202row0_col2 {\n",
       "            color:  red;\n",
       "        }    #T_5fc3a81c_9a00_11ea_8e78_0242ac130202row0_col3 {\n",
       "            color:  green;\n",
       "        }    #T_5fc3a81c_9a00_11ea_8e78_0242ac130202row0_col4 {\n",
       "            color:  green;\n",
       "        }    #T_5fc3a81c_9a00_11ea_8e78_0242ac130202row1_col0 {\n",
       "            color:  green;\n",
       "        }    #T_5fc3a81c_9a00_11ea_8e78_0242ac130202row1_col1 {\n",
       "            color:  green;\n",
       "        }    #T_5fc3a81c_9a00_11ea_8e78_0242ac130202row1_col2 {\n",
       "            color:  red;\n",
       "        }    #T_5fc3a81c_9a00_11ea_8e78_0242ac130202row1_col3 {\n",
       "            color:  green;\n",
       "        }    #T_5fc3a81c_9a00_11ea_8e78_0242ac130202row1_col4 {\n",
       "            color:  green;\n",
       "        }    #T_5fc3a81c_9a00_11ea_8e78_0242ac130202row2_col0 {\n",
       "            color:  green;\n",
       "        }    #T_5fc3a81c_9a00_11ea_8e78_0242ac130202row2_col1 {\n",
       "            color:  green;\n",
       "        }    #T_5fc3a81c_9a00_11ea_8e78_0242ac130202row2_col2 {\n",
       "            color:  red;\n",
       "        }    #T_5fc3a81c_9a00_11ea_8e78_0242ac130202row2_col3 {\n",
       "            color:  green;\n",
       "        }    #T_5fc3a81c_9a00_11ea_8e78_0242ac130202row2_col4 {\n",
       "            color:  green;\n",
       "        }    #T_5fc3a81c_9a00_11ea_8e78_0242ac130202row3_col0 {\n",
       "            color:  green;\n",
       "        }    #T_5fc3a81c_9a00_11ea_8e78_0242ac130202row3_col1 {\n",
       "            color:  green;\n",
       "        }    #T_5fc3a81c_9a00_11ea_8e78_0242ac130202row3_col2 {\n",
       "            color:  red;\n",
       "        }    #T_5fc3a81c_9a00_11ea_8e78_0242ac130202row3_col3 {\n",
       "            color:  green;\n",
       "        }    #T_5fc3a81c_9a00_11ea_8e78_0242ac130202row3_col4 {\n",
       "            color:  green;\n",
       "        }    #T_5fc3a81c_9a00_11ea_8e78_0242ac130202row4_col0 {\n",
       "            color:  green;\n",
       "        }    #T_5fc3a81c_9a00_11ea_8e78_0242ac130202row4_col1 {\n",
       "            color:  green;\n",
       "        }    #T_5fc3a81c_9a00_11ea_8e78_0242ac130202row4_col2 {\n",
       "            color:  red;\n",
       "        }    #T_5fc3a81c_9a00_11ea_8e78_0242ac130202row4_col3 {\n",
       "            color:  green;\n",
       "        }    #T_5fc3a81c_9a00_11ea_8e78_0242ac130202row4_col4 {\n",
       "            color:  green;\n",
       "        }    #T_5fc3a81c_9a00_11ea_8e78_0242ac130202row5_col0 {\n",
       "            color:  green;\n",
       "        }    #T_5fc3a81c_9a00_11ea_8e78_0242ac130202row5_col1 {\n",
       "            color:  green;\n",
       "        }    #T_5fc3a81c_9a00_11ea_8e78_0242ac130202row5_col2 {\n",
       "            color:  green;\n",
       "        }    #T_5fc3a81c_9a00_11ea_8e78_0242ac130202row5_col3 {\n",
       "            color:  green;\n",
       "        }    #T_5fc3a81c_9a00_11ea_8e78_0242ac130202row5_col4 {\n",
       "            color:  green;\n",
       "        }</style><table id=\"T_5fc3a81c_9a00_11ea_8e78_0242ac130202\" ><thead>    <tr>        <th class=\"blank level0\" ></th>        <th class=\"col_heading level0 col0\" >Train</th>        <th class=\"col_heading level0 col1\" >Valid</th>        <th class=\"col_heading level0 col2\" >Var</th>        <th class=\"col_heading level0 col3\" >Train_fold_1</th>        <th class=\"col_heading level0 col4\" >Valid_fold_1</th>    </tr>    <tr>        <th class=\"index_name level0\" >Metric</th>        <th class=\"blank\" ></th>        <th class=\"blank\" ></th>        <th class=\"blank\" ></th>        <th class=\"blank\" ></th>        <th class=\"blank\" ></th>    </tr></thead><tbody>\n",
       "                <tr>\n",
       "                        <th id=\"T_5fc3a81c_9a00_11ea_8e78_0242ac130202level0_row0\" class=\"row_heading level0 row0\" >ROC AUC</th>\n",
       "                        <td id=\"T_5fc3a81c_9a00_11ea_8e78_0242ac130202row0_col0\" class=\"data row0 col0\" >0.930349</td>\n",
       "                        <td id=\"T_5fc3a81c_9a00_11ea_8e78_0242ac130202row0_col1\" class=\"data row0 col1\" >0.917661</td>\n",
       "                        <td id=\"T_5fc3a81c_9a00_11ea_8e78_0242ac130202row0_col2\" class=\"data row0 col2\" >0.012688</td>\n",
       "                        <td id=\"T_5fc3a81c_9a00_11ea_8e78_0242ac130202row0_col3\" class=\"data row0 col3\" >0.930349</td>\n",
       "                        <td id=\"T_5fc3a81c_9a00_11ea_8e78_0242ac130202row0_col4\" class=\"data row0 col4\" >0.917661</td>\n",
       "            </tr>\n",
       "            <tr>\n",
       "                        <th id=\"T_5fc3a81c_9a00_11ea_8e78_0242ac130202level0_row1\" class=\"row_heading level0 row1\" >Accuracy</th>\n",
       "                        <td id=\"T_5fc3a81c_9a00_11ea_8e78_0242ac130202row1_col0\" class=\"data row1 col0\" >0.926415</td>\n",
       "                        <td id=\"T_5fc3a81c_9a00_11ea_8e78_0242ac130202row1_col1\" class=\"data row1 col1\" >0.915024</td>\n",
       "                        <td id=\"T_5fc3a81c_9a00_11ea_8e78_0242ac130202row1_col2\" class=\"data row1 col2\" >0.011391</td>\n",
       "                        <td id=\"T_5fc3a81c_9a00_11ea_8e78_0242ac130202row1_col3\" class=\"data row1 col3\" >0.926415</td>\n",
       "                        <td id=\"T_5fc3a81c_9a00_11ea_8e78_0242ac130202row1_col4\" class=\"data row1 col4\" >0.915024</td>\n",
       "            </tr>\n",
       "            <tr>\n",
       "                        <th id=\"T_5fc3a81c_9a00_11ea_8e78_0242ac130202level0_row2\" class=\"row_heading level0 row2\" >Precision</th>\n",
       "                        <td id=\"T_5fc3a81c_9a00_11ea_8e78_0242ac130202row2_col0\" class=\"data row2 col0\" >0.852825</td>\n",
       "                        <td id=\"T_5fc3a81c_9a00_11ea_8e78_0242ac130202row2_col1\" class=\"data row2 col1\" >0.837091</td>\n",
       "                        <td id=\"T_5fc3a81c_9a00_11ea_8e78_0242ac130202row2_col2\" class=\"data row2 col2\" >0.015734</td>\n",
       "                        <td id=\"T_5fc3a81c_9a00_11ea_8e78_0242ac130202row2_col3\" class=\"data row2 col3\" >0.852825</td>\n",
       "                        <td id=\"T_5fc3a81c_9a00_11ea_8e78_0242ac130202row2_col4\" class=\"data row2 col4\" >0.837091</td>\n",
       "            </tr>\n",
       "            <tr>\n",
       "                        <th id=\"T_5fc3a81c_9a00_11ea_8e78_0242ac130202level0_row3\" class=\"row_heading level0 row3\" >Recall</th>\n",
       "                        <td id=\"T_5fc3a81c_9a00_11ea_8e78_0242ac130202row3_col0\" class=\"data row3 col0\" >0.942186</td>\n",
       "                        <td id=\"T_5fc3a81c_9a00_11ea_8e78_0242ac130202row3_col1\" class=\"data row3 col1\" >0.925593</td>\n",
       "                        <td id=\"T_5fc3a81c_9a00_11ea_8e78_0242ac130202row3_col2\" class=\"data row3 col2\" >0.016592</td>\n",
       "                        <td id=\"T_5fc3a81c_9a00_11ea_8e78_0242ac130202row3_col3\" class=\"data row3 col3\" >0.942186</td>\n",
       "                        <td id=\"T_5fc3a81c_9a00_11ea_8e78_0242ac130202row3_col4\" class=\"data row3 col4\" >0.925593</td>\n",
       "            </tr>\n",
       "            <tr>\n",
       "                        <th id=\"T_5fc3a81c_9a00_11ea_8e78_0242ac130202level0_row4\" class=\"row_heading level0 row4\" >F1-score</th>\n",
       "                        <td id=\"T_5fc3a81c_9a00_11ea_8e78_0242ac130202row4_col0\" class=\"data row4 col0\" >0.895281</td>\n",
       "                        <td id=\"T_5fc3a81c_9a00_11ea_8e78_0242ac130202row4_col1\" class=\"data row4 col1\" >0.879120</td>\n",
       "                        <td id=\"T_5fc3a81c_9a00_11ea_8e78_0242ac130202row4_col2\" class=\"data row4 col2\" >0.016161</td>\n",
       "                        <td id=\"T_5fc3a81c_9a00_11ea_8e78_0242ac130202row4_col3\" class=\"data row4 col3\" >0.895281</td>\n",
       "                        <td id=\"T_5fc3a81c_9a00_11ea_8e78_0242ac130202row4_col4\" class=\"data row4 col4\" >0.879120</td>\n",
       "            </tr>\n",
       "            <tr>\n",
       "                        <th id=\"T_5fc3a81c_9a00_11ea_8e78_0242ac130202level0_row5\" class=\"row_heading level0 row5\" >Support</th>\n",
       "                        <td id=\"T_5fc3a81c_9a00_11ea_8e78_0242ac130202row5_col0\" class=\"data row5 col0\" >106392.000000</td>\n",
       "                        <td id=\"T_5fc3a81c_9a00_11ea_8e78_0242ac130202row5_col1\" class=\"data row5 col1\" >26597.000000</td>\n",
       "                        <td id=\"T_5fc3a81c_9a00_11ea_8e78_0242ac130202row5_col2\" class=\"data row5 col2\" >79795.000000</td>\n",
       "                        <td id=\"T_5fc3a81c_9a00_11ea_8e78_0242ac130202row5_col3\" class=\"data row5 col3\" >106392.000000</td>\n",
       "                        <td id=\"T_5fc3a81c_9a00_11ea_8e78_0242ac130202row5_col4\" class=\"data row5 col4\" >26597.000000</td>\n",
       "            </tr>\n",
       "    </tbody></table>"
      ],
      "text/plain": [
       "<pandas.io.formats.style.Styler at 0x7f05cc581150>"
      ]
     },
     "metadata": {},
     "output_type": "display_data"
    }
   ],
   "source": [
    "display(evaluate_model(k_fold, 1, label_col='toxic_int').style.applymap(color_map))"
   ]
  },
  {
   "cell_type": "markdown",
   "execution_count": null,
   "metadata": {},
   "source": [
    "# Confusion matrix"
   ]
  },
  {
   "cell_type": "code",
   "execution_count": 10,
   "metadata": {
    "_kg_hide-input": true
   },
   "outputs": [
    {
     "data": {
      "image/png": "[encoded data removed]",
      "text/plain": [
       "<Figure size 1296x432 with 4 Axes>"
      ]
     },
     "metadata": {},
     "output_type": "display_data"
    }
   ],
   "source": [
    "train_set = k_fold[k_fold['fold_1'] == 'train']\n",
    "validation_set = k_fold[k_fold['fold_1'] == 'validation'] \n",
    "plot_confusion_matrix(train_set['toxic_int'], train_set['pred_1'], \n",
    "                      validation_set['toxic_int'], validation_set['pred_1'])"
   ]
  },
  {
   "cell_type": "markdown",
   "execution_count": null,
   "metadata": {},
   "source": [
    "# Model evaluation by language"
   ]
  },
  {
   "cell_type": "code",
   "execution_count": 11,
   "metadata": {
    "_kg_hide-input": true
   },
   "outputs": [
    {
     "data": {
      "text/html": [
       "<style  type=\"text/css\" >\n",
       "    #T_619d0a98_9a00_11ea_8e78_0242ac130202row0_col0 {\n",
       "            color:  green;\n",
       "        }    #T_619d0a98_9a00_11ea_8e78_0242ac130202row0_col1 {\n",
       "            color:  green;\n",
       "        }    #T_619d0a98_9a00_11ea_8e78_0242ac130202row1_col0 {\n",
       "            color:  green;\n",
       "        }    #T_619d0a98_9a00_11ea_8e78_0242ac130202row1_col1 {\n",
       "            color:  green;\n",
       "        }    #T_619d0a98_9a00_11ea_8e78_0242ac130202row2_col0 {\n",
       "            color:  green;\n",
       "        }    #T_619d0a98_9a00_11ea_8e78_0242ac130202row2_col1 {\n",
       "            color:  green;\n",
       "        }    #T_619d0a98_9a00_11ea_8e78_0242ac130202row3_col0 {\n",
       "            color:  green;\n",
       "        }    #T_619d0a98_9a00_11ea_8e78_0242ac130202row3_col1 {\n",
       "            color:  green;\n",
       "        }</style><table id=\"T_619d0a98_9a00_11ea_8e78_0242ac130202\" ><thead>    <tr>        <th class=\"blank level0\" ></th>        <th class=\"col_heading level0 col0\" >Mean</th>        <th class=\"col_heading level0 col1\" >Fold_1</th>    </tr>    <tr>        <th class=\"index_name level0\" >Lang / ROC AUC</th>        <th class=\"blank\" ></th>        <th class=\"blank\" ></th>    </tr></thead><tbody>\n",
       "                <tr>\n",
       "                        <th id=\"T_619d0a98_9a00_11ea_8e78_0242ac130202level0_row0\" class=\"row_heading level0 row0\" >Overall</th>\n",
       "                        <td id=\"T_619d0a98_9a00_11ea_8e78_0242ac130202row0_col0\" class=\"data row0 col0\" >0.925274</td>\n",
       "                        <td id=\"T_619d0a98_9a00_11ea_8e78_0242ac130202row0_col1\" class=\"data row0 col1\" >0.925274</td>\n",
       "            </tr>\n",
       "            <tr>\n",
       "                        <th id=\"T_619d0a98_9a00_11ea_8e78_0242ac130202level0_row1\" class=\"row_heading level0 row1\" >es</th>\n",
       "                        <td id=\"T_619d0a98_9a00_11ea_8e78_0242ac130202row1_col0\" class=\"data row1 col0\" >0.901174</td>\n",
       "                        <td id=\"T_619d0a98_9a00_11ea_8e78_0242ac130202row1_col1\" class=\"data row1 col1\" >0.901174</td>\n",
       "            </tr>\n",
       "            <tr>\n",
       "                        <th id=\"T_619d0a98_9a00_11ea_8e78_0242ac130202level0_row2\" class=\"row_heading level0 row2\" >it</th>\n",
       "                        <td id=\"T_619d0a98_9a00_11ea_8e78_0242ac130202row2_col0\" class=\"data row2 col0\" >0.891120</td>\n",
       "                        <td id=\"T_619d0a98_9a00_11ea_8e78_0242ac130202row2_col1\" class=\"data row2 col1\" >0.891120</td>\n",
       "            </tr>\n",
       "            <tr>\n",
       "                        <th id=\"T_619d0a98_9a00_11ea_8e78_0242ac130202level0_row3\" class=\"row_heading level0 row3\" >tr</th>\n",
       "                        <td id=\"T_619d0a98_9a00_11ea_8e78_0242ac130202row3_col0\" class=\"data row3 col0\" >0.986372</td>\n",
       "                        <td id=\"T_619d0a98_9a00_11ea_8e78_0242ac130202row3_col1\" class=\"data row3 col1\" >0.986372</td>\n",
       "            </tr>\n",
       "    </tbody></table>"
      ],
      "text/plain": [
       "<pandas.io.formats.style.Styler at 0x7f052eedfd50>"
      ]
     },
     "metadata": {},
     "output_type": "display_data"
    },
    {
     "data": {
      "text/html": [
       "<style  type=\"text/css\" >\n",
       "    #T_61a3435e_9a00_11ea_8e78_0242ac130202row0_col0 {\n",
       "            color:  green;\n",
       "        }    #T_61a3435e_9a00_11ea_8e78_0242ac130202row0_col1 {\n",
       "            color:  green;\n",
       "        }    #T_61a3435e_9a00_11ea_8e78_0242ac130202row1_col0 {\n",
       "            color:  green;\n",
       "        }    #T_61a3435e_9a00_11ea_8e78_0242ac130202row1_col1 {\n",
       "            color:  green;\n",
       "        }    #T_61a3435e_9a00_11ea_8e78_0242ac130202row2_col0 {\n",
       "            color:  green;\n",
       "        }    #T_61a3435e_9a00_11ea_8e78_0242ac130202row2_col1 {\n",
       "            color:  green;\n",
       "        }    #T_61a3435e_9a00_11ea_8e78_0242ac130202row3_col0 {\n",
       "            color:  green;\n",
       "        }    #T_61a3435e_9a00_11ea_8e78_0242ac130202row3_col1 {\n",
       "            color:  green;\n",
       "        }</style><table id=\"T_61a3435e_9a00_11ea_8e78_0242ac130202\" ><thead>    <tr>        <th class=\"blank level0\" ></th>        <th class=\"col_heading level0 col0\" >Mean</th>        <th class=\"col_heading level0 col1\" >Fold_1</th>    </tr>    <tr>        <th class=\"index_name level0\" >Lang / ROC AUC</th>        <th class=\"blank\" ></th>        <th class=\"blank\" ></th>    </tr></thead><tbody>\n",
       "                <tr>\n",
       "                        <th id=\"T_61a3435e_9a00_11ea_8e78_0242ac130202level0_row0\" class=\"row_heading level0 row0\" >Overall</th>\n",
       "                        <td id=\"T_61a3435e_9a00_11ea_8e78_0242ac130202row0_col0\" class=\"data row0 col0\" >0.999997</td>\n",
       "                        <td id=\"T_61a3435e_9a00_11ea_8e78_0242ac130202row0_col1\" class=\"data row0 col1\" >0.999997</td>\n",
       "            </tr>\n",
       "            <tr>\n",
       "                        <th id=\"T_61a3435e_9a00_11ea_8e78_0242ac130202level0_row1\" class=\"row_heading level0 row1\" >es</th>\n",
       "                        <td id=\"T_61a3435e_9a00_11ea_8e78_0242ac130202row1_col0\" class=\"data row1 col0\" >0.999987</td>\n",
       "                        <td id=\"T_61a3435e_9a00_11ea_8e78_0242ac130202row1_col1\" class=\"data row1 col1\" >0.999987</td>\n",
       "            </tr>\n",
       "            <tr>\n",
       "                        <th id=\"T_61a3435e_9a00_11ea_8e78_0242ac130202level0_row2\" class=\"row_heading level0 row2\" >it</th>\n",
       "                        <td id=\"T_61a3435e_9a00_11ea_8e78_0242ac130202row2_col0\" class=\"data row2 col0\" >0.999998</td>\n",
       "                        <td id=\"T_61a3435e_9a00_11ea_8e78_0242ac130202row2_col1\" class=\"data row2 col1\" >0.999998</td>\n",
       "            </tr>\n",
       "            <tr>\n",
       "                        <th id=\"T_61a3435e_9a00_11ea_8e78_0242ac130202level0_row3\" class=\"row_heading level0 row3\" >tr</th>\n",
       "                        <td id=\"T_61a3435e_9a00_11ea_8e78_0242ac130202row3_col0\" class=\"data row3 col0\" >1.000000</td>\n",
       "                        <td id=\"T_61a3435e_9a00_11ea_8e78_0242ac130202row3_col1\" class=\"data row3 col1\" >1.000000</td>\n",
       "            </tr>\n",
       "    </tbody></table>"
      ],
      "text/plain": [
       "<pandas.io.formats.style.Styler at 0x7f052ed879d0>"
      ]
     },
     "metadata": {},
     "output_type": "display_data"
    }
   ],
   "source": [
    "display(evaluate_model_lang(valid_df, 1).style.applymap(color_map))\n",
    "# ML fine-tunned preds\n",
    "display(evaluate_model_lang(valid_df, 1, pred_col='pred_ml').style.applymap(color_map))"
   ]
  },
  {
   "cell_type": "markdown",
   "execution_count": null,
   "metadata": {},
   "source": [
    "# Visualize predictions"
   ]
  },
  {
   "cell_type": "code",
   "execution_count": 12,
   "metadata": {
    "_kg_hide-input": true
   },
   "outputs": [
    {
     "name": "stdout",
     "output_type": "stream",
     "text": [
      "English validation set\n"
     ]
    },
    {
     "data": {
      "text/html": [
       "<div>\n",
       "<style scoped>\n",
       "    .dataframe tbody tr th:only-of-type {\n",
       "        vertical-align: middle;\n",
       "    }\n",
       "\n",
       "    .dataframe tbody tr th {\n",
       "        vertical-align: top;\n",
       "    }\n",
       "\n",
       "    .dataframe thead th {\n",
       "        text-align: right;\n",
       "    }\n",
       "</style>\n",
       "<table border=\"1\" class=\"dataframe\">\n",
       "  <thead>\n",
       "    <tr style=\"text-align: right;\">\n",
       "      <th></th>\n",
       "      <th>comment_text</th>\n",
       "      <th>toxic</th>\n",
       "      <th>pred_1</th>\n",
       "    </tr>\n",
       "  </thead>\n",
       "  <tbody>\n",
       "    <tr>\n",
       "      <th>0</th>\n",
       "      <td>If someone's 'short-circuiting' mentally speaking they do uncharacteristic things. I witnessed this with my Uncle Ro...</td>\n",
       "      <td>0.000000</td>\n",
       "      <td>1.0</td>\n",
       "    </tr>\n",
       "    <tr>\n",
       "      <th>1</th>\n",
       "      <td>Oh Willy!! You took his bait! Ignore trolls like that.</td>\n",
       "      <td>1.000000</td>\n",
       "      <td>1.0</td>\n",
       "    </tr>\n",
       "    <tr>\n",
       "      <th>2</th>\n",
       "      <td>What are you talking about, and why do you have to do it anonymously? Do you have any source for your claim that uni...</td>\n",
       "      <td>0.000000</td>\n",
       "      <td>0.0</td>\n",
       "    </tr>\n",
       "    <tr>\n",
       "      <th>3</th>\n",
       "      <td>Ohh, and Pennsylvania is down .% since in terms of manufacturing jobs, their losses have been much more gradual but ...</td>\n",
       "      <td>0.000000</td>\n",
       "      <td>0.0</td>\n",
       "    </tr>\n",
       "    <tr>\n",
       "      <th>4</th>\n",
       "      <td>The consumer will end up paying more if this corporate tax passes. What will the State do with the money ? Waste the...</td>\n",
       "      <td>0.000000</td>\n",
       "      <td>0.0</td>\n",
       "    </tr>\n",
       "    <tr>\n",
       "      <th>5</th>\n",
       "      <td>There aren't many places left where the social system isn't under some kind of assault. Europe as we know it is on t...</td>\n",
       "      <td>0.000000</td>\n",
       "      <td>0.0</td>\n",
       "    </tr>\n",
       "    <tr>\n",
       "      <th>6</th>\n",
       "      <td>Sadly, I think that your described quite succinctly the state of mind of a tradition that applies to many and consti...</td>\n",
       "      <td>0.000000</td>\n",
       "      <td>0.0</td>\n",
       "    </tr>\n",
       "    <tr>\n",
       "      <th>7</th>\n",
       "      <td>Everything McAleer touches stinks.</td>\n",
       "      <td>0.718750</td>\n",
       "      <td>1.0</td>\n",
       "    </tr>\n",
       "    <tr>\n",
       "      <th>8</th>\n",
       "      <td>Now lets waste thousands in taxpayer money for the Oregon Stupid Police to investigate a F%*$ing rock.</td>\n",
       "      <td>0.757143</td>\n",
       "      <td>1.0</td>\n",
       "    </tr>\n",
       "    <tr>\n",
       "      <th>9</th>\n",
       "      <td>Nonsense, this is not apposition. This is apposition: Make America, an industrialized country, a world leader again....</td>\n",
       "      <td>0.166667</td>\n",
       "      <td>0.0</td>\n",
       "    </tr>\n",
       "  </tbody>\n",
       "</table>\n",
       "</div>"
      ],
      "text/plain": [
       "                                                                                                              comment_text  \\\n",
       "0  If someone's 'short-circuiting' mentally speaking they do uncharacteristic things. I witnessed this with my Uncle Ro...   \n",
       "1                                                                   Oh Willy!! You took his bait! Ignore trolls like that.   \n",
       "2  What are you talking about, and why do you have to do it anonymously? Do you have any source for your claim that uni...   \n",
       "3  Ohh, and Pennsylvania is down .% since in terms of manufacturing jobs, their losses have been much more gradual but ...   \n",
       "4  The consumer will end up paying more if this corporate tax passes. What will the State do with the money ? Waste the...   \n",
       "5  There aren't many places left where the social system isn't under some kind of assault. Europe as we know it is on t...   \n",
       "6  Sadly, I think that your described quite succinctly the state of mind of a tradition that applies to many and consti...   \n",
       "7                                                                                       Everything McAleer touches stinks.   \n",
       "8                   Now lets waste thousands in taxpayer money for the Oregon Stupid Police to investigate a F%*$ing rock.   \n",
       "9  Nonsense, this is not apposition. This is apposition: Make America, an industrialized country, a world leader again....   \n",
       "\n",
       "      toxic  pred_1  \n",
       "0  0.000000     1.0  \n",
       "1  1.000000     1.0  \n",
       "2  0.000000     0.0  \n",
       "3  0.000000     0.0  \n",
       "4  0.000000     0.0  \n",
       "5  0.000000     0.0  \n",
       "6  0.000000     0.0  \n",
       "7  0.718750     1.0  \n",
       "8  0.757143     1.0  \n",
       "9  0.166667     0.0  "
      ]
     },
     "metadata": {},
     "output_type": "display_data"
    },
    {
     "name": "stdout",
     "output_type": "stream",
     "text": [
      "Multilingual validation set\n"
     ]
    },
    {
     "data": {
      "text/html": [
       "<div>\n",
       "<style scoped>\n",
       "    .dataframe tbody tr th:only-of-type {\n",
       "        vertical-align: middle;\n",
       "    }\n",
       "\n",
       "    .dataframe tbody tr th {\n",
       "        vertical-align: top;\n",
       "    }\n",
       "\n",
       "    .dataframe thead th {\n",
       "        text-align: right;\n",
       "    }\n",
       "</style>\n",
       "<table border=\"1\" class=\"dataframe\">\n",
       "  <thead>\n",
       "    <tr style=\"text-align: right;\">\n",
       "      <th></th>\n",
       "      <th>comment_text</th>\n",
       "      <th>toxic</th>\n",
       "      <th>pred_1</th>\n",
       "      <th>pred_ml_1</th>\n",
       "    </tr>\n",
       "  </thead>\n",
       "  <tbody>\n",
       "    <tr>\n",
       "      <th>0</th>\n",
       "      <td>Este usuario ni siquiera llega al rango de    hereje   . Por lo tanto debería ser quemado en la barbacoa para purifi...</td>\n",
       "      <td>0</td>\n",
       "      <td>0.633724</td>\n",
       "      <td>1.127854e-02</td>\n",
       "    </tr>\n",
       "    <tr>\n",
       "      <th>1</th>\n",
       "      <td>Il testo di questa voce pare esser scopiazzato direttamente da qui. Immagino possano esserci problemi di copyright, ...</td>\n",
       "      <td>0</td>\n",
       "      <td>0.001457</td>\n",
       "      <td>5.960464e-08</td>\n",
       "    </tr>\n",
       "    <tr>\n",
       "      <th>2</th>\n",
       "      <td>Vale. Sólo expongo mi pasado. Todo tiempo pasado fue mejor, ni mucho menos, yo no quisiera retroceder 31 años a nive...</td>\n",
       "      <td>1</td>\n",
       "      <td>0.692355</td>\n",
       "      <td>9.998221e-01</td>\n",
       "    </tr>\n",
       "    <tr>\n",
       "      <th>3</th>\n",
       "      <td>Bu maddenin alt başlığı olarak  uluslararası ilişkiler  ile konuyu sürdürmek ile ilgili tereddütlerim var.Önerim siy...</td>\n",
       "      <td>0</td>\n",
       "      <td>0.000700</td>\n",
       "      <td>1.192093e-07</td>\n",
       "    </tr>\n",
       "    <tr>\n",
       "      <th>4</th>\n",
       "      <td>Belçika nın şehirlerinin yanında ilçe ve beldelerini yaparken sanırım Portekizi örnek alacaksın. Ben de uzak gelecek...</td>\n",
       "      <td>0</td>\n",
       "      <td>0.002480</td>\n",
       "      <td>4.768372e-07</td>\n",
       "    </tr>\n",
       "    <tr>\n",
       "      <th>5</th>\n",
       "      <td>güzel, zaten kaynaklandırması zor subjektif kategoriler bunlar. bazı maddelerden çıkartmak, kiminden çıkartıp kimind...</td>\n",
       "      <td>0</td>\n",
       "      <td>0.005054</td>\n",
       "      <td>1.579523e-06</td>\n",
       "    </tr>\n",
       "    <tr>\n",
       "      <th>6</th>\n",
       "      <td>No es mala idea. De hecho, yo estaba pensando descolgarme ya del reto mensual, pero esto vuelve a ilusionarme. El pr...</td>\n",
       "      <td>0</td>\n",
       "      <td>0.001678</td>\n",
       "      <td>8.940697e-08</td>\n",
       "    </tr>\n",
       "    <tr>\n",
       "      <th>7</th>\n",
       "      <td>Kod hatalarını düzeltmişsiniz,elinize sağlık çok teşekkürler.Önceki sürümleri araştırdım.13 Haziran 2010 da Kullanıc...</td>\n",
       "      <td>0</td>\n",
       "      <td>0.000367</td>\n",
       "      <td>1.460314e-06</td>\n",
       "    </tr>\n",
       "    <tr>\n",
       "      <th>8</th>\n",
       "      <td>Levent Abi nasılsın? Hayat nasıl gidiyor? Umarım her şey istediğin gibidir. Bu arada Janet Jackson maddesi seçkin ma...</td>\n",
       "      <td>0</td>\n",
       "      <td>0.004121</td>\n",
       "      <td>1.490116e-07</td>\n",
       "    </tr>\n",
       "    <tr>\n",
       "      <th>9</th>\n",
       "      <td>Creo que es importante que podamos reconocer a gente como Victor Manuel Vucetich , quien es originario de Tampico y ...</td>\n",
       "      <td>0</td>\n",
       "      <td>0.007702</td>\n",
       "      <td>5.424023e-06</td>\n",
       "    </tr>\n",
       "  </tbody>\n",
       "</table>\n",
       "</div>"
      ],
      "text/plain": [
       "                                                                                                              comment_text  \\\n",
       "0  Este usuario ni siquiera llega al rango de    hereje   . Por lo tanto debería ser quemado en la barbacoa para purifi...   \n",
       "1  Il testo di questa voce pare esser scopiazzato direttamente da qui. Immagino possano esserci problemi di copyright, ...   \n",
       "2  Vale. Sólo expongo mi pasado. Todo tiempo pasado fue mejor, ni mucho menos, yo no quisiera retroceder 31 años a nive...   \n",
       "3  Bu maddenin alt başlığı olarak  uluslararası ilişkiler  ile konuyu sürdürmek ile ilgili tereddütlerim var.Önerim siy...   \n",
       "4  Belçika nın şehirlerinin yanında ilçe ve beldelerini yaparken sanırım Portekizi örnek alacaksın. Ben de uzak gelecek...   \n",
       "5  güzel, zaten kaynaklandırması zor subjektif kategoriler bunlar. bazı maddelerden çıkartmak, kiminden çıkartıp kimind...   \n",
       "6  No es mala idea. De hecho, yo estaba pensando descolgarme ya del reto mensual, pero esto vuelve a ilusionarme. El pr...   \n",
       "7  Kod hatalarını düzeltmişsiniz,elinize sağlık çok teşekkürler.Önceki sürümleri araştırdım.13 Haziran 2010 da Kullanıc...   \n",
       "8  Levent Abi nasılsın? Hayat nasıl gidiyor? Umarım her şey istediğin gibidir. Bu arada Janet Jackson maddesi seçkin ma...   \n",
       "9  Creo que es importante que podamos reconocer a gente como Victor Manuel Vucetich , quien es originario de Tampico y ...   \n",
       "\n",
       "   toxic    pred_1     pred_ml_1  \n",
       "0      0  0.633724  1.127854e-02  \n",
       "1      0  0.001457  5.960464e-08  \n",
       "2      1  0.692355  9.998221e-01  \n",
       "3      0  0.000700  1.192093e-07  \n",
       "4      0  0.002480  4.768372e-07  \n",
       "5      0  0.005054  1.579523e-06  \n",
       "6      0  0.001678  8.940697e-08  \n",
       "7      0  0.000367  1.460314e-06  \n",
       "8      0  0.004121  1.490116e-07  \n",
       "9      0  0.007702  5.424023e-06  "
      ]
     },
     "metadata": {},
     "output_type": "display_data"
    }
   ],
   "source": [
    "pd.set_option('max_colwidth', 120)\n",
    "print('English validation set')\n",
    "display(k_fold[['comment_text', 'toxic'] + [c for c in k_fold.columns if c.startswith('pred')]].head(10))\n",
    "\n",
    "print('Multilingual validation set')\n",
    "display(valid_df[['comment_text', 'toxic'] + [c for c in valid_df.columns if c.startswith('pred')]].head(10))"
   ]
  },
  {
   "cell_type": "markdown",
   "execution_count": null,
   "metadata": {},
   "source": [
    "# Test set predictions"
   ]
  },
  {
   "cell_type": "code",
   "execution_count": 13,
   "metadata": {
    "_kg_hide-input": true
   },
   "outputs": [],
   "source": [
    "x_test = np.load(database_base_path + 'x_test.npy')\n",
    "test_preds = model.predict(get_test_dataset(x_test, config['BATCH_SIZE'], AUTO))"
   ]
  },
  {
   "cell_type": "code",
   "execution_count": 14,
   "metadata": {
    "_kg_hide-input": true
   },
   "outputs": [
    {
     "data": {
      "text/html": [
       "<div>\n",
       "<style scoped>\n",
       "    .dataframe tbody tr th:only-of-type {\n",
       "        vertical-align: middle;\n",
       "    }\n",
       "\n",
       "    .dataframe tbody tr th {\n",
       "        vertical-align: top;\n",
       "    }\n",
       "\n",
       "    .dataframe thead th {\n",
       "        text-align: right;\n",
       "    }\n",
       "</style>\n",
       "<table border=\"1\" class=\"dataframe\">\n",
       "  <thead>\n",
       "    <tr style=\"text-align: right;\">\n",
       "      <th></th>\n",
       "      <th>id</th>\n",
       "      <th>toxic</th>\n",
       "    </tr>\n",
       "  </thead>\n",
       "  <tbody>\n",
       "    <tr>\n",
       "      <th>count</th>\n",
       "      <td>63812.000000</td>\n",
       "      <td>6.381200e+04</td>\n",
       "    </tr>\n",
       "    <tr>\n",
       "      <th>mean</th>\n",
       "      <td>31905.500000</td>\n",
       "      <td>2.361055e-01</td>\n",
       "    </tr>\n",
       "    <tr>\n",
       "      <th>std</th>\n",
       "      <td>18421.082026</td>\n",
       "      <td>3.995254e-01</td>\n",
       "    </tr>\n",
       "    <tr>\n",
       "      <th>min</th>\n",
       "      <td>0.000000</td>\n",
       "      <td>0.000000e+00</td>\n",
       "    </tr>\n",
       "    <tr>\n",
       "      <th>25%</th>\n",
       "      <td>15952.750000</td>\n",
       "      <td>2.086163e-07</td>\n",
       "    </tr>\n",
       "    <tr>\n",
       "      <th>50%</th>\n",
       "      <td>31905.500000</td>\n",
       "      <td>1.180172e-05</td>\n",
       "    </tr>\n",
       "    <tr>\n",
       "      <th>75%</th>\n",
       "      <td>47858.250000</td>\n",
       "      <td>3.329809e-01</td>\n",
       "    </tr>\n",
       "    <tr>\n",
       "      <th>max</th>\n",
       "      <td>63811.000000</td>\n",
       "      <td>1.000000e+00</td>\n",
       "    </tr>\n",
       "  </tbody>\n",
       "</table>\n",
       "</div>"
      ],
      "text/plain": [
       "                 id         toxic\n",
       "count  63812.000000  6.381200e+04\n",
       "mean   31905.500000  2.361055e-01\n",
       "std    18421.082026  3.995254e-01\n",
       "min        0.000000  0.000000e+00\n",
       "25%    15952.750000  2.086163e-07\n",
       "50%    31905.500000  1.180172e-05\n",
       "75%    47858.250000  3.329809e-01\n",
       "max    63811.000000  1.000000e+00"
      ]
     },
     "metadata": {},
     "output_type": "display_data"
    },
    {
     "data": {
      "text/html": [
       "<div>\n",
       "<style scoped>\n",
       "    .dataframe tbody tr th:only-of-type {\n",
       "        vertical-align: middle;\n",
       "    }\n",
       "\n",
       "    .dataframe tbody tr th {\n",
       "        vertical-align: top;\n",
       "    }\n",
       "\n",
       "    .dataframe thead th {\n",
       "        text-align: right;\n",
       "    }\n",
       "</style>\n",
       "<table border=\"1\" class=\"dataframe\">\n",
       "  <thead>\n",
       "    <tr style=\"text-align: right;\">\n",
       "      <th></th>\n",
       "      <th>id</th>\n",
       "      <th>toxic</th>\n",
       "    </tr>\n",
       "  </thead>\n",
       "  <tbody>\n",
       "    <tr>\n",
       "      <th>0</th>\n",
       "      <td>0</td>\n",
       "      <td>1.490116e-07</td>\n",
       "    </tr>\n",
       "    <tr>\n",
       "      <th>1</th>\n",
       "      <td>1</td>\n",
       "      <td>2.980232e-08</td>\n",
       "    </tr>\n",
       "    <tr>\n",
       "      <th>2</th>\n",
       "      <td>2</td>\n",
       "      <td>1.843552e-01</td>\n",
       "    </tr>\n",
       "    <tr>\n",
       "      <th>3</th>\n",
       "      <td>3</td>\n",
       "      <td>8.940697e-08</td>\n",
       "    </tr>\n",
       "    <tr>\n",
       "      <th>4</th>\n",
       "      <td>4</td>\n",
       "      <td>1.519918e-06</td>\n",
       "    </tr>\n",
       "    <tr>\n",
       "      <th>5</th>\n",
       "      <td>5</td>\n",
       "      <td>1.085639e-03</td>\n",
       "    </tr>\n",
       "    <tr>\n",
       "      <th>6</th>\n",
       "      <td>6</td>\n",
       "      <td>0.000000e+00</td>\n",
       "    </tr>\n",
       "    <tr>\n",
       "      <th>7</th>\n",
       "      <td>7</td>\n",
       "      <td>2.622604e-06</td>\n",
       "    </tr>\n",
       "    <tr>\n",
       "      <th>8</th>\n",
       "      <td>8</td>\n",
       "      <td>1.376271e-04</td>\n",
       "    </tr>\n",
       "    <tr>\n",
       "      <th>9</th>\n",
       "      <td>9</td>\n",
       "      <td>7.271749e-02</td>\n",
       "    </tr>\n",
       "  </tbody>\n",
       "</table>\n",
       "</div>"
      ],
      "text/plain": [
       "   id         toxic\n",
       "0   0  1.490116e-07\n",
       "1   1  2.980232e-08\n",
       "2   2  1.843552e-01\n",
       "3   3  8.940697e-08\n",
       "4   4  1.519918e-06\n",
       "5   5  1.085639e-03\n",
       "6   6  0.000000e+00\n",
       "7   7  2.622604e-06\n",
       "8   8  1.376271e-04\n",
       "9   9  7.271749e-02"
      ]
     },
     "metadata": {},
     "output_type": "display_data"
    }
   ],
   "source": [
    "submission = pd.read_csv('/kaggle/input/jigsaw-multilingual-toxic-comment-classification/sample_submission.csv')\n",
    "submission['toxic'] = test_preds\n",
    "submission.to_csv('submission.csv', index=False)\n",
    "\n",
    "display(submission.describe())\n",
    "display(submission.head(10))"
   ]
  }
 ],
 "metadata": {
  "kernelspec": {
   "display_name": "Python 3",
   "language": "python",
   "name": "python3"
  },
  "language_info": {
   "codemirror_mode": {
    "name": "ipython",
    "version": 3
   },
   "file_extension": ".py",
   "mimetype": "text/x-python",
   "name": "python",
   "nbconvert_exporter": "python",
   "pygments_lexer": "ipython3",
   "version": "3.7.6"
  }
 },
 "nbformat": 4,
 "nbformat_minor": 4
}
