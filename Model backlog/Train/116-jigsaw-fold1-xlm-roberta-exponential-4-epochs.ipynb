{
 "cells": [
  {
   "cell_type": "markdown",
   "execution_count": null,
   "metadata": {},
   "source": [
    "## Dependencies"
   ]
  },
  {
   "cell_type": "code",
   "execution_count": 1,
   "metadata": {
    "_kg_hide-input": true,
    "_kg_hide-output": true
   },
   "outputs": [
    {
     "name": "stderr",
     "output_type": "stream",
     "text": [
      "\u001b[34m\u001b[1mwandb\u001b[0m: \u001b[33mWARNING\u001b[0m W&B installed but not logged in.  Run `wandb login` or set the WANDB_API_KEY env variable.\n"
     ]
    }
   ],
   "source": [
    "import json, warnings, shutil, glob\n",
    "from jigsaw_utility_scripts import *\n",
    "from scripts_step_lr_schedulers import *\n",
    "from transformers import TFXLMRobertaModel, XLMRobertaConfig\n",
    "from tensorflow.keras.models import Model\n",
    "from tensorflow.keras import optimizers, metrics, losses, layers\n",
    "\n",
    "SEED = 0\n",
    "seed_everything(SEED)\n",
    "warnings.filterwarnings(\"ignore\")"
   ]
  },
  {
   "cell_type": "markdown",
   "execution_count": null,
   "metadata": {},
   "source": [
    "## TPU configuration"
   ]
  },
  {
   "cell_type": "code",
   "execution_count": 2,
   "metadata": {
    "_cell_guid": "79c7e3d0-c299-4dcb-8224-4455121ee9b0",
    "_kg_hide-input": true,
    "_uuid": "d629ff2d2480ee46fbb7e2d37f6b5fab8052498a"
   },
   "outputs": [
    {
     "name": "stdout",
     "output_type": "stream",
     "text": [
      "Running on TPU  grpc://10.0.0.2:8470\n",
      "REPLICAS:  8\n"
     ]
    }
   ],
   "source": [
    "strategy, tpu = set_up_strategy()\n",
    "print(\"REPLICAS: \", strategy.num_replicas_in_sync)\n",
    "AUTO = tf.data.experimental.AUTOTUNE"
   ]
  },
  {
   "cell_type": "markdown",
   "execution_count": null,
   "metadata": {},
   "source": [
    "# Load data"
   ]
  },
  {
   "cell_type": "code",
   "execution_count": 3,
   "metadata": {
    "_kg_hide-input": true
   },
   "outputs": [
    {
     "name": "stdout",
     "output_type": "stream",
     "text": [
      "Train samples: 400830\n"
     ]
    },
    {
     "data": {
      "text/html": [
       "<div>\n",
       "<style scoped>\n",
       "    .dataframe tbody tr th:only-of-type {\n",
       "        vertical-align: middle;\n",
       "    }\n",
       "\n",
       "    .dataframe tbody tr th {\n",
       "        vertical-align: top;\n",
       "    }\n",
       "\n",
       "    .dataframe thead th {\n",
       "        text-align: right;\n",
       "    }\n",
       "</style>\n",
       "<table border=\"1\" class=\"dataframe\">\n",
       "  <thead>\n",
       "    <tr style=\"text-align: right;\">\n",
       "      <th></th>\n",
       "      <th>comment_text</th>\n",
       "      <th>toxic</th>\n",
       "      <th>length</th>\n",
       "      <th>word_count</th>\n",
       "      <th>token_count</th>\n",
       "      <th>toxic_int</th>\n",
       "      <th>fold_1</th>\n",
       "      <th>fold_2</th>\n",
       "      <th>fold_3</th>\n",
       "      <th>fold_4</th>\n",
       "      <th>fold_5</th>\n",
       "    </tr>\n",
       "  </thead>\n",
       "  <tbody>\n",
       "    <tr>\n",
       "      <th>0</th>\n",
       "      <td>And you have something alien on your lips Chan...</td>\n",
       "      <td>0.000000</td>\n",
       "      <td>146</td>\n",
       "      <td>28</td>\n",
       "      <td>40</td>\n",
       "      <td>0</td>\n",
       "      <td>train</td>\n",
       "      <td>train</td>\n",
       "      <td>validation</td>\n",
       "      <td>train</td>\n",
       "      <td>train</td>\n",
       "    </tr>\n",
       "    <tr>\n",
       "      <th>1</th>\n",
       "      <td>no income tax for anyone that comes and works ...</td>\n",
       "      <td>0.166667</td>\n",
       "      <td>154</td>\n",
       "      <td>30</td>\n",
       "      <td>41</td>\n",
       "      <td>0</td>\n",
       "      <td>train</td>\n",
       "      <td>train</td>\n",
       "      <td>train</td>\n",
       "      <td>train</td>\n",
       "      <td>validation</td>\n",
       "    </tr>\n",
       "    <tr>\n",
       "      <th>2</th>\n",
       "      <td>Rubbish, Brandon. Nothing stopped Comey of the...</td>\n",
       "      <td>0.833333</td>\n",
       "      <td>444</td>\n",
       "      <td>75</td>\n",
       "      <td>105</td>\n",
       "      <td>1</td>\n",
       "      <td>train</td>\n",
       "      <td>train</td>\n",
       "      <td>validation</td>\n",
       "      <td>train</td>\n",
       "      <td>train</td>\n",
       "    </tr>\n",
       "    <tr>\n",
       "      <th>3</th>\n",
       "      <td>poster I have sent the e-mail. -Garrett</td>\n",
       "      <td>0.000000</td>\n",
       "      <td>39</td>\n",
       "      <td>7</td>\n",
       "      <td>14</td>\n",
       "      <td>0</td>\n",
       "      <td>train</td>\n",
       "      <td>train</td>\n",
       "      <td>validation</td>\n",
       "      <td>train</td>\n",
       "      <td>train</td>\n",
       "    </tr>\n",
       "    <tr>\n",
       "      <th>4</th>\n",
       "      <td>== ECB exposure == I responded to a comment of...</td>\n",
       "      <td>0.000000</td>\n",
       "      <td>66</td>\n",
       "      <td>13</td>\n",
       "      <td>23</td>\n",
       "      <td>0</td>\n",
       "      <td>train</td>\n",
       "      <td>train</td>\n",
       "      <td>validation</td>\n",
       "      <td>train</td>\n",
       "      <td>train</td>\n",
       "    </tr>\n",
       "  </tbody>\n",
       "</table>\n",
       "</div>"
      ],
      "text/plain": [
       "                                        comment_text     toxic  length  \\\n",
       "0  And you have something alien on your lips Chan...  0.000000     146   \n",
       "1  no income tax for anyone that comes and works ...  0.166667     154   \n",
       "2  Rubbish, Brandon. Nothing stopped Comey of the...  0.833333     444   \n",
       "3            poster I have sent the e-mail. -Garrett  0.000000      39   \n",
       "4  == ECB exposure == I responded to a comment of...  0.000000      66   \n",
       "\n",
       "   word_count  token_count  toxic_int fold_1 fold_2      fold_3 fold_4  \\\n",
       "0          28           40          0  train  train  validation  train   \n",
       "1          30           41          0  train  train       train  train   \n",
       "2          75          105          1  train  train  validation  train   \n",
       "3           7           14          0  train  train  validation  train   \n",
       "4          13           23          0  train  train  validation  train   \n",
       "\n",
       "       fold_5  \n",
       "0       train  \n",
       "1  validation  \n",
       "2       train  \n",
       "3       train  \n",
       "4       train  "
      ]
     },
     "metadata": {},
     "output_type": "display_data"
    },
    {
     "name": "stdout",
     "output_type": "stream",
     "text": [
      "Validation samples: 8000\n"
     ]
    },
    {
     "data": {
      "text/html": [
       "<div>\n",
       "<style scoped>\n",
       "    .dataframe tbody tr th:only-of-type {\n",
       "        vertical-align: middle;\n",
       "    }\n",
       "\n",
       "    .dataframe tbody tr th {\n",
       "        vertical-align: top;\n",
       "    }\n",
       "\n",
       "    .dataframe thead th {\n",
       "        text-align: right;\n",
       "    }\n",
       "</style>\n",
       "<table border=\"1\" class=\"dataframe\">\n",
       "  <thead>\n",
       "    <tr style=\"text-align: right;\">\n",
       "      <th></th>\n",
       "      <th>comment_text</th>\n",
       "      <th>lang</th>\n",
       "      <th>toxic</th>\n",
       "    </tr>\n",
       "  </thead>\n",
       "  <tbody>\n",
       "    <tr>\n",
       "      <th>0</th>\n",
       "      <td>Este usuario ni siquiera llega al rango de    ...</td>\n",
       "      <td>es</td>\n",
       "      <td>0</td>\n",
       "    </tr>\n",
       "    <tr>\n",
       "      <th>1</th>\n",
       "      <td>Il testo di questa voce pare esser scopiazzato...</td>\n",
       "      <td>it</td>\n",
       "      <td>0</td>\n",
       "    </tr>\n",
       "    <tr>\n",
       "      <th>2</th>\n",
       "      <td>Vale. Sólo expongo mi pasado. Todo tiempo pasa...</td>\n",
       "      <td>es</td>\n",
       "      <td>1</td>\n",
       "    </tr>\n",
       "    <tr>\n",
       "      <th>3</th>\n",
       "      <td>Bu maddenin alt başlığı olarak  uluslararası i...</td>\n",
       "      <td>tr</td>\n",
       "      <td>0</td>\n",
       "    </tr>\n",
       "    <tr>\n",
       "      <th>4</th>\n",
       "      <td>Belçika nın şehirlerinin yanında ilçe ve belde...</td>\n",
       "      <td>tr</td>\n",
       "      <td>0</td>\n",
       "    </tr>\n",
       "  </tbody>\n",
       "</table>\n",
       "</div>"
      ],
      "text/plain": [
       "                                        comment_text lang  toxic\n",
       "0  Este usuario ni siquiera llega al rango de    ...   es      0\n",
       "1  Il testo di questa voce pare esser scopiazzato...   it      0\n",
       "2  Vale. Sólo expongo mi pasado. Todo tiempo pasa...   es      1\n",
       "3  Bu maddenin alt başlığı olarak  uluslararası i...   tr      0\n",
       "4  Belçika nın şehirlerinin yanında ilçe ve belde...   tr      0"
      ]
     },
     "metadata": {},
     "output_type": "display_data"
    }
   ],
   "source": [
    "database_base_path = '/kaggle/input/jigsaw-data-split-roberta-192-ratio-2-clean-polish/'\n",
    "k_fold = pd.read_csv(database_base_path + '5-fold.csv')\n",
    "valid_df = pd.read_csv(\"/kaggle/input/jigsaw-multilingual-toxic-comment-classification/validation.csv\", \n",
    "                       usecols=['comment_text', 'toxic', 'lang'])\n",
    "\n",
    "print('Train samples: %d' % len(k_fold))\n",
    "display(k_fold.head())\n",
    "print('Validation samples: %d' % len(valid_df))\n",
    "display(valid_df.head())\n",
    "\n",
    "base_data_path = 'fold_1/'\n",
    "fold_n = 1\n",
    "# Unzip files\n",
    "!tar -xf /kaggle/input/jigsaw-data-split-roberta-192-ratio-2-clean-polish/fold_1.tar.gz"
   ]
  },
  {
   "cell_type": "markdown",
   "execution_count": null,
   "metadata": {},
   "source": [
    "# Model parameters"
   ]
  },
  {
   "cell_type": "code",
   "execution_count": 4,
   "metadata": {
    "_kg_hide-input": true
   },
   "outputs": [
    {
     "data": {
      "text/plain": [
       "{'MAX_LEN': 192,\n",
       " 'BATCH_SIZE': 128,\n",
       " 'EPOCHS': 4,\n",
       " 'LEARNING_RATE': 1e-05,\n",
       " 'ES_PATIENCE': None,\n",
       " 'base_model_path': '/kaggle/input/jigsaw-transformers/XLM-RoBERTa/tf-xlm-roberta-large-tf_model.h5',\n",
       " 'config_path': '/kaggle/input/jigsaw-transformers/XLM-RoBERTa/xlm-roberta-large-config.json'}"
      ]
     },
     "execution_count": 4,
     "metadata": {},
     "output_type": "execute_result"
    }
   ],
   "source": [
    "base_path = '/kaggle/input/jigsaw-transformers/XLM-RoBERTa/'\n",
    "\n",
    "config = {\n",
    "  \"MAX_LEN\": 192,\n",
    "  \"BATCH_SIZE\": 128,\n",
    "  \"EPOCHS\": 4,\n",
    "  \"LEARNING_RATE\": 1e-5, \n",
    "  \"ES_PATIENCE\": None,\n",
    "  \"base_model_path\": base_path + 'tf-xlm-roberta-large-tf_model.h5',\n",
    "  \"config_path\": base_path + 'xlm-roberta-large-config.json'\n",
    "}\n",
    "\n",
    "with open('config.json', 'w') as json_file:\n",
    "    json.dump(json.loads(json.dumps(config)), json_file)\n",
    "    \n",
    "config"
   ]
  },
  {
   "cell_type": "markdown",
   "execution_count": null,
   "metadata": {},
   "source": [
    "## Learning rate schedule"
   ]
  },
  {
   "cell_type": "code",
   "execution_count": 5,
   "metadata": {
    "_kg_hide-input": true
   },
   "outputs": [
    {
     "name": "stdout",
     "output_type": "stream",
     "text": [
      "Learning rate schedule: 0 to 9.84e-06 to 1.06e-06\n"
     ]
    },
    {
     "data": {
      "image/png": "[encoded data removed]",
      "text/plain": [
       "<Figure size 1440x432 with 1 Axes>"
      ]
     },
     "metadata": {},
     "output_type": "display_data"
    }
   ],
   "source": [
    "lr_min = 1e-7\n",
    "lr_start = 0\n",
    "lr_max = config['LEARNING_RATE']\n",
    "step_size = len(k_fold[k_fold[f'fold_{fold_n}'] == 'train']) // config['BATCH_SIZE']\n",
    "total_steps = config['EPOCHS'] * step_size\n",
    "hold_max_steps = 0\n",
    "warmup_steps = step_size * 1\n",
    "decay = .9997\n",
    "\n",
    "rng = [i for i in range(0, total_steps, config['BATCH_SIZE'])]\n",
    "y = [exponential_schedule_with_warmup(tf.cast(x, tf.float32), warmup_steps, hold_max_steps, \n",
    "                                      lr_start, lr_max, lr_min, decay) for x in rng]\n",
    "\n",
    "sns.set(style=\"whitegrid\")\n",
    "fig, ax = plt.subplots(figsize=(20, 6))\n",
    "plt.plot(rng, y)\n",
    "print(\"Learning rate schedule: {:.3g} to {:.3g} to {:.3g}\".format(y[0], max(y), y[-1]))"
   ]
  },
  {
   "cell_type": "markdown",
   "execution_count": null,
   "metadata": {},
   "source": [
    "# Model"
   ]
  },
  {
   "cell_type": "code",
   "execution_count": 6,
   "metadata": {},
   "outputs": [],
   "source": [
    "module_config = XLMRobertaConfig.from_pretrained(config['config_path'], output_hidden_states=False)\n",
    "\n",
    "def model_fn(MAX_LEN):\n",
    "    input_ids = layers.Input(shape=(MAX_LEN,), dtype=tf.int32, name='input_ids')\n",
    "    attention_mask = layers.Input(shape=(MAX_LEN,), dtype=tf.int32, name='attention_mask')\n",
    "    \n",
    "    base_model = TFXLMRobertaModel.from_pretrained(config['base_model_path'], config=module_config)\n",
    "    last_hidden_state, _ = base_model({'input_ids': input_ids, 'attention_mask': attention_mask})\n",
    "    cls_token = last_hidden_state[:, 0, :]\n",
    "    \n",
    "    output = layers.Dense(1, activation='sigmoid', name='output')(cls_token)\n",
    "    \n",
    "    model = Model(inputs=[input_ids, attention_mask], outputs=output)\n",
    "    \n",
    "    return model"
   ]
  },
  {
   "cell_type": "markdown",
   "execution_count": null,
   "metadata": {},
   "source": [
    "# Train"
   ]
  },
  {
   "cell_type": "code",
   "execution_count": 7,
   "metadata": {
    "_kg_hide-input": true
   },
   "outputs": [
    {
     "name": "stdout",
     "output_type": "stream",
     "text": [
      "Train for 5010 steps, validate for 62 steps\n",
      "\n",
      "EPOCH 1/4\n",
      "time: 1480.3s loss: 0.2470 auc: 0.9580 val_loss: 0.2928 val_auc: 0.9250\n",
      "\n",
      "EPOCH 2/4\n",
      "time: 1329.0s loss: 0.1667 auc: 0.9806 val_loss: 0.2891 val_auc: 0.9182\n",
      "\n",
      "EPOCH 3/4\n",
      "time: 1329.0s loss: 0.1500 auc: 0.9842 val_loss: 0.2905 val_auc: 0.9179\n",
      "\n",
      "EPOCH 4/4\n",
      "time: 1329.1s loss: 0.1453 auc: 0.9851 val_loss: 0.3011 val_auc: 0.9168\n",
      "Training finished\n",
      "Train for 125 steps, validate for 62 steps\n",
      "\n",
      "EPOCH 1/1\n",
      "time: 1329.0s loss: 7.2049 auc: 0.9576 val_loss: 0.1283 val_auc: 0.9808\n",
      "Training finished\n"
     ]
    }
   ],
   "source": [
    "# Load data\n",
    "x_train = np.load(base_data_path + 'x_train.npy')\n",
    "y_train = np.load(base_data_path + 'y_train_int.npy').reshape(x_train.shape[1], 1).astype(np.float32)\n",
    "x_valid_ml = np.load(database_base_path + 'x_valid.npy')\n",
    "y_valid_ml = np.load(database_base_path + 'y_valid.npy').reshape(x_valid_ml.shape[1], 1).astype(np.float32)\n",
    "\n",
    "#################### ADD TAIL ####################\n",
    "x_train_tail = np.load(base_data_path + 'x_train_tail.npy')\n",
    "y_train_tail = np.load(base_data_path + 'y_train_int_tail.npy').reshape(x_train_tail.shape[1], 1).astype(np.float32)\n",
    "x_train = np.hstack([x_train, x_train_tail])\n",
    "y_train = np.vstack([y_train, y_train_tail])\n",
    "\n",
    "step_size = x_train.shape[1] // config['BATCH_SIZE']\n",
    "valid_step_size = x_valid_ml.shape[1] // config['BATCH_SIZE']\n",
    "\n",
    "# Build TF datasets\n",
    "train_dist_ds = strategy.experimental_distribute_dataset(get_training_dataset(x_train, y_train, config['BATCH_SIZE'], AUTO, seed=SEED))\n",
    "valid_dist_ds = strategy.experimental_distribute_dataset(get_validation_dataset(x_valid_ml, y_valid_ml, config['BATCH_SIZE'], AUTO, repeated=True, seed=SEED))\n",
    "train_data_iter = iter(train_dist_ds)\n",
    "valid_data_iter = iter(valid_dist_ds)\n",
    "\n",
    "# Step functions\n",
    "@tf.function\n",
    "def train_step(data_iter):\n",
    "    def train_step_fn(x, y):\n",
    "        with tf.GradientTape() as tape:\n",
    "            probabilities = model(x, training=True)\n",
    "            loss = loss_fn(y, probabilities)\n",
    "        grads = tape.gradient(loss, model.trainable_variables)\n",
    "        optimizer.apply_gradients(zip(grads, model.trainable_variables))\n",
    "        train_auc.update_state(y, probabilities)\n",
    "        train_loss.update_state(loss)\n",
    "    for _ in tf.range(step_size):\n",
    "        strategy.experimental_run_v2(train_step_fn, next(data_iter))\n",
    "\n",
    "@tf.function\n",
    "def valid_step(data_iter):\n",
    "    def valid_step_fn(x, y):\n",
    "        probabilities = model(x, training=False)\n",
    "        loss = loss_fn(y, probabilities)\n",
    "        valid_auc.update_state(y, probabilities)\n",
    "        valid_loss.update_state(loss)\n",
    "    for _ in tf.range(valid_step_size):\n",
    "        strategy.experimental_run_v2(valid_step_fn, next(data_iter))\n",
    "\n",
    "# Train model\n",
    "with strategy.scope():\n",
    "    model = model_fn(config['MAX_LEN'])\n",
    "    optimizer = optimizers.Adam(learning_rate=lambda: \n",
    "                                exponential_schedule_with_warmup(tf.cast(optimizer.iterations, tf.float32), \n",
    "                                                                 warmup_steps, hold_max_steps, lr_start, \n",
    "                                                                 lr_max, lr_min, decay))\n",
    "    loss_fn = losses.binary_crossentropy\n",
    "    train_auc = metrics.AUC()\n",
    "    valid_auc = metrics.AUC()\n",
    "    train_loss = metrics.Sum()\n",
    "    valid_loss = metrics.Sum()\n",
    "\n",
    "metrics_dict = {'loss': train_loss, 'auc': train_auc, \n",
    "                'val_loss': valid_loss, 'val_auc': valid_auc}\n",
    "\n",
    "history = custom_fit(model, metrics_dict, train_step, valid_step, train_data_iter, valid_data_iter, \n",
    "                     step_size, valid_step_size, config['BATCH_SIZE'], config['EPOCHS'], \n",
    "                     config['ES_PATIENCE'], save_last=False)\n",
    "# model.save_weights('model.h5')\n",
    "\n",
    "# Make predictions\n",
    "# x_train = np.load(base_data_path + 'x_train.npy')\n",
    "# x_valid = np.load(base_data_path + 'x_valid.npy')\n",
    "x_valid_ml_eval = np.load(database_base_path + 'x_valid.npy')\n",
    "\n",
    "# train_preds = model.predict(get_test_dataset(x_train, config['BATCH_SIZE'], AUTO))\n",
    "# valid_preds = model.predict(get_test_dataset(x_valid, config['BATCH_SIZE'], AUTO))\n",
    "valid_ml_preds = model.predict(get_test_dataset(x_valid_ml_eval, config['BATCH_SIZE'], AUTO))\n",
    "\n",
    "# k_fold.loc[k_fold[f'fold_{fold_n}'] == 'train', f'pred_{fold_n}'] = np.round(train_preds)\n",
    "# k_fold.loc[k_fold[f'fold_{fold_n}'] == 'validation', f'pred_{fold_n}'] = np.round(valid_preds)\n",
    "valid_df[f'pred_{fold_n}'] = valid_ml_preds\n",
    "\n",
    "\n",
    "# Fine-tune on validation set\n",
    "#################### ADD TAIL ####################\n",
    "x_valid_ml_tail = np.hstack([x_valid_ml, np.load(database_base_path + 'x_valid_tail.npy')])\n",
    "y_valid_ml_tail = np.vstack([y_valid_ml, y_valid_ml])\n",
    "\n",
    "valid_step_size_tail = x_valid_ml_tail.shape[1] // config['BATCH_SIZE']\n",
    "\n",
    "# Build TF datasets\n",
    "train_ml_dist_ds = strategy.experimental_distribute_dataset(get_training_dataset(x_valid_ml_tail, y_valid_ml_tail, \n",
    "                                                                                 config['BATCH_SIZE'], AUTO, seed=SEED))\n",
    "train_ml_data_iter = iter(train_ml_dist_ds)\n",
    "\n",
    "history_ml = custom_fit(model, metrics_dict, train_step, valid_step, train_ml_data_iter, valid_data_iter, \n",
    "                        valid_step_size_tail, valid_step_size, config['BATCH_SIZE'], 1, \n",
    "                        config['ES_PATIENCE'], save_last=False)\n",
    "\n",
    "# Join history\n",
    "for key in history_ml.keys():\n",
    "    history[key] += history_ml[key]\n",
    "    \n",
    "model.save_weights('model_ml.h5')\n",
    "\n",
    "# Make predictions\n",
    "valid_ml_preds = model.predict(get_test_dataset(x_valid_ml_eval, config['BATCH_SIZE'], AUTO))\n",
    "valid_df[f'pred_ml_{fold_n}'] = valid_ml_preds\n",
    "\n",
    "### Delete data dir\n",
    "shutil.rmtree(base_data_path)"
   ]
  },
  {
   "cell_type": "markdown",
   "execution_count": null,
   "metadata": {},
   "source": [
    "## Model loss graph"
   ]
  },
  {
   "cell_type": "code",
   "execution_count": 8,
   "metadata": {
    "_kg_hide-input": true
   },
   "outputs": [
    {
     "data": {
      "image/png": "[encoded data removed]",
      "text/plain": [
       "<Figure size 1440x720 with 2 Axes>"
      ]
     },
     "metadata": {},
     "output_type": "display_data"
    }
   ],
   "source": [
    "plot_metrics(history)"
   ]
  },
  {
   "cell_type": "markdown",
   "execution_count": null,
   "metadata": {},
   "source": [
    "# Model evaluation"
   ]
  },
  {
   "cell_type": "code",
   "execution_count": 9,
   "metadata": {
    "_kg_hide-input": true
   },
   "outputs": [],
   "source": [
    "# display(evaluate_model_single_fold(k_fold, fold_n, label_col='toxic_int').style.applymap(color_map))"
   ]
  },
  {
   "cell_type": "markdown",
   "execution_count": null,
   "metadata": {},
   "source": [
    "# Confusion matrix"
   ]
  },
  {
   "cell_type": "code",
   "execution_count": 10,
   "metadata": {
    "_kg_hide-input": true
   },
   "outputs": [],
   "source": [
    "# train_set = k_fold[k_fold[f'fold_{fold_n}'] == 'train']\n",
    "# validation_set = k_fold[k_fold[f'fold_{fold_n}'] == 'validation'] \n",
    "# plot_confusion_matrix(train_set['toxic_int'], train_set[f'pred_{fold_n}'], \n",
    "#                       validation_set['toxic_int'], validation_set[f'pred_{fold_n}'])"
   ]
  },
  {
   "cell_type": "markdown",
   "execution_count": null,
   "metadata": {},
   "source": [
    "# Model evaluation by language"
   ]
  },
  {
   "cell_type": "code",
   "execution_count": 11,
   "metadata": {
    "_kg_hide-input": true
   },
   "outputs": [
    {
     "data": {
      "text/html": [
       "<style  type=\"text/css\" >\n",
       "    #T_b65e1478_adc9_11ea_8b97_0242ac130202row0_col0 {\n",
       "            color:  green;\n",
       "        }    #T_b65e1478_adc9_11ea_8b97_0242ac130202row0_col1 {\n",
       "            color:  green;\n",
       "        }    #T_b65e1478_adc9_11ea_8b97_0242ac130202row1_col0 {\n",
       "            color:  green;\n",
       "        }    #T_b65e1478_adc9_11ea_8b97_0242ac130202row1_col1 {\n",
       "            color:  green;\n",
       "        }    #T_b65e1478_adc9_11ea_8b97_0242ac130202row2_col0 {\n",
       "            color:  green;\n",
       "        }    #T_b65e1478_adc9_11ea_8b97_0242ac130202row2_col1 {\n",
       "            color:  green;\n",
       "        }    #T_b65e1478_adc9_11ea_8b97_0242ac130202row3_col0 {\n",
       "            color:  green;\n",
       "        }    #T_b65e1478_adc9_11ea_8b97_0242ac130202row3_col1 {\n",
       "            color:  green;\n",
       "        }</style><table id=\"T_b65e1478_adc9_11ea_8b97_0242ac130202\" ><thead>    <tr>        <th class=\"blank level0\" ></th>        <th class=\"col_heading level0 col0\" >Mean</th>        <th class=\"col_heading level0 col1\" >Fold_1</th>    </tr>    <tr>        <th class=\"index_name level0\" >Lang / ROC AUC</th>        <th class=\"blank\" ></th>        <th class=\"blank\" ></th>    </tr></thead><tbody>\n",
       "                <tr>\n",
       "                        <th id=\"T_b65e1478_adc9_11ea_8b97_0242ac130202level0_row0\" class=\"row_heading level0 row0\" >Overall</th>\n",
       "                        <td id=\"T_b65e1478_adc9_11ea_8b97_0242ac130202row0_col0\" class=\"data row0 col0\" >0.922264</td>\n",
       "                        <td id=\"T_b65e1478_adc9_11ea_8b97_0242ac130202row0_col1\" class=\"data row0 col1\" >0.922264</td>\n",
       "            </tr>\n",
       "            <tr>\n",
       "                        <th id=\"T_b65e1478_adc9_11ea_8b97_0242ac130202level0_row1\" class=\"row_heading level0 row1\" >es</th>\n",
       "                        <td id=\"T_b65e1478_adc9_11ea_8b97_0242ac130202row1_col0\" class=\"data row1 col0\" >0.904397</td>\n",
       "                        <td id=\"T_b65e1478_adc9_11ea_8b97_0242ac130202row1_col1\" class=\"data row1 col1\" >0.904397</td>\n",
       "            </tr>\n",
       "            <tr>\n",
       "                        <th id=\"T_b65e1478_adc9_11ea_8b97_0242ac130202level0_row2\" class=\"row_heading level0 row2\" >it</th>\n",
       "                        <td id=\"T_b65e1478_adc9_11ea_8b97_0242ac130202row2_col0\" class=\"data row2 col0\" >0.887714</td>\n",
       "                        <td id=\"T_b65e1478_adc9_11ea_8b97_0242ac130202row2_col1\" class=\"data row2 col1\" >0.887714</td>\n",
       "            </tr>\n",
       "            <tr>\n",
       "                        <th id=\"T_b65e1478_adc9_11ea_8b97_0242ac130202level0_row3\" class=\"row_heading level0 row3\" >tr</th>\n",
       "                        <td id=\"T_b65e1478_adc9_11ea_8b97_0242ac130202row3_col0\" class=\"data row3 col0\" >0.977104</td>\n",
       "                        <td id=\"T_b65e1478_adc9_11ea_8b97_0242ac130202row3_col1\" class=\"data row3 col1\" >0.977104</td>\n",
       "            </tr>\n",
       "    </tbody></table>"
      ],
      "text/plain": [
       "<pandas.io.formats.style.Styler at 0x7fed4a251410>"
      ]
     },
     "metadata": {},
     "output_type": "display_data"
    },
    {
     "data": {
      "text/html": [
       "<style  type=\"text/css\" >\n",
       "    #T_b66541b2_adc9_11ea_8b97_0242ac130202row0_col0 {\n",
       "            color:  green;\n",
       "        }    #T_b66541b2_adc9_11ea_8b97_0242ac130202row0_col1 {\n",
       "            color:  green;\n",
       "        }    #T_b66541b2_adc9_11ea_8b97_0242ac130202row1_col0 {\n",
       "            color:  green;\n",
       "        }    #T_b66541b2_adc9_11ea_8b97_0242ac130202row1_col1 {\n",
       "            color:  green;\n",
       "        }    #T_b66541b2_adc9_11ea_8b97_0242ac130202row2_col0 {\n",
       "            color:  green;\n",
       "        }    #T_b66541b2_adc9_11ea_8b97_0242ac130202row2_col1 {\n",
       "            color:  green;\n",
       "        }    #T_b66541b2_adc9_11ea_8b97_0242ac130202row3_col0 {\n",
       "            color:  green;\n",
       "        }    #T_b66541b2_adc9_11ea_8b97_0242ac130202row3_col1 {\n",
       "            color:  green;\n",
       "        }</style><table id=\"T_b66541b2_adc9_11ea_8b97_0242ac130202\" ><thead>    <tr>        <th class=\"blank level0\" ></th>        <th class=\"col_heading level0 col0\" >Mean</th>        <th class=\"col_heading level0 col1\" >Fold_1</th>    </tr>    <tr>        <th class=\"index_name level0\" >Lang / ROC AUC</th>        <th class=\"blank\" ></th>        <th class=\"blank\" ></th>    </tr></thead><tbody>\n",
       "                <tr>\n",
       "                        <th id=\"T_b66541b2_adc9_11ea_8b97_0242ac130202level0_row0\" class=\"row_heading level0 row0\" >Overall</th>\n",
       "                        <td id=\"T_b66541b2_adc9_11ea_8b97_0242ac130202row0_col0\" class=\"data row0 col0\" >0.981400</td>\n",
       "                        <td id=\"T_b66541b2_adc9_11ea_8b97_0242ac130202row0_col1\" class=\"data row0 col1\" >0.981400</td>\n",
       "            </tr>\n",
       "            <tr>\n",
       "                        <th id=\"T_b66541b2_adc9_11ea_8b97_0242ac130202level0_row1\" class=\"row_heading level0 row1\" >es</th>\n",
       "                        <td id=\"T_b66541b2_adc9_11ea_8b97_0242ac130202row1_col0\" class=\"data row1 col0\" >0.970885</td>\n",
       "                        <td id=\"T_b66541b2_adc9_11ea_8b97_0242ac130202row1_col1\" class=\"data row1 col1\" >0.970885</td>\n",
       "            </tr>\n",
       "            <tr>\n",
       "                        <th id=\"T_b66541b2_adc9_11ea_8b97_0242ac130202level0_row2\" class=\"row_heading level0 row2\" >it</th>\n",
       "                        <td id=\"T_b66541b2_adc9_11ea_8b97_0242ac130202row2_col0\" class=\"data row2 col0\" >0.971570</td>\n",
       "                        <td id=\"T_b66541b2_adc9_11ea_8b97_0242ac130202row2_col1\" class=\"data row2 col1\" >0.971570</td>\n",
       "            </tr>\n",
       "            <tr>\n",
       "                        <th id=\"T_b66541b2_adc9_11ea_8b97_0242ac130202level0_row3\" class=\"row_heading level0 row3\" >tr</th>\n",
       "                        <td id=\"T_b66541b2_adc9_11ea_8b97_0242ac130202row3_col0\" class=\"data row3 col0\" >0.995169</td>\n",
       "                        <td id=\"T_b66541b2_adc9_11ea_8b97_0242ac130202row3_col1\" class=\"data row3 col1\" >0.995169</td>\n",
       "            </tr>\n",
       "    </tbody></table>"
      ],
      "text/plain": [
       "<pandas.io.formats.style.Styler at 0x7fed34e29850>"
      ]
     },
     "metadata": {},
     "output_type": "display_data"
    }
   ],
   "source": [
    "display(evaluate_model_single_fold_lang(valid_df, fold_n).style.applymap(color_map))\n",
    "# ML fine-tunned preds\n",
    "display(evaluate_model_single_fold_lang(valid_df, fold_n, pred_col='pred_ml').style.applymap(color_map))"
   ]
  },
  {
   "cell_type": "markdown",
   "execution_count": null,
   "metadata": {},
   "source": [
    "# Visualize predictions"
   ]
  },
  {
   "cell_type": "code",
   "execution_count": 12,
   "metadata": {
    "_kg_hide-input": true
   },
   "outputs": [
    {
     "name": "stdout",
     "output_type": "stream",
     "text": [
      "English validation set\n"
     ]
    },
    {
     "data": {
      "text/html": [
       "<div>\n",
       "<style scoped>\n",
       "    .dataframe tbody tr th:only-of-type {\n",
       "        vertical-align: middle;\n",
       "    }\n",
       "\n",
       "    .dataframe tbody tr th {\n",
       "        vertical-align: top;\n",
       "    }\n",
       "\n",
       "    .dataframe thead th {\n",
       "        text-align: right;\n",
       "    }\n",
       "</style>\n",
       "<table border=\"1\" class=\"dataframe\">\n",
       "  <thead>\n",
       "    <tr style=\"text-align: right;\">\n",
       "      <th></th>\n",
       "      <th>comment_text</th>\n",
       "      <th>toxic</th>\n",
       "    </tr>\n",
       "  </thead>\n",
       "  <tbody>\n",
       "    <tr>\n",
       "      <th>0</th>\n",
       "      <td>And you have something alien on your lips Chance. Geez dude give it up. Better yet why don't you ask the Krotch brot...</td>\n",
       "      <td>0.000000</td>\n",
       "    </tr>\n",
       "    <tr>\n",
       "      <th>1</th>\n",
       "      <td>no income tax for anyone that comes and works and leaves. no income tax for retirees that come and work and leave. n...</td>\n",
       "      <td>0.166667</td>\n",
       "    </tr>\n",
       "    <tr>\n",
       "      <th>2</th>\n",
       "      <td>Rubbish, Brandon. Nothing stopped Comey of the FBI of dumping the phony story about a new investigation in Hillary's...</td>\n",
       "      <td>0.833333</td>\n",
       "    </tr>\n",
       "    <tr>\n",
       "      <th>3</th>\n",
       "      <td>poster I have sent the e-mail. -Garrett</td>\n",
       "      <td>0.000000</td>\n",
       "    </tr>\n",
       "    <tr>\n",
       "      <th>4</th>\n",
       "      <td>== ECB exposure == I responded to a comment of yours here. Cheers.</td>\n",
       "      <td>0.000000</td>\n",
       "    </tr>\n",
       "    <tr>\n",
       "      <th>5</th>\n",
       "      <td>You said, Let's keep abortion safe. Did you mean safe for the mom, or safe for the baby? God forgives women (and men...</td>\n",
       "      <td>0.200000</td>\n",
       "    </tr>\n",
       "    <tr>\n",
       "      <th>6</th>\n",
       "      <td>I was responding to Gary (and others) and the letter writer. I believe Christians would be slow to act in this situa...</td>\n",
       "      <td>0.000000</td>\n",
       "    </tr>\n",
       "    <tr>\n",
       "      <th>7</th>\n",
       "      <td>Now you disagree with your own comment?</td>\n",
       "      <td>0.000000</td>\n",
       "    </tr>\n",
       "    <tr>\n",
       "      <th>8</th>\n",
       "      <td>Amarista definitely needs to go away. If for no other reason than the best poster on this site Northsider will see h...</td>\n",
       "      <td>0.000000</td>\n",
       "    </tr>\n",
       "    <tr>\n",
       "      <th>9</th>\n",
       "      <td>Corspefucking Art I used their offical website as help to gte al information right. Therefore, some sentences were l...</td>\n",
       "      <td>1.000000</td>\n",
       "    </tr>\n",
       "  </tbody>\n",
       "</table>\n",
       "</div>"
      ],
      "text/plain": [
       "                                                                                                              comment_text  \\\n",
       "0  And you have something alien on your lips Chance. Geez dude give it up. Better yet why don't you ask the Krotch brot...   \n",
       "1  no income tax for anyone that comes and works and leaves. no income tax for retirees that come and work and leave. n...   \n",
       "2  Rubbish, Brandon. Nothing stopped Comey of the FBI of dumping the phony story about a new investigation in Hillary's...   \n",
       "3                                                                                  poster I have sent the e-mail. -Garrett   \n",
       "4                                                       == ECB exposure == I responded to a comment of yours here. Cheers.   \n",
       "5  You said, Let's keep abortion safe. Did you mean safe for the mom, or safe for the baby? God forgives women (and men...   \n",
       "6  I was responding to Gary (and others) and the letter writer. I believe Christians would be slow to act in this situa...   \n",
       "7                                                                                  Now you disagree with your own comment?   \n",
       "8  Amarista definitely needs to go away. If for no other reason than the best poster on this site Northsider will see h...   \n",
       "9  Corspefucking Art I used their offical website as help to gte al information right. Therefore, some sentences were l...   \n",
       "\n",
       "      toxic  \n",
       "0  0.000000  \n",
       "1  0.166667  \n",
       "2  0.833333  \n",
       "3  0.000000  \n",
       "4  0.000000  \n",
       "5  0.200000  \n",
       "6  0.000000  \n",
       "7  0.000000  \n",
       "8  0.000000  \n",
       "9  1.000000  "
      ]
     },
     "metadata": {},
     "output_type": "display_data"
    },
    {
     "name": "stdout",
     "output_type": "stream",
     "text": [
      "Multilingual validation set\n"
     ]
    },
    {
     "data": {
      "text/html": [
       "<div>\n",
       "<style scoped>\n",
       "    .dataframe tbody tr th:only-of-type {\n",
       "        vertical-align: middle;\n",
       "    }\n",
       "\n",
       "    .dataframe tbody tr th {\n",
       "        vertical-align: top;\n",
       "    }\n",
       "\n",
       "    .dataframe thead th {\n",
       "        text-align: right;\n",
       "    }\n",
       "</style>\n",
       "<table border=\"1\" class=\"dataframe\">\n",
       "  <thead>\n",
       "    <tr style=\"text-align: right;\">\n",
       "      <th></th>\n",
       "      <th>comment_text</th>\n",
       "      <th>toxic</th>\n",
       "      <th>pred_1</th>\n",
       "      <th>pred_ml_1</th>\n",
       "    </tr>\n",
       "  </thead>\n",
       "  <tbody>\n",
       "    <tr>\n",
       "      <th>0</th>\n",
       "      <td>Este usuario ni siquiera llega al rango de    hereje   . Por lo tanto debería ser quemado en la barbacoa para purifi...</td>\n",
       "      <td>0</td>\n",
       "      <td>7.987642e-01</td>\n",
       "      <td>4.227350e-01</td>\n",
       "    </tr>\n",
       "    <tr>\n",
       "      <th>1</th>\n",
       "      <td>Il testo di questa voce pare esser scopiazzato direttamente da qui. Immagino possano esserci problemi di copyright, ...</td>\n",
       "      <td>0</td>\n",
       "      <td>5.998611e-04</td>\n",
       "      <td>1.869717e-02</td>\n",
       "    </tr>\n",
       "    <tr>\n",
       "      <th>2</th>\n",
       "      <td>Vale. Sólo expongo mi pasado. Todo tiempo pasado fue mejor, ni mucho menos, yo no quisiera retroceder 31 años a nive...</td>\n",
       "      <td>1</td>\n",
       "      <td>9.411096e-01</td>\n",
       "      <td>8.845893e-01</td>\n",
       "    </tr>\n",
       "    <tr>\n",
       "      <th>3</th>\n",
       "      <td>Bu maddenin alt başlığı olarak  uluslararası ilişkiler  ile konuyu sürdürmek ile ilgili tereddütlerim var.Önerim siy...</td>\n",
       "      <td>0</td>\n",
       "      <td>5.364418e-07</td>\n",
       "      <td>6.258488e-07</td>\n",
       "    </tr>\n",
       "    <tr>\n",
       "      <th>4</th>\n",
       "      <td>Belçika nın şehirlerinin yanında ilçe ve beldelerini yaparken sanırım Portekizi örnek alacaksın. Ben de uzak gelecek...</td>\n",
       "      <td>0</td>\n",
       "      <td>2.297163e-04</td>\n",
       "      <td>1.346767e-04</td>\n",
       "    </tr>\n",
       "    <tr>\n",
       "      <th>5</th>\n",
       "      <td>güzel, zaten kaynaklandırması zor subjektif kategoriler bunlar. bazı maddelerden çıkartmak, kiminden çıkartıp kimind...</td>\n",
       "      <td>0</td>\n",
       "      <td>5.936623e-05</td>\n",
       "      <td>1.400679e-03</td>\n",
       "    </tr>\n",
       "    <tr>\n",
       "      <th>6</th>\n",
       "      <td>No es mala idea. De hecho, yo estaba pensando descolgarme ya del reto mensual, pero esto vuelve a ilusionarme. El pr...</td>\n",
       "      <td>0</td>\n",
       "      <td>2.384186e-07</td>\n",
       "      <td>2.980232e-08</td>\n",
       "    </tr>\n",
       "    <tr>\n",
       "      <th>7</th>\n",
       "      <td>Kod hatalarını düzeltmişsiniz,elinize sağlık çok teşekkürler.Önceki sürümleri araştırdım.13 Haziran 2010 da Kullanıc...</td>\n",
       "      <td>0</td>\n",
       "      <td>1.117945e-03</td>\n",
       "      <td>3.050566e-04</td>\n",
       "    </tr>\n",
       "    <tr>\n",
       "      <th>8</th>\n",
       "      <td>Levent Abi nasılsın? Hayat nasıl gidiyor? Umarım her şey istediğin gibidir. Bu arada Janet Jackson maddesi seçkin ma...</td>\n",
       "      <td>0</td>\n",
       "      <td>1.644492e-04</td>\n",
       "      <td>5.921721e-05</td>\n",
       "    </tr>\n",
       "    <tr>\n",
       "      <th>9</th>\n",
       "      <td>Creo que es importante que podamos reconocer a gente como Victor Manuel Vucetich , quien es originario de Tampico y ...</td>\n",
       "      <td>0</td>\n",
       "      <td>6.133318e-05</td>\n",
       "      <td>1.463294e-05</td>\n",
       "    </tr>\n",
       "  </tbody>\n",
       "</table>\n",
       "</div>"
      ],
      "text/plain": [
       "                                                                                                              comment_text  \\\n",
       "0  Este usuario ni siquiera llega al rango de    hereje   . Por lo tanto debería ser quemado en la barbacoa para purifi...   \n",
       "1  Il testo di questa voce pare esser scopiazzato direttamente da qui. Immagino possano esserci problemi di copyright, ...   \n",
       "2  Vale. Sólo expongo mi pasado. Todo tiempo pasado fue mejor, ni mucho menos, yo no quisiera retroceder 31 años a nive...   \n",
       "3  Bu maddenin alt başlığı olarak  uluslararası ilişkiler  ile konuyu sürdürmek ile ilgili tereddütlerim var.Önerim siy...   \n",
       "4  Belçika nın şehirlerinin yanında ilçe ve beldelerini yaparken sanırım Portekizi örnek alacaksın. Ben de uzak gelecek...   \n",
       "5  güzel, zaten kaynaklandırması zor subjektif kategoriler bunlar. bazı maddelerden çıkartmak, kiminden çıkartıp kimind...   \n",
       "6  No es mala idea. De hecho, yo estaba pensando descolgarme ya del reto mensual, pero esto vuelve a ilusionarme. El pr...   \n",
       "7  Kod hatalarını düzeltmişsiniz,elinize sağlık çok teşekkürler.Önceki sürümleri araştırdım.13 Haziran 2010 da Kullanıc...   \n",
       "8  Levent Abi nasılsın? Hayat nasıl gidiyor? Umarım her şey istediğin gibidir. Bu arada Janet Jackson maddesi seçkin ma...   \n",
       "9  Creo que es importante que podamos reconocer a gente como Victor Manuel Vucetich , quien es originario de Tampico y ...   \n",
       "\n",
       "   toxic        pred_1     pred_ml_1  \n",
       "0      0  7.987642e-01  4.227350e-01  \n",
       "1      0  5.998611e-04  1.869717e-02  \n",
       "2      1  9.411096e-01  8.845893e-01  \n",
       "3      0  5.364418e-07  6.258488e-07  \n",
       "4      0  2.297163e-04  1.346767e-04  \n",
       "5      0  5.936623e-05  1.400679e-03  \n",
       "6      0  2.384186e-07  2.980232e-08  \n",
       "7      0  1.117945e-03  3.050566e-04  \n",
       "8      0  1.644492e-04  5.921721e-05  \n",
       "9      0  6.133318e-05  1.463294e-05  "
      ]
     },
     "metadata": {},
     "output_type": "display_data"
    }
   ],
   "source": [
    "pd.set_option('max_colwidth', 120)\n",
    "print('English validation set')\n",
    "display(k_fold[['comment_text', 'toxic'] + [c for c in k_fold.columns if c.startswith('pred')]].head(10))\n",
    "\n",
    "print('Multilingual validation set')\n",
    "display(valid_df[['comment_text', 'toxic'] + [c for c in valid_df.columns if c.startswith('pred')]].head(10))"
   ]
  },
  {
   "cell_type": "markdown",
   "execution_count": null,
   "metadata": {},
   "source": [
    "# Test set predictions"
   ]
  },
  {
   "cell_type": "code",
   "execution_count": 13,
   "metadata": {
    "_kg_hide-input": true
   },
   "outputs": [],
   "source": [
    "x_test = np.load(database_base_path + 'x_test.npy')\n",
    "test_preds = model.predict(get_test_dataset(x_test, config['BATCH_SIZE'], AUTO))"
   ]
  },
  {
   "cell_type": "code",
   "execution_count": 14,
   "metadata": {
    "_kg_hide-input": true
   },
   "outputs": [
    {
     "data": {
      "text/html": [
       "<div>\n",
       "<style scoped>\n",
       "    .dataframe tbody tr th:only-of-type {\n",
       "        vertical-align: middle;\n",
       "    }\n",
       "\n",
       "    .dataframe tbody tr th {\n",
       "        vertical-align: top;\n",
       "    }\n",
       "\n",
       "    .dataframe thead th {\n",
       "        text-align: right;\n",
       "    }\n",
       "</style>\n",
       "<table border=\"1\" class=\"dataframe\">\n",
       "  <thead>\n",
       "    <tr style=\"text-align: right;\">\n",
       "      <th></th>\n",
       "      <th>id</th>\n",
       "      <th>toxic</th>\n",
       "    </tr>\n",
       "  </thead>\n",
       "  <tbody>\n",
       "    <tr>\n",
       "      <th>count</th>\n",
       "      <td>63812.000000</td>\n",
       "      <td>63812.000000</td>\n",
       "    </tr>\n",
       "    <tr>\n",
       "      <th>mean</th>\n",
       "      <td>31905.500000</td>\n",
       "      <td>0.233312</td>\n",
       "    </tr>\n",
       "    <tr>\n",
       "      <th>std</th>\n",
       "      <td>18421.082026</td>\n",
       "      <td>0.345291</td>\n",
       "    </tr>\n",
       "    <tr>\n",
       "      <th>min</th>\n",
       "      <td>0.000000</td>\n",
       "      <td>0.000000</td>\n",
       "    </tr>\n",
       "    <tr>\n",
       "      <th>25%</th>\n",
       "      <td>15952.750000</td>\n",
       "      <td>0.000061</td>\n",
       "    </tr>\n",
       "    <tr>\n",
       "      <th>50%</th>\n",
       "      <td>31905.500000</td>\n",
       "      <td>0.004963</td>\n",
       "    </tr>\n",
       "    <tr>\n",
       "      <th>75%</th>\n",
       "      <td>47858.250000</td>\n",
       "      <td>0.415895</td>\n",
       "    </tr>\n",
       "    <tr>\n",
       "      <th>max</th>\n",
       "      <td>63811.000000</td>\n",
       "      <td>1.000000</td>\n",
       "    </tr>\n",
       "  </tbody>\n",
       "</table>\n",
       "</div>"
      ],
      "text/plain": [
       "                 id         toxic\n",
       "count  63812.000000  63812.000000\n",
       "mean   31905.500000      0.233312\n",
       "std    18421.082026      0.345291\n",
       "min        0.000000      0.000000\n",
       "25%    15952.750000      0.000061\n",
       "50%    31905.500000      0.004963\n",
       "75%    47858.250000      0.415895\n",
       "max    63811.000000      1.000000"
      ]
     },
     "metadata": {},
     "output_type": "display_data"
    },
    {
     "data": {
      "text/html": [
       "<div>\n",
       "<style scoped>\n",
       "    .dataframe tbody tr th:only-of-type {\n",
       "        vertical-align: middle;\n",
       "    }\n",
       "\n",
       "    .dataframe tbody tr th {\n",
       "        vertical-align: top;\n",
       "    }\n",
       "\n",
       "    .dataframe thead th {\n",
       "        text-align: right;\n",
       "    }\n",
       "</style>\n",
       "<table border=\"1\" class=\"dataframe\">\n",
       "  <thead>\n",
       "    <tr style=\"text-align: right;\">\n",
       "      <th></th>\n",
       "      <th>id</th>\n",
       "      <th>toxic</th>\n",
       "    </tr>\n",
       "  </thead>\n",
       "  <tbody>\n",
       "    <tr>\n",
       "      <th>0</th>\n",
       "      <td>0</td>\n",
       "      <td>0.000004</td>\n",
       "    </tr>\n",
       "    <tr>\n",
       "      <th>1</th>\n",
       "      <td>1</td>\n",
       "      <td>0.004421</td>\n",
       "    </tr>\n",
       "    <tr>\n",
       "      <th>2</th>\n",
       "      <td>2</td>\n",
       "      <td>0.471976</td>\n",
       "    </tr>\n",
       "    <tr>\n",
       "      <th>3</th>\n",
       "      <td>3</td>\n",
       "      <td>0.000261</td>\n",
       "    </tr>\n",
       "    <tr>\n",
       "      <th>4</th>\n",
       "      <td>4</td>\n",
       "      <td>0.000256</td>\n",
       "    </tr>\n",
       "    <tr>\n",
       "      <th>5</th>\n",
       "      <td>5</td>\n",
       "      <td>0.075792</td>\n",
       "    </tr>\n",
       "    <tr>\n",
       "      <th>6</th>\n",
       "      <td>6</td>\n",
       "      <td>0.000008</td>\n",
       "    </tr>\n",
       "    <tr>\n",
       "      <th>7</th>\n",
       "      <td>7</td>\n",
       "      <td>0.001040</td>\n",
       "    </tr>\n",
       "    <tr>\n",
       "      <th>8</th>\n",
       "      <td>8</td>\n",
       "      <td>0.051616</td>\n",
       "    </tr>\n",
       "    <tr>\n",
       "      <th>9</th>\n",
       "      <td>9</td>\n",
       "      <td>0.243091</td>\n",
       "    </tr>\n",
       "  </tbody>\n",
       "</table>\n",
       "</div>"
      ],
      "text/plain": [
       "   id     toxic\n",
       "0   0  0.000004\n",
       "1   1  0.004421\n",
       "2   2  0.471976\n",
       "3   3  0.000261\n",
       "4   4  0.000256\n",
       "5   5  0.075792\n",
       "6   6  0.000008\n",
       "7   7  0.001040\n",
       "8   8  0.051616\n",
       "9   9  0.243091"
      ]
     },
     "metadata": {},
     "output_type": "display_data"
    }
   ],
   "source": [
    "submission = pd.read_csv('/kaggle/input/jigsaw-multilingual-toxic-comment-classification/sample_submission.csv')\n",
    "submission['toxic'] = test_preds\n",
    "submission.to_csv('submission.csv', index=False)\n",
    "\n",
    "display(submission.describe())\n",
    "display(submission.head(10))"
   ]
  }
 ],
 "metadata": {
  "kernelspec": {
   "display_name": "Python 3",
   "language": "python",
   "name": "python3"
  },
  "language_info": {
   "codemirror_mode": {
    "name": "ipython",
    "version": 3
   },
   "file_extension": ".py",
   "mimetype": "text/x-python",
   "name": "python",
   "nbconvert_exporter": "python",
   "pygments_lexer": "ipython3",
   "version": "3.7.6"
  }
 },
 "nbformat": 4,
 "nbformat_minor": 4
}
