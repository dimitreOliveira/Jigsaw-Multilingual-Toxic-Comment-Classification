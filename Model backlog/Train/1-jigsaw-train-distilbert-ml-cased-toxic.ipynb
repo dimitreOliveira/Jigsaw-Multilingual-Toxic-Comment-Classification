{
 "cells": [
  {
   "cell_type": "markdown",
   "metadata": {},
   "source": [
    "## Dependencies"
   ]
  },
  {
   "cell_type": "code",
   "execution_count": 1,
   "metadata": {
    "_kg_hide-input": true
   },
   "outputs": [],
   "source": [
    "import os, time, warnings\n",
    "import numpy as np\n",
    "import pandas as pd\n",
    "import seaborn as sns\n",
    "from matplotlib import pyplot as plt\n",
    "from transformers import TFDistilBertModel\n",
    "from tokenizers import BertWordPieceTokenizer\n",
    "import tensorflow as tf\n",
    "from tensorflow.keras.models import Model\n",
    "from tensorflow.keras import optimizers, metrics, losses\n",
    "from tensorflow.keras.callbacks import LearningRateScheduler\n",
    "from tensorflow.keras.layers import Dense, Input, Dropout, GlobalAveragePooling1D\n",
    "from sklearn.metrics import confusion_matrix, roc_auc_score, classification_report\n",
    "\n",
    "def seed_everything(seed=0):\n",
    "    np.random.seed(seed)\n",
    "    tf.random.set_seed(seed)\n",
    "    os.environ['PYTHONHASHSEED'] = str(seed)\n",
    "    os.environ['TF_DETERMINISTIC_OPS'] = '1'\n",
    "\n",
    "SEED = 0\n",
    "seed_everything(SEED)\n",
    "warnings.filterwarnings(\"ignore\")"
   ]
  },
  {
   "cell_type": "code",
   "execution_count": 2,
   "metadata": {
    "_kg_hide-input": true
   },
   "outputs": [],
   "source": [
    "# Auxiliary functions\n",
    "def plot_metrics(history, metric_list):\n",
    "    fig, axes = plt.subplots(len(metric_list), 1, sharex='col', figsize=(20, 18))\n",
    "    axes = axes.flatten()\n",
    "    \n",
    "    for index, metric in enumerate(metric_list):\n",
    "        axes[index].plot(history[metric], label='Train %s' % metric)\n",
    "        axes[index].plot(history['val_%s' % metric], label='Validation %s' % metric)\n",
    "        axes[index].legend(loc='best', fontsize=16)\n",
    "        axes[index].set_title(metric)\n",
    "\n",
    "    plt.xlabel('Epochs', fontsize=16)\n",
    "    sns.despine()\n",
    "    plt.show()\n",
    "    \n",
    "def plot_confusion_matrix(y_train, train_pred, y_valid, valid_pred, labels=[0, 1]):\n",
    "    fig, (ax1, ax2) = plt.subplots(1, 2, figsize=(20, 8))\n",
    "    train_cnf_matrix = confusion_matrix(y_train, train_pred)\n",
    "    validation_cnf_matrix = confusion_matrix(y_valid, valid_pred)\n",
    "\n",
    "    train_cnf_matrix_norm = train_cnf_matrix.astype('float') / train_cnf_matrix.sum(axis=1)[:, np.newaxis]\n",
    "    validation_cnf_matrix_norm = validation_cnf_matrix.astype('float') / validation_cnf_matrix.sum(axis=1)[:, np.newaxis]\n",
    "\n",
    "    train_df_cm = pd.DataFrame(train_cnf_matrix_norm, index=labels, columns=labels)\n",
    "    validation_df_cm = pd.DataFrame(validation_cnf_matrix_norm, index=labels, columns=labels)\n",
    "\n",
    "    sns.heatmap(train_df_cm, annot=True, fmt='.2f', cmap=\"Blues\",ax=ax1).set_title('Train')\n",
    "    sns.heatmap(validation_df_cm, annot=True, fmt='.2f', cmap=sns.cubehelix_palette(8),ax=ax2).set_title('Validation')\n",
    "    plt.show()\n",
    "\n",
    "# Datasets\n",
    "def get_training_dataset():\n",
    "    dataset = tf.data.Dataset.from_tensor_slices((x_train, y_train))\n",
    "    dataset = dataset.repeat()\n",
    "    dataset = dataset.shuffle(2048)\n",
    "    dataset = dataset.batch(BATCH_SIZE, drop_remainder=True)\n",
    "    dataset = dataset.prefetch(AUTO)\n",
    "    return dataset\n",
    "\n",
    "def get_validation_dataset(repeated=False):\n",
    "    dataset = tf.data.Dataset.from_tensor_slices((x_valid, y_valid))\n",
    "    if repeated:\n",
    "        dataset = dataset.repeat()\n",
    "        dataset = dataset.shuffle(2048)\n",
    "    dataset = dataset.batch(BATCH_SIZE, drop_remainder=True)\n",
    "    dataset = dataset.cache()\n",
    "    dataset = dataset.prefetch(AUTO)\n",
    "    return dataset\n",
    "\n",
    "def get_test_dataset():\n",
    "    dataset = tf.data.Dataset.from_tensor_slices(x_test)\n",
    "    dataset = dataset.batch(BATCH_SIZE)\n",
    "    dataset = dataset.prefetch(AUTO)\n",
    "    return dataset"
   ]
  },
  {
   "cell_type": "markdown",
   "metadata": {},
   "source": [
    "## TPU configuration"
   ]
  },
  {
   "cell_type": "code",
   "execution_count": 3,
   "metadata": {
    "_cell_guid": "79c7e3d0-c299-4dcb-8224-4455121ee9b0",
    "_uuid": "d629ff2d2480ee46fbb7e2d37f6b5fab8052498a"
   },
   "outputs": [
    {
     "name": "stdout",
     "output_type": "stream",
     "text": [
      "Running on TPU  grpc://10.0.0.2:8470\n",
      "REPLICAS:  8\n"
     ]
    }
   ],
   "source": [
    "try:\n",
    "    tpu = tf.distribute.cluster_resolver.TPUClusterResolver()\n",
    "    print('Running on TPU ', tpu.master())\n",
    "except ValueError:\n",
    "    tpu = None\n",
    "\n",
    "if tpu:\n",
    "    tf.config.experimental_connect_to_cluster(tpu)\n",
    "    tf.tpu.experimental.initialize_tpu_system(tpu)\n",
    "    strategy = tf.distribute.experimental.TPUStrategy(tpu)\n",
    "else:\n",
    "    strategy = tf.distribute.get_strategy()\n",
    "\n",
    "print(\"REPLICAS: \", strategy.num_replicas_in_sync)"
   ]
  },
  {
   "cell_type": "markdown",
   "metadata": {},
   "source": [
    "# Load data"
   ]
  },
  {
   "cell_type": "code",
   "execution_count": 4,
   "metadata": {
    "_kg_hide-input": true
   },
   "outputs": [
    {
     "name": "stdout",
     "output_type": "stream",
     "text": [
      "Train samples 223549\n"
     ]
    },
    {
     "data": {
      "text/html": [
       "<div>\n",
       "<style scoped>\n",
       "    .dataframe tbody tr th:only-of-type {\n",
       "        vertical-align: middle;\n",
       "    }\n",
       "\n",
       "    .dataframe tbody tr th {\n",
       "        vertical-align: top;\n",
       "    }\n",
       "\n",
       "    .dataframe thead th {\n",
       "        text-align: right;\n",
       "    }\n",
       "</style>\n",
       "<table border=\"1\" class=\"dataframe\">\n",
       "  <thead>\n",
       "    <tr style=\"text-align: right;\">\n",
       "      <th></th>\n",
       "      <th>comment_text</th>\n",
       "      <th>toxic</th>\n",
       "    </tr>\n",
       "  </thead>\n",
       "  <tbody>\n",
       "    <tr>\n",
       "      <th>0</th>\n",
       "      <td>Explanation\\nWhy the edits made under my usern...</td>\n",
       "      <td>0</td>\n",
       "    </tr>\n",
       "    <tr>\n",
       "      <th>1</th>\n",
       "      <td>D'aww! He matches this background colour I'm s...</td>\n",
       "      <td>0</td>\n",
       "    </tr>\n",
       "    <tr>\n",
       "      <th>2</th>\n",
       "      <td>Hey man, I'm really not trying to edit war. It...</td>\n",
       "      <td>0</td>\n",
       "    </tr>\n",
       "    <tr>\n",
       "      <th>3</th>\n",
       "      <td>\"\\nMore\\nI can't make any real suggestions on ...</td>\n",
       "      <td>0</td>\n",
       "    </tr>\n",
       "    <tr>\n",
       "      <th>4</th>\n",
       "      <td>You, sir, are my hero. Any chance you remember...</td>\n",
       "      <td>0</td>\n",
       "    </tr>\n",
       "  </tbody>\n",
       "</table>\n",
       "</div>"
      ],
      "text/plain": [
       "                                        comment_text  toxic\n",
       "0  Explanation\\nWhy the edits made under my usern...      0\n",
       "1  D'aww! He matches this background colour I'm s...      0\n",
       "2  Hey man, I'm really not trying to edit war. It...      0\n",
       "3  \"\\nMore\\nI can't make any real suggestions on ...      0\n",
       "4  You, sir, are my hero. Any chance you remember...      0"
      ]
     },
     "metadata": {},
     "output_type": "display_data"
    },
    {
     "name": "stdout",
     "output_type": "stream",
     "text": [
      "Validation samples 8000\n"
     ]
    },
    {
     "data": {
      "text/html": [
       "<div>\n",
       "<style scoped>\n",
       "    .dataframe tbody tr th:only-of-type {\n",
       "        vertical-align: middle;\n",
       "    }\n",
       "\n",
       "    .dataframe tbody tr th {\n",
       "        vertical-align: top;\n",
       "    }\n",
       "\n",
       "    .dataframe thead th {\n",
       "        text-align: right;\n",
       "    }\n",
       "</style>\n",
       "<table border=\"1\" class=\"dataframe\">\n",
       "  <thead>\n",
       "    <tr style=\"text-align: right;\">\n",
       "      <th></th>\n",
       "      <th>comment_text</th>\n",
       "      <th>toxic</th>\n",
       "    </tr>\n",
       "  </thead>\n",
       "  <tbody>\n",
       "    <tr>\n",
       "      <th>0</th>\n",
       "      <td>Este usuario ni siquiera llega al rango de    ...</td>\n",
       "      <td>0</td>\n",
       "    </tr>\n",
       "    <tr>\n",
       "      <th>1</th>\n",
       "      <td>Il testo di questa voce pare esser scopiazzato...</td>\n",
       "      <td>0</td>\n",
       "    </tr>\n",
       "    <tr>\n",
       "      <th>2</th>\n",
       "      <td>Vale. Sólo expongo mi pasado. Todo tiempo pasa...</td>\n",
       "      <td>1</td>\n",
       "    </tr>\n",
       "    <tr>\n",
       "      <th>3</th>\n",
       "      <td>Bu maddenin alt başlığı olarak  uluslararası i...</td>\n",
       "      <td>0</td>\n",
       "    </tr>\n",
       "    <tr>\n",
       "      <th>4</th>\n",
       "      <td>Belçika nın şehirlerinin yanında ilçe ve belde...</td>\n",
       "      <td>0</td>\n",
       "    </tr>\n",
       "  </tbody>\n",
       "</table>\n",
       "</div>"
      ],
      "text/plain": [
       "                                        comment_text  toxic\n",
       "0  Este usuario ni siquiera llega al rango de    ...      0\n",
       "1  Il testo di questa voce pare esser scopiazzato...      0\n",
       "2  Vale. Sólo expongo mi pasado. Todo tiempo pasa...      1\n",
       "3  Bu maddenin alt başlığı olarak  uluslararası i...      0\n",
       "4  Belçika nın şehirlerinin yanında ilçe ve belde...      0"
      ]
     },
     "metadata": {},
     "output_type": "display_data"
    }
   ],
   "source": [
    "train = pd.read_csv(\"/kaggle/input/jigsaw-multilingual-toxic-comment-classification/jigsaw-toxic-comment-train.csv\", \n",
    "                    usecols=['comment_text', 'toxic'])\n",
    "valid = pd.read_csv('/kaggle/input/jigsaw-multilingual-toxic-comment-classification/validation.csv', \n",
    "                    usecols=['comment_text', 'toxic'])\n",
    "test = pd.read_csv('/kaggle/input/jigsaw-multilingual-toxic-comment-classification/test.csv', \n",
    "                   usecols=['content'])\n",
    "\n",
    "print('Train samples %d' % len(train))\n",
    "display(train.head())\n",
    "print('Validation samples %d' % len(valid))\n",
    "display(valid.head())"
   ]
  },
  {
   "cell_type": "markdown",
   "metadata": {},
   "source": [
    "# Model parameters"
   ]
  },
  {
   "cell_type": "code",
   "execution_count": 5,
   "metadata": {},
   "outputs": [],
   "source": [
    "MAX_LEN = 512\n",
    "BATCH_SIZE = 64 * strategy.num_replicas_in_sync\n",
    "EPOCHS = 20\n",
    "LEARNING_RATE = 1e-5 # * strategy.num_replicas_in_sync\n",
    "ES_PATIENCE = 6\n",
    "TRAIN_STEPS = len(train) // BATCH_SIZE\n",
    "VALIDATION_STEPS = len(valid) // BATCH_SIZE\n",
    "\n",
    "base_model_path = '/kaggle/input/diltilbert-base-ml-cased-huggingface/distilbert-base-multilingual-cased-tf_model.h5'\n",
    "config_path = '/kaggle/input/diltilbert-base-ml-cased-huggingface/distilbert-base-multilingual-cased-config.json'\n",
    "vocab_path = '/kaggle/input/diltilbert-base-ml-cased-huggingface/bert-base-multilingual-cased-vocab.txt'\n",
    "model_path = 'model.h5'"
   ]
  },
  {
   "cell_type": "markdown",
   "metadata": {},
   "source": [
    "## Tokenizer"
   ]
  },
  {
   "cell_type": "code",
   "execution_count": 6,
   "metadata": {},
   "outputs": [],
   "source": [
    "tokenizer = BertWordPieceTokenizer(vocab_path, lowercase=False)\n",
    "tokenizer.enable_truncation(max_length=MAX_LEN)\n",
    "tokenizer.enable_padding(max_length=MAX_LEN)"
   ]
  },
  {
   "cell_type": "markdown",
   "metadata": {},
   "source": [
    "## Build TF datasets"
   ]
  },
  {
   "cell_type": "code",
   "execution_count": 7,
   "metadata": {},
   "outputs": [],
   "source": [
    "x_train = [x.ids for x in tokenizer.encode_batch(train['comment_text'].apply(lambda x : x).tolist())]\n",
    "x_valid = [x.ids for x in tokenizer.encode_batch(valid['comment_text'].apply(lambda x : x).tolist())]\n",
    "x_test = [x.ids for x in tokenizer.encode_batch(test['content'].apply(lambda x : x).tolist())]\n",
    "\n",
    "#  Labels needs to be reshaped\n",
    "y_train = train['toxic'].values.reshape(len(x_train), 1)\n",
    "y_valid = valid['toxic'].values.reshape(len(x_valid), 1)\n",
    "\n",
    "AUTO = tf.data.experimental.AUTOTUNE\n",
    "\n",
    "# distribute the datset according to the strategy\n",
    "train_dist_ds = strategy.experimental_distribute_dataset(get_training_dataset())\n",
    "# Hitting End Of Dataset exceptions is a problem in this setup. Using a repeated validation set instead.\n",
    "# This will introduce a slight inaccuracy because the validation dataset now has some repeated elements.\n",
    "valid_dist_ds = strategy.experimental_distribute_dataset(get_validation_dataset(repeated=True))\n",
    "\n",
    "train_data_iter = iter(train_dist_ds) # the training data iterator is repeated and it is not reset\n",
    "                                      # for each validation run (same as model.fit)\n",
    "valid_data_iter = iter(valid_dist_ds) # the validation data iterator is repeated and it is not reset\n",
    "                                      # for each validation run (different from model.fit whre the  \n",
    "                                      # recommendation is to use a non-repeating validation dataset)"
   ]
  },
  {
   "cell_type": "markdown",
   "metadata": {},
   "source": [
    "# Learning rate schedule"
   ]
  },
  {
   "cell_type": "code",
   "execution_count": 8,
   "metadata": {
    "_kg_hide-input": true
   },
   "outputs": [
    {
     "name": "stdout",
     "output_type": "stream",
     "text": [
      "Learning rate schedule: 1e-09 to 1e-05 to 1.4e-06\n"
     ]
    },
    {
     "data": {
      "image/png": "[encoded data removed]",
      "text/plain": [
       "<Figure size 1440x576 with 1 Axes>"
      ]
     },
     "metadata": {
      "needs_background": "light"
     },
     "output_type": "display_data"
    }
   ],
   "source": [
    "LR_START = 1e-9\n",
    "LR_MIN = 1e-6\n",
    "LR_MAX = LEARNING_RATE\n",
    "LR_RAMPUP_EPOCHS = 5\n",
    "LR_SUSTAIN_EPOCHS = 0\n",
    "LR_EXP_DECAY = .8\n",
    "\n",
    "@tf.function\n",
    "def lrfn(epoch):\n",
    "    if epoch < LR_RAMPUP_EPOCHS:\n",
    "        lr = (LR_MAX - LR_START) / LR_RAMPUP_EPOCHS * epoch + LR_START\n",
    "    elif epoch < LR_RAMPUP_EPOCHS + LR_SUSTAIN_EPOCHS:\n",
    "        lr = LR_MAX\n",
    "    else:\n",
    "        lr = (LR_MAX - LR_MIN) * LR_EXP_DECAY**(epoch - LR_RAMPUP_EPOCHS - LR_SUSTAIN_EPOCHS) + LR_MIN\n",
    "    return lr\n",
    "    \n",
    "rng = [i for i in range(EPOCHS)]\n",
    "y = [lrfn(x) for x in rng]\n",
    "\n",
    "fig, ax = plt.subplots(figsize=(20, 8))\n",
    "plt.plot(rng, y)\n",
    "print(\"Learning rate schedule: {:.3g} to {:.3g} to {:.3g}\".format(y[0], max(y), y[-1]))"
   ]
  },
  {
   "cell_type": "markdown",
   "metadata": {},
   "source": [
    "# Model"
   ]
  },
  {
   "cell_type": "code",
   "execution_count": 9,
   "metadata": {},
   "outputs": [],
   "source": [
    "def model_fn():\n",
    "    input_word_ids = Input(shape=(MAX_LEN,), dtype=tf.int32, name='input_word_ids')\n",
    "    base_model = TFDistilBertModel.from_pretrained(base_model_path, config=config_path)\n",
    "    sequence_output = base_model(input_word_ids)[0]\n",
    "    \n",
    "    x = GlobalAveragePooling1D()(sequence_output)\n",
    "    x = Dropout(0.25)(x)\n",
    "    output = Dense(1, activation='sigmoid', name='output')(x)\n",
    "    \n",
    "    model = Model(inputs=input_word_ids, outputs=output)\n",
    "    \n",
    "    return model"
   ]
  },
  {
   "cell_type": "markdown",
   "metadata": {},
   "source": [
    "### Step functions"
   ]
  },
  {
   "cell_type": "code",
   "execution_count": 10,
   "metadata": {},
   "outputs": [],
   "source": [
    "@tf.function\n",
    "def train_step(data_iter):\n",
    "    def train_step_fn(images, labels):\n",
    "        with tf.GradientTape() as tape:\n",
    "            probabilities = model(images, training=True)\n",
    "            loss = loss_fn(labels, probabilities)\n",
    "        grads = tape.gradient(loss, model.trainable_variables)\n",
    "        optimizer.apply_gradients(zip(grads, model.trainable_variables))\n",
    "        train_accuracy.update_state(labels, probabilities)\n",
    "        train_auc.update_state(labels, probabilities)\n",
    "        train_loss.update_state(loss)\n",
    "    for _ in tf.range(TRAIN_STEPS):\n",
    "        strategy.experimental_run_v2(train_step_fn, next(data_iter))\n",
    "\n",
    "@tf.function\n",
    "def valid_step(data_iter):\n",
    "    def valid_step_fn(images, labels):\n",
    "        probabilities = model(images, training=False)\n",
    "        loss = loss_fn(labels, probabilities)\n",
    "        valid_accuracy.update_state(labels, probabilities)\n",
    "        valid_auc.update_state(labels, probabilities)\n",
    "        valid_loss.update_state(loss)\n",
    "    for _ in tf.range(VALIDATION_STEPS):\n",
    "        strategy.experimental_run_v2(valid_step_fn, next(data_iter))"
   ]
  },
  {
   "cell_type": "code",
   "execution_count": 11,
   "metadata": {},
   "outputs": [],
   "source": [
    "with strategy.scope():\n",
    "    model = model_fn()\n",
    "\n",
    "    # Instiate optimizer with learning rate schedule\n",
    "    class LRSchedule(optimizers.schedules.LearningRateSchedule):\n",
    "        def __call__(self, step):\n",
    "            return lrfn(epoch=step//TRAIN_STEPS)\n",
    "    optimizer = optimizers.Adam(learning_rate=LRSchedule())\n",
    "\n",
    "    train_accuracy = metrics.BinaryAccuracy()\n",
    "    train_auc = metrics.AUC()\n",
    "    train_loss = metrics.Sum()\n",
    "    valid_accuracy = metrics.BinaryAccuracy()\n",
    "    valid_auc = metrics.AUC()\n",
    "    valid_loss = metrics.Sum()\n",
    "\n",
    "    loss_fn = losses.binary_crossentropy"
   ]
  },
  {
   "cell_type": "markdown",
   "metadata": {},
   "source": [
    "# Optimized training loop"
   ]
  },
  {
   "cell_type": "code",
   "execution_count": 12,
   "metadata": {},
   "outputs": [
    {
     "name": "stdout",
     "output_type": "stream",
     "text": [
      "Train for 436 steps, validate for 15 steps\n",
      "\n",
      "EPOCH 1/20\n",
      "time: 299.2s loss: 0.5330 auc: 0.4697 accuracy: 0.8438 val_loss: 0.5439 val_auc: 0.4697 val_accuracy: 0.8327\n",
      "LearningRate: 1e-09\n",
      "Saved model weights at \"model.h5\"\n",
      "\n",
      "EPOCH 2/20\n",
      "time: 242.1s loss: 0.2722 auc: 0.7543 accuracy: 0.9088 val_loss: 0.4382 val_auc: 0.6833 val_accuracy: 0.8230\n",
      "LearningRate: 2.001e-06\n",
      "Saved model weights at \"model.h5\"\n",
      "\n",
      "EPOCH 3/20\n",
      "time: 242.8s loss: 0.1617 auc: 0.9349 accuracy: 0.9392 val_loss: 0.4537 val_auc: 0.7599 val_accuracy: 0.8473\n",
      "LearningRate: 4.001e-06\n",
      "\n",
      "EPOCH 4/20\n",
      "time: 239.7s loss: 0.1254 auc: 0.9637 accuracy: 0.9505 val_loss: 0.4954 val_auc: 0.7911 val_accuracy: 0.8443\n",
      "LearningRate: 6e-06\n",
      "\n",
      "EPOCH 5/20\n",
      "time: 239.7s loss: 0.1088 auc: 0.9737 accuracy: 0.9565 val_loss: 0.5310 val_auc: 0.7868 val_accuracy: 0.8508\n",
      "LearningRate: 8e-06\n",
      "\n",
      "EPOCH 6/20\n",
      "time: 239.7s loss: 0.1000 auc: 0.9782 accuracy: 0.9591 val_loss: 0.6456 val_auc: 0.7532 val_accuracy: 0.8484\n",
      "LearningRate: 1e-05\n",
      "\n",
      "EPOCH 7/20\n",
      "time: 239.7s loss: 0.0905 auc: 0.9825 accuracy: 0.9627 val_loss: 0.6304 val_auc: 0.7613 val_accuracy: 0.8466\n",
      "LearningRate: 8.2e-06\n",
      "\n",
      "EPOCH 8/20\n",
      "time: 239.7s loss: 0.0855 auc: 0.9846 accuracy: 0.9647 val_loss: 0.7979 val_auc: 0.6992 val_accuracy: 0.8469\n",
      "LearningRate: 6.76e-06\n",
      "\n",
      "EPOCH 9/20\n",
      "time: 239.8s loss: 0.0809 auc: 0.9863 accuracy: 0.9663 val_loss: 0.7964 val_auc: 0.7049 val_accuracy: 0.8474\n",
      "LearningRate: 5.608e-06\n",
      "Epoch 00009: early stopping\n"
     ]
    }
   ],
   "source": [
    "step = 0\n",
    "epoch = 0\n",
    "epoch_steps = 0\n",
    "epoch_start_time = time.time()\n",
    "history = {'loss': [], 'val_loss': [], 'auc': [], 'val_auc': [], \n",
    "           'accuracy': [], 'val_accuracy': []}\n",
    "patience_cnt = 0\n",
    "best_val = float(\"inf\")\n",
    "\n",
    "### Train model\n",
    "print('Train for %d steps, validate for %d steps' % (TRAIN_STEPS, VALIDATION_STEPS))\n",
    "while True:\n",
    "    # run training step\n",
    "    train_step(train_data_iter)\n",
    "    epoch_steps += TRAIN_STEPS\n",
    "    step += TRAIN_STEPS\n",
    "\n",
    "    # validation run at the end of each epoch\n",
    "    if (step // TRAIN_STEPS) > epoch:\n",
    "        # validation run\n",
    "        valid_epoch_steps = 0\n",
    "        valid_step(valid_data_iter)\n",
    "        valid_epoch_steps += VALIDATION_STEPS\n",
    "\n",
    "        # compute metrics\n",
    "        history['accuracy'].append(train_accuracy.result().numpy())\n",
    "        history['auc'].append(train_auc.result().numpy())\n",
    "        history['loss'].append(train_loss.result().numpy() / (BATCH_SIZE*epoch_steps))\n",
    "        history['val_accuracy'].append(valid_accuracy.result().numpy())\n",
    "        history['val_auc'].append(valid_auc.result().numpy())\n",
    "        history['val_loss'].append(valid_loss.result().numpy() / (BATCH_SIZE*valid_epoch_steps))\n",
    "\n",
    "        # report metrics\n",
    "        epoch_time = time.time() - epoch_start_time\n",
    "        print('\\nEPOCH {:d}/{:d}'.format(epoch+1, EPOCHS))\n",
    "        print('time: {:0.1f}s'.format(epoch_time),\n",
    "              'loss: {:0.4f}'.format(history['loss'][-1]),\n",
    "              'auc: {:0.4f}'.format(history['auc'][-1]),\n",
    "              'accuracy: {:0.4f}'.format(history['accuracy'][-1]),\n",
    "              'val_loss: {:0.4f}'.format(history['val_loss'][-1]),\n",
    "              'val_auc: {:0.4f}'.format(history['val_auc'][-1]),\n",
    "              'val_accuracy: {:0.4f}'.format(history['val_accuracy'][-1])\n",
    "             )\n",
    "        print('LearningRate: {:0.4g}'.format(lrfn(epoch)))\n",
    "\n",
    "        # set up next epoch\n",
    "        epoch = step // TRAIN_STEPS\n",
    "        epoch_steps = 0\n",
    "        epoch_start_time = time.time()\n",
    "        train_accuracy.reset_states()\n",
    "        train_auc.reset_states()\n",
    "        train_loss.reset_states()\n",
    "        valid_accuracy.reset_states()\n",
    "        valid_auc.reset_states()\n",
    "        valid_loss.reset_states()\n",
    "        if epoch >= EPOCHS:\n",
    "            model.save_weights(model_path)\n",
    "            break\n",
    "\n",
    "        # Early stopping monitor\n",
    "        if history['val_loss'][-1] <= best_val:\n",
    "            best_val = history['val_loss'][-1]\n",
    "            model.save_weights(model_path)\n",
    "            print('Saved model weights at \"%s\"' % model_path)\n",
    "        else:\n",
    "            patience_cnt += 1\n",
    "        if patience_cnt > ES_PATIENCE:\n",
    "            print('Epoch %05d: early stopping' % epoch)\n",
    "            break"
   ]
  },
  {
   "cell_type": "markdown",
   "metadata": {},
   "source": [
    "## Model loss graph"
   ]
  },
  {
   "cell_type": "code",
   "execution_count": 13,
   "metadata": {
    "_kg_hide-input": true
   },
   "outputs": [
    {
     "data": {
      "image/png": "[encoded data removed]",
      "text/plain": [
       "<Figure size 1440x1296 with 3 Axes>"
      ]
     },
     "metadata": {},
     "output_type": "display_data"
    }
   ],
   "source": [
    "sns.set(style=\"whitegrid\")\n",
    "plot_metrics(history, metric_list=['loss', 'accuracy', 'auc'])"
   ]
  },
  {
   "cell_type": "markdown",
   "metadata": {},
   "source": [
    "# Model evaluation"
   ]
  },
  {
   "cell_type": "code",
   "execution_count": 14,
   "metadata": {
    "_kg_hide-input": true
   },
   "outputs": [
    {
     "name": "stdout",
     "output_type": "stream",
     "text": [
      "Train set ROC AUC 0.5025\n",
      "              precision    recall  f1-score   support\n",
      "\n",
      "           0       0.90      0.90      0.90    201868\n",
      "           1       0.10      0.10      0.10     21364\n",
      "\n",
      "    accuracy                           0.83    223232\n",
      "   macro avg       0.50      0.50      0.50    223232\n",
      "weighted avg       0.83      0.83      0.83    223232\n",
      "\n",
      "Validation set ROC AUC 0.6930\n",
      "              precision    recall  f1-score   support\n",
      "\n",
      "           0       0.87      0.92      0.90      6494\n",
      "           1       0.37      0.25      0.30      1186\n",
      "\n",
      "    accuracy                           0.82      7680\n",
      "   macro avg       0.62      0.59      0.60      7680\n",
      "weighted avg       0.79      0.82      0.80      7680\n",
      "\n"
     ]
    }
   ],
   "source": [
    "model.load_weights(model_path)\n",
    "\n",
    "train_pred = model.predict(get_training_dataset(), steps=TRAIN_STEPS)\n",
    "valid_pred = model.predict(get_validation_dataset())\n",
    "train = train[:len(train_pred)]\n",
    "valid = valid[:len(valid_pred)]\n",
    "train['pred'] = train_pred\n",
    "valid['pred'] = valid_pred\n",
    "\n",
    "print('Train set ROC AUC %.4f' % roc_auc_score(train['toxic'], train['pred']))\n",
    "print(classification_report(train['toxic'],  np.round(train['pred'])))\n",
    "print('Validation set ROC AUC %.4f' % roc_auc_score(valid['toxic'], valid['pred']))\n",
    "print(classification_report(valid['toxic'],  np.round(valid['pred'])))"
   ]
  },
  {
   "cell_type": "markdown",
   "metadata": {},
   "source": [
    "# Confusion matrix"
   ]
  },
  {
   "cell_type": "code",
   "execution_count": 15,
   "metadata": {
    "_kg_hide-input": true
   },
   "outputs": [
    {
     "data": {
      "image/png": "[encoded data removed]",
      "text/plain": [
       "<Figure size 1440x576 with 4 Axes>"
      ]
     },
     "metadata": {},
     "output_type": "display_data"
    }
   ],
   "source": [
    "plot_confusion_matrix(train['toxic'], np.round(train['pred']), \n",
    "                      valid['toxic'], np.round(valid['pred']))"
   ]
  },
  {
   "cell_type": "markdown",
   "metadata": {},
   "source": [
    "# Visualize predictions"
   ]
  },
  {
   "cell_type": "code",
   "execution_count": 16,
   "metadata": {
    "_kg_hide-input": true
   },
   "outputs": [
    {
     "name": "stdout",
     "output_type": "stream",
     "text": [
      "Train set\n"
     ]
    },
    {
     "data": {
      "text/html": [
       "<div>\n",
       "<style scoped>\n",
       "    .dataframe tbody tr th:only-of-type {\n",
       "        vertical-align: middle;\n",
       "    }\n",
       "\n",
       "    .dataframe tbody tr th {\n",
       "        vertical-align: top;\n",
       "    }\n",
       "\n",
       "    .dataframe thead th {\n",
       "        text-align: right;\n",
       "    }\n",
       "</style>\n",
       "<table border=\"1\" class=\"dataframe\">\n",
       "  <thead>\n",
       "    <tr style=\"text-align: right;\">\n",
       "      <th></th>\n",
       "      <th>comment_text</th>\n",
       "      <th>toxic</th>\n",
       "      <th>pred</th>\n",
       "    </tr>\n",
       "  </thead>\n",
       "  <tbody>\n",
       "    <tr>\n",
       "      <th>0</th>\n",
       "      <td>Explanation\\nWhy the edits made under my usern...</td>\n",
       "      <td>0</td>\n",
       "      <td>0.166990</td>\n",
       "    </tr>\n",
       "    <tr>\n",
       "      <th>1</th>\n",
       "      <td>D'aww! He matches this background colour I'm s...</td>\n",
       "      <td>0</td>\n",
       "      <td>0.024660</td>\n",
       "    </tr>\n",
       "    <tr>\n",
       "      <th>2</th>\n",
       "      <td>Hey man, I'm really not trying to edit war. It...</td>\n",
       "      <td>0</td>\n",
       "      <td>0.049777</td>\n",
       "    </tr>\n",
       "    <tr>\n",
       "      <th>3</th>\n",
       "      <td>\"\\nMore\\nI can't make any real suggestions on ...</td>\n",
       "      <td>0</td>\n",
       "      <td>0.029436</td>\n",
       "    </tr>\n",
       "    <tr>\n",
       "      <th>4</th>\n",
       "      <td>You, sir, are my hero. Any chance you remember...</td>\n",
       "      <td>0</td>\n",
       "      <td>0.030661</td>\n",
       "    </tr>\n",
       "    <tr>\n",
       "      <th>5</th>\n",
       "      <td>\"\\n\\nCongratulations from me as well, use the ...</td>\n",
       "      <td>0</td>\n",
       "      <td>0.034499</td>\n",
       "    </tr>\n",
       "    <tr>\n",
       "      <th>6</th>\n",
       "      <td>COCKSUCKER BEFORE YOU PISS AROUND ON MY WORK</td>\n",
       "      <td>1</td>\n",
       "      <td>0.181158</td>\n",
       "    </tr>\n",
       "    <tr>\n",
       "      <th>7</th>\n",
       "      <td>Your vandalism to the Matt Shirvington article...</td>\n",
       "      <td>0</td>\n",
       "      <td>0.054721</td>\n",
       "    </tr>\n",
       "    <tr>\n",
       "      <th>8</th>\n",
       "      <td>Sorry if the word 'nonsense' was offensive to ...</td>\n",
       "      <td>0</td>\n",
       "      <td>0.013731</td>\n",
       "    </tr>\n",
       "    <tr>\n",
       "      <th>9</th>\n",
       "      <td>alignment on this subject and which are contra...</td>\n",
       "      <td>0</td>\n",
       "      <td>0.072468</td>\n",
       "    </tr>\n",
       "  </tbody>\n",
       "</table>\n",
       "</div>"
      ],
      "text/plain": [
       "                                        comment_text  toxic      pred\n",
       "0  Explanation\\nWhy the edits made under my usern...      0  0.166990\n",
       "1  D'aww! He matches this background colour I'm s...      0  0.024660\n",
       "2  Hey man, I'm really not trying to edit war. It...      0  0.049777\n",
       "3  \"\\nMore\\nI can't make any real suggestions on ...      0  0.029436\n",
       "4  You, sir, are my hero. Any chance you remember...      0  0.030661\n",
       "5  \"\\n\\nCongratulations from me as well, use the ...      0  0.034499\n",
       "6       COCKSUCKER BEFORE YOU PISS AROUND ON MY WORK      1  0.181158\n",
       "7  Your vandalism to the Matt Shirvington article...      0  0.054721\n",
       "8  Sorry if the word 'nonsense' was offensive to ...      0  0.013731\n",
       "9  alignment on this subject and which are contra...      0  0.072468"
      ]
     },
     "metadata": {},
     "output_type": "display_data"
    },
    {
     "name": "stdout",
     "output_type": "stream",
     "text": [
      "Validation set\n"
     ]
    },
    {
     "data": {
      "text/html": [
       "<div>\n",
       "<style scoped>\n",
       "    .dataframe tbody tr th:only-of-type {\n",
       "        vertical-align: middle;\n",
       "    }\n",
       "\n",
       "    .dataframe tbody tr th {\n",
       "        vertical-align: top;\n",
       "    }\n",
       "\n",
       "    .dataframe thead th {\n",
       "        text-align: right;\n",
       "    }\n",
       "</style>\n",
       "<table border=\"1\" class=\"dataframe\">\n",
       "  <thead>\n",
       "    <tr style=\"text-align: right;\">\n",
       "      <th></th>\n",
       "      <th>comment_text</th>\n",
       "      <th>toxic</th>\n",
       "      <th>pred</th>\n",
       "    </tr>\n",
       "  </thead>\n",
       "  <tbody>\n",
       "    <tr>\n",
       "      <th>0</th>\n",
       "      <td>Este usuario ni siquiera llega al rango de    ...</td>\n",
       "      <td>0</td>\n",
       "      <td>0.167612</td>\n",
       "    </tr>\n",
       "    <tr>\n",
       "      <th>1</th>\n",
       "      <td>Il testo di questa voce pare esser scopiazzato...</td>\n",
       "      <td>0</td>\n",
       "      <td>0.083813</td>\n",
       "    </tr>\n",
       "    <tr>\n",
       "      <th>2</th>\n",
       "      <td>Vale. Sólo expongo mi pasado. Todo tiempo pasa...</td>\n",
       "      <td>1</td>\n",
       "      <td>0.083050</td>\n",
       "    </tr>\n",
       "    <tr>\n",
       "      <th>3</th>\n",
       "      <td>Bu maddenin alt başlığı olarak  uluslararası i...</td>\n",
       "      <td>0</td>\n",
       "      <td>0.346665</td>\n",
       "    </tr>\n",
       "    <tr>\n",
       "      <th>4</th>\n",
       "      <td>Belçika nın şehirlerinin yanında ilçe ve belde...</td>\n",
       "      <td>0</td>\n",
       "      <td>0.304965</td>\n",
       "    </tr>\n",
       "    <tr>\n",
       "      <th>5</th>\n",
       "      <td>güzel, zaten kaynaklandırması zor subjektif ka...</td>\n",
       "      <td>0</td>\n",
       "      <td>0.484324</td>\n",
       "    </tr>\n",
       "    <tr>\n",
       "      <th>6</th>\n",
       "      <td>No es mala idea. De hecho, yo estaba pensando ...</td>\n",
       "      <td>0</td>\n",
       "      <td>0.142654</td>\n",
       "    </tr>\n",
       "    <tr>\n",
       "      <th>7</th>\n",
       "      <td>Kod hatalarını düzeltmişsiniz,elinize sağlık ç...</td>\n",
       "      <td>0</td>\n",
       "      <td>0.197380</td>\n",
       "    </tr>\n",
       "    <tr>\n",
       "      <th>8</th>\n",
       "      <td>Levent Abi nasılsın? Hayat nasıl gidiyor? Umar...</td>\n",
       "      <td>0</td>\n",
       "      <td>0.302111</td>\n",
       "    </tr>\n",
       "    <tr>\n",
       "      <th>9</th>\n",
       "      <td>Creo que es importante que podamos reconocer a...</td>\n",
       "      <td>0</td>\n",
       "      <td>0.248793</td>\n",
       "    </tr>\n",
       "  </tbody>\n",
       "</table>\n",
       "</div>"
      ],
      "text/plain": [
       "                                        comment_text  toxic      pred\n",
       "0  Este usuario ni siquiera llega al rango de    ...      0  0.167612\n",
       "1  Il testo di questa voce pare esser scopiazzato...      0  0.083813\n",
       "2  Vale. Sólo expongo mi pasado. Todo tiempo pasa...      1  0.083050\n",
       "3  Bu maddenin alt başlığı olarak  uluslararası i...      0  0.346665\n",
       "4  Belçika nın şehirlerinin yanında ilçe ve belde...      0  0.304965\n",
       "5  güzel, zaten kaynaklandırması zor subjektif ka...      0  0.484324\n",
       "6  No es mala idea. De hecho, yo estaba pensando ...      0  0.142654\n",
       "7  Kod hatalarını düzeltmişsiniz,elinize sağlık ç...      0  0.197380\n",
       "8  Levent Abi nasılsın? Hayat nasıl gidiyor? Umar...      0  0.302111\n",
       "9  Creo que es importante que podamos reconocer a...      0  0.248793"
      ]
     },
     "metadata": {},
     "output_type": "display_data"
    }
   ],
   "source": [
    "print('Train set')\n",
    "display(train[['comment_text', 'toxic', 'pred']].head(10))\n",
    "print('Validation set')\n",
    "display(valid[['comment_text', 'toxic', 'pred']].head(10))"
   ]
  }
 ],
 "metadata": {
  "kernelspec": {
   "display_name": "Python 3",
   "language": "python",
   "name": "python3"
  },
  "language_info": {
   "codemirror_mode": {
    "name": "ipython",
    "version": 3
   },
   "file_extension": ".py",
   "mimetype": "text/x-python",
   "name": "python",
   "nbconvert_exporter": "python",
   "pygments_lexer": "ipython3",
   "version": "3.6.6"
  }
 },
 "nbformat": 4,
 "nbformat_minor": 4
}
