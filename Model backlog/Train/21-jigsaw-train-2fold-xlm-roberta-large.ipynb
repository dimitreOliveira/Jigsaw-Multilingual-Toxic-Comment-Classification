{
 "cells": [
  {
   "cell_type": "markdown",
   "metadata": {},
   "source": [
    "## Dependencies"
   ]
  },
  {
   "cell_type": "code",
   "execution_count": 1,
   "metadata": {
    "_kg_hide-input": true
   },
   "outputs": [],
   "source": [
    "import json, warnings, shutil\n",
    "from jigsaw_utility_scripts import *\n",
    "from transformers import TFXLMRobertaModel, XLMRobertaConfig\n",
    "from tensorflow.keras.models import Model\n",
    "from tensorflow.keras import optimizers, metrics, losses, layers\n",
    "from tensorflow.keras.callbacks import EarlyStopping, ModelCheckpoint\n",
    "\n",
    "warnings.filterwarnings(\"ignore\")"
   ]
  },
  {
   "cell_type": "markdown",
   "metadata": {},
   "source": [
    "## TPU configuration"
   ]
  },
  {
   "cell_type": "code",
   "execution_count": 2,
   "metadata": {
    "_cell_guid": "79c7e3d0-c299-4dcb-8224-4455121ee9b0",
    "_kg_hide-input": true,
    "_uuid": "d629ff2d2480ee46fbb7e2d37f6b5fab8052498a"
   },
   "outputs": [
    {
     "name": "stdout",
     "output_type": "stream",
     "text": [
      "Running on TPU  grpc://10.0.0.2:8470\n",
      "REPLICAS:  8\n"
     ]
    }
   ],
   "source": [
    "strategy, tpu = set_up_strategy()\n",
    "print(\"REPLICAS: \", strategy.num_replicas_in_sync)\n",
    "AUTO = tf.data.experimental.AUTOTUNE"
   ]
  },
  {
   "cell_type": "markdown",
   "metadata": {},
   "source": [
    "# Load data"
   ]
  },
  {
   "cell_type": "code",
   "execution_count": 3,
   "metadata": {
    "_kg_hide-input": true
   },
   "outputs": [
    {
     "name": "stdout",
     "output_type": "stream",
     "text": [
      "Train set samples: 435775\n",
      "Validation set samples: 8000\n"
     ]
    },
    {
     "data": {
      "text/html": [
       "<div>\n",
       "<style scoped>\n",
       "    .dataframe tbody tr th:only-of-type {\n",
       "        vertical-align: middle;\n",
       "    }\n",
       "\n",
       "    .dataframe tbody tr th {\n",
       "        vertical-align: top;\n",
       "    }\n",
       "\n",
       "    .dataframe thead th {\n",
       "        text-align: right;\n",
       "    }\n",
       "</style>\n",
       "<table border=\"1\" class=\"dataframe\">\n",
       "  <thead>\n",
       "    <tr style=\"text-align: right;\">\n",
       "      <th></th>\n",
       "      <th>index</th>\n",
       "      <th>comment_text</th>\n",
       "      <th>toxic</th>\n",
       "      <th>fold_1</th>\n",
       "      <th>fold_2</th>\n",
       "      <th>fold_3</th>\n",
       "      <th>fold_4</th>\n",
       "      <th>fold_5</th>\n",
       "    </tr>\n",
       "  </thead>\n",
       "  <tbody>\n",
       "    <tr>\n",
       "      <th>0</th>\n",
       "      <td>0</td>\n",
       "      <td>Explanation\\nWhy the edits made under my usern...</td>\n",
       "      <td>0</td>\n",
       "      <td>train</td>\n",
       "      <td>validation</td>\n",
       "      <td>train</td>\n",
       "      <td>train</td>\n",
       "      <td>train</td>\n",
       "    </tr>\n",
       "    <tr>\n",
       "      <th>1</th>\n",
       "      <td>1</td>\n",
       "      <td>D'aww! He matches this background colour I'm s...</td>\n",
       "      <td>0</td>\n",
       "      <td>train</td>\n",
       "      <td>validation</td>\n",
       "      <td>train</td>\n",
       "      <td>train</td>\n",
       "      <td>train</td>\n",
       "    </tr>\n",
       "    <tr>\n",
       "      <th>2</th>\n",
       "      <td>2</td>\n",
       "      <td>Hey man, I'm really not trying to edit war. It...</td>\n",
       "      <td>0</td>\n",
       "      <td>train</td>\n",
       "      <td>train</td>\n",
       "      <td>train</td>\n",
       "      <td>train</td>\n",
       "      <td>validation</td>\n",
       "    </tr>\n",
       "    <tr>\n",
       "      <th>3</th>\n",
       "      <td>3</td>\n",
       "      <td>\"\\nMore\\nI can't make any real suggestions on ...</td>\n",
       "      <td>0</td>\n",
       "      <td>train</td>\n",
       "      <td>validation</td>\n",
       "      <td>train</td>\n",
       "      <td>train</td>\n",
       "      <td>train</td>\n",
       "    </tr>\n",
       "    <tr>\n",
       "      <th>4</th>\n",
       "      <td>4</td>\n",
       "      <td>You, sir, are my hero. Any chance you remember...</td>\n",
       "      <td>0</td>\n",
       "      <td>train</td>\n",
       "      <td>train</td>\n",
       "      <td>train</td>\n",
       "      <td>train</td>\n",
       "      <td>validation</td>\n",
       "    </tr>\n",
       "  </tbody>\n",
       "</table>\n",
       "</div>"
      ],
      "text/plain": [
       "   index                                       comment_text  toxic fold_1  \\\n",
       "0      0  Explanation\\nWhy the edits made under my usern...      0  train   \n",
       "1      1  D'aww! He matches this background colour I'm s...      0  train   \n",
       "2      2  Hey man, I'm really not trying to edit war. It...      0  train   \n",
       "3      3  \"\\nMore\\nI can't make any real suggestions on ...      0  train   \n",
       "4      4  You, sir, are my hero. Any chance you remember...      0  train   \n",
       "\n",
       "       fold_2 fold_3 fold_4      fold_5  \n",
       "0  validation  train  train       train  \n",
       "1  validation  train  train       train  \n",
       "2       train  train  train  validation  \n",
       "3  validation  train  train       train  \n",
       "4       train  train  train  validation  "
      ]
     },
     "metadata": {},
     "output_type": "display_data"
    },
    {
     "name": "stdout",
     "output_type": "stream",
     "text": [
      "fold_1/\r\n",
      "fold_1/y_train.npy\r\n",
      "fold_1/x_valid.npy\r\n",
      "fold_1/x_train.npy\r\n",
      "fold_1/y_valid.npy\r\n",
      "fold_2/\r\n",
      "fold_2/y_train.npy\r\n",
      "fold_2/x_valid.npy\r\n",
      "fold_2/x_train.npy\r\n",
      "fold_2/y_valid.npy\r\n"
     ]
    }
   ],
   "source": [
    "database_base_path = '/kaggle/input/jigsaw-dataset-split-pb-roberta-large-192/'\n",
    "k_fold = pd.read_csv(database_base_path + '5-fold.csv')\n",
    "valid_df = pd.read_csv(\"/kaggle/input/jigsaw-multilingual-toxic-comment-classification/validation.csv\", usecols=['comment_text', 'toxic', 'lang'])\n",
    "\n",
    "print('Train set samples: %d' % len(k_fold))\n",
    "print('Validation set samples: %d' % len(valid_df))\n",
    "display(k_fold.head())\n",
    "\n",
    "# Unzip files\n",
    "!tar -xvf /kaggle/input/jigsaw-dataset-split-pb-roberta-large-192/fold_1.tar.gz\n",
    "!tar -xvf /kaggle/input/jigsaw-dataset-split-pb-roberta-large-192/fold_2.tar.gz\n",
    "# !tar -xvf /kaggle/input/jigsaw-dataset-split-pb-roberta-large-192/fold_3.tar.gz\n",
    "# !tar -xvf /kaggle/input/jigsaw-dataset-split-pb-roberta-large-192/fold_4.tar.gz\n",
    "# !tar -xvf /kaggle/input/jigsaw-dataset-split-pb-roberta-large-192/fold_5.tar.gz"
   ]
  },
  {
   "cell_type": "markdown",
   "metadata": {},
   "source": [
    "# Model parameters"
   ]
  },
  {
   "cell_type": "code",
   "execution_count": 4,
   "metadata": {
    "_kg_hide-input": false
   },
   "outputs": [],
   "source": [
    "base_path = '/kaggle/input/jigsaw-transformers/XLM-RoBERTa/'\n",
    "\n",
    "config = {\n",
    "  \"MAX_LEN\": 192,\n",
    "  \"BATCH_SIZE\": 16 * strategy.num_replicas_in_sync,\n",
    "  \"EPOCHS\": 2,\n",
    "  \"LEARNING_RATE\": 1e-5, \n",
    "  \"ES_PATIENCE\": 1,\n",
    "  \"N_FOLDS\": 2,\n",
    "  \"base_model_path\": base_path + 'tf-xlm-roberta-large-tf_model.h5',\n",
    "  \"config_path\": base_path + 'xlm-roberta-large-config.json'\n",
    "}\n",
    "\n",
    "with open('config.json', 'w') as json_file:\n",
    "    json.dump(json.loads(json.dumps(config)), json_file)"
   ]
  },
  {
   "cell_type": "markdown",
   "metadata": {},
   "source": [
    "# Model"
   ]
  },
  {
   "cell_type": "code",
   "execution_count": 5,
   "metadata": {},
   "outputs": [],
   "source": [
    "module_config = XLMRobertaConfig.from_pretrained(config['config_path'], output_hidden_states=False)\n",
    "\n",
    "def model_fn(MAX_LEN):\n",
    "    input_ids = layers.Input(shape=(MAX_LEN,), dtype=tf.int32, name='input_ids')\n",
    "    \n",
    "    base_model = TFXLMRobertaModel.from_pretrained(config['base_model_path'], config=module_config)\n",
    "    sequence_output = base_model({'input_ids': input_ids})\n",
    "    \n",
    "    last_state = sequence_output[0]\n",
    "    cls_token = last_state[:, 0, :]\n",
    "    \n",
    "    output = layers.Dense(1, activation='sigmoid', name='output')(cls_token)\n",
    "    \n",
    "    model = Model(inputs=input_ids, outputs=output)\n",
    "    model.compile(optimizers.Adam(lr=config['LEARNING_RATE']), \n",
    "                  loss=losses.BinaryCrossentropy(), \n",
    "                  metrics=[metrics.BinaryAccuracy(), metrics.AUC()])\n",
    "    \n",
    "    return model"
   ]
  },
  {
   "cell_type": "code",
   "execution_count": 6,
   "metadata": {},
   "outputs": [],
   "source": [
    "# Datasets\n",
    "def get_training_dataset(x_train, y_train, batch_size, buffer_size):\n",
    "    dataset = tf.data.Dataset.from_tensor_slices(({'input_ids': x_train}, y_train))\n",
    "    dataset = dataset.repeat()\n",
    "    dataset = dataset.shuffle(2048)\n",
    "    dataset = dataset.batch(batch_size, drop_remainder=True)\n",
    "    dataset = dataset.prefetch(buffer_size)\n",
    "    return dataset\n",
    "\n",
    "def get_validation_dataset(x_valid, y_valid, batch_size, buffer_size):\n",
    "    dataset = tf.data.Dataset.from_tensor_slices(({'input_ids': x_valid}, y_valid))\n",
    "    dataset = dataset.batch(batch_size, drop_remainder=True)\n",
    "    dataset = dataset.cache()\n",
    "    dataset = dataset.prefetch(buffer_size)\n",
    "    return dataset"
   ]
  },
  {
   "cell_type": "markdown",
   "metadata": {},
   "source": [
    "# Train"
   ]
  },
  {
   "cell_type": "code",
   "execution_count": 7,
   "metadata": {},
   "outputs": [
    {
     "name": "stdout",
     "output_type": "stream",
     "text": [
      "\n",
      "FOLD: 1\n",
      "Train for 2723 steps, validate for 62 steps\n",
      "Epoch 1/2\n",
      "\n",
      "Epoch 00001: val_loss improved from inf to 0.48451, saving model to model_fold_1.h5\n",
      "2723/2723 - 1300s - loss: 0.1115 - binary_accuracy: 0.9614 - auc: 0.9867 - val_loss: 0.4845 - val_binary_accuracy: 0.8459 - val_auc: 0.5281\n",
      "Epoch 2/2\n",
      "\n",
      "Epoch 00002: val_loss improved from 0.48451 to 0.45181, saving model to model_fold_1.h5\n",
      "2723/2723 - 1131s - loss: 0.1751 - binary_accuracy: 0.9445 - auc: 0.9507 - val_loss: 0.4518 - val_binary_accuracy: 0.8459 - val_auc: 0.5163\n",
      "Train for 62 steps\n",
      "Epoch 1/2\n",
      "62/62 - 99s - loss: 0.4416 - binary_accuracy: 0.8453 - auc: 0.5529\n",
      "Epoch 2/2\n",
      "62/62 - 25s - loss: 0.4172 - binary_accuracy: 0.8528 - auc: 0.5586\n",
      "\n",
      "FOLD: 2\n",
      "Train for 2723 steps, validate for 62 steps\n",
      "Epoch 1/2\n",
      "\n",
      "Epoch 00001: val_loss improved from inf to 0.36592, saving model to model_fold_2.h5\n",
      "2723/2723 - 1277s - loss: 0.0750 - binary_accuracy: 0.9714 - auc_1: 0.9946 - val_loss: 0.3659 - val_binary_accuracy: 0.8555 - val_auc_1: 0.8628\n",
      "Epoch 2/2\n",
      "\n",
      "Epoch 00002: val_loss did not improve from 0.36592\n",
      "Restoring model weights from the end of the best epoch.\n",
      "2723/2723 - 1138s - loss: 0.0556 - binary_accuracy: 0.9781 - auc_1: 0.9971 - val_loss: 0.3660 - val_binary_accuracy: 0.8734 - val_auc_1: 0.8952\n",
      "Epoch 00002: early stopping\n",
      "Train for 62 steps\n",
      "Epoch 1/2\n",
      "62/62 - 101s - loss: 0.2412 - binary_accuracy: 0.8935 - auc_1: 0.9206\n",
      "Epoch 2/2\n",
      "62/62 - 25s - loss: 0.1865 - binary_accuracy: 0.9168 - auc_1: 0.9556\n"
     ]
    }
   ],
   "source": [
    "history_list = []\n",
    "\n",
    "for n_fold in range(config['N_FOLDS']):\n",
    "    tf.tpu.experimental.initialize_tpu_system(tpu)\n",
    "    print('\\nFOLD: %d' % (n_fold+1))\n",
    "    # Load data\n",
    "    base_data_path = 'fold_%d/' % (n_fold+1)\n",
    "    x_train = np.load(base_data_path + 'x_train.npy')\n",
    "    y_train = np.load(base_data_path + 'y_train.npy')\n",
    "    x_valid = np.load(base_data_path + 'x_valid.npy')\n",
    "    x_valid_ml = np.load(database_base_path + 'x_valid.npy')\n",
    "    y_valid_ml = np.load(database_base_path + 'y_valid.npy')\n",
    "    \n",
    "    step_size = x_train.shape[0] // config['BATCH_SIZE']\n",
    "    \n",
    "    ### Delete data dir\n",
    "    shutil.rmtree(base_data_path)\n",
    "\n",
    "    # Train model\n",
    "    model_path = 'model_fold_%d.h5' % (n_fold+1)\n",
    "    es = EarlyStopping(monitor='val_loss', mode='min', patience=config['ES_PATIENCE'], \n",
    "                       restore_best_weights=True, verbose=1)\n",
    "    checkpoint = ModelCheckpoint(model_path, monitor='val_loss', mode='min', \n",
    "                                 save_best_only=True, save_weights_only=True, verbose=1)\n",
    "    \n",
    "    with strategy.scope():\n",
    "        model = model_fn(config['MAX_LEN'])\n",
    "        \n",
    "    history = model.fit(get_training_dataset(x_train, y_train, config['BATCH_SIZE'], AUTO),\n",
    "                        validation_data=(get_validation_dataset(x_valid_ml, y_valid_ml, config['BATCH_SIZE'], AUTO)),\n",
    "                        callbacks=[checkpoint, es],\n",
    "                        epochs=config['EPOCHS'], \n",
    "                        steps_per_epoch=step_size,\n",
    "                        verbose=2).history\n",
    "        \n",
    "    history_list.append(history)\n",
    "    \n",
    "    # Fine-tune on validation set3\n",
    "    n_steps2 = x_valid_ml.shape[0] // config['BATCH_SIZE']\n",
    "\n",
    "    history2 = model.fit(get_training_dataset(x_valid_ml, y_valid_ml, config['BATCH_SIZE'], AUTO),\n",
    "                         steps_per_epoch=n_steps2,\n",
    "                         epochs=config['EPOCHS'],\n",
    "                         verbose=2).history\n",
    "    \n",
    "    # Make predictions\n",
    "#     train_preds = model.predict(get_test_dataset(np.load(base_data_path + 'x_train.npy'), config['BATCH_SIZE'], AUTO))\n",
    "#     valid_preds = model.predict(get_test_dataset(np.load(base_data_path + 'x_valid.npy'), config['BATCH_SIZE'], AUTO))\n",
    "#     valid_ml_preds = model.predict(get_test_dataset(np.load(database_base_path + 'x_valid.npy'), config['BATCH_SIZE'], AUTO))\n",
    "    \n",
    "#     k_fold.loc[k_fold['fold_%d' % (n_fold+1)] == 'train', 'pred_%d' % (n_fold+1)] = np.round(train_preds)\n",
    "#     k_fold.loc[k_fold['fold_%d' % (n_fold+1)] == 'validation', 'pred_%d' % (n_fold+1)] = np.round(valid_preds)\n",
    "#     valid_df['pred_%d' % (n_fold+1)] = np.round(valid_ml_preds)"
   ]
  },
  {
   "cell_type": "markdown",
   "metadata": {},
   "source": [
    "## Model loss graph"
   ]
  },
  {
   "cell_type": "code",
   "execution_count": 8,
   "metadata": {
    "_kg_hide-input": true
   },
   "outputs": [
    {
     "name": "stdout",
     "output_type": "stream",
     "text": [
      "Fold: 1\n"
     ]
    },
    {
     "data": {
      "image/png": "[encoded data removed]",
      "text/plain": [
       "<Figure size 1440x1080 with 3 Axes>"
      ]
     },
     "metadata": {},
     "output_type": "display_data"
    },
    {
     "name": "stdout",
     "output_type": "stream",
     "text": [
      "Fold: 2\n"
     ]
    },
    {
     "data": {
      "image/png": "[encoded data removed]",
      "text/plain": [
       "<Figure size 1440x1080 with 3 Axes>"
      ]
     },
     "metadata": {},
     "output_type": "display_data"
    }
   ],
   "source": [
    "sns.set(style=\"whitegrid\")\n",
    "for n_fold in range(config['N_FOLDS']):\n",
    "    print('Fold: %d' % (n_fold+1))\n",
    "    plot_metrics(history_list[n_fold])"
   ]
  },
  {
   "cell_type": "markdown",
   "metadata": {},
   "source": [
    "# Model evaluation"
   ]
  },
  {
   "cell_type": "code",
   "execution_count": 9,
   "metadata": {
    "_kg_hide-input": true
   },
   "outputs": [],
   "source": [
    "# display(evaluate_model(k_fold, config['N_FOLDS']).style.applymap(color_map))"
   ]
  },
  {
   "cell_type": "markdown",
   "metadata": {},
   "source": [
    "# Confusion matrix"
   ]
  },
  {
   "cell_type": "code",
   "execution_count": 10,
   "metadata": {
    "_kg_hide-input": true
   },
   "outputs": [],
   "source": [
    "# for n_fold in range(config['N_FOLDS']):\n",
    "#     print('Fold: %d' % (n_fold+1))\n",
    "#     train_set = k_fold[k_fold['fold_%d' % (n_fold+1)] == 'train']\n",
    "#     validation_set = k_fold[k_fold['fold_%d' % (n_fold+1)] == 'validation'] \n",
    "#     plot_confusion_matrix(train_set['toxic'], train_set['pred_%d' % (n_fold+1)], \n",
    "#                           validation_set['toxic'], validation_set['pred_%d' % (n_fold+1)])"
   ]
  },
  {
   "cell_type": "markdown",
   "metadata": {},
   "source": [
    "# Model evaluation by language"
   ]
  },
  {
   "cell_type": "code",
   "execution_count": 11,
   "metadata": {
    "_kg_hide-input": true
   },
   "outputs": [],
   "source": [
    "# display(evaluate_model_lang(valid_df, config['N_FOLDS']).style.applymap(color_map))"
   ]
  },
  {
   "cell_type": "markdown",
   "metadata": {},
   "source": [
    "# Visualize predictions"
   ]
  },
  {
   "cell_type": "code",
   "execution_count": 12,
   "metadata": {
    "_kg_hide-input": true
   },
   "outputs": [
    {
     "name": "stdout",
     "output_type": "stream",
     "text": [
      "English validation set\n"
     ]
    },
    {
     "data": {
      "text/html": [
       "<div>\n",
       "<style scoped>\n",
       "    .dataframe tbody tr th:only-of-type {\n",
       "        vertical-align: middle;\n",
       "    }\n",
       "\n",
       "    .dataframe tbody tr th {\n",
       "        vertical-align: top;\n",
       "    }\n",
       "\n",
       "    .dataframe thead th {\n",
       "        text-align: right;\n",
       "    }\n",
       "</style>\n",
       "<table border=\"1\" class=\"dataframe\">\n",
       "  <thead>\n",
       "    <tr style=\"text-align: right;\">\n",
       "      <th></th>\n",
       "      <th>comment_text</th>\n",
       "      <th>toxic</th>\n",
       "    </tr>\n",
       "  </thead>\n",
       "  <tbody>\n",
       "    <tr>\n",
       "      <th>0</th>\n",
       "      <td>Explanation\\nWhy the edits made under my username Hardcore Metallica Fan were reverted? They weren't vandalisms, jus...</td>\n",
       "      <td>0</td>\n",
       "    </tr>\n",
       "    <tr>\n",
       "      <th>1</th>\n",
       "      <td>D'aww! He matches this background colour I'm seemingly stuck with. Thanks.  (talk) 21:51, January 11, 2016 (UTC)</td>\n",
       "      <td>0</td>\n",
       "    </tr>\n",
       "    <tr>\n",
       "      <th>2</th>\n",
       "      <td>Hey man, I'm really not trying to edit war. It's just that this guy is constantly removing relevant information and ...</td>\n",
       "      <td>0</td>\n",
       "    </tr>\n",
       "    <tr>\n",
       "      <th>3</th>\n",
       "      <td>\"\\nMore\\nI can't make any real suggestions on improvement - I wondered if the section statistics should be later on,...</td>\n",
       "      <td>0</td>\n",
       "    </tr>\n",
       "    <tr>\n",
       "      <th>4</th>\n",
       "      <td>You, sir, are my hero. Any chance you remember what page that's on?</td>\n",
       "      <td>0</td>\n",
       "    </tr>\n",
       "    <tr>\n",
       "      <th>5</th>\n",
       "      <td>\"\\n\\nCongratulations from me as well, use the tools well.  · talk \"</td>\n",
       "      <td>0</td>\n",
       "    </tr>\n",
       "    <tr>\n",
       "      <th>6</th>\n",
       "      <td>COCKSUCKER BEFORE YOU PISS AROUND ON MY WORK</td>\n",
       "      <td>1</td>\n",
       "    </tr>\n",
       "    <tr>\n",
       "      <th>7</th>\n",
       "      <td>Your vandalism to the Matt Shirvington article has been reverted.  Please don't do it again, or you will be banned.</td>\n",
       "      <td>0</td>\n",
       "    </tr>\n",
       "    <tr>\n",
       "      <th>8</th>\n",
       "      <td>Sorry if the word 'nonsense' was offensive to you. Anyway, I'm not intending to write anything in the article(wow th...</td>\n",
       "      <td>0</td>\n",
       "    </tr>\n",
       "    <tr>\n",
       "      <th>9</th>\n",
       "      <td>alignment on this subject and which are contrary to those of DuLithgow</td>\n",
       "      <td>0</td>\n",
       "    </tr>\n",
       "  </tbody>\n",
       "</table>\n",
       "</div>"
      ],
      "text/plain": [
       "                                                                                                              comment_text  \\\n",
       "0  Explanation\\nWhy the edits made under my username Hardcore Metallica Fan were reverted? They weren't vandalisms, jus...   \n",
       "1         D'aww! He matches this background colour I'm seemingly stuck with. Thanks.  (talk) 21:51, January 11, 2016 (UTC)   \n",
       "2  Hey man, I'm really not trying to edit war. It's just that this guy is constantly removing relevant information and ...   \n",
       "3  \"\\nMore\\nI can't make any real suggestions on improvement - I wondered if the section statistics should be later on,...   \n",
       "4                                                      You, sir, are my hero. Any chance you remember what page that's on?   \n",
       "5                                                      \"\\n\\nCongratulations from me as well, use the tools well.  · talk \"   \n",
       "6                                                                             COCKSUCKER BEFORE YOU PISS AROUND ON MY WORK   \n",
       "7      Your vandalism to the Matt Shirvington article has been reverted.  Please don't do it again, or you will be banned.   \n",
       "8  Sorry if the word 'nonsense' was offensive to you. Anyway, I'm not intending to write anything in the article(wow th...   \n",
       "9                                                   alignment on this subject and which are contrary to those of DuLithgow   \n",
       "\n",
       "   toxic  \n",
       "0      0  \n",
       "1      0  \n",
       "2      0  \n",
       "3      0  \n",
       "4      0  \n",
       "5      0  \n",
       "6      1  \n",
       "7      0  \n",
       "8      0  \n",
       "9      0  "
      ]
     },
     "metadata": {},
     "output_type": "display_data"
    },
    {
     "name": "stdout",
     "output_type": "stream",
     "text": [
      "Multilingual validation set\n"
     ]
    },
    {
     "data": {
      "text/html": [
       "<div>\n",
       "<style scoped>\n",
       "    .dataframe tbody tr th:only-of-type {\n",
       "        vertical-align: middle;\n",
       "    }\n",
       "\n",
       "    .dataframe tbody tr th {\n",
       "        vertical-align: top;\n",
       "    }\n",
       "\n",
       "    .dataframe thead th {\n",
       "        text-align: right;\n",
       "    }\n",
       "</style>\n",
       "<table border=\"1\" class=\"dataframe\">\n",
       "  <thead>\n",
       "    <tr style=\"text-align: right;\">\n",
       "      <th></th>\n",
       "      <th>comment_text</th>\n",
       "      <th>toxic</th>\n",
       "    </tr>\n",
       "  </thead>\n",
       "  <tbody>\n",
       "    <tr>\n",
       "      <th>0</th>\n",
       "      <td>Este usuario ni siquiera llega al rango de    hereje   . Por lo tanto debería ser quemado en la barbacoa para purifi...</td>\n",
       "      <td>0</td>\n",
       "    </tr>\n",
       "    <tr>\n",
       "      <th>1</th>\n",
       "      <td>Il testo di questa voce pare esser scopiazzato direttamente da qui. Immagino possano esserci problemi di copyright, ...</td>\n",
       "      <td>0</td>\n",
       "    </tr>\n",
       "    <tr>\n",
       "      <th>2</th>\n",
       "      <td>Vale. Sólo expongo mi pasado. Todo tiempo pasado fue mejor, ni mucho menos, yo no quisiera retroceder 31 años a nive...</td>\n",
       "      <td>1</td>\n",
       "    </tr>\n",
       "    <tr>\n",
       "      <th>3</th>\n",
       "      <td>Bu maddenin alt başlığı olarak  uluslararası ilişkiler  ile konuyu sürdürmek ile ilgili tereddütlerim var.Önerim siy...</td>\n",
       "      <td>0</td>\n",
       "    </tr>\n",
       "    <tr>\n",
       "      <th>4</th>\n",
       "      <td>Belçika nın şehirlerinin yanında ilçe ve beldelerini yaparken sanırım Portekizi örnek alacaksın. Ben de uzak gelecek...</td>\n",
       "      <td>0</td>\n",
       "    </tr>\n",
       "    <tr>\n",
       "      <th>5</th>\n",
       "      <td>güzel, zaten kaynaklandırması zor subjektif kategoriler bunlar. bazı maddelerden çıkartmak, kiminden çıkartıp kimind...</td>\n",
       "      <td>0</td>\n",
       "    </tr>\n",
       "    <tr>\n",
       "      <th>6</th>\n",
       "      <td>No es mala idea. De hecho, yo estaba pensando descolgarme ya del reto mensual, pero esto vuelve a ilusionarme. El pr...</td>\n",
       "      <td>0</td>\n",
       "    </tr>\n",
       "    <tr>\n",
       "      <th>7</th>\n",
       "      <td>Kod hatalarını düzeltmişsiniz,elinize sağlık çok teşekkürler.Önceki sürümleri araştırdım.13 Haziran 2010 da Kullanıc...</td>\n",
       "      <td>0</td>\n",
       "    </tr>\n",
       "    <tr>\n",
       "      <th>8</th>\n",
       "      <td>Levent Abi nasılsın? Hayat nasıl gidiyor? Umarım her şey istediğin gibidir. Bu arada Janet Jackson maddesi seçkin ma...</td>\n",
       "      <td>0</td>\n",
       "    </tr>\n",
       "    <tr>\n",
       "      <th>9</th>\n",
       "      <td>Creo que es importante que podamos reconocer a gente como Victor Manuel Vucetich , quien es originario de Tampico y ...</td>\n",
       "      <td>0</td>\n",
       "    </tr>\n",
       "  </tbody>\n",
       "</table>\n",
       "</div>"
      ],
      "text/plain": [
       "                                                                                                              comment_text  \\\n",
       "0  Este usuario ni siquiera llega al rango de    hereje   . Por lo tanto debería ser quemado en la barbacoa para purifi...   \n",
       "1  Il testo di questa voce pare esser scopiazzato direttamente da qui. Immagino possano esserci problemi di copyright, ...   \n",
       "2  Vale. Sólo expongo mi pasado. Todo tiempo pasado fue mejor, ni mucho menos, yo no quisiera retroceder 31 años a nive...   \n",
       "3  Bu maddenin alt başlığı olarak  uluslararası ilişkiler  ile konuyu sürdürmek ile ilgili tereddütlerim var.Önerim siy...   \n",
       "4  Belçika nın şehirlerinin yanında ilçe ve beldelerini yaparken sanırım Portekizi örnek alacaksın. Ben de uzak gelecek...   \n",
       "5  güzel, zaten kaynaklandırması zor subjektif kategoriler bunlar. bazı maddelerden çıkartmak, kiminden çıkartıp kimind...   \n",
       "6  No es mala idea. De hecho, yo estaba pensando descolgarme ya del reto mensual, pero esto vuelve a ilusionarme. El pr...   \n",
       "7  Kod hatalarını düzeltmişsiniz,elinize sağlık çok teşekkürler.Önceki sürümleri araştırdım.13 Haziran 2010 da Kullanıc...   \n",
       "8  Levent Abi nasılsın? Hayat nasıl gidiyor? Umarım her şey istediğin gibidir. Bu arada Janet Jackson maddesi seçkin ma...   \n",
       "9  Creo que es importante que podamos reconocer a gente como Victor Manuel Vucetich , quien es originario de Tampico y ...   \n",
       "\n",
       "   toxic  \n",
       "0      0  \n",
       "1      0  \n",
       "2      1  \n",
       "3      0  \n",
       "4      0  \n",
       "5      0  \n",
       "6      0  \n",
       "7      0  \n",
       "8      0  \n",
       "9      0  "
      ]
     },
     "metadata": {},
     "output_type": "display_data"
    }
   ],
   "source": [
    "pd.set_option('max_colwidth', 120)\n",
    "print('English validation set')\n",
    "display(k_fold[['comment_text', 'toxic'] + [c for c in k_fold.columns if c.startswith('pred')]].head(10))\n",
    "\n",
    "print('Multilingual validation set')\n",
    "display(valid_df[['comment_text', 'toxic'] + [c for c in k_fold.columns if c.startswith('pred')]].head(10))"
   ]
  },
  {
   "cell_type": "code",
   "execution_count": 13,
   "metadata": {
    "_kg_hide-input": true
   },
   "outputs": [],
   "source": [
    "x_test = np.load(database_base_path + 'x_test.npy')\n",
    "\n",
    "test_dataset = (\n",
    "    tf.data.Dataset\n",
    "    .from_tensor_slices(x_test)\n",
    "    .batch(config['BATCH_SIZE'])\n",
    ")"
   ]
  },
  {
   "cell_type": "code",
   "execution_count": 14,
   "metadata": {},
   "outputs": [
    {
     "name": "stdout",
     "output_type": "stream",
     "text": [
      "Models to predict:\n",
      "/kaggle/working/model_fold_1.h5\n",
      "/kaggle/working/model_fold_2.h5\n"
     ]
    }
   ],
   "source": [
    "import glob\n",
    "model_path_list = glob.glob('/kaggle/working/' + '*.h5')\n",
    "model_path_list.sort()\n",
    "print('Models to predict:')\n",
    "print(*model_path_list, sep = \"\\n\")"
   ]
  },
  {
   "cell_type": "code",
   "execution_count": 15,
   "metadata": {},
   "outputs": [
    {
     "name": "stdout",
     "output_type": "stream",
     "text": [
      "/kaggle/working/model_fold_1.h5\n",
      "/kaggle/working/model_fold_2.h5\n"
     ]
    }
   ],
   "source": [
    "NUM_TEST_IMAGES = len(x_test)\n",
    "test_preds = np.zeros((NUM_TEST_IMAGES, 1))\n",
    "\n",
    "for model_path in model_path_list:\n",
    "    tf.tpu.experimental.initialize_tpu_system(tpu)\n",
    "    print(model_path)\n",
    "    with strategy.scope():\n",
    "        model = model_fn(config['MAX_LEN'])\n",
    "        model.load_weights(model_path)\n",
    "\n",
    "    test_preds += model.predict(test_dataset)\n",
    "#     test_preds += model.predict(get_test_dataset(x_test, config['BATCH_SIZE'], AUTO)) / len(model_path_list)"
   ]
  },
  {
   "cell_type": "code",
   "execution_count": 16,
   "metadata": {
    "_kg_hide-input": true
   },
   "outputs": [
    {
     "data": {
      "text/html": [
       "<div>\n",
       "<style scoped>\n",
       "    .dataframe tbody tr th:only-of-type {\n",
       "        vertical-align: middle;\n",
       "    }\n",
       "\n",
       "    .dataframe tbody tr th {\n",
       "        vertical-align: top;\n",
       "    }\n",
       "\n",
       "    .dataframe thead th {\n",
       "        text-align: right;\n",
       "    }\n",
       "</style>\n",
       "<table border=\"1\" class=\"dataframe\">\n",
       "  <thead>\n",
       "    <tr style=\"text-align: right;\">\n",
       "      <th></th>\n",
       "      <th>id</th>\n",
       "      <th>toxic</th>\n",
       "    </tr>\n",
       "  </thead>\n",
       "  <tbody>\n",
       "    <tr>\n",
       "      <th>0</th>\n",
       "      <td>0</td>\n",
       "      <td>0.131331</td>\n",
       "    </tr>\n",
       "    <tr>\n",
       "      <th>1</th>\n",
       "      <td>1</td>\n",
       "      <td>0.103057</td>\n",
       "    </tr>\n",
       "    <tr>\n",
       "      <th>2</th>\n",
       "      <td>2</td>\n",
       "      <td>0.154234</td>\n",
       "    </tr>\n",
       "    <tr>\n",
       "      <th>3</th>\n",
       "      <td>3</td>\n",
       "      <td>0.109999</td>\n",
       "    </tr>\n",
       "    <tr>\n",
       "      <th>4</th>\n",
       "      <td>4</td>\n",
       "      <td>0.016346</td>\n",
       "    </tr>\n",
       "    <tr>\n",
       "      <th>5</th>\n",
       "      <td>5</td>\n",
       "      <td>0.134501</td>\n",
       "    </tr>\n",
       "    <tr>\n",
       "      <th>6</th>\n",
       "      <td>6</td>\n",
       "      <td>0.109996</td>\n",
       "    </tr>\n",
       "    <tr>\n",
       "      <th>7</th>\n",
       "      <td>7</td>\n",
       "      <td>0.187797</td>\n",
       "    </tr>\n",
       "    <tr>\n",
       "      <th>8</th>\n",
       "      <td>8</td>\n",
       "      <td>0.954749</td>\n",
       "    </tr>\n",
       "    <tr>\n",
       "      <th>9</th>\n",
       "      <td>9</td>\n",
       "      <td>0.243582</td>\n",
       "    </tr>\n",
       "  </tbody>\n",
       "</table>\n",
       "</div>"
      ],
      "text/plain": [
       "   id     toxic\n",
       "0   0  0.131331\n",
       "1   1  0.103057\n",
       "2   2  0.154234\n",
       "3   3  0.109999\n",
       "4   4  0.016346\n",
       "5   5  0.134501\n",
       "6   6  0.109996\n",
       "7   7  0.187797\n",
       "8   8  0.954749\n",
       "9   9  0.243582"
      ]
     },
     "execution_count": 16,
     "metadata": {},
     "output_type": "execute_result"
    }
   ],
   "source": [
    "submission = pd.read_csv('/kaggle/input/jigsaw-multilingual-toxic-comment-classification/sample_submission.csv')\n",
    "# submission['toxic'] = model.predict(test_dataset)\n",
    "submission['toxic'] = test_preds\n",
    "submission.to_csv('submission.csv', index=False)\n",
    "submission.head(10)"
   ]
  }
 ],
 "metadata": {
  "kernelspec": {
   "display_name": "Python 3",
   "language": "python",
   "name": "python3"
  },
  "language_info": {
   "codemirror_mode": {
    "name": "ipython",
    "version": 3
   },
   "file_extension": ".py",
   "mimetype": "text/x-python",
   "name": "python",
   "nbconvert_exporter": "python",
   "pygments_lexer": "ipython3",
   "version": "3.6.6"
  }
 },
 "nbformat": 4,
 "nbformat_minor": 4
}
