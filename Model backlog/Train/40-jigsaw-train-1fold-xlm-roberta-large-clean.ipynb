{
 "cells": [
  {
   "cell_type": "markdown",
   "metadata": {},
   "source": [
    "## Dependencies"
   ]
  },
  {
   "cell_type": "code",
   "execution_count": 1,
   "metadata": {
    "_kg_hide-input": true
   },
   "outputs": [],
   "source": [
    "import json, warnings, shutil, glob, time\n",
    "from jigsaw_utility_scripts import *\n",
    "from transformers import TFXLMRobertaModel, XLMRobertaConfig\n",
    "from tensorflow.keras.models import Model\n",
    "from tensorflow.keras import optimizers, metrics, losses, layers\n",
    "\n",
    "SEED = 0\n",
    "seed_everything(SEED)\n",
    "warnings.filterwarnings(\"ignore\")"
   ]
  },
  {
   "cell_type": "markdown",
   "metadata": {},
   "source": [
    "## TPU configuration"
   ]
  },
  {
   "cell_type": "code",
   "execution_count": 2,
   "metadata": {
    "_cell_guid": "79c7e3d0-c299-4dcb-8224-4455121ee9b0",
    "_kg_hide-input": true,
    "_uuid": "d629ff2d2480ee46fbb7e2d37f6b5fab8052498a"
   },
   "outputs": [
    {
     "name": "stdout",
     "output_type": "stream",
     "text": [
      "Running on TPU  grpc://10.0.0.2:8470\n",
      "REPLICAS:  8\n"
     ]
    }
   ],
   "source": [
    "strategy, tpu = set_up_strategy()\n",
    "print(\"REPLICAS: \", strategy.num_replicas_in_sync)\n",
    "AUTO = tf.data.experimental.AUTOTUNE"
   ]
  },
  {
   "cell_type": "markdown",
   "metadata": {},
   "source": [
    "# Load data"
   ]
  },
  {
   "cell_type": "code",
   "execution_count": 3,
   "metadata": {
    "_kg_hide-input": true
   },
   "outputs": [
    {
     "name": "stdout",
     "output_type": "stream",
     "text": [
      "Train samples: 267220\n"
     ]
    },
    {
     "data": {
      "text/html": [
       "<div>\n",
       "<style scoped>\n",
       "    .dataframe tbody tr th:only-of-type {\n",
       "        vertical-align: middle;\n",
       "    }\n",
       "\n",
       "    .dataframe tbody tr th {\n",
       "        vertical-align: top;\n",
       "    }\n",
       "\n",
       "    .dataframe thead th {\n",
       "        text-align: right;\n",
       "    }\n",
       "</style>\n",
       "<table border=\"1\" class=\"dataframe\">\n",
       "  <thead>\n",
       "    <tr style=\"text-align: right;\">\n",
       "      <th></th>\n",
       "      <th>comment_text</th>\n",
       "      <th>toxic</th>\n",
       "      <th>toxic_int</th>\n",
       "      <th>fold_1</th>\n",
       "      <th>fold_2</th>\n",
       "      <th>fold_3</th>\n",
       "      <th>fold_4</th>\n",
       "      <th>fold_5</th>\n",
       "    </tr>\n",
       "  </thead>\n",
       "  <tbody>\n",
       "    <tr>\n",
       "      <th>0</th>\n",
       "      <td>It would be helpful if either story about this...</td>\n",
       "      <td>0.20000</td>\n",
       "      <td>0</td>\n",
       "      <td>train</td>\n",
       "      <td>train</td>\n",
       "      <td>validation</td>\n",
       "      <td>train</td>\n",
       "      <td>train</td>\n",
       "    </tr>\n",
       "    <tr>\n",
       "      <th>1</th>\n",
       "      <td>What's missing in your stats is the percentage...</td>\n",
       "      <td>0.00000</td>\n",
       "      <td>0</td>\n",
       "      <td>train</td>\n",
       "      <td>train</td>\n",
       "      <td>validation</td>\n",
       "      <td>train</td>\n",
       "      <td>train</td>\n",
       "    </tr>\n",
       "    <tr>\n",
       "      <th>2</th>\n",
       "      <td>Great another mediocre season.</td>\n",
       "      <td>0.60000</td>\n",
       "      <td>1</td>\n",
       "      <td>train</td>\n",
       "      <td>train</td>\n",
       "      <td>validation</td>\n",
       "      <td>train</td>\n",
       "      <td>train</td>\n",
       "    </tr>\n",
       "    <tr>\n",
       "      <th>3</th>\n",
       "      <td>Putting your money where your mouth is. Can't ...</td>\n",
       "      <td>0.65625</td>\n",
       "      <td>1</td>\n",
       "      <td>validation</td>\n",
       "      <td>train</td>\n",
       "      <td>train</td>\n",
       "      <td>train</td>\n",
       "      <td>train</td>\n",
       "    </tr>\n",
       "    <tr>\n",
       "      <th>4</th>\n",
       "      <td>Just call me Nemo.... I'm writing about the HB...</td>\n",
       "      <td>0.00000</td>\n",
       "      <td>0</td>\n",
       "      <td>train</td>\n",
       "      <td>train</td>\n",
       "      <td>train</td>\n",
       "      <td>train</td>\n",
       "      <td>validation</td>\n",
       "    </tr>\n",
       "  </tbody>\n",
       "</table>\n",
       "</div>"
      ],
      "text/plain": [
       "                                        comment_text    toxic  toxic_int  \\\n",
       "0  It would be helpful if either story about this...  0.20000          0   \n",
       "1  What's missing in your stats is the percentage...  0.00000          0   \n",
       "2                     Great another mediocre season.  0.60000          1   \n",
       "3  Putting your money where your mouth is. Can't ...  0.65625          1   \n",
       "4  Just call me Nemo.... I'm writing about the HB...  0.00000          0   \n",
       "\n",
       "       fold_1 fold_2      fold_3 fold_4      fold_5  \n",
       "0       train  train  validation  train       train  \n",
       "1       train  train  validation  train       train  \n",
       "2       train  train  validation  train       train  \n",
       "3  validation  train       train  train       train  \n",
       "4       train  train       train  train  validation  "
      ]
     },
     "metadata": {},
     "output_type": "display_data"
    },
    {
     "name": "stdout",
     "output_type": "stream",
     "text": [
      "Validation samples: 8000\n"
     ]
    },
    {
     "data": {
      "text/html": [
       "<div>\n",
       "<style scoped>\n",
       "    .dataframe tbody tr th:only-of-type {\n",
       "        vertical-align: middle;\n",
       "    }\n",
       "\n",
       "    .dataframe tbody tr th {\n",
       "        vertical-align: top;\n",
       "    }\n",
       "\n",
       "    .dataframe thead th {\n",
       "        text-align: right;\n",
       "    }\n",
       "</style>\n",
       "<table border=\"1\" class=\"dataframe\">\n",
       "  <thead>\n",
       "    <tr style=\"text-align: right;\">\n",
       "      <th></th>\n",
       "      <th>comment_text</th>\n",
       "      <th>lang</th>\n",
       "      <th>toxic</th>\n",
       "    </tr>\n",
       "  </thead>\n",
       "  <tbody>\n",
       "    <tr>\n",
       "      <th>0</th>\n",
       "      <td>Este usuario ni siquiera llega al rango de    ...</td>\n",
       "      <td>es</td>\n",
       "      <td>0</td>\n",
       "    </tr>\n",
       "    <tr>\n",
       "      <th>1</th>\n",
       "      <td>Il testo di questa voce pare esser scopiazzato...</td>\n",
       "      <td>it</td>\n",
       "      <td>0</td>\n",
       "    </tr>\n",
       "    <tr>\n",
       "      <th>2</th>\n",
       "      <td>Vale. Sólo expongo mi pasado. Todo tiempo pasa...</td>\n",
       "      <td>es</td>\n",
       "      <td>1</td>\n",
       "    </tr>\n",
       "    <tr>\n",
       "      <th>3</th>\n",
       "      <td>Bu maddenin alt başlığı olarak  uluslararası i...</td>\n",
       "      <td>tr</td>\n",
       "      <td>0</td>\n",
       "    </tr>\n",
       "    <tr>\n",
       "      <th>4</th>\n",
       "      <td>Belçika nın şehirlerinin yanında ilçe ve belde...</td>\n",
       "      <td>tr</td>\n",
       "      <td>0</td>\n",
       "    </tr>\n",
       "  </tbody>\n",
       "</table>\n",
       "</div>"
      ],
      "text/plain": [
       "                                        comment_text lang  toxic\n",
       "0  Este usuario ni siquiera llega al rango de    ...   es      0\n",
       "1  Il testo di questa voce pare esser scopiazzato...   it      0\n",
       "2  Vale. Sólo expongo mi pasado. Todo tiempo pasa...   es      1\n",
       "3  Bu maddenin alt başlığı olarak  uluslararası i...   tr      0\n",
       "4  Belçika nın şehirlerinin yanında ilçe ve belde...   tr      0"
      ]
     },
     "metadata": {},
     "output_type": "display_data"
    },
    {
     "name": "stdout",
     "output_type": "stream",
     "text": [
      "fold_1/\r\n",
      "fold_1/x_train.npy\r\n",
      "fold_1/y_train.npy\r\n",
      "fold_1/y_valid.npy\r\n",
      "fold_1/x_valid.npy\r\n"
     ]
    }
   ],
   "source": [
    "database_base_path = '/kaggle/input/jigsaw-data-split-roberta-192-ratio-1-clean/'\n",
    "k_fold = pd.read_csv(database_base_path + '5-fold.csv')\n",
    "valid_df = pd.read_csv(\"/kaggle/input/jigsaw-multilingual-toxic-comment-classification/validation.csv\", usecols=['comment_text', 'toxic', 'lang'])\n",
    "\n",
    "print('Train samples: %d' % len(k_fold))\n",
    "display(k_fold.head())\n",
    "print('Validation samples: %d' % len(valid_df))\n",
    "display(valid_df.head())\n",
    "\n",
    "# Unzip files\n",
    "!tar -xvf /kaggle/input/jigsaw-data-split-roberta-192-ratio-1-clean/fold_1.tar.gz"
   ]
  },
  {
   "cell_type": "markdown",
   "metadata": {},
   "source": [
    "# Model parameters"
   ]
  },
  {
   "cell_type": "code",
   "execution_count": 4,
   "metadata": {
    "_kg_hide-input": false
   },
   "outputs": [],
   "source": [
    "base_path = '/kaggle/input/jigsaw-transformers/XLM-RoBERTa/'\n",
    "\n",
    "config = {\n",
    "  \"MAX_LEN\": 192,\n",
    "  \"BATCH_SIZE\": 128,\n",
    "  \"EPOCHS\": 5,\n",
    "  \"LEARNING_RATE\": 1e-5, \n",
    "  \"ES_PATIENCE\": 1,\n",
    "  \"N_FOLDS\": 1,\n",
    "  \"base_model_path\": base_path + 'tf-xlm-roberta-large-tf_model.h5',\n",
    "  \"config_path\": base_path + 'xlm-roberta-large-config.json'\n",
    "}\n",
    "\n",
    "with open('config.json', 'w') as json_file:\n",
    "    json.dump(json.loads(json.dumps(config)), json_file)"
   ]
  },
  {
   "cell_type": "markdown",
   "metadata": {},
   "source": [
    "# Model"
   ]
  },
  {
   "cell_type": "code",
   "execution_count": 5,
   "metadata": {},
   "outputs": [],
   "source": [
    "module_config = XLMRobertaConfig.from_pretrained(config['config_path'], output_hidden_states=False)\n",
    "\n",
    "def model_fn(MAX_LEN):\n",
    "    input_ids = layers.Input(shape=(MAX_LEN,), dtype=tf.int32, name='input_ids')\n",
    "    attention_mask = layers.Input(shape=(MAX_LEN,), dtype=tf.int32, name='attention_mask')\n",
    "    \n",
    "    base_model = TFXLMRobertaModel.from_pretrained(config['base_model_path'], config=module_config)\n",
    "    last_hidden_state, _ = base_model({'input_ids': input_ids, 'attention_mask': attention_mask})\n",
    "    \n",
    "    x_avg = layers.GlobalAveragePooling1D()(last_hidden_state)\n",
    "    x_max = layers.GlobalMaxPooling1D()(last_hidden_state)\n",
    "    x = layers.Concatenate()([x_avg, x_max])\n",
    "    x = layers.Dropout(0.3)(x)\n",
    "    \n",
    "    output = layers.Dense(1, activation='sigmoid', name='output')(x)\n",
    "    \n",
    "    model = Model(inputs=[input_ids, attention_mask], outputs=output)\n",
    "    \n",
    "    return model"
   ]
  },
  {
   "cell_type": "markdown",
   "metadata": {},
   "source": [
    "# Train"
   ]
  },
  {
   "cell_type": "code",
   "execution_count": 6,
   "metadata": {},
   "outputs": [
    {
     "name": "stdout",
     "output_type": "stream",
     "text": [
      "\n",
      "FOLD: 1\n",
      "Train for 1670 steps, validate for 62 steps\n",
      "\n",
      "EPOCH 1/5\n",
      "time: 716.3s loss: 0.4743 auc: 0.9237 accuracy: 0.4531 val_loss: 0.2543 val_auc: 0.9294 val_accuracy: 0.8828\n",
      "Saved model weights at \"model_fold_1.h5\"\n",
      "\n",
      "EPOCH 2/5\n",
      "time: 503.4s loss: 0.4144 auc: 0.9492 accuracy: 0.4671 val_loss: 0.2367 val_auc: 0.9286 val_accuracy: 0.8784\n",
      "Saved model weights at \"model_fold_1.h5\"\n",
      "\n",
      "EPOCH 3/5\n",
      "time: 504.3s loss: 0.3916 auc: 0.9572 accuracy: 0.4720 val_loss: 0.2486 val_auc: 0.9227 val_accuracy: 0.8766\n",
      "Epoch 00003: early stopping\n"
     ]
    }
   ],
   "source": [
    "history_list = []\n",
    "\n",
    "for n_fold in range(config['N_FOLDS']):\n",
    "    tf.tpu.experimental.initialize_tpu_system(tpu)\n",
    "    print('\\nFOLD: %d' % (n_fold+1))\n",
    "    # Load data\n",
    "    base_data_path = 'fold_%d/' % (n_fold+1)\n",
    "    x_train = np.load(base_data_path + 'x_train.npy')\n",
    "    y_train = np.load(base_data_path + 'y_train.npy').reshape(x_train.shape[1], 1).astype(np.float32)\n",
    "    x_valid_ml = np.load(database_base_path + 'x_valid.npy')\n",
    "    y_valid_ml = np.load(database_base_path + 'y_valid.npy').reshape(x_valid_ml.shape[1], 1).astype(np.float32)\n",
    "    \n",
    "    step_size = x_train.shape[1] // config['BATCH_SIZE']\n",
    "    valid_step_size = x_valid_ml.shape[1] // config['BATCH_SIZE']\n",
    "    \n",
    "    ### Delete data dir\n",
    "    shutil.rmtree(base_data_path)\n",
    "    \n",
    "    # Build TF datasets\n",
    "    train_dist_ds = strategy.experimental_distribute_dataset(get_training_dataset(x_train, y_train, config['BATCH_SIZE'], AUTO, seed=SEED))\n",
    "    valid_dist_ds = strategy.experimental_distribute_dataset(get_validation_dataset(x_valid_ml, y_valid_ml, config['BATCH_SIZE'], AUTO, repeated=True, seed=SEED))\n",
    "    train_data_iter = iter(train_dist_ds)\n",
    "    valid_data_iter = iter(valid_dist_ds)\n",
    "    \n",
    "    # Step functions\n",
    "    @tf.function\n",
    "    def train_step(data_iter):\n",
    "        def train_step_fn(x, y):\n",
    "            with tf.GradientTape() as tape:\n",
    "                probabilities = model(x, training=True)\n",
    "                loss = loss_fn(y, probabilities)\n",
    "            grads = tape.gradient(loss, model.trainable_variables)\n",
    "            optimizer.apply_gradients(zip(grads, model.trainable_variables))\n",
    "            train_accuracy.update_state(y, probabilities)\n",
    "            train_auc.update_state(y, probabilities)\n",
    "            train_loss.update_state(loss)\n",
    "        for _ in tf.range(step_size):\n",
    "            strategy.experimental_run_v2(train_step_fn, next(data_iter))\n",
    "\n",
    "    @tf.function\n",
    "    def valid_step(data_iter):\n",
    "        def valid_step_fn(x, y):\n",
    "            probabilities = model(x, training=False)\n",
    "            loss = loss_fn(y, probabilities)\n",
    "            valid_accuracy.update_state(y, probabilities)\n",
    "            valid_auc.update_state(y, probabilities)\n",
    "            valid_loss.update_state(loss)\n",
    "        for _ in tf.range(valid_step_size):\n",
    "            strategy.experimental_run_v2(valid_step_fn, next(data_iter))\n",
    "    \n",
    "    # Train model\n",
    "    model_path = 'model_fold_%d.h5' % (n_fold+1)\n",
    "    \n",
    "    with strategy.scope():\n",
    "        model = model_fn(config['MAX_LEN'])\n",
    "        optimizer = optimizers.Adam(lr=config['LEARNING_RATE'])\n",
    "        loss_fn = losses.binary_crossentropy\n",
    "\n",
    "        train_accuracy = metrics.BinaryAccuracy()\n",
    "        valid_accuracy = metrics.BinaryAccuracy()\n",
    "        train_auc = metrics.AUC()\n",
    "        valid_auc = metrics.AUC()\n",
    "        train_loss = metrics.Sum()\n",
    "        valid_loss = metrics.Sum()\n",
    "        \n",
    "    # Setup training loop\n",
    "    step = 0\n",
    "    epoch = 0\n",
    "    epoch_steps = 0\n",
    "    epoch_start_time = time.time()\n",
    "    history = {'loss': [], 'auc': [], 'accuracy': [], \n",
    "               'val_loss': [], 'val_auc': [], 'val_accuracy': []}\n",
    "    patience_cnt = 0\n",
    "    best_val = float(\"inf\")\n",
    "\n",
    "    print(f'Train for {step_size} steps, validate for {valid_step_size} steps')\n",
    "    ### Train model\n",
    "    while True:\n",
    "        train_step(train_data_iter)\n",
    "        epoch_steps += step_size\n",
    "        step += step_size\n",
    "\n",
    "        # validation run at the end of each epoch\n",
    "        if (step // step_size) > epoch:\n",
    "            # validation run\n",
    "            valid_epoch_steps = 0\n",
    "            valid_step(valid_data_iter)\n",
    "            valid_epoch_steps += valid_step_size\n",
    "\n",
    "            # compute metrics\n",
    "            history['accuracy'].append(train_accuracy.result().numpy())\n",
    "            history['auc'].append(train_auc.result().numpy())\n",
    "            history['loss'].append(train_loss.result().numpy() / (config['BATCH_SIZE'] * epoch_steps))\n",
    "            history['val_accuracy'].append(valid_accuracy.result().numpy())\n",
    "            history['val_auc'].append(valid_auc.result().numpy())\n",
    "            history['val_loss'].append(valid_loss.result().numpy() / (config['BATCH_SIZE'] * valid_epoch_steps))\n",
    "\n",
    "            # report metrics\n",
    "            epoch_time = time.time() - epoch_start_time\n",
    "            print('\\nEPOCH {:d}/{:d}'.format(epoch+1, config['EPOCHS']))\n",
    "            print('time: {:0.1f}s'.format(epoch_time),\n",
    "                  'loss: {:0.4f}'.format(history['loss'][-1]),\n",
    "                  'auc: {:0.4f}'.format(history['auc'][-1]),\n",
    "                  'accuracy: {:0.4f}'.format(history['accuracy'][-1]),\n",
    "                  'val_loss: {:0.4f}'.format(history['val_loss'][-1]),\n",
    "                  'val_auc: {:0.4f}'.format(history['val_auc'][-1]),\n",
    "                  'val_accuracy: {:0.4f}'.format(history['val_accuracy'][-1]))\n",
    "\n",
    "            # set up next epoch\n",
    "            epoch = step // step_size\n",
    "            epoch_steps = 0\n",
    "            epoch_start_time = time.time()\n",
    "            train_accuracy.reset_states()\n",
    "            valid_accuracy.reset_states()\n",
    "            train_auc.reset_states()\n",
    "            valid_auc.reset_states()\n",
    "            train_loss.reset_states()\n",
    "            valid_loss.reset_states()\n",
    "\n",
    "            if epoch < config['EPOCHS']:\n",
    "                # Early stopping monitor\n",
    "                if history['val_loss'][-1] <= best_val:\n",
    "                    best_val = history['val_loss'][-1]\n",
    "                    model.save_weights(model_path)\n",
    "                    print('Saved model weights at \"%s\"' % model_path)\n",
    "                else:\n",
    "                    patience_cnt += 1\n",
    "                if patience_cnt >= config['ES_PATIENCE']:\n",
    "                    print('Epoch %05d: early stopping' % epoch)\n",
    "                    break\n",
    "            else:\n",
    "                model.save_weights(model_path)\n",
    "                print('Training finished saved model weights at \"%s\"' % model_path)\n",
    "                break\n",
    "        \n",
    "    history_list.append(history)\n",
    "    model.load_weights(model_path)\n",
    "    \n",
    "#     # Fine-tune on validation set\n",
    "#     print('\\nFine-tune on validation set')\n",
    "#     n_steps2 = x_valid_ml.shape[1] // config['BATCH_SIZE']\n",
    "\n",
    "#     history2 = model.fit(get_training_dataset(x_valid_ml, y_valid_ml, config['BATCH_SIZE'], AUTO),\n",
    "#                          steps_per_epoch=n_steps2,\n",
    "#                          epochs=config['EPOCHS'],\n",
    "#                          verbose=2).history\n",
    "    \n",
    "    # Make predictions\n",
    "#     train_preds = model.predict(get_test_dataset(x_train, config['BATCH_SIZE'], AUTO))\n",
    "#     valid_preds = model.predict(get_test_dataset(x_valid, config['BATCH_SIZE'], AUTO))\n",
    "    valid_ml_preds = model.predict(get_test_dataset(x_valid_ml, config['BATCH_SIZE'], AUTO))\n",
    "    \n",
    "#     k_fold.loc[k_fold['fold_%d' % (n_fold+1)] == 'train', 'pred_%d' % (n_fold+1)] = np.round(train_preds)\n",
    "#     k_fold.loc[k_fold['fold_%d' % (n_fold+1)] == 'validation', 'pred_%d' % (n_fold+1)] = np.round(valid_preds)\n",
    "    valid_df['pred_%d' % (n_fold+1)] = valid_ml_preds"
   ]
  },
  {
   "cell_type": "markdown",
   "metadata": {},
   "source": [
    "## Model loss graph"
   ]
  },
  {
   "cell_type": "code",
   "execution_count": 7,
   "metadata": {
    "_kg_hide-input": true
   },
   "outputs": [
    {
     "name": "stdout",
     "output_type": "stream",
     "text": [
      "Fold: 1\n"
     ]
    },
    {
     "data": {
      "image/png": "[encoded data removed]",
      "text/plain": [
       "<Figure size 1440x1080 with 3 Axes>"
      ]
     },
     "metadata": {},
     "output_type": "display_data"
    }
   ],
   "source": [
    "sns.set(style=\"whitegrid\")\n",
    "for n_fold in range(config['N_FOLDS']):\n",
    "    print('Fold: %d' % (n_fold+1))\n",
    "    plot_metrics(history_list[n_fold])"
   ]
  },
  {
   "cell_type": "markdown",
   "metadata": {},
   "source": [
    "# Model evaluation"
   ]
  },
  {
   "cell_type": "code",
   "execution_count": 8,
   "metadata": {
    "_kg_hide-input": true
   },
   "outputs": [],
   "source": [
    "# display(evaluate_model(k_fold, config['N_FOLDS']).style.applymap(color_map))"
   ]
  },
  {
   "cell_type": "markdown",
   "metadata": {},
   "source": [
    "# Confusion matrix"
   ]
  },
  {
   "cell_type": "code",
   "execution_count": 9,
   "metadata": {
    "_kg_hide-input": true
   },
   "outputs": [],
   "source": [
    "# for n_fold in range(config['N_FOLDS']):\n",
    "#     print('Fold: %d' % (n_fold+1))\n",
    "#     train_set = k_fold[k_fold['fold_%d' % (n_fold+1)] == 'train']\n",
    "#     validation_set = k_fold[k_fold['fold_%d' % (n_fold+1)] == 'validation'] \n",
    "#     plot_confusion_matrix(train_set['toxic'], train_set['pred_%d' % (n_fold+1)], \n",
    "#                           validation_set['toxic'], validation_set['pred_%d' % (n_fold+1)])"
   ]
  },
  {
   "cell_type": "markdown",
   "metadata": {},
   "source": [
    "# Model evaluation by language"
   ]
  },
  {
   "cell_type": "code",
   "execution_count": 10,
   "metadata": {
    "_kg_hide-input": true
   },
   "outputs": [
    {
     "data": {
      "text/html": [
       "<style  type=\"text/css\" >\n",
       "    #T_8e13f588_8951_11ea_b7b9_0242ac130202row0_col0 {\n",
       "            color:  green;\n",
       "        }    #T_8e13f588_8951_11ea_b7b9_0242ac130202row0_col1 {\n",
       "            color:  green;\n",
       "        }    #T_8e13f588_8951_11ea_b7b9_0242ac130202row1_col0 {\n",
       "            color:  green;\n",
       "        }    #T_8e13f588_8951_11ea_b7b9_0242ac130202row1_col1 {\n",
       "            color:  green;\n",
       "        }    #T_8e13f588_8951_11ea_b7b9_0242ac130202row2_col0 {\n",
       "            color:  green;\n",
       "        }    #T_8e13f588_8951_11ea_b7b9_0242ac130202row2_col1 {\n",
       "            color:  green;\n",
       "        }    #T_8e13f588_8951_11ea_b7b9_0242ac130202row3_col0 {\n",
       "            color:  green;\n",
       "        }    #T_8e13f588_8951_11ea_b7b9_0242ac130202row3_col1 {\n",
       "            color:  green;\n",
       "        }</style><table id=\"T_8e13f588_8951_11ea_b7b9_0242ac130202\" ><thead>    <tr>        <th class=\"blank level0\" ></th>        <th class=\"col_heading level0 col0\" >Mean</th>        <th class=\"col_heading level0 col1\" >Fold_1</th>    </tr>    <tr>        <th class=\"index_name level0\" >Lang / ROC AUC</th>        <th class=\"blank\" ></th>        <th class=\"blank\" ></th>    </tr></thead><tbody>\n",
       "                <tr>\n",
       "                        <th id=\"T_8e13f588_8951_11ea_b7b9_0242ac130202level0_row0\" class=\"row_heading level0 row0\" >Overall</th>\n",
       "                        <td id=\"T_8e13f588_8951_11ea_b7b9_0242ac130202row0_col0\" class=\"data row0 col0\" >0.927108</td>\n",
       "                        <td id=\"T_8e13f588_8951_11ea_b7b9_0242ac130202row0_col1\" class=\"data row0 col1\" >0.927108</td>\n",
       "            </tr>\n",
       "            <tr>\n",
       "                        <th id=\"T_8e13f588_8951_11ea_b7b9_0242ac130202level0_row1\" class=\"row_heading level0 row1\" >es</th>\n",
       "                        <td id=\"T_8e13f588_8951_11ea_b7b9_0242ac130202row1_col0\" class=\"data row1 col0\" >0.909516</td>\n",
       "                        <td id=\"T_8e13f588_8951_11ea_b7b9_0242ac130202row1_col1\" class=\"data row1 col1\" >0.909516</td>\n",
       "            </tr>\n",
       "            <tr>\n",
       "                        <th id=\"T_8e13f588_8951_11ea_b7b9_0242ac130202level0_row2\" class=\"row_heading level0 row2\" >it</th>\n",
       "                        <td id=\"T_8e13f588_8951_11ea_b7b9_0242ac130202row2_col0\" class=\"data row2 col0\" >0.893033</td>\n",
       "                        <td id=\"T_8e13f588_8951_11ea_b7b9_0242ac130202row2_col1\" class=\"data row2 col1\" >0.893033</td>\n",
       "            </tr>\n",
       "            <tr>\n",
       "                        <th id=\"T_8e13f588_8951_11ea_b7b9_0242ac130202level0_row3\" class=\"row_heading level0 row3\" >tr</th>\n",
       "                        <td id=\"T_8e13f588_8951_11ea_b7b9_0242ac130202row3_col0\" class=\"data row3 col0\" >0.98547</td>\n",
       "                        <td id=\"T_8e13f588_8951_11ea_b7b9_0242ac130202row3_col1\" class=\"data row3 col1\" >0.98547</td>\n",
       "            </tr>\n",
       "    </tbody></table>"
      ],
      "text/plain": [
       "<pandas.io.formats.style.Styler at 0x7fde743a37f0>"
      ]
     },
     "metadata": {},
     "output_type": "display_data"
    }
   ],
   "source": [
    "display(evaluate_model_lang(valid_df, config['N_FOLDS']).style.applymap(color_map))"
   ]
  },
  {
   "cell_type": "markdown",
   "metadata": {},
   "source": [
    "# Visualize predictions"
   ]
  },
  {
   "cell_type": "code",
   "execution_count": 11,
   "metadata": {
    "_kg_hide-input": true
   },
   "outputs": [
    {
     "name": "stdout",
     "output_type": "stream",
     "text": [
      "English validation set\n"
     ]
    },
    {
     "data": {
      "text/html": [
       "<div>\n",
       "<style scoped>\n",
       "    .dataframe tbody tr th:only-of-type {\n",
       "        vertical-align: middle;\n",
       "    }\n",
       "\n",
       "    .dataframe tbody tr th {\n",
       "        vertical-align: top;\n",
       "    }\n",
       "\n",
       "    .dataframe thead th {\n",
       "        text-align: right;\n",
       "    }\n",
       "</style>\n",
       "<table border=\"1\" class=\"dataframe\">\n",
       "  <thead>\n",
       "    <tr style=\"text-align: right;\">\n",
       "      <th></th>\n",
       "      <th>comment_text</th>\n",
       "      <th>toxic</th>\n",
       "    </tr>\n",
       "  </thead>\n",
       "  <tbody>\n",
       "    <tr>\n",
       "      <th>0</th>\n",
       "      <td>It would be helpful if either story about this incident contained additional facts about what happened. Was the vict...</td>\n",
       "      <td>0.20000</td>\n",
       "    </tr>\n",
       "    <tr>\n",
       "      <th>1</th>\n",
       "      <td>What's missing in your stats is the percentage of Canadians who believed there was a clean exit to this mess. I'm no...</td>\n",
       "      <td>0.00000</td>\n",
       "    </tr>\n",
       "    <tr>\n",
       "      <th>2</th>\n",
       "      <td>Great another mediocre season.</td>\n",
       "      <td>0.60000</td>\n",
       "    </tr>\n",
       "    <tr>\n",
       "      <th>3</th>\n",
       "      <td>Putting your money where your mouth is. Can't fault him for that, for sure. Oh, wait, that's right, he had no proble...</td>\n",
       "      <td>0.65625</td>\n",
       "    </tr>\n",
       "    <tr>\n",
       "      <th>4</th>\n",
       "      <td>Just call me Nemo.... I'm writing about the HB visa program and so is the author of the article. There are , opening...</td>\n",
       "      <td>0.00000</td>\n",
       "    </tr>\n",
       "    <tr>\n",
       "      <th>5</th>\n",
       "      <td>you are an incredible optimist. You see shiny bright full, I see dark clouds obscuring the edge that humans are tott...</td>\n",
       "      <td>0.00000</td>\n",
       "    </tr>\n",
       "    <tr>\n",
       "      <th>6</th>\n",
       "      <td>What about Junior's vacation investigation; Morneau and his conflicts of interest; Junior's and Morneau's hidden mon...</td>\n",
       "      <td>0.60000</td>\n",
       "    </tr>\n",
       "    <tr>\n",
       "      <th>7</th>\n",
       "      <td>If you are not well later in life, you need the extra money to cover home care or a residence. Or perhaps, you are h...</td>\n",
       "      <td>0.00000</td>\n",
       "    </tr>\n",
       "    <tr>\n",
       "      <th>8</th>\n",
       "      <td>scuppers.. Facts and reality won't help your case. You'll need to get into the gutter with false facts, false accusa...</td>\n",
       "      <td>1.00000</td>\n",
       "    </tr>\n",
       "    <tr>\n",
       "      <th>9</th>\n",
       "      <td>Yes, electoral districts that voted for Trump had higher median incomes. No, they did not have more education So the...</td>\n",
       "      <td>0.00000</td>\n",
       "    </tr>\n",
       "  </tbody>\n",
       "</table>\n",
       "</div>"
      ],
      "text/plain": [
       "                                                                                                              comment_text  \\\n",
       "0  It would be helpful if either story about this incident contained additional facts about what happened. Was the vict...   \n",
       "1  What's missing in your stats is the percentage of Canadians who believed there was a clean exit to this mess. I'm no...   \n",
       "2                                                                                           Great another mediocre season.   \n",
       "3  Putting your money where your mouth is. Can't fault him for that, for sure. Oh, wait, that's right, he had no proble...   \n",
       "4  Just call me Nemo.... I'm writing about the HB visa program and so is the author of the article. There are , opening...   \n",
       "5  you are an incredible optimist. You see shiny bright full, I see dark clouds obscuring the edge that humans are tott...   \n",
       "6  What about Junior's vacation investigation; Morneau and his conflicts of interest; Junior's and Morneau's hidden mon...   \n",
       "7  If you are not well later in life, you need the extra money to cover home care or a residence. Or perhaps, you are h...   \n",
       "8  scuppers.. Facts and reality won't help your case. You'll need to get into the gutter with false facts, false accusa...   \n",
       "9  Yes, electoral districts that voted for Trump had higher median incomes. No, they did not have more education So the...   \n",
       "\n",
       "     toxic  \n",
       "0  0.20000  \n",
       "1  0.00000  \n",
       "2  0.60000  \n",
       "3  0.65625  \n",
       "4  0.00000  \n",
       "5  0.00000  \n",
       "6  0.60000  \n",
       "7  0.00000  \n",
       "8  1.00000  \n",
       "9  0.00000  "
      ]
     },
     "metadata": {},
     "output_type": "display_data"
    },
    {
     "name": "stdout",
     "output_type": "stream",
     "text": [
      "Multilingual validation set\n"
     ]
    },
    {
     "data": {
      "text/html": [
       "<div>\n",
       "<style scoped>\n",
       "    .dataframe tbody tr th:only-of-type {\n",
       "        vertical-align: middle;\n",
       "    }\n",
       "\n",
       "    .dataframe tbody tr th {\n",
       "        vertical-align: top;\n",
       "    }\n",
       "\n",
       "    .dataframe thead th {\n",
       "        text-align: right;\n",
       "    }\n",
       "</style>\n",
       "<table border=\"1\" class=\"dataframe\">\n",
       "  <thead>\n",
       "    <tr style=\"text-align: right;\">\n",
       "      <th></th>\n",
       "      <th>comment_text</th>\n",
       "      <th>toxic</th>\n",
       "      <th>pred_1</th>\n",
       "    </tr>\n",
       "  </thead>\n",
       "  <tbody>\n",
       "    <tr>\n",
       "      <th>0</th>\n",
       "      <td>Este usuario ni siquiera llega al rango de    hereje   . Por lo tanto debería ser quemado en la barbacoa para purifi...</td>\n",
       "      <td>0</td>\n",
       "      <td>0.644210</td>\n",
       "    </tr>\n",
       "    <tr>\n",
       "      <th>1</th>\n",
       "      <td>Il testo di questa voce pare esser scopiazzato direttamente da qui. Immagino possano esserci problemi di copyright, ...</td>\n",
       "      <td>0</td>\n",
       "      <td>0.109830</td>\n",
       "    </tr>\n",
       "    <tr>\n",
       "      <th>2</th>\n",
       "      <td>Vale. Sólo expongo mi pasado. Todo tiempo pasado fue mejor, ni mucho menos, yo no quisiera retroceder 31 años a nive...</td>\n",
       "      <td>1</td>\n",
       "      <td>0.804365</td>\n",
       "    </tr>\n",
       "    <tr>\n",
       "      <th>3</th>\n",
       "      <td>Bu maddenin alt başlığı olarak  uluslararası ilişkiler  ile konuyu sürdürmek ile ilgili tereddütlerim var.Önerim siy...</td>\n",
       "      <td>0</td>\n",
       "      <td>0.002806</td>\n",
       "    </tr>\n",
       "    <tr>\n",
       "      <th>4</th>\n",
       "      <td>Belçika nın şehirlerinin yanında ilçe ve beldelerini yaparken sanırım Portekizi örnek alacaksın. Ben de uzak gelecek...</td>\n",
       "      <td>0</td>\n",
       "      <td>0.006821</td>\n",
       "    </tr>\n",
       "    <tr>\n",
       "      <th>5</th>\n",
       "      <td>güzel, zaten kaynaklandırması zor subjektif kategoriler bunlar. bazı maddelerden çıkartmak, kiminden çıkartıp kimind...</td>\n",
       "      <td>0</td>\n",
       "      <td>0.009903</td>\n",
       "    </tr>\n",
       "    <tr>\n",
       "      <th>6</th>\n",
       "      <td>No es mala idea. De hecho, yo estaba pensando descolgarme ya del reto mensual, pero esto vuelve a ilusionarme. El pr...</td>\n",
       "      <td>0</td>\n",
       "      <td>0.005402</td>\n",
       "    </tr>\n",
       "    <tr>\n",
       "      <th>7</th>\n",
       "      <td>Kod hatalarını düzeltmişsiniz,elinize sağlık çok teşekkürler.Önceki sürümleri araştırdım.13 Haziran 2010 da Kullanıc...</td>\n",
       "      <td>0</td>\n",
       "      <td>0.003759</td>\n",
       "    </tr>\n",
       "    <tr>\n",
       "      <th>8</th>\n",
       "      <td>Levent Abi nasılsın? Hayat nasıl gidiyor? Umarım her şey istediğin gibidir. Bu arada Janet Jackson maddesi seçkin ma...</td>\n",
       "      <td>0</td>\n",
       "      <td>0.008925</td>\n",
       "    </tr>\n",
       "    <tr>\n",
       "      <th>9</th>\n",
       "      <td>Creo que es importante que podamos reconocer a gente como Victor Manuel Vucetich , quien es originario de Tampico y ...</td>\n",
       "      <td>0</td>\n",
       "      <td>0.008340</td>\n",
       "    </tr>\n",
       "  </tbody>\n",
       "</table>\n",
       "</div>"
      ],
      "text/plain": [
       "                                                                                                              comment_text  \\\n",
       "0  Este usuario ni siquiera llega al rango de    hereje   . Por lo tanto debería ser quemado en la barbacoa para purifi...   \n",
       "1  Il testo di questa voce pare esser scopiazzato direttamente da qui. Immagino possano esserci problemi di copyright, ...   \n",
       "2  Vale. Sólo expongo mi pasado. Todo tiempo pasado fue mejor, ni mucho menos, yo no quisiera retroceder 31 años a nive...   \n",
       "3  Bu maddenin alt başlığı olarak  uluslararası ilişkiler  ile konuyu sürdürmek ile ilgili tereddütlerim var.Önerim siy...   \n",
       "4  Belçika nın şehirlerinin yanında ilçe ve beldelerini yaparken sanırım Portekizi örnek alacaksın. Ben de uzak gelecek...   \n",
       "5  güzel, zaten kaynaklandırması zor subjektif kategoriler bunlar. bazı maddelerden çıkartmak, kiminden çıkartıp kimind...   \n",
       "6  No es mala idea. De hecho, yo estaba pensando descolgarme ya del reto mensual, pero esto vuelve a ilusionarme. El pr...   \n",
       "7  Kod hatalarını düzeltmişsiniz,elinize sağlık çok teşekkürler.Önceki sürümleri araştırdım.13 Haziran 2010 da Kullanıc...   \n",
       "8  Levent Abi nasılsın? Hayat nasıl gidiyor? Umarım her şey istediğin gibidir. Bu arada Janet Jackson maddesi seçkin ma...   \n",
       "9  Creo que es importante que podamos reconocer a gente como Victor Manuel Vucetich , quien es originario de Tampico y ...   \n",
       "\n",
       "   toxic    pred_1  \n",
       "0      0  0.644210  \n",
       "1      0  0.109830  \n",
       "2      1  0.804365  \n",
       "3      0  0.002806  \n",
       "4      0  0.006821  \n",
       "5      0  0.009903  \n",
       "6      0  0.005402  \n",
       "7      0  0.003759  \n",
       "8      0  0.008925  \n",
       "9      0  0.008340  "
      ]
     },
     "metadata": {},
     "output_type": "display_data"
    }
   ],
   "source": [
    "pd.set_option('max_colwidth', 120)\n",
    "print('English validation set')\n",
    "display(k_fold[['comment_text', 'toxic'] + [c for c in k_fold.columns if c.startswith('pred')]].head(10))\n",
    "\n",
    "print('Multilingual validation set')\n",
    "display(valid_df[['comment_text', 'toxic'] + [c for c in valid_df.columns if c.startswith('pred')]].head(10))"
   ]
  },
  {
   "cell_type": "markdown",
   "metadata": {},
   "source": [
    "# Test set predictions"
   ]
  },
  {
   "cell_type": "code",
   "execution_count": 12,
   "metadata": {},
   "outputs": [
    {
     "name": "stdout",
     "output_type": "stream",
     "text": [
      "Models to predict:\n",
      "/kaggle/working/model_fold_1.h5\n"
     ]
    }
   ],
   "source": [
    "model_path_list = glob.glob('/kaggle/working/' + '*.h5')\n",
    "model_path_list.sort()\n",
    "print('Models to predict:')\n",
    "print(*model_path_list, sep = \"\\n\")"
   ]
  },
  {
   "cell_type": "code",
   "execution_count": 13,
   "metadata": {},
   "outputs": [
    {
     "name": "stdout",
     "output_type": "stream",
     "text": [
      "/kaggle/working/model_fold_1.h5\n"
     ]
    }
   ],
   "source": [
    "x_test = np.load(database_base_path + 'x_test.npy')\n",
    "NUM_TEST_IMAGES = x_test.shape[1]\n",
    "test_preds = np.zeros((NUM_TEST_IMAGES, 1))\n",
    "\n",
    "for model_path in model_path_list:\n",
    "    tf.tpu.experimental.initialize_tpu_system(tpu)\n",
    "    print(model_path)\n",
    "    with strategy.scope():\n",
    "        model = model_fn(config['MAX_LEN'])\n",
    "        model.load_weights(model_path)\n",
    "\n",
    "    test_preds += model.predict(get_test_dataset(x_test, config['BATCH_SIZE'], AUTO)) / len(model_path_list)"
   ]
  },
  {
   "cell_type": "code",
   "execution_count": 14,
   "metadata": {
    "_kg_hide-input": true
   },
   "outputs": [
    {
     "data": {
      "text/html": [
       "<div>\n",
       "<style scoped>\n",
       "    .dataframe tbody tr th:only-of-type {\n",
       "        vertical-align: middle;\n",
       "    }\n",
       "\n",
       "    .dataframe tbody tr th {\n",
       "        vertical-align: top;\n",
       "    }\n",
       "\n",
       "    .dataframe thead th {\n",
       "        text-align: right;\n",
       "    }\n",
       "</style>\n",
       "<table border=\"1\" class=\"dataframe\">\n",
       "  <thead>\n",
       "    <tr style=\"text-align: right;\">\n",
       "      <th></th>\n",
       "      <th>id</th>\n",
       "      <th>toxic</th>\n",
       "    </tr>\n",
       "  </thead>\n",
       "  <tbody>\n",
       "    <tr>\n",
       "      <th>count</th>\n",
       "      <td>63812.000000</td>\n",
       "      <td>63812.000000</td>\n",
       "    </tr>\n",
       "    <tr>\n",
       "      <th>mean</th>\n",
       "      <td>31905.500000</td>\n",
       "      <td>0.233066</td>\n",
       "    </tr>\n",
       "    <tr>\n",
       "      <th>std</th>\n",
       "      <td>18421.082026</td>\n",
       "      <td>0.300585</td>\n",
       "    </tr>\n",
       "    <tr>\n",
       "      <th>min</th>\n",
       "      <td>0.000000</td>\n",
       "      <td>0.000375</td>\n",
       "    </tr>\n",
       "    <tr>\n",
       "      <th>25%</th>\n",
       "      <td>15952.750000</td>\n",
       "      <td>0.004822</td>\n",
       "    </tr>\n",
       "    <tr>\n",
       "      <th>50%</th>\n",
       "      <td>31905.500000</td>\n",
       "      <td>0.032624</td>\n",
       "    </tr>\n",
       "    <tr>\n",
       "      <th>75%</th>\n",
       "      <td>47858.250000</td>\n",
       "      <td>0.461389</td>\n",
       "    </tr>\n",
       "    <tr>\n",
       "      <th>max</th>\n",
       "      <td>63811.000000</td>\n",
       "      <td>0.997401</td>\n",
       "    </tr>\n",
       "  </tbody>\n",
       "</table>\n",
       "</div>"
      ],
      "text/plain": [
       "                 id         toxic\n",
       "count  63812.000000  63812.000000\n",
       "mean   31905.500000      0.233066\n",
       "std    18421.082026      0.300585\n",
       "min        0.000000      0.000375\n",
       "25%    15952.750000      0.004822\n",
       "50%    31905.500000      0.032624\n",
       "75%    47858.250000      0.461389\n",
       "max    63811.000000      0.997401"
      ]
     },
     "metadata": {},
     "output_type": "display_data"
    },
    {
     "data": {
      "text/html": [
       "<div>\n",
       "<style scoped>\n",
       "    .dataframe tbody tr th:only-of-type {\n",
       "        vertical-align: middle;\n",
       "    }\n",
       "\n",
       "    .dataframe tbody tr th {\n",
       "        vertical-align: top;\n",
       "    }\n",
       "\n",
       "    .dataframe thead th {\n",
       "        text-align: right;\n",
       "    }\n",
       "</style>\n",
       "<table border=\"1\" class=\"dataframe\">\n",
       "  <thead>\n",
       "    <tr style=\"text-align: right;\">\n",
       "      <th></th>\n",
       "      <th>id</th>\n",
       "      <th>toxic</th>\n",
       "    </tr>\n",
       "  </thead>\n",
       "  <tbody>\n",
       "    <tr>\n",
       "      <th>0</th>\n",
       "      <td>0</td>\n",
       "      <td>0.001450</td>\n",
       "    </tr>\n",
       "    <tr>\n",
       "      <th>1</th>\n",
       "      <td>1</td>\n",
       "      <td>0.002481</td>\n",
       "    </tr>\n",
       "    <tr>\n",
       "      <th>2</th>\n",
       "      <td>2</td>\n",
       "      <td>0.309494</td>\n",
       "    </tr>\n",
       "    <tr>\n",
       "      <th>3</th>\n",
       "      <td>3</td>\n",
       "      <td>0.002956</td>\n",
       "    </tr>\n",
       "    <tr>\n",
       "      <th>4</th>\n",
       "      <td>4</td>\n",
       "      <td>0.003568</td>\n",
       "    </tr>\n",
       "    <tr>\n",
       "      <th>5</th>\n",
       "      <td>5</td>\n",
       "      <td>0.059909</td>\n",
       "    </tr>\n",
       "    <tr>\n",
       "      <th>6</th>\n",
       "      <td>6</td>\n",
       "      <td>0.001847</td>\n",
       "    </tr>\n",
       "    <tr>\n",
       "      <th>7</th>\n",
       "      <td>7</td>\n",
       "      <td>0.017449</td>\n",
       "    </tr>\n",
       "    <tr>\n",
       "      <th>8</th>\n",
       "      <td>8</td>\n",
       "      <td>0.697148</td>\n",
       "    </tr>\n",
       "    <tr>\n",
       "      <th>9</th>\n",
       "      <td>9</td>\n",
       "      <td>0.181720</td>\n",
       "    </tr>\n",
       "  </tbody>\n",
       "</table>\n",
       "</div>"
      ],
      "text/plain": [
       "   id     toxic\n",
       "0   0  0.001450\n",
       "1   1  0.002481\n",
       "2   2  0.309494\n",
       "3   3  0.002956\n",
       "4   4  0.003568\n",
       "5   5  0.059909\n",
       "6   6  0.001847\n",
       "7   7  0.017449\n",
       "8   8  0.697148\n",
       "9   9  0.181720"
      ]
     },
     "metadata": {},
     "output_type": "display_data"
    }
   ],
   "source": [
    "submission = pd.read_csv('/kaggle/input/jigsaw-multilingual-toxic-comment-classification/sample_submission.csv')\n",
    "submission['toxic'] = test_preds\n",
    "submission.to_csv('submission.csv', index=False)\n",
    "\n",
    "display(submission.describe())\n",
    "display(submission.head(10))"
   ]
  }
 ],
 "metadata": {
  "kernelspec": {
   "display_name": "Python 3",
   "language": "python",
   "name": "python3"
  },
  "language_info": {
   "codemirror_mode": {
    "name": "ipython",
    "version": 3
   },
   "file_extension": ".py",
   "mimetype": "text/x-python",
   "name": "python",
   "nbconvert_exporter": "python",
   "pygments_lexer": "ipython3",
   "version": "3.6.6"
  }
 },
 "nbformat": 4,
 "nbformat_minor": 4
}
