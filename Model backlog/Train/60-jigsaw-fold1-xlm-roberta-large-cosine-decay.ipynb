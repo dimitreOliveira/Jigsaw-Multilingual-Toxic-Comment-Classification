{
 "cells": [
  {
   "cell_type": "markdown",
   "execution_count": null,
   "metadata": {},
   "source": [
    "## Dependencies"
   ]
  },
  {
   "cell_type": "code",
   "execution_count": 1,
   "metadata": {
    "_kg_hide-input": true
   },
   "outputs": [],
   "source": [
    "import json, warnings, shutil, glob\n",
    "from jigsaw_utility_scripts import *\n",
    "from scripts_step_lr_schedulers import *\n",
    "from transformers import TFXLMRobertaModel, XLMRobertaConfig\n",
    "from tensorflow.keras.models import Model\n",
    "from tensorflow.keras import optimizers, metrics, losses, layers\n",
    "\n",
    "SEED = 0\n",
    "seed_everything(SEED)\n",
    "warnings.filterwarnings(\"ignore\")"
   ]
  },
  {
   "cell_type": "markdown",
   "execution_count": null,
   "metadata": {},
   "source": [
    "## TPU configuration"
   ]
  },
  {
   "cell_type": "code",
   "execution_count": 2,
   "metadata": {
    "_cell_guid": "79c7e3d0-c299-4dcb-8224-4455121ee9b0",
    "_kg_hide-input": true,
    "_uuid": "d629ff2d2480ee46fbb7e2d37f6b5fab8052498a"
   },
   "outputs": [
    {
     "name": "stdout",
     "output_type": "stream",
     "text": [
      "Running on TPU  grpc://10.0.0.2:8470\n",
      "REPLICAS:  8\n"
     ]
    }
   ],
   "source": [
    "strategy, tpu = set_up_strategy()\n",
    "print(\"REPLICAS: \", strategy.num_replicas_in_sync)\n",
    "AUTO = tf.data.experimental.AUTOTUNE"
   ]
  },
  {
   "cell_type": "markdown",
   "execution_count": null,
   "metadata": {},
   "source": [
    "# Load data"
   ]
  },
  {
   "cell_type": "code",
   "execution_count": 3,
   "metadata": {
    "_kg_hide-input": true
   },
   "outputs": [
    {
     "name": "stdout",
     "output_type": "stream",
     "text": [
      "Train samples: 400830\n"
     ]
    },
    {
     "data": {
      "text/html": [
       "<div>\n",
       "<style scoped>\n",
       "    .dataframe tbody tr th:only-of-type {\n",
       "        vertical-align: middle;\n",
       "    }\n",
       "\n",
       "    .dataframe tbody tr th {\n",
       "        vertical-align: top;\n",
       "    }\n",
       "\n",
       "    .dataframe thead th {\n",
       "        text-align: right;\n",
       "    }\n",
       "</style>\n",
       "<table border=\"1\" class=\"dataframe\">\n",
       "  <thead>\n",
       "    <tr style=\"text-align: right;\">\n",
       "      <th></th>\n",
       "      <th>comment_text</th>\n",
       "      <th>toxic</th>\n",
       "      <th>toxic_int</th>\n",
       "      <th>fold_1</th>\n",
       "      <th>fold_2</th>\n",
       "      <th>fold_3</th>\n",
       "      <th>fold_4</th>\n",
       "      <th>fold_5</th>\n",
       "    </tr>\n",
       "  </thead>\n",
       "  <tbody>\n",
       "    <tr>\n",
       "      <th>0</th>\n",
       "      <td>and you have something alien on your lips chan...</td>\n",
       "      <td>0.000000</td>\n",
       "      <td>0</td>\n",
       "      <td>train</td>\n",
       "      <td>train</td>\n",
       "      <td>validation</td>\n",
       "      <td>train</td>\n",
       "      <td>train</td>\n",
       "    </tr>\n",
       "    <tr>\n",
       "      <th>1</th>\n",
       "      <td>no income tax for anyone that comes and works ...</td>\n",
       "      <td>0.166667</td>\n",
       "      <td>0</td>\n",
       "      <td>train</td>\n",
       "      <td>train</td>\n",
       "      <td>train</td>\n",
       "      <td>train</td>\n",
       "      <td>validation</td>\n",
       "    </tr>\n",
       "    <tr>\n",
       "      <th>2</th>\n",
       "      <td>rubbish, brandon. nothing stopped comey of the...</td>\n",
       "      <td>0.833333</td>\n",
       "      <td>1</td>\n",
       "      <td>train</td>\n",
       "      <td>train</td>\n",
       "      <td>validation</td>\n",
       "      <td>train</td>\n",
       "      <td>train</td>\n",
       "    </tr>\n",
       "    <tr>\n",
       "      <th>3</th>\n",
       "      <td>poster i have sent the e-mail. -garrett</td>\n",
       "      <td>0.000000</td>\n",
       "      <td>0</td>\n",
       "      <td>train</td>\n",
       "      <td>train</td>\n",
       "      <td>validation</td>\n",
       "      <td>train</td>\n",
       "      <td>train</td>\n",
       "    </tr>\n",
       "    <tr>\n",
       "      <th>4</th>\n",
       "      <td>== ecb exposure == i responded to a comment of...</td>\n",
       "      <td>0.000000</td>\n",
       "      <td>0</td>\n",
       "      <td>train</td>\n",
       "      <td>train</td>\n",
       "      <td>validation</td>\n",
       "      <td>train</td>\n",
       "      <td>train</td>\n",
       "    </tr>\n",
       "  </tbody>\n",
       "</table>\n",
       "</div>"
      ],
      "text/plain": [
       "                                        comment_text     toxic  toxic_int  \\\n",
       "0  and you have something alien on your lips chan...  0.000000          0   \n",
       "1  no income tax for anyone that comes and works ...  0.166667          0   \n",
       "2  rubbish, brandon. nothing stopped comey of the...  0.833333          1   \n",
       "3            poster i have sent the e-mail. -garrett  0.000000          0   \n",
       "4  == ecb exposure == i responded to a comment of...  0.000000          0   \n",
       "\n",
       "  fold_1 fold_2      fold_3 fold_4      fold_5  \n",
       "0  train  train  validation  train       train  \n",
       "1  train  train       train  train  validation  \n",
       "2  train  train  validation  train       train  \n",
       "3  train  train  validation  train       train  \n",
       "4  train  train  validation  train       train  "
      ]
     },
     "metadata": {},
     "output_type": "display_data"
    },
    {
     "name": "stdout",
     "output_type": "stream",
     "text": [
      "Validation samples: 8000\n"
     ]
    },
    {
     "data": {
      "text/html": [
       "<div>\n",
       "<style scoped>\n",
       "    .dataframe tbody tr th:only-of-type {\n",
       "        vertical-align: middle;\n",
       "    }\n",
       "\n",
       "    .dataframe tbody tr th {\n",
       "        vertical-align: top;\n",
       "    }\n",
       "\n",
       "    .dataframe thead th {\n",
       "        text-align: right;\n",
       "    }\n",
       "</style>\n",
       "<table border=\"1\" class=\"dataframe\">\n",
       "  <thead>\n",
       "    <tr style=\"text-align: right;\">\n",
       "      <th></th>\n",
       "      <th>comment_text</th>\n",
       "      <th>lang</th>\n",
       "      <th>toxic</th>\n",
       "    </tr>\n",
       "  </thead>\n",
       "  <tbody>\n",
       "    <tr>\n",
       "      <th>0</th>\n",
       "      <td>Este usuario ni siquiera llega al rango de    ...</td>\n",
       "      <td>es</td>\n",
       "      <td>0</td>\n",
       "    </tr>\n",
       "    <tr>\n",
       "      <th>1</th>\n",
       "      <td>Il testo di questa voce pare esser scopiazzato...</td>\n",
       "      <td>it</td>\n",
       "      <td>0</td>\n",
       "    </tr>\n",
       "    <tr>\n",
       "      <th>2</th>\n",
       "      <td>Vale. Sólo expongo mi pasado. Todo tiempo pasa...</td>\n",
       "      <td>es</td>\n",
       "      <td>1</td>\n",
       "    </tr>\n",
       "    <tr>\n",
       "      <th>3</th>\n",
       "      <td>Bu maddenin alt başlığı olarak  uluslararası i...</td>\n",
       "      <td>tr</td>\n",
       "      <td>0</td>\n",
       "    </tr>\n",
       "    <tr>\n",
       "      <th>4</th>\n",
       "      <td>Belçika nın şehirlerinin yanında ilçe ve belde...</td>\n",
       "      <td>tr</td>\n",
       "      <td>0</td>\n",
       "    </tr>\n",
       "  </tbody>\n",
       "</table>\n",
       "</div>"
      ],
      "text/plain": [
       "                                        comment_text lang  toxic\n",
       "0  Este usuario ni siquiera llega al rango de    ...   es      0\n",
       "1  Il testo di questa voce pare esser scopiazzato...   it      0\n",
       "2  Vale. Sólo expongo mi pasado. Todo tiempo pasa...   es      1\n",
       "3  Bu maddenin alt başlığı olarak  uluslararası i...   tr      0\n",
       "4  Belçika nın şehirlerinin yanında ilçe ve belde...   tr      0"
      ]
     },
     "metadata": {},
     "output_type": "display_data"
    },
    {
     "name": "stdout",
     "output_type": "stream",
     "text": [
      "fold_1/\r\n",
      "fold_1/y_train_int.npy\r\n",
      "fold_1/y_valid.npy\r\n",
      "fold_1/x_valid_tail.npy\r\n",
      "fold_1/x_train_tail.npy\r\n",
      "fold_1/y_valid_int.npy\r\n",
      "fold_1/y_train.npy\r\n",
      "fold_1/x_valid.npy\r\n",
      "fold_1/x_train.npy\r\n"
     ]
    }
   ],
   "source": [
    "database_base_path = '/kaggle/input/jigsaw-data-split-roberta-192-ratio-2-lower/'\n",
    "k_fold = pd.read_csv(database_base_path + '5-fold.csv')\n",
    "valid_df = pd.read_csv(\"/kaggle/input/jigsaw-multilingual-toxic-comment-classification/validation.csv\", \n",
    "                       usecols=['comment_text', 'toxic', 'lang'])\n",
    "\n",
    "print('Train samples: %d' % len(k_fold))\n",
    "display(k_fold.head())\n",
    "print('Validation samples: %d' % len(valid_df))\n",
    "display(valid_df.head())\n",
    "\n",
    "base_data_path = 'fold_1/'\n",
    "# Unzip files\n",
    "!tar -xvf /kaggle/input/jigsaw-data-split-roberta-192-ratio-2-lower/fold_1.tar.gz"
   ]
  },
  {
   "cell_type": "markdown",
   "execution_count": null,
   "metadata": {},
   "source": [
    "# Model parameters"
   ]
  },
  {
   "cell_type": "code",
   "execution_count": 4,
   "metadata": {
    "_kg_hide-input": false
   },
   "outputs": [],
   "source": [
    "base_path = '/kaggle/input/jigsaw-transformers/XLM-RoBERTa/'\n",
    "\n",
    "config = {\n",
    "  \"MAX_LEN\": 192,\n",
    "  \"BATCH_SIZE\": 128,\n",
    "  \"EPOCHS\": 6,\n",
    "  \"LEARNING_RATE\": 1e-5, \n",
    "  \"ES_PATIENCE\": None,\n",
    "  \"base_model_path\": base_path + 'tf-xlm-roberta-large-tf_model.h5',\n",
    "  \"config_path\": base_path + 'xlm-roberta-large-config.json'\n",
    "}\n",
    "\n",
    "with open('config.json', 'w') as json_file:\n",
    "    json.dump(json.loads(json.dumps(config)), json_file)"
   ]
  },
  {
   "cell_type": "markdown",
   "execution_count": null,
   "metadata": {},
   "source": [
    "## Learning rate schedule"
   ]
  },
  {
   "cell_type": "code",
   "execution_count": 5,
   "metadata": {
    "_kg_hide-input": true
   },
   "outputs": [
    {
     "name": "stdout",
     "output_type": "stream",
     "text": [
      "Learning rate schedule: 1e-05 to 1e-05 to 5.03e-06\n"
     ]
    },
    {
     "data": {
      "image/png": "[encoded data removed]",
      "text/plain": [
       "<Figure size 1440x432 with 1 Axes>"
      ]
     },
     "metadata": {
      "needs_background": "light"
     },
     "output_type": "display_data"
    }
   ],
   "source": [
    "lr_min = 1e-7\n",
    "lr_max = config['LEARNING_RATE']\n",
    "step_size = len(k_fold[k_fold['fold_1'] == 'train']) // config['BATCH_SIZE']\n",
    "total_steps = config['EPOCHS'] * step_size\n",
    "\n",
    "rng = [i for i in range(0, total_steps, config['BATCH_SIZE'])]\n",
    "y = [cosine_schedule_with_warmup(tf.cast(x, tf.float32), total_steps, lr_start=lr_max, lr_max=lr_max, lr_min=lr_min) for x in rng]\n",
    "\n",
    "fig, ax = plt.subplots(figsize=(20, 6))\n",
    "plt.plot(rng, y)\n",
    "print(\"Learning rate schedule: {:.3g} to {:.3g} to {:.3g}\".format(y[0], max(y), y[-1]))"
   ]
  },
  {
   "cell_type": "markdown",
   "execution_count": null,
   "metadata": {},
   "source": [
    "# Model"
   ]
  },
  {
   "cell_type": "code",
   "execution_count": 6,
   "metadata": {},
   "outputs": [],
   "source": [
    "module_config = XLMRobertaConfig.from_pretrained(config['config_path'], output_hidden_states=False)\n",
    "\n",
    "def model_fn(MAX_LEN):\n",
    "    input_ids = layers.Input(shape=(MAX_LEN,), dtype=tf.int32, name='input_ids')\n",
    "    attention_mask = layers.Input(shape=(MAX_LEN,), dtype=tf.int32, name='attention_mask')\n",
    "    \n",
    "    base_model = TFXLMRobertaModel.from_pretrained(config['base_model_path'], config=module_config)\n",
    "    last_hidden_state, _ = base_model({'input_ids': input_ids, 'attention_mask': attention_mask})\n",
    "    \n",
    "    x_avg = layers.GlobalAveragePooling1D()(last_hidden_state)\n",
    "    x_max = layers.GlobalMaxPooling1D()(last_hidden_state)\n",
    "    x = layers.Concatenate()([x_avg, x_max])\n",
    "    x = layers.Dropout(0.3)(x)\n",
    "    \n",
    "    output = layers.Dense(1, activation='sigmoid', name='output')(x)\n",
    "    \n",
    "    model = Model(inputs=[input_ids, attention_mask], outputs=output)\n",
    "    \n",
    "    return model"
   ]
  },
  {
   "cell_type": "markdown",
   "execution_count": null,
   "metadata": {},
   "source": [
    "# Train"
   ]
  },
  {
   "cell_type": "code",
   "execution_count": 7,
   "metadata": {
    "_kg_hide-input": true
   },
   "outputs": [
    {
     "name": "stdout",
     "output_type": "stream",
     "text": [
      "Train for 5010 steps, validate for 62 steps\n",
      "\n",
      "EPOCH 1/6\n",
      "time: 1697.3s loss: 0.4342 auc: 0.9612 val_loss: 0.4766 val_auc: 0.9260\n",
      "\n",
      "EPOCH 2/6\n",
      "time: 1468.3s loss: 0.3993 auc: 0.9802 val_loss: 0.3766 val_auc: 0.9144\n",
      "\n",
      "EPOCH 3/6\n",
      "time: 1468.0s loss: 0.3787 auc: 0.9874 val_loss: 0.3603 val_auc: 0.9189\n",
      "\n",
      "EPOCH 4/6\n",
      "time: 1468.0s loss: 0.3624 auc: 0.9915 val_loss: 0.3449 val_auc: 0.9164\n",
      "\n",
      "EPOCH 5/6\n",
      "time: 1468.1s loss: 0.3531 auc: 0.9935 val_loss: 0.3596 val_auc: 0.9085\n",
      "\n",
      "EPOCH 6/6\n",
      "time: 1468.0s loss: 0.3496 auc: 0.9941 val_loss: 0.3541 val_auc: 0.9117\n",
      "Training finished saved model weights at \"last_model.h5\"\n"
     ]
    }
   ],
   "source": [
    "# Load data\n",
    "x_train = np.load(base_data_path + 'x_train.npy')\n",
    "y_train = np.load(base_data_path + 'y_train_int.npy').reshape(x_train.shape[1], 1).astype(np.float32)\n",
    "x_valid_ml = np.load(database_base_path + 'x_valid.npy')\n",
    "y_valid_ml = np.load(database_base_path + 'y_valid.npy').reshape(x_valid_ml.shape[1], 1).astype(np.float32)\n",
    "\n",
    "#################### ADD TAIL ####################\n",
    "x_train = np.hstack([x_train, np.load(base_data_path + 'x_train_tail.npy')])\n",
    "y_train = np.vstack([y_train, y_train])\n",
    "\n",
    "step_size = x_train.shape[1] // config['BATCH_SIZE']\n",
    "valid_step_size = x_valid_ml.shape[1] // config['BATCH_SIZE']\n",
    "\n",
    "# Build TF datasets\n",
    "train_dist_ds = strategy.experimental_distribute_dataset(get_training_dataset(x_train, y_train, config['BATCH_SIZE'], AUTO, seed=SEED))\n",
    "valid_dist_ds = strategy.experimental_distribute_dataset(get_validation_dataset(x_valid_ml, y_valid_ml, config['BATCH_SIZE'], AUTO, repeated=True, seed=SEED))\n",
    "train_data_iter = iter(train_dist_ds)\n",
    "valid_data_iter = iter(valid_dist_ds)\n",
    "\n",
    "# Step functions\n",
    "@tf.function\n",
    "def train_step(data_iter):\n",
    "    def train_step_fn(x, y):\n",
    "        with tf.GradientTape() as tape:\n",
    "            probabilities = model(x, training=True)\n",
    "            loss = loss_fn(y, probabilities, label_smoothing=0.2)\n",
    "        grads = tape.gradient(loss, model.trainable_variables)\n",
    "        optimizer.apply_gradients(zip(grads, model.trainable_variables))\n",
    "        train_auc.update_state(y, probabilities)\n",
    "        train_loss.update_state(loss)\n",
    "    for _ in tf.range(step_size):\n",
    "        strategy.experimental_run_v2(train_step_fn, next(data_iter))\n",
    "\n",
    "@tf.function\n",
    "def valid_step(data_iter):\n",
    "    def valid_step_fn(x, y):\n",
    "        probabilities = model(x, training=False)\n",
    "        loss = loss_fn(y, probabilities)\n",
    "        valid_auc.update_state(y, probabilities)\n",
    "        valid_loss.update_state(loss)\n",
    "    for _ in tf.range(valid_step_size):\n",
    "        strategy.experimental_run_v2(valid_step_fn, next(data_iter))\n",
    "\n",
    "# Train model\n",
    "with strategy.scope():\n",
    "    model = model_fn(config['MAX_LEN'])\n",
    "    optimizer = optimizers.Adam(learning_rate=lambda: \n",
    "                                cosine_schedule_with_warmup(tf.cast(optimizer.iterations, tf.float32), \n",
    "                                                            total_steps=total_steps, lr_start=lr_max, \n",
    "                                                            lr_max=lr_max, lr_min=lr_min))\n",
    "    loss_fn = losses.binary_crossentropy\n",
    "\n",
    "    train_auc = metrics.AUC()\n",
    "    valid_auc = metrics.AUC()\n",
    "    train_loss = metrics.Sum()\n",
    "    valid_loss = metrics.Sum()\n",
    "\n",
    "metrics_dict = {'loss': train_loss, 'auc': train_auc, \n",
    "                'val_loss': valid_loss, 'val_auc': valid_auc}\n",
    "\n",
    "history = custom_fit(model, metrics_dict, train_step, valid_step, train_data_iter, valid_data_iter, \n",
    "                     step_size, valid_step_size, config['BATCH_SIZE'], config['EPOCHS'], \n",
    "                     config['ES_PATIENCE'], save_last=True)\n",
    "\n",
    "# Make predictions\n",
    "x_train = np.load(base_data_path + 'x_train.npy')\n",
    "x_valid = np.load(base_data_path + 'x_valid.npy')\n",
    "x_valid_ml = np.load(database_base_path + 'x_valid.npy')\n",
    "\n",
    "train_preds = model.predict(get_test_dataset(x_train, config['BATCH_SIZE'], AUTO))\n",
    "valid_preds = model.predict(get_test_dataset(x_valid, config['BATCH_SIZE'], AUTO))\n",
    "valid_ml_preds = model.predict(get_test_dataset(x_valid_ml, config['BATCH_SIZE'], AUTO))\n",
    "\n",
    "k_fold.loc[k_fold['fold_1'] == 'train', 'pred_1'] = np.round(train_preds)\n",
    "k_fold.loc[k_fold['fold_1'] == 'validation', 'pred_1'] = np.round(valid_preds)\n",
    "valid_df['pred_1'] = valid_ml_preds\n",
    "\n",
    "### Delete data dir\n",
    "shutil.rmtree(base_data_path)"
   ]
  },
  {
   "cell_type": "markdown",
   "execution_count": null,
   "metadata": {},
   "source": [
    "## Model loss graph"
   ]
  },
  {
   "cell_type": "code",
   "execution_count": 8,
   "metadata": {
    "_kg_hide-input": true
   },
   "outputs": [
    {
     "data": {
      "image/png": "[encoded data removed]",
      "text/plain": [
       "<Figure size 1440x720 with 2 Axes>"
      ]
     },
     "metadata": {},
     "output_type": "display_data"
    }
   ],
   "source": [
    "sns.set(style=\"whitegrid\")\n",
    "plot_metrics(history)"
   ]
  },
  {
   "cell_type": "markdown",
   "execution_count": null,
   "metadata": {},
   "source": [
    "# Model evaluation"
   ]
  },
  {
   "cell_type": "code",
   "execution_count": 9,
   "metadata": {
    "_kg_hide-input": true
   },
   "outputs": [
    {
     "data": {
      "text/html": [
       "<style  type=\"text/css\" >\n",
       "    #T_5443089a_9549_11ea_be93_0242ac130202row0_col0 {\n",
       "            color:  green;\n",
       "        }    #T_5443089a_9549_11ea_be93_0242ac130202row0_col1 {\n",
       "            color:  green;\n",
       "        }    #T_5443089a_9549_11ea_be93_0242ac130202row0_col2 {\n",
       "            color:  red;\n",
       "        }    #T_5443089a_9549_11ea_be93_0242ac130202row0_col3 {\n",
       "            color:  green;\n",
       "        }    #T_5443089a_9549_11ea_be93_0242ac130202row0_col4 {\n",
       "            color:  green;\n",
       "        }    #T_5443089a_9549_11ea_be93_0242ac130202row1_col0 {\n",
       "            color:  green;\n",
       "        }    #T_5443089a_9549_11ea_be93_0242ac130202row1_col1 {\n",
       "            color:  green;\n",
       "        }    #T_5443089a_9549_11ea_be93_0242ac130202row1_col2 {\n",
       "            color:  red;\n",
       "        }    #T_5443089a_9549_11ea_be93_0242ac130202row1_col3 {\n",
       "            color:  green;\n",
       "        }    #T_5443089a_9549_11ea_be93_0242ac130202row1_col4 {\n",
       "            color:  green;\n",
       "        }    #T_5443089a_9549_11ea_be93_0242ac130202row2_col0 {\n",
       "            color:  green;\n",
       "        }    #T_5443089a_9549_11ea_be93_0242ac130202row2_col1 {\n",
       "            color:  green;\n",
       "        }    #T_5443089a_9549_11ea_be93_0242ac130202row2_col2 {\n",
       "            color:  red;\n",
       "        }    #T_5443089a_9549_11ea_be93_0242ac130202row2_col3 {\n",
       "            color:  green;\n",
       "        }    #T_5443089a_9549_11ea_be93_0242ac130202row2_col4 {\n",
       "            color:  green;\n",
       "        }    #T_5443089a_9549_11ea_be93_0242ac130202row3_col0 {\n",
       "            color:  green;\n",
       "        }    #T_5443089a_9549_11ea_be93_0242ac130202row3_col1 {\n",
       "            color:  green;\n",
       "        }    #T_5443089a_9549_11ea_be93_0242ac130202row3_col2 {\n",
       "            color:  red;\n",
       "        }    #T_5443089a_9549_11ea_be93_0242ac130202row3_col3 {\n",
       "            color:  green;\n",
       "        }    #T_5443089a_9549_11ea_be93_0242ac130202row3_col4 {\n",
       "            color:  green;\n",
       "        }    #T_5443089a_9549_11ea_be93_0242ac130202row4_col0 {\n",
       "            color:  green;\n",
       "        }    #T_5443089a_9549_11ea_be93_0242ac130202row4_col1 {\n",
       "            color:  green;\n",
       "        }    #T_5443089a_9549_11ea_be93_0242ac130202row4_col2 {\n",
       "            color:  red;\n",
       "        }    #T_5443089a_9549_11ea_be93_0242ac130202row4_col3 {\n",
       "            color:  green;\n",
       "        }    #T_5443089a_9549_11ea_be93_0242ac130202row4_col4 {\n",
       "            color:  green;\n",
       "        }    #T_5443089a_9549_11ea_be93_0242ac130202row5_col0 {\n",
       "            color:  green;\n",
       "        }    #T_5443089a_9549_11ea_be93_0242ac130202row5_col1 {\n",
       "            color:  green;\n",
       "        }    #T_5443089a_9549_11ea_be93_0242ac130202row5_col2 {\n",
       "            color:  green;\n",
       "        }    #T_5443089a_9549_11ea_be93_0242ac130202row5_col3 {\n",
       "            color:  green;\n",
       "        }    #T_5443089a_9549_11ea_be93_0242ac130202row5_col4 {\n",
       "            color:  green;\n",
       "        }</style><table id=\"T_5443089a_9549_11ea_be93_0242ac130202\" ><thead>    <tr>        <th class=\"blank level0\" ></th>        <th class=\"col_heading level0 col0\" >Train</th>        <th class=\"col_heading level0 col1\" >Valid</th>        <th class=\"col_heading level0 col2\" >Var</th>        <th class=\"col_heading level0 col3\" >Train_fold_1</th>        <th class=\"col_heading level0 col4\" >Valid_fold_1</th>    </tr>    <tr>        <th class=\"index_name level0\" >Metric</th>        <th class=\"blank\" ></th>        <th class=\"blank\" ></th>        <th class=\"blank\" ></th>        <th class=\"blank\" ></th>        <th class=\"blank\" ></th>    </tr></thead><tbody>\n",
       "                <tr>\n",
       "                        <th id=\"T_5443089a_9549_11ea_be93_0242ac130202level0_row0\" class=\"row_heading level0 row0\" >ROC AUC</th>\n",
       "                        <td id=\"T_5443089a_9549_11ea_be93_0242ac130202row0_col0\" class=\"data row0 col0\" >0.987417</td>\n",
       "                        <td id=\"T_5443089a_9549_11ea_be93_0242ac130202row0_col1\" class=\"data row0 col1\" >0.915397</td>\n",
       "                        <td id=\"T_5443089a_9549_11ea_be93_0242ac130202row0_col2\" class=\"data row0 col2\" >0.0720193</td>\n",
       "                        <td id=\"T_5443089a_9549_11ea_be93_0242ac130202row0_col3\" class=\"data row0 col3\" >0.987417</td>\n",
       "                        <td id=\"T_5443089a_9549_11ea_be93_0242ac130202row0_col4\" class=\"data row0 col4\" >0.915397</td>\n",
       "            </tr>\n",
       "            <tr>\n",
       "                        <th id=\"T_5443089a_9549_11ea_be93_0242ac130202level0_row1\" class=\"row_heading level0 row1\" >Accuracy</th>\n",
       "                        <td id=\"T_5443089a_9549_11ea_be93_0242ac130202row1_col0\" class=\"data row1 col0\" >0.987067</td>\n",
       "                        <td id=\"T_5443089a_9549_11ea_be93_0242ac130202row1_col1\" class=\"data row1 col1\" >0.916186</td>\n",
       "                        <td id=\"T_5443089a_9549_11ea_be93_0242ac130202row1_col2\" class=\"data row1 col2\" >0.070881</td>\n",
       "                        <td id=\"T_5443089a_9549_11ea_be93_0242ac130202row1_col3\" class=\"data row1 col3\" >0.987067</td>\n",
       "                        <td id=\"T_5443089a_9549_11ea_be93_0242ac130202row1_col4\" class=\"data row1 col4\" >0.916186</td>\n",
       "            </tr>\n",
       "            <tr>\n",
       "                        <th id=\"T_5443089a_9549_11ea_be93_0242ac130202level0_row2\" class=\"row_heading level0 row2\" >Precision</th>\n",
       "                        <td id=\"T_5443089a_9549_11ea_be93_0242ac130202row2_col0\" class=\"data row2 col0\" >0.97316</td>\n",
       "                        <td id=\"T_5443089a_9549_11ea_be93_0242ac130202row2_col1\" class=\"data row2 col1\" >0.847359</td>\n",
       "                        <td id=\"T_5443089a_9549_11ea_be93_0242ac130202row2_col2\" class=\"data row2 col2\" >0.125801</td>\n",
       "                        <td id=\"T_5443089a_9549_11ea_be93_0242ac130202row2_col3\" class=\"data row2 col3\" >0.97316</td>\n",
       "                        <td id=\"T_5443089a_9549_11ea_be93_0242ac130202row2_col4\" class=\"data row2 col4\" >0.847359</td>\n",
       "            </tr>\n",
       "            <tr>\n",
       "                        <th id=\"T_5443089a_9549_11ea_be93_0242ac130202level0_row3\" class=\"row_heading level0 row3\" >Recall</th>\n",
       "                        <td id=\"T_5443089a_9549_11ea_be93_0242ac130202row3_col0\" class=\"data row3 col0\" >0.988465</td>\n",
       "                        <td id=\"T_5443089a_9549_11ea_be93_0242ac130202row3_col1\" class=\"data row3 col1\" >0.91303</td>\n",
       "                        <td id=\"T_5443089a_9549_11ea_be93_0242ac130202row3_col2\" class=\"data row3 col2\" >0.0754341</td>\n",
       "                        <td id=\"T_5443089a_9549_11ea_be93_0242ac130202row3_col3\" class=\"data row3 col3\" >0.988465</td>\n",
       "                        <td id=\"T_5443089a_9549_11ea_be93_0242ac130202row3_col4\" class=\"data row3 col4\" >0.91303</td>\n",
       "            </tr>\n",
       "            <tr>\n",
       "                        <th id=\"T_5443089a_9549_11ea_be93_0242ac130202level0_row4\" class=\"row_heading level0 row4\" >F1-score</th>\n",
       "                        <td id=\"T_5443089a_9549_11ea_be93_0242ac130202row4_col0\" class=\"data row4 col0\" >0.980753</td>\n",
       "                        <td id=\"T_5443089a_9549_11ea_be93_0242ac130202row4_col1\" class=\"data row4 col1\" >0.87897</td>\n",
       "                        <td id=\"T_5443089a_9549_11ea_be93_0242ac130202row4_col2\" class=\"data row4 col2\" >0.101783</td>\n",
       "                        <td id=\"T_5443089a_9549_11ea_be93_0242ac130202row4_col3\" class=\"data row4 col3\" >0.980753</td>\n",
       "                        <td id=\"T_5443089a_9549_11ea_be93_0242ac130202row4_col4\" class=\"data row4 col4\" >0.87897</td>\n",
       "            </tr>\n",
       "            <tr>\n",
       "                        <th id=\"T_5443089a_9549_11ea_be93_0242ac130202level0_row5\" class=\"row_heading level0 row5\" >Support</th>\n",
       "                        <td id=\"T_5443089a_9549_11ea_be93_0242ac130202row5_col0\" class=\"data row5 col0\" >106888</td>\n",
       "                        <td id=\"T_5443089a_9549_11ea_be93_0242ac130202row5_col1\" class=\"data row5 col1\" >26722</td>\n",
       "                        <td id=\"T_5443089a_9549_11ea_be93_0242ac130202row5_col2\" class=\"data row5 col2\" >80166</td>\n",
       "                        <td id=\"T_5443089a_9549_11ea_be93_0242ac130202row5_col3\" class=\"data row5 col3\" >106888</td>\n",
       "                        <td id=\"T_5443089a_9549_11ea_be93_0242ac130202row5_col4\" class=\"data row5 col4\" >26722</td>\n",
       "            </tr>\n",
       "    </tbody></table>"
      ],
      "text/plain": [
       "<pandas.io.formats.style.Styler at 0x7f14745031d0>"
      ]
     },
     "metadata": {},
     "output_type": "display_data"
    }
   ],
   "source": [
    "display(evaluate_model(k_fold, 1, label_col='toxic_int').style.applymap(color_map))"
   ]
  },
  {
   "cell_type": "markdown",
   "execution_count": null,
   "metadata": {},
   "source": [
    "# Confusion matrix"
   ]
  },
  {
   "cell_type": "code",
   "execution_count": 10,
   "metadata": {
    "_kg_hide-input": true
   },
   "outputs": [
    {
     "data": {
      "image/png": "[encoded data removed]",
      "text/plain": [
       "<Figure size 1296x432 with 4 Axes>"
      ]
     },
     "metadata": {},
     "output_type": "display_data"
    }
   ],
   "source": [
    "train_set = k_fold[k_fold['fold_1'] == 'train']\n",
    "validation_set = k_fold[k_fold['fold_1'] == 'validation'] \n",
    "plot_confusion_matrix(train_set['toxic_int'], train_set['pred_1'], \n",
    "                      validation_set['toxic_int'], validation_set['pred_1'])"
   ]
  },
  {
   "cell_type": "markdown",
   "execution_count": null,
   "metadata": {},
   "source": [
    "# Model evaluation by language"
   ]
  },
  {
   "cell_type": "code",
   "execution_count": 11,
   "metadata": {
    "_kg_hide-input": true
   },
   "outputs": [
    {
     "data": {
      "text/html": [
       "<style  type=\"text/css\" >\n",
       "    #T_5615174e_9549_11ea_be93_0242ac130202row0_col0 {\n",
       "            color:  green;\n",
       "        }    #T_5615174e_9549_11ea_be93_0242ac130202row0_col1 {\n",
       "            color:  green;\n",
       "        }    #T_5615174e_9549_11ea_be93_0242ac130202row1_col0 {\n",
       "            color:  green;\n",
       "        }    #T_5615174e_9549_11ea_be93_0242ac130202row1_col1 {\n",
       "            color:  green;\n",
       "        }    #T_5615174e_9549_11ea_be93_0242ac130202row2_col0 {\n",
       "            color:  green;\n",
       "        }    #T_5615174e_9549_11ea_be93_0242ac130202row2_col1 {\n",
       "            color:  green;\n",
       "        }    #T_5615174e_9549_11ea_be93_0242ac130202row3_col0 {\n",
       "            color:  green;\n",
       "        }    #T_5615174e_9549_11ea_be93_0242ac130202row3_col1 {\n",
       "            color:  green;\n",
       "        }</style><table id=\"T_5615174e_9549_11ea_be93_0242ac130202\" ><thead>    <tr>        <th class=\"blank level0\" ></th>        <th class=\"col_heading level0 col0\" >Mean</th>        <th class=\"col_heading level0 col1\" >Fold_1</th>    </tr>    <tr>        <th class=\"index_name level0\" >Lang / ROC AUC</th>        <th class=\"blank\" ></th>        <th class=\"blank\" ></th>    </tr></thead><tbody>\n",
       "                <tr>\n",
       "                        <th id=\"T_5615174e_9549_11ea_be93_0242ac130202level0_row0\" class=\"row_heading level0 row0\" >Overall</th>\n",
       "                        <td id=\"T_5615174e_9549_11ea_be93_0242ac130202row0_col0\" class=\"data row0 col0\" >0.91354</td>\n",
       "                        <td id=\"T_5615174e_9549_11ea_be93_0242ac130202row0_col1\" class=\"data row0 col1\" >0.91354</td>\n",
       "            </tr>\n",
       "            <tr>\n",
       "                        <th id=\"T_5615174e_9549_11ea_be93_0242ac130202level0_row1\" class=\"row_heading level0 row1\" >es</th>\n",
       "                        <td id=\"T_5615174e_9549_11ea_be93_0242ac130202row1_col0\" class=\"data row1 col0\" >0.894655</td>\n",
       "                        <td id=\"T_5615174e_9549_11ea_be93_0242ac130202row1_col1\" class=\"data row1 col1\" >0.894655</td>\n",
       "            </tr>\n",
       "            <tr>\n",
       "                        <th id=\"T_5615174e_9549_11ea_be93_0242ac130202level0_row2\" class=\"row_heading level0 row2\" >it</th>\n",
       "                        <td id=\"T_5615174e_9549_11ea_be93_0242ac130202row2_col0\" class=\"data row2 col0\" >0.875057</td>\n",
       "                        <td id=\"T_5615174e_9549_11ea_be93_0242ac130202row2_col1\" class=\"data row2 col1\" >0.875057</td>\n",
       "            </tr>\n",
       "            <tr>\n",
       "                        <th id=\"T_5615174e_9549_11ea_be93_0242ac130202level0_row3\" class=\"row_heading level0 row3\" >tr</th>\n",
       "                        <td id=\"T_5615174e_9549_11ea_be93_0242ac130202row3_col0\" class=\"data row3 col0\" >0.965998</td>\n",
       "                        <td id=\"T_5615174e_9549_11ea_be93_0242ac130202row3_col1\" class=\"data row3 col1\" >0.965998</td>\n",
       "            </tr>\n",
       "    </tbody></table>"
      ],
      "text/plain": [
       "<pandas.io.formats.style.Styler at 0x7f13f3348128>"
      ]
     },
     "metadata": {},
     "output_type": "display_data"
    }
   ],
   "source": [
    "display(evaluate_model_lang(valid_df, 1).style.applymap(color_map))"
   ]
  },
  {
   "cell_type": "markdown",
   "execution_count": null,
   "metadata": {},
   "source": [
    "# Visualize predictions"
   ]
  },
  {
   "cell_type": "code",
   "execution_count": 12,
   "metadata": {
    "_kg_hide-input": true
   },
   "outputs": [
    {
     "name": "stdout",
     "output_type": "stream",
     "text": [
      "English validation set\n"
     ]
    },
    {
     "data": {
      "text/html": [
       "<div>\n",
       "<style scoped>\n",
       "    .dataframe tbody tr th:only-of-type {\n",
       "        vertical-align: middle;\n",
       "    }\n",
       "\n",
       "    .dataframe tbody tr th {\n",
       "        vertical-align: top;\n",
       "    }\n",
       "\n",
       "    .dataframe thead th {\n",
       "        text-align: right;\n",
       "    }\n",
       "</style>\n",
       "<table border=\"1\" class=\"dataframe\">\n",
       "  <thead>\n",
       "    <tr style=\"text-align: right;\">\n",
       "      <th></th>\n",
       "      <th>comment_text</th>\n",
       "      <th>toxic</th>\n",
       "      <th>pred_1</th>\n",
       "    </tr>\n",
       "  </thead>\n",
       "  <tbody>\n",
       "    <tr>\n",
       "      <th>0</th>\n",
       "      <td>and you have something alien on your lips chance. geez dude give it up. better yet why don't you ask the krotch brot...</td>\n",
       "      <td>0.000000</td>\n",
       "      <td>0.0</td>\n",
       "    </tr>\n",
       "    <tr>\n",
       "      <th>1</th>\n",
       "      <td>no income tax for anyone that comes and works and leaves. no income tax for retirees that come and work and leave. n...</td>\n",
       "      <td>0.166667</td>\n",
       "      <td>0.0</td>\n",
       "    </tr>\n",
       "    <tr>\n",
       "      <th>2</th>\n",
       "      <td>rubbish, brandon. nothing stopped comey of the fbi of dumping the phony story about a new investigation in hillary's...</td>\n",
       "      <td>0.833333</td>\n",
       "      <td>1.0</td>\n",
       "    </tr>\n",
       "    <tr>\n",
       "      <th>3</th>\n",
       "      <td>poster i have sent the e-mail. -garrett</td>\n",
       "      <td>0.000000</td>\n",
       "      <td>0.0</td>\n",
       "    </tr>\n",
       "    <tr>\n",
       "      <th>4</th>\n",
       "      <td>== ecb exposure == i responded to a comment of yours here. cheers.</td>\n",
       "      <td>0.000000</td>\n",
       "      <td>0.0</td>\n",
       "    </tr>\n",
       "    <tr>\n",
       "      <th>5</th>\n",
       "      <td>you said, let's keep abortion safe. did you mean safe for the mom, or safe for the baby? god forgives women (and men...</td>\n",
       "      <td>0.200000</td>\n",
       "      <td>0.0</td>\n",
       "    </tr>\n",
       "    <tr>\n",
       "      <th>6</th>\n",
       "      <td>i was responding to gary (and others) and the letter writer. i believe christians would be slow to act in this situa...</td>\n",
       "      <td>0.000000</td>\n",
       "      <td>0.0</td>\n",
       "    </tr>\n",
       "    <tr>\n",
       "      <th>7</th>\n",
       "      <td>now you disagree with your own comment?</td>\n",
       "      <td>0.000000</td>\n",
       "      <td>0.0</td>\n",
       "    </tr>\n",
       "    <tr>\n",
       "      <th>8</th>\n",
       "      <td>amarista definitely needs to go away. if for no other reason than the best poster on this site northsider will see h...</td>\n",
       "      <td>0.000000</td>\n",
       "      <td>0.0</td>\n",
       "    </tr>\n",
       "    <tr>\n",
       "      <th>9</th>\n",
       "      <td>corspefucking art i used their offical website as help to gte al information right. therefore, some sentences were l...</td>\n",
       "      <td>1.000000</td>\n",
       "      <td>1.0</td>\n",
       "    </tr>\n",
       "  </tbody>\n",
       "</table>\n",
       "</div>"
      ],
      "text/plain": [
       "                                                                                                              comment_text  \\\n",
       "0  and you have something alien on your lips chance. geez dude give it up. better yet why don't you ask the krotch brot...   \n",
       "1  no income tax for anyone that comes and works and leaves. no income tax for retirees that come and work and leave. n...   \n",
       "2  rubbish, brandon. nothing stopped comey of the fbi of dumping the phony story about a new investigation in hillary's...   \n",
       "3                                                                                  poster i have sent the e-mail. -garrett   \n",
       "4                                                       == ecb exposure == i responded to a comment of yours here. cheers.   \n",
       "5  you said, let's keep abortion safe. did you mean safe for the mom, or safe for the baby? god forgives women (and men...   \n",
       "6  i was responding to gary (and others) and the letter writer. i believe christians would be slow to act in this situa...   \n",
       "7                                                                                  now you disagree with your own comment?   \n",
       "8  amarista definitely needs to go away. if for no other reason than the best poster on this site northsider will see h...   \n",
       "9  corspefucking art i used their offical website as help to gte al information right. therefore, some sentences were l...   \n",
       "\n",
       "      toxic  pred_1  \n",
       "0  0.000000     0.0  \n",
       "1  0.166667     0.0  \n",
       "2  0.833333     1.0  \n",
       "3  0.000000     0.0  \n",
       "4  0.000000     0.0  \n",
       "5  0.200000     0.0  \n",
       "6  0.000000     0.0  \n",
       "7  0.000000     0.0  \n",
       "8  0.000000     0.0  \n",
       "9  1.000000     1.0  "
      ]
     },
     "metadata": {},
     "output_type": "display_data"
    },
    {
     "name": "stdout",
     "output_type": "stream",
     "text": [
      "Multilingual validation set\n"
     ]
    },
    {
     "data": {
      "text/html": [
       "<div>\n",
       "<style scoped>\n",
       "    .dataframe tbody tr th:only-of-type {\n",
       "        vertical-align: middle;\n",
       "    }\n",
       "\n",
       "    .dataframe tbody tr th {\n",
       "        vertical-align: top;\n",
       "    }\n",
       "\n",
       "    .dataframe thead th {\n",
       "        text-align: right;\n",
       "    }\n",
       "</style>\n",
       "<table border=\"1\" class=\"dataframe\">\n",
       "  <thead>\n",
       "    <tr style=\"text-align: right;\">\n",
       "      <th></th>\n",
       "      <th>comment_text</th>\n",
       "      <th>toxic</th>\n",
       "      <th>pred_1</th>\n",
       "    </tr>\n",
       "  </thead>\n",
       "  <tbody>\n",
       "    <tr>\n",
       "      <th>0</th>\n",
       "      <td>Este usuario ni siquiera llega al rango de    hereje   . Por lo tanto debería ser quemado en la barbacoa para purifi...</td>\n",
       "      <td>0</td>\n",
       "      <td>0.741029</td>\n",
       "    </tr>\n",
       "    <tr>\n",
       "      <th>1</th>\n",
       "      <td>Il testo di questa voce pare esser scopiazzato direttamente da qui. Immagino possano esserci problemi di copyright, ...</td>\n",
       "      <td>0</td>\n",
       "      <td>0.160540</td>\n",
       "    </tr>\n",
       "    <tr>\n",
       "      <th>2</th>\n",
       "      <td>Vale. Sólo expongo mi pasado. Todo tiempo pasado fue mejor, ni mucho menos, yo no quisiera retroceder 31 años a nive...</td>\n",
       "      <td>1</td>\n",
       "      <td>0.835208</td>\n",
       "    </tr>\n",
       "    <tr>\n",
       "      <th>3</th>\n",
       "      <td>Bu maddenin alt başlığı olarak  uluslararası ilişkiler  ile konuyu sürdürmek ile ilgili tereddütlerim var.Önerim siy...</td>\n",
       "      <td>0</td>\n",
       "      <td>0.161862</td>\n",
       "    </tr>\n",
       "    <tr>\n",
       "      <th>4</th>\n",
       "      <td>Belçika nın şehirlerinin yanında ilçe ve beldelerini yaparken sanırım Portekizi örnek alacaksın. Ben de uzak gelecek...</td>\n",
       "      <td>0</td>\n",
       "      <td>0.161622</td>\n",
       "    </tr>\n",
       "    <tr>\n",
       "      <th>5</th>\n",
       "      <td>güzel, zaten kaynaklandırması zor subjektif kategoriler bunlar. bazı maddelerden çıkartmak, kiminden çıkartıp kimind...</td>\n",
       "      <td>0</td>\n",
       "      <td>0.160131</td>\n",
       "    </tr>\n",
       "    <tr>\n",
       "      <th>6</th>\n",
       "      <td>No es mala idea. De hecho, yo estaba pensando descolgarme ya del reto mensual, pero esto vuelve a ilusionarme. El pr...</td>\n",
       "      <td>0</td>\n",
       "      <td>0.160695</td>\n",
       "    </tr>\n",
       "    <tr>\n",
       "      <th>7</th>\n",
       "      <td>Kod hatalarını düzeltmişsiniz,elinize sağlık çok teşekkürler.Önceki sürümleri araştırdım.13 Haziran 2010 da Kullanıc...</td>\n",
       "      <td>0</td>\n",
       "      <td>0.158867</td>\n",
       "    </tr>\n",
       "    <tr>\n",
       "      <th>8</th>\n",
       "      <td>Levent Abi nasılsın? Hayat nasıl gidiyor? Umarım her şey istediğin gibidir. Bu arada Janet Jackson maddesi seçkin ma...</td>\n",
       "      <td>0</td>\n",
       "      <td>0.166691</td>\n",
       "    </tr>\n",
       "    <tr>\n",
       "      <th>9</th>\n",
       "      <td>Creo que es importante que podamos reconocer a gente como Victor Manuel Vucetich , quien es originario de Tampico y ...</td>\n",
       "      <td>0</td>\n",
       "      <td>0.167277</td>\n",
       "    </tr>\n",
       "  </tbody>\n",
       "</table>\n",
       "</div>"
      ],
      "text/plain": [
       "                                                                                                              comment_text  \\\n",
       "0  Este usuario ni siquiera llega al rango de    hereje   . Por lo tanto debería ser quemado en la barbacoa para purifi...   \n",
       "1  Il testo di questa voce pare esser scopiazzato direttamente da qui. Immagino possano esserci problemi di copyright, ...   \n",
       "2  Vale. Sólo expongo mi pasado. Todo tiempo pasado fue mejor, ni mucho menos, yo no quisiera retroceder 31 años a nive...   \n",
       "3  Bu maddenin alt başlığı olarak  uluslararası ilişkiler  ile konuyu sürdürmek ile ilgili tereddütlerim var.Önerim siy...   \n",
       "4  Belçika nın şehirlerinin yanında ilçe ve beldelerini yaparken sanırım Portekizi örnek alacaksın. Ben de uzak gelecek...   \n",
       "5  güzel, zaten kaynaklandırması zor subjektif kategoriler bunlar. bazı maddelerden çıkartmak, kiminden çıkartıp kimind...   \n",
       "6  No es mala idea. De hecho, yo estaba pensando descolgarme ya del reto mensual, pero esto vuelve a ilusionarme. El pr...   \n",
       "7  Kod hatalarını düzeltmişsiniz,elinize sağlık çok teşekkürler.Önceki sürümleri araştırdım.13 Haziran 2010 da Kullanıc...   \n",
       "8  Levent Abi nasılsın? Hayat nasıl gidiyor? Umarım her şey istediğin gibidir. Bu arada Janet Jackson maddesi seçkin ma...   \n",
       "9  Creo que es importante que podamos reconocer a gente como Victor Manuel Vucetich , quien es originario de Tampico y ...   \n",
       "\n",
       "   toxic    pred_1  \n",
       "0      0  0.741029  \n",
       "1      0  0.160540  \n",
       "2      1  0.835208  \n",
       "3      0  0.161862  \n",
       "4      0  0.161622  \n",
       "5      0  0.160131  \n",
       "6      0  0.160695  \n",
       "7      0  0.158867  \n",
       "8      0  0.166691  \n",
       "9      0  0.167277  "
      ]
     },
     "metadata": {},
     "output_type": "display_data"
    }
   ],
   "source": [
    "pd.set_option('max_colwidth', 120)\n",
    "print('English validation set')\n",
    "display(k_fold[['comment_text', 'toxic'] + [c for c in k_fold.columns if c.startswith('pred')]].head(10))\n",
    "\n",
    "print('Multilingual validation set')\n",
    "display(valid_df[['comment_text', 'toxic'] + [c for c in valid_df.columns if c.startswith('pred')]].head(10))"
   ]
  },
  {
   "cell_type": "markdown",
   "execution_count": null,
   "metadata": {},
   "source": [
    "# Test set predictions"
   ]
  },
  {
   "cell_type": "code",
   "execution_count": 13,
   "metadata": {
    "_kg_hide-input": true
   },
   "outputs": [],
   "source": [
    "x_test = np.load(database_base_path + 'x_test.npy')\n",
    "test_preds = model.predict(get_test_dataset(x_test, config['BATCH_SIZE'], AUTO))"
   ]
  },
  {
   "cell_type": "code",
   "execution_count": 14,
   "metadata": {
    "_kg_hide-input": true
   },
   "outputs": [
    {
     "data": {
      "text/html": [
       "<div>\n",
       "<style scoped>\n",
       "    .dataframe tbody tr th:only-of-type {\n",
       "        vertical-align: middle;\n",
       "    }\n",
       "\n",
       "    .dataframe tbody tr th {\n",
       "        vertical-align: top;\n",
       "    }\n",
       "\n",
       "    .dataframe thead th {\n",
       "        text-align: right;\n",
       "    }\n",
       "</style>\n",
       "<table border=\"1\" class=\"dataframe\">\n",
       "  <thead>\n",
       "    <tr style=\"text-align: right;\">\n",
       "      <th></th>\n",
       "      <th>id</th>\n",
       "      <th>toxic</th>\n",
       "    </tr>\n",
       "  </thead>\n",
       "  <tbody>\n",
       "    <tr>\n",
       "      <th>count</th>\n",
       "      <td>63812.000000</td>\n",
       "      <td>63812.000000</td>\n",
       "    </tr>\n",
       "    <tr>\n",
       "      <th>mean</th>\n",
       "      <td>31905.500000</td>\n",
       "      <td>0.311579</td>\n",
       "    </tr>\n",
       "    <tr>\n",
       "      <th>std</th>\n",
       "      <td>18421.082026</td>\n",
       "      <td>0.249409</td>\n",
       "    </tr>\n",
       "    <tr>\n",
       "      <th>min</th>\n",
       "      <td>0.000000</td>\n",
       "      <td>0.141551</td>\n",
       "    </tr>\n",
       "    <tr>\n",
       "      <th>25%</th>\n",
       "      <td>15952.750000</td>\n",
       "      <td>0.162603</td>\n",
       "    </tr>\n",
       "    <tr>\n",
       "      <th>50%</th>\n",
       "      <td>31905.500000</td>\n",
       "      <td>0.168344</td>\n",
       "    </tr>\n",
       "    <tr>\n",
       "      <th>75%</th>\n",
       "      <td>47858.250000</td>\n",
       "      <td>0.325981</td>\n",
       "    </tr>\n",
       "    <tr>\n",
       "      <th>max</th>\n",
       "      <td>63811.000000</td>\n",
       "      <td>0.855129</td>\n",
       "    </tr>\n",
       "  </tbody>\n",
       "</table>\n",
       "</div>"
      ],
      "text/plain": [
       "                 id         toxic\n",
       "count  63812.000000  63812.000000\n",
       "mean   31905.500000      0.311579\n",
       "std    18421.082026      0.249409\n",
       "min        0.000000      0.141551\n",
       "25%    15952.750000      0.162603\n",
       "50%    31905.500000      0.168344\n",
       "75%    47858.250000      0.325981\n",
       "max    63811.000000      0.855129"
      ]
     },
     "metadata": {},
     "output_type": "display_data"
    },
    {
     "data": {
      "text/html": [
       "<div>\n",
       "<style scoped>\n",
       "    .dataframe tbody tr th:only-of-type {\n",
       "        vertical-align: middle;\n",
       "    }\n",
       "\n",
       "    .dataframe tbody tr th {\n",
       "        vertical-align: top;\n",
       "    }\n",
       "\n",
       "    .dataframe thead th {\n",
       "        text-align: right;\n",
       "    }\n",
       "</style>\n",
       "<table border=\"1\" class=\"dataframe\">\n",
       "  <thead>\n",
       "    <tr style=\"text-align: right;\">\n",
       "      <th></th>\n",
       "      <th>id</th>\n",
       "      <th>toxic</th>\n",
       "    </tr>\n",
       "  </thead>\n",
       "  <tbody>\n",
       "    <tr>\n",
       "      <th>0</th>\n",
       "      <td>0</td>\n",
       "      <td>0.163880</td>\n",
       "    </tr>\n",
       "    <tr>\n",
       "      <th>1</th>\n",
       "      <td>1</td>\n",
       "      <td>0.156376</td>\n",
       "    </tr>\n",
       "    <tr>\n",
       "      <th>2</th>\n",
       "      <td>2</td>\n",
       "      <td>0.235730</td>\n",
       "    </tr>\n",
       "    <tr>\n",
       "      <th>3</th>\n",
       "      <td>3</td>\n",
       "      <td>0.161372</td>\n",
       "    </tr>\n",
       "    <tr>\n",
       "      <th>4</th>\n",
       "      <td>4</td>\n",
       "      <td>0.157812</td>\n",
       "    </tr>\n",
       "    <tr>\n",
       "      <th>5</th>\n",
       "      <td>5</td>\n",
       "      <td>0.167517</td>\n",
       "    </tr>\n",
       "    <tr>\n",
       "      <th>6</th>\n",
       "      <td>6</td>\n",
       "      <td>0.162155</td>\n",
       "    </tr>\n",
       "    <tr>\n",
       "      <th>7</th>\n",
       "      <td>7</td>\n",
       "      <td>0.171235</td>\n",
       "    </tr>\n",
       "    <tr>\n",
       "      <th>8</th>\n",
       "      <td>8</td>\n",
       "      <td>0.766704</td>\n",
       "    </tr>\n",
       "    <tr>\n",
       "      <th>9</th>\n",
       "      <td>9</td>\n",
       "      <td>0.199583</td>\n",
       "    </tr>\n",
       "  </tbody>\n",
       "</table>\n",
       "</div>"
      ],
      "text/plain": [
       "   id     toxic\n",
       "0   0  0.163880\n",
       "1   1  0.156376\n",
       "2   2  0.235730\n",
       "3   3  0.161372\n",
       "4   4  0.157812\n",
       "5   5  0.167517\n",
       "6   6  0.162155\n",
       "7   7  0.171235\n",
       "8   8  0.766704\n",
       "9   9  0.199583"
      ]
     },
     "metadata": {},
     "output_type": "display_data"
    }
   ],
   "source": [
    "submission = pd.read_csv('/kaggle/input/jigsaw-multilingual-toxic-comment-classification/sample_submission.csv')\n",
    "submission['toxic'] = test_preds\n",
    "submission.to_csv('submission.csv', index=False)\n",
    "\n",
    "display(submission.describe())\n",
    "display(submission.head(10))"
   ]
  }
 ],
 "metadata": {
  "kernelspec": {
   "display_name": "Python 3",
   "language": "python",
   "name": "python3"
  },
  "language_info": {
   "codemirror_mode": {
    "name": "ipython",
    "version": 3
   },
   "file_extension": ".py",
   "mimetype": "text/x-python",
   "name": "python",
   "nbconvert_exporter": "python",
   "pygments_lexer": "ipython3",
   "version": "3.6.6"
  }
 },
 "nbformat": 4,
 "nbformat_minor": 1
}
