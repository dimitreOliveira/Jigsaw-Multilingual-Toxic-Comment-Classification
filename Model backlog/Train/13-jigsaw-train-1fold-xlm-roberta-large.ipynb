{
 "cells": [
  {
   "cell_type": "markdown",
   "metadata": {},
   "source": [
    "## Dependencies"
   ]
  },
  {
   "cell_type": "code",
   "execution_count": 1,
   "metadata": {
    "_kg_hide-input": true
   },
   "outputs": [],
   "source": [
    "import json, warnings, shutil\n",
    "from jigsaw_utility_scripts import *\n",
    "from transformers import TFXLMRobertaModel, XLMRobertaConfig\n",
    "from tensorflow.keras.models import Model\n",
    "from tensorflow.keras import optimizers, metrics, losses, layers\n",
    "from tensorflow.keras.callbacks import EarlyStopping, ModelCheckpoint\n",
    "\n",
    "warnings.filterwarnings(\"ignore\")"
   ]
  },
  {
   "cell_type": "markdown",
   "metadata": {},
   "source": [
    "## TPU configuration"
   ]
  },
  {
   "cell_type": "code",
   "execution_count": 2,
   "metadata": {
    "_cell_guid": "79c7e3d0-c299-4dcb-8224-4455121ee9b0",
    "_kg_hide-input": true,
    "_uuid": "d629ff2d2480ee46fbb7e2d37f6b5fab8052498a"
   },
   "outputs": [
    {
     "name": "stdout",
     "output_type": "stream",
     "text": [
      "Running on TPU  grpc://10.0.0.2:8470\n",
      "REPLICAS:  8\n"
     ]
    }
   ],
   "source": [
    "strategy, tpu = set_up_strategy()\n",
    "print(\"REPLICAS: \", strategy.num_replicas_in_sync)\n",
    "AUTO = tf.data.experimental.AUTOTUNE"
   ]
  },
  {
   "cell_type": "markdown",
   "metadata": {},
   "source": [
    "# Load data"
   ]
  },
  {
   "cell_type": "code",
   "execution_count": 3,
   "metadata": {
    "_kg_hide-input": true
   },
   "outputs": [
    {
     "name": "stdout",
     "output_type": "stream",
     "text": [
      "Train set samples: 435775\n",
      "Validation set samples: 8000\n"
     ]
    },
    {
     "data": {
      "text/html": [
       "<div>\n",
       "<style scoped>\n",
       "    .dataframe tbody tr th:only-of-type {\n",
       "        vertical-align: middle;\n",
       "    }\n",
       "\n",
       "    .dataframe tbody tr th {\n",
       "        vertical-align: top;\n",
       "    }\n",
       "\n",
       "    .dataframe thead th {\n",
       "        text-align: right;\n",
       "    }\n",
       "</style>\n",
       "<table border=\"1\" class=\"dataframe\">\n",
       "  <thead>\n",
       "    <tr style=\"text-align: right;\">\n",
       "      <th></th>\n",
       "      <th>index</th>\n",
       "      <th>comment_text</th>\n",
       "      <th>toxic</th>\n",
       "      <th>fold_1</th>\n",
       "      <th>fold_2</th>\n",
       "      <th>fold_3</th>\n",
       "      <th>fold_4</th>\n",
       "      <th>fold_5</th>\n",
       "    </tr>\n",
       "  </thead>\n",
       "  <tbody>\n",
       "    <tr>\n",
       "      <th>0</th>\n",
       "      <td>0</td>\n",
       "      <td>Explanation\\nWhy the edits made under my usern...</td>\n",
       "      <td>0</td>\n",
       "      <td>train</td>\n",
       "      <td>validation</td>\n",
       "      <td>train</td>\n",
       "      <td>train</td>\n",
       "      <td>train</td>\n",
       "    </tr>\n",
       "    <tr>\n",
       "      <th>1</th>\n",
       "      <td>1</td>\n",
       "      <td>D'aww! He matches this background colour I'm s...</td>\n",
       "      <td>0</td>\n",
       "      <td>train</td>\n",
       "      <td>validation</td>\n",
       "      <td>train</td>\n",
       "      <td>train</td>\n",
       "      <td>train</td>\n",
       "    </tr>\n",
       "    <tr>\n",
       "      <th>2</th>\n",
       "      <td>2</td>\n",
       "      <td>Hey man, I'm really not trying to edit war. It...</td>\n",
       "      <td>0</td>\n",
       "      <td>train</td>\n",
       "      <td>train</td>\n",
       "      <td>train</td>\n",
       "      <td>train</td>\n",
       "      <td>validation</td>\n",
       "    </tr>\n",
       "    <tr>\n",
       "      <th>3</th>\n",
       "      <td>3</td>\n",
       "      <td>\"\\nMore\\nI can't make any real suggestions on ...</td>\n",
       "      <td>0</td>\n",
       "      <td>train</td>\n",
       "      <td>validation</td>\n",
       "      <td>train</td>\n",
       "      <td>train</td>\n",
       "      <td>train</td>\n",
       "    </tr>\n",
       "    <tr>\n",
       "      <th>4</th>\n",
       "      <td>4</td>\n",
       "      <td>You, sir, are my hero. Any chance you remember...</td>\n",
       "      <td>0</td>\n",
       "      <td>train</td>\n",
       "      <td>train</td>\n",
       "      <td>train</td>\n",
       "      <td>train</td>\n",
       "      <td>validation</td>\n",
       "    </tr>\n",
       "  </tbody>\n",
       "</table>\n",
       "</div>"
      ],
      "text/plain": [
       "   index                                       comment_text  toxic fold_1  \\\n",
       "0      0  Explanation\\nWhy the edits made under my usern...      0  train   \n",
       "1      1  D'aww! He matches this background colour I'm s...      0  train   \n",
       "2      2  Hey man, I'm really not trying to edit war. It...      0  train   \n",
       "3      3  \"\\nMore\\nI can't make any real suggestions on ...      0  train   \n",
       "4      4  You, sir, are my hero. Any chance you remember...      0  train   \n",
       "\n",
       "       fold_2 fold_3 fold_4      fold_5  \n",
       "0  validation  train  train       train  \n",
       "1  validation  train  train       train  \n",
       "2       train  train  train  validation  \n",
       "3  validation  train  train       train  \n",
       "4       train  train  train  validation  "
      ]
     },
     "metadata": {},
     "output_type": "display_data"
    },
    {
     "name": "stdout",
     "output_type": "stream",
     "text": [
      "fold_1/\r\n",
      "fold_1/y_train.npy\r\n",
      "fold_1/x_valid.npy\r\n",
      "fold_1/x_train.npy\r\n",
      "fold_1/y_valid.npy\r\n"
     ]
    }
   ],
   "source": [
    "database_base_path = '/kaggle/input/jigsaw-dataset-split-pb-roberta-large-192/'\n",
    "k_fold = pd.read_csv(database_base_path + '5-fold.csv')\n",
    "valid_df = pd.read_csv(\"/kaggle/input/jigsaw-multilingual-toxic-comment-classification/validation.csv\", usecols=['comment_text', 'toxic', 'lang'])\n",
    "\n",
    "print('Train set samples: %d' % len(k_fold))\n",
    "print('Validation set samples: %d' % len(valid_df))\n",
    "display(k_fold.head())\n",
    "\n",
    "# Unzip files\n",
    "!tar -xvf /kaggle/input/jigsaw-dataset-split-pb-roberta-large-192/fold_1.tar.gz\n",
    "# !tar -xvf /kaggle/input/jigsaw-dataset-split-pb-roberta-large-192/fold_2.tar.gz\n",
    "# !tar -xvf /kaggle/input/jigsaw-dataset-split-pb-roberta-large-192/fold_3.tar.gz\n",
    "# !tar -xvf /kaggle/input/jigsaw-dataset-split-pb-roberta-large-192/fold_4.tar.gz\n",
    "# !tar -xvf /kaggle/input/jigsaw-dataset-split-pb-roberta-large-192/fold_5.tar.gz"
   ]
  },
  {
   "cell_type": "markdown",
   "metadata": {},
   "source": [
    "# Model parameters"
   ]
  },
  {
   "cell_type": "code",
   "execution_count": 4,
   "metadata": {
    "_kg_hide-input": false
   },
   "outputs": [],
   "source": [
    "base_path = '/kaggle/input/jigsaw-transformers/XLM-RoBERTa/'\n",
    "\n",
    "config = {\n",
    "  \"MAX_LEN\": 192,\n",
    "  \"BATCH_SIZE\": 16 * strategy.num_replicas_in_sync,\n",
    "  \"EPOCHS\": 2,\n",
    "  \"LEARNING_RATE\": 1e-5, \n",
    "  \"ES_PATIENCE\": 1,\n",
    "  \"N_FOLDS\": 1,\n",
    "  \"base_model_path\": base_path + 'tf-xlm-roberta-large-tf_model.h5',\n",
    "  \"config_path\": base_path + 'xlm-roberta-large-config.json'\n",
    "}\n",
    "\n",
    "with open('config.json', 'w') as json_file:\n",
    "    json.dump(json.loads(json.dumps(config)), json_file)"
   ]
  },
  {
   "cell_type": "markdown",
   "metadata": {},
   "source": [
    "# Model"
   ]
  },
  {
   "cell_type": "code",
   "execution_count": 5,
   "metadata": {},
   "outputs": [],
   "source": [
    "module_config = XLMRobertaConfig.from_pretrained(config['config_path'], output_hidden_states=False)\n",
    "\n",
    "def model_fn(MAX_LEN):\n",
    "    input_ids = layers.Input(shape=(MAX_LEN,), dtype=tf.int32, name='input_ids')\n",
    "    \n",
    "    base_model = TFXLMRobertaModel.from_pretrained(config['base_model_path'], config=module_config)\n",
    "    sequence_output = base_model({'input_ids': input_ids})\n",
    "    \n",
    "    last_state = sequence_output[0]\n",
    "    cls_token = last_state[:, 0, :]\n",
    "    \n",
    "    output = layers.Dense(1, activation='sigmoid', name='output')(cls_token)\n",
    "    \n",
    "    model = Model(inputs=input_ids, outputs=output)\n",
    "    model.compile(optimizers.Adam(lr=config['LEARNING_RATE']), \n",
    "                  loss=losses.BinaryCrossentropy(), \n",
    "                  metrics=[metrics.BinaryAccuracy(), metrics.AUC()])\n",
    "    \n",
    "    return model"
   ]
  },
  {
   "cell_type": "code",
   "execution_count": 6,
   "metadata": {},
   "outputs": [],
   "source": [
    "def get_training_dataset(x_train, y_train, batch_size, buffer_size):\n",
    "    dataset = tf.data.Dataset.from_tensor_slices(({'input_ids': x_train}, y_train))\n",
    "    dataset = dataset.repeat()\n",
    "    dataset = dataset.shuffle(2048)\n",
    "    dataset = dataset.batch(batch_size)\n",
    "    dataset = dataset.prefetch(buffer_size)\n",
    "    return dataset\n",
    "\n",
    "def get_validation_dataset(x_valid, y_valid, batch_size, buffer_size):\n",
    "    dataset = tf.data.Dataset.from_tensor_slices(({'input_ids': x_valid}, y_valid))\n",
    "    dataset = dataset.batch(batch_size)\n",
    "    dataset = dataset.cache()\n",
    "    dataset = dataset.prefetch(buffer_size)\n",
    "    return dataset\n",
    "\n",
    "def get_test_dataset(x_test, batch_size, buffer_size):\n",
    "    dataset = tf.data.Dataset.from_tensor_slices({'input_ids': x_test})\n",
    "    dataset = dataset.batch(batch_size)\n",
    "    return dataset"
   ]
  },
  {
   "cell_type": "markdown",
   "metadata": {},
   "source": [
    "# Train"
   ]
  },
  {
   "cell_type": "code",
   "execution_count": 7,
   "metadata": {},
   "outputs": [
    {
     "name": "stdout",
     "output_type": "stream",
     "text": [
      "\n",
      "FOLD: 1\n",
      "Train for 2723 steps, validate for 63 steps\n",
      "Epoch 1/2\n",
      "2722/2723 [============================>.] - ETA: 0s - loss: 0.0846 - binary_accuracy: 0.9684 - auc: 0.9932\n",
      "Epoch 00001: val_loss improved from inf to 0.37756, saving model to model_fold_1.h5\n",
      "2723/2723 [==============================] - 1531s 562ms/step - loss: 0.0846 - binary_accuracy: 0.9684 - auc: 0.9932 - val_loss: 0.3776 - val_binary_accuracy: 0.8606 - val_auc: 0.9021\n",
      "Epoch 2/2\n",
      "2722/2723 [============================>.] - ETA: 0s - loss: 0.0584 - binary_accuracy: 0.9768 - auc: 0.9969\n",
      "Epoch 00002: val_loss improved from 0.37756 to 0.32267, saving model to model_fold_1.h5\n",
      "2723/2723 [==============================] - 1324s 486ms/step - loss: 0.0584 - binary_accuracy: 0.9768 - auc: 0.9969 - val_loss: 0.3227 - val_binary_accuracy: 0.8611 - val_auc: 0.9024\n"
     ]
    }
   ],
   "source": [
    "history_list = []\n",
    "\n",
    "for n_fold in range(config['N_FOLDS']):\n",
    "    tf.tpu.experimental.initialize_tpu_system(tpu)\n",
    "    print('\\nFOLD: %d' % (n_fold+1))\n",
    "    # Load data\n",
    "    base_data_path = 'fold_%d/' % (n_fold+1)\n",
    "    x_train = np.load(base_data_path + 'x_train.npy')\n",
    "    y_train = np.load(base_data_path + 'y_train.npy')\n",
    "    x_valid = np.load(base_data_path + 'x_valid.npy')\n",
    "    x_valid_ml = np.load(database_base_path + 'x_valid.npy')\n",
    "    y_valid_ml = np.load(database_base_path + 'y_valid.npy')\n",
    "    \n",
    "    step_size = x_train.shape[0] // config['BATCH_SIZE']\n",
    "\n",
    "    ### Delete data dir\n",
    "    shutil.rmtree(base_data_path)\n",
    "\n",
    "    # Train model\n",
    "    model_path = 'model_fold_%d.h5' % (n_fold+1)\n",
    "    es = EarlyStopping(monitor='val_loss', mode='min', patience=config['ES_PATIENCE'], \n",
    "                       restore_best_weights=True, verbose=1)\n",
    "    checkpoint = ModelCheckpoint(model_path, monitor='val_loss', mode='min', \n",
    "                                 save_best_only=True, save_weights_only=True, verbose=1)\n",
    "    \n",
    "    with strategy.scope():\n",
    "        model = model_fn(config['MAX_LEN'])\n",
    "        history = model.fit(get_training_dataset(x_train, y_train, config['BATCH_SIZE'], AUTO),\n",
    "                        validation_data=(get_validation_dataset(x_valid_ml, y_valid_ml, config['BATCH_SIZE'], AUTO)),\n",
    "                        callbacks=[checkpoint, es],\n",
    "                        epochs=config['EPOCHS'], \n",
    "                        steps_per_epoch=step_size,\n",
    "                        verbose=1).history\n",
    "        \n",
    "    history_list.append(history)\n",
    "    \n",
    "    # Make predictions\n",
    "    train_preds = model.predict(get_test_dataset(x_train, config['BATCH_SIZE'], AUTO))\n",
    "    valid_preds = model.predict(get_test_dataset(x_valid, config['BATCH_SIZE'], AUTO))\n",
    "    valid_ml_preds = model.predict(get_test_dataset(x_valid_ml, config['BATCH_SIZE'], AUTO))\n",
    "    \n",
    "    k_fold.loc[k_fold['fold_%d' % (n_fold+1)] == 'train', 'pred_%d' % (n_fold+1)] = np.round(train_preds)\n",
    "    k_fold.loc[k_fold['fold_%d' % (n_fold+1)] == 'validation', 'pred_%d' % (n_fold+1)] = np.round(valid_preds)\n",
    "    valid_df['pred_%d' % (n_fold+1)] = np.round(valid_ml_preds)"
   ]
  },
  {
   "cell_type": "markdown",
   "metadata": {},
   "source": [
    "## Model loss graph"
   ]
  },
  {
   "cell_type": "code",
   "execution_count": 8,
   "metadata": {
    "_kg_hide-input": true
   },
   "outputs": [
    {
     "name": "stdout",
     "output_type": "stream",
     "text": [
      "Fold: 1\n"
     ]
    },
    {
     "data": {
      "image/png": "[encoded data removed]",
      "text/plain": [
       "<Figure size 1440x1080 with 3 Axes>"
      ]
     },
     "metadata": {},
     "output_type": "display_data"
    }
   ],
   "source": [
    "sns.set(style=\"whitegrid\")\n",
    "for n_fold in range(config['N_FOLDS']):\n",
    "    print('Fold: %d' % (n_fold+1))\n",
    "    plot_metrics(history_list[n_fold])"
   ]
  },
  {
   "cell_type": "markdown",
   "metadata": {},
   "source": [
    "# Model evaluation"
   ]
  },
  {
   "cell_type": "code",
   "execution_count": 9,
   "metadata": {
    "_kg_hide-input": true
   },
   "outputs": [
    {
     "data": {
      "text/html": [
       "<style  type=\"text/css\" >\n",
       "    #T_e09dbb9e_8362_11ea_8860_0242ac130202row0_col0 {\n",
       "            color:  black;\n",
       "        }    #T_e09dbb9e_8362_11ea_8860_0242ac130202row0_col1 {\n",
       "            color:  black;\n",
       "        }    #T_e09dbb9e_8362_11ea_8860_0242ac130202row0_col2 {\n",
       "            color:  red;\n",
       "        }    #T_e09dbb9e_8362_11ea_8860_0242ac130202row0_col3 {\n",
       "            color:  black;\n",
       "        }    #T_e09dbb9e_8362_11ea_8860_0242ac130202row0_col4 {\n",
       "            color:  black;\n",
       "        }    #T_e09dbb9e_8362_11ea_8860_0242ac130202row1_col0 {\n",
       "            color:  green;\n",
       "        }    #T_e09dbb9e_8362_11ea_8860_0242ac130202row1_col1 {\n",
       "            color:  green;\n",
       "        }    #T_e09dbb9e_8362_11ea_8860_0242ac130202row1_col2 {\n",
       "            color:  red;\n",
       "        }    #T_e09dbb9e_8362_11ea_8860_0242ac130202row1_col3 {\n",
       "            color:  green;\n",
       "        }    #T_e09dbb9e_8362_11ea_8860_0242ac130202row1_col4 {\n",
       "            color:  green;\n",
       "        }    #T_e09dbb9e_8362_11ea_8860_0242ac130202row2_col0 {\n",
       "            color:  green;\n",
       "        }    #T_e09dbb9e_8362_11ea_8860_0242ac130202row2_col1 {\n",
       "            color:  green;\n",
       "        }    #T_e09dbb9e_8362_11ea_8860_0242ac130202row2_col2 {\n",
       "            color:  red;\n",
       "        }    #T_e09dbb9e_8362_11ea_8860_0242ac130202row2_col3 {\n",
       "            color:  green;\n",
       "        }    #T_e09dbb9e_8362_11ea_8860_0242ac130202row2_col4 {\n",
       "            color:  green;\n",
       "        }    #T_e09dbb9e_8362_11ea_8860_0242ac130202row3_col0 {\n",
       "            color:  black;\n",
       "        }    #T_e09dbb9e_8362_11ea_8860_0242ac130202row3_col1 {\n",
       "            color:  black;\n",
       "        }    #T_e09dbb9e_8362_11ea_8860_0242ac130202row3_col2 {\n",
       "            color:  red;\n",
       "        }    #T_e09dbb9e_8362_11ea_8860_0242ac130202row3_col3 {\n",
       "            color:  black;\n",
       "        }    #T_e09dbb9e_8362_11ea_8860_0242ac130202row3_col4 {\n",
       "            color:  black;\n",
       "        }    #T_e09dbb9e_8362_11ea_8860_0242ac130202row4_col0 {\n",
       "            color:  black;\n",
       "        }    #T_e09dbb9e_8362_11ea_8860_0242ac130202row4_col1 {\n",
       "            color:  black;\n",
       "        }    #T_e09dbb9e_8362_11ea_8860_0242ac130202row4_col2 {\n",
       "            color:  red;\n",
       "        }    #T_e09dbb9e_8362_11ea_8860_0242ac130202row4_col3 {\n",
       "            color:  black;\n",
       "        }    #T_e09dbb9e_8362_11ea_8860_0242ac130202row4_col4 {\n",
       "            color:  black;\n",
       "        }    #T_e09dbb9e_8362_11ea_8860_0242ac130202row5_col0 {\n",
       "            color:  green;\n",
       "        }    #T_e09dbb9e_8362_11ea_8860_0242ac130202row5_col1 {\n",
       "            color:  green;\n",
       "        }    #T_e09dbb9e_8362_11ea_8860_0242ac130202row5_col2 {\n",
       "            color:  green;\n",
       "        }    #T_e09dbb9e_8362_11ea_8860_0242ac130202row5_col3 {\n",
       "            color:  green;\n",
       "        }    #T_e09dbb9e_8362_11ea_8860_0242ac130202row5_col4 {\n",
       "            color:  green;\n",
       "        }</style><table id=\"T_e09dbb9e_8362_11ea_8860_0242ac130202\" ><thead>    <tr>        <th class=\"blank level0\" ></th>        <th class=\"col_heading level0 col0\" >Train</th>        <th class=\"col_heading level0 col1\" >Valid</th>        <th class=\"col_heading level0 col2\" >Var</th>        <th class=\"col_heading level0 col3\" >Train_fold_1</th>        <th class=\"col_heading level0 col4\" >Valid_fold_1</th>    </tr>    <tr>        <th class=\"index_name level0\" >Metric</th>        <th class=\"blank\" ></th>        <th class=\"blank\" ></th>        <th class=\"blank\" ></th>        <th class=\"blank\" ></th>        <th class=\"blank\" ></th>    </tr></thead><tbody>\n",
       "                <tr>\n",
       "                        <th id=\"T_e09dbb9e_8362_11ea_8860_0242ac130202level0_row0\" class=\"row_heading level0 row0\" >ROC AUC</th>\n",
       "                        <td id=\"T_e09dbb9e_8362_11ea_8860_0242ac130202row0_col0\" class=\"data row0 col0\" >0.772429</td>\n",
       "                        <td id=\"T_e09dbb9e_8362_11ea_8860_0242ac130202row0_col1\" class=\"data row0 col1\" >0.771473</td>\n",
       "                        <td id=\"T_e09dbb9e_8362_11ea_8860_0242ac130202row0_col2\" class=\"data row0 col2\" >0.0009557</td>\n",
       "                        <td id=\"T_e09dbb9e_8362_11ea_8860_0242ac130202row0_col3\" class=\"data row0 col3\" >0.772429</td>\n",
       "                        <td id=\"T_e09dbb9e_8362_11ea_8860_0242ac130202row0_col4\" class=\"data row0 col4\" >0.771473</td>\n",
       "            </tr>\n",
       "            <tr>\n",
       "                        <th id=\"T_e09dbb9e_8362_11ea_8860_0242ac130202level0_row1\" class=\"row_heading level0 row1\" >Accuracy</th>\n",
       "                        <td id=\"T_e09dbb9e_8362_11ea_8860_0242ac130202row1_col0\" class=\"data row1 col0\" >0.854567</td>\n",
       "                        <td id=\"T_e09dbb9e_8362_11ea_8860_0242ac130202row1_col1\" class=\"data row1 col1\" >0.853491</td>\n",
       "                        <td id=\"T_e09dbb9e_8362_11ea_8860_0242ac130202row1_col2\" class=\"data row1 col2\" >0.00107567</td>\n",
       "                        <td id=\"T_e09dbb9e_8362_11ea_8860_0242ac130202row1_col3\" class=\"data row1 col3\" >0.854567</td>\n",
       "                        <td id=\"T_e09dbb9e_8362_11ea_8860_0242ac130202row1_col4\" class=\"data row1 col4\" >0.853491</td>\n",
       "            </tr>\n",
       "            <tr>\n",
       "                        <th id=\"T_e09dbb9e_8362_11ea_8860_0242ac130202level0_row2\" class=\"row_heading level0 row2\" >Precision</th>\n",
       "                        <td id=\"T_e09dbb9e_8362_11ea_8860_0242ac130202row2_col0\" class=\"data row2 col0\" >0.942118</td>\n",
       "                        <td id=\"T_e09dbb9e_8362_11ea_8860_0242ac130202row2_col1\" class=\"data row2 col1\" >0.937535</td>\n",
       "                        <td id=\"T_e09dbb9e_8362_11ea_8860_0242ac130202row2_col2\" class=\"data row2 col2\" >0.00458266</td>\n",
       "                        <td id=\"T_e09dbb9e_8362_11ea_8860_0242ac130202row2_col3\" class=\"data row2 col3\" >0.942118</td>\n",
       "                        <td id=\"T_e09dbb9e_8362_11ea_8860_0242ac130202row2_col4\" class=\"data row2 col4\" >0.937535</td>\n",
       "            </tr>\n",
       "            <tr>\n",
       "                        <th id=\"T_e09dbb9e_8362_11ea_8860_0242ac130202level0_row3\" class=\"row_heading level0 row3\" >Recall</th>\n",
       "                        <td id=\"T_e09dbb9e_8362_11ea_8860_0242ac130202row3_col0\" class=\"data row3 col0\" >0.560072</td>\n",
       "                        <td id=\"T_e09dbb9e_8362_11ea_8860_0242ac130202row3_col1\" class=\"data row3 col1\" >0.559427</td>\n",
       "                        <td id=\"T_e09dbb9e_8362_11ea_8860_0242ac130202row3_col2\" class=\"data row3 col2\" >0.000645536</td>\n",
       "                        <td id=\"T_e09dbb9e_8362_11ea_8860_0242ac130202row3_col3\" class=\"data row3 col3\" >0.560072</td>\n",
       "                        <td id=\"T_e09dbb9e_8362_11ea_8860_0242ac130202row3_col4\" class=\"data row3 col4\" >0.559427</td>\n",
       "            </tr>\n",
       "            <tr>\n",
       "                        <th id=\"T_e09dbb9e_8362_11ea_8860_0242ac130202level0_row4\" class=\"row_heading level0 row4\" >F1-score</th>\n",
       "                        <td id=\"T_e09dbb9e_8362_11ea_8860_0242ac130202row4_col0\" class=\"data row4 col0\" >0.702513</td>\n",
       "                        <td id=\"T_e09dbb9e_8362_11ea_8860_0242ac130202row4_col1\" class=\"data row4 col1\" >0.700729</td>\n",
       "                        <td id=\"T_e09dbb9e_8362_11ea_8860_0242ac130202row4_col2\" class=\"data row4 col2\" >0.00178414</td>\n",
       "                        <td id=\"T_e09dbb9e_8362_11ea_8860_0242ac130202row4_col3\" class=\"data row4 col3\" >0.702513</td>\n",
       "                        <td id=\"T_e09dbb9e_8362_11ea_8860_0242ac130202row4_col4\" class=\"data row4 col4\" >0.700729</td>\n",
       "            </tr>\n",
       "            <tr>\n",
       "                        <th id=\"T_e09dbb9e_8362_11ea_8860_0242ac130202level0_row5\" class=\"row_heading level0 row5\" >Support</th>\n",
       "                        <td id=\"T_e09dbb9e_8362_11ea_8860_0242ac130202row5_col0\" class=\"data row5 col0\" >106888</td>\n",
       "                        <td id=\"T_e09dbb9e_8362_11ea_8860_0242ac130202row5_col1\" class=\"data row5 col1\" >26722</td>\n",
       "                        <td id=\"T_e09dbb9e_8362_11ea_8860_0242ac130202row5_col2\" class=\"data row5 col2\" >80166</td>\n",
       "                        <td id=\"T_e09dbb9e_8362_11ea_8860_0242ac130202row5_col3\" class=\"data row5 col3\" >106888</td>\n",
       "                        <td id=\"T_e09dbb9e_8362_11ea_8860_0242ac130202row5_col4\" class=\"data row5 col4\" >26722</td>\n",
       "            </tr>\n",
       "    </tbody></table>"
      ],
      "text/plain": [
       "<pandas.io.formats.style.Styler at 0x7f27fcee4518>"
      ]
     },
     "metadata": {},
     "output_type": "display_data"
    }
   ],
   "source": [
    "display(evaluate_model(k_fold, config['N_FOLDS']).style.applymap(color_map))"
   ]
  },
  {
   "cell_type": "markdown",
   "metadata": {},
   "source": [
    "# Confusion matrix"
   ]
  },
  {
   "cell_type": "code",
   "execution_count": 10,
   "metadata": {
    "_kg_hide-input": true
   },
   "outputs": [
    {
     "name": "stdout",
     "output_type": "stream",
     "text": [
      "Fold: 1\n"
     ]
    },
    {
     "data": {
      "image/png": "[encoded data removed]",
      "text/plain": [
       "<Figure size 1296x432 with 4 Axes>"
      ]
     },
     "metadata": {},
     "output_type": "display_data"
    }
   ],
   "source": [
    "for n_fold in range(config['N_FOLDS']):\n",
    "    print('Fold: %d' % (n_fold+1))\n",
    "    train_set = k_fold[k_fold['fold_%d' % (n_fold+1)] == 'train']\n",
    "    validation_set = k_fold[k_fold['fold_%d' % (n_fold+1)] == 'validation'] \n",
    "    plot_confusion_matrix(train_set['toxic'], train_set['pred_%d' % (n_fold+1)], \n",
    "                          validation_set['toxic'], validation_set['pred_%d' % (n_fold+1)])"
   ]
  },
  {
   "cell_type": "markdown",
   "metadata": {},
   "source": [
    "# Model evaluation by language"
   ]
  },
  {
   "cell_type": "code",
   "execution_count": 11,
   "metadata": {
    "_kg_hide-input": true
   },
   "outputs": [
    {
     "data": {
      "text/html": [
       "<style  type=\"text/css\" >\n",
       "    #T_e28373fe_8362_11ea_8860_0242ac130202row0_col0 {\n",
       "            color:  black;\n",
       "        }    #T_e28373fe_8362_11ea_8860_0242ac130202row0_col1 {\n",
       "            color:  black;\n",
       "        }    #T_e28373fe_8362_11ea_8860_0242ac130202row1_col0 {\n",
       "            color:  black;\n",
       "        }    #T_e28373fe_8362_11ea_8860_0242ac130202row1_col1 {\n",
       "            color:  black;\n",
       "        }    #T_e28373fe_8362_11ea_8860_0242ac130202row2_col0 {\n",
       "            color:  black;\n",
       "        }    #T_e28373fe_8362_11ea_8860_0242ac130202row2_col1 {\n",
       "            color:  black;\n",
       "        }    #T_e28373fe_8362_11ea_8860_0242ac130202row3_col0 {\n",
       "            color:  black;\n",
       "        }    #T_e28373fe_8362_11ea_8860_0242ac130202row3_col1 {\n",
       "            color:  black;\n",
       "        }</style><table id=\"T_e28373fe_8362_11ea_8860_0242ac130202\" ><thead>    <tr>        <th class=\"blank level0\" ></th>        <th class=\"col_heading level0 col0\" >Mean</th>        <th class=\"col_heading level0 col1\" >Fold_1</th>    </tr>    <tr>        <th class=\"index_name level0\" >Lang / ROC AUC</th>        <th class=\"blank\" ></th>        <th class=\"blank\" ></th>    </tr></thead><tbody>\n",
       "                <tr>\n",
       "                        <th id=\"T_e28373fe_8362_11ea_8860_0242ac130202level0_row0\" class=\"row_heading level0 row0\" >Overall</th>\n",
       "                        <td id=\"T_e28373fe_8362_11ea_8860_0242ac130202row0_col0\" class=\"data row0 col0\" >0.577314</td>\n",
       "                        <td id=\"T_e28373fe_8362_11ea_8860_0242ac130202row0_col1\" class=\"data row0 col1\" >0.577314</td>\n",
       "            </tr>\n",
       "            <tr>\n",
       "                        <th id=\"T_e28373fe_8362_11ea_8860_0242ac130202level0_row1\" class=\"row_heading level0 row1\" >es</th>\n",
       "                        <td id=\"T_e28373fe_8362_11ea_8860_0242ac130202row1_col0\" class=\"data row1 col0\" >0.615115</td>\n",
       "                        <td id=\"T_e28373fe_8362_11ea_8860_0242ac130202row1_col1\" class=\"data row1 col1\" >0.615115</td>\n",
       "            </tr>\n",
       "            <tr>\n",
       "                        <th id=\"T_e28373fe_8362_11ea_8860_0242ac130202level0_row2\" class=\"row_heading level0 row2\" >it</th>\n",
       "                        <td id=\"T_e28373fe_8362_11ea_8860_0242ac130202row2_col0\" class=\"data row2 col0\" >0.583293</td>\n",
       "                        <td id=\"T_e28373fe_8362_11ea_8860_0242ac130202row2_col1\" class=\"data row2 col1\" >0.583293</td>\n",
       "            </tr>\n",
       "            <tr>\n",
       "                        <th id=\"T_e28373fe_8362_11ea_8860_0242ac130202level0_row3\" class=\"row_heading level0 row3\" >tr</th>\n",
       "                        <td id=\"T_e28373fe_8362_11ea_8860_0242ac130202row3_col0\" class=\"data row3 col0\" >0.510938</td>\n",
       "                        <td id=\"T_e28373fe_8362_11ea_8860_0242ac130202row3_col1\" class=\"data row3 col1\" >0.510938</td>\n",
       "            </tr>\n",
       "    </tbody></table>"
      ],
      "text/plain": [
       "<pandas.io.formats.style.Styler at 0x7f27fcee4e10>"
      ]
     },
     "metadata": {},
     "output_type": "display_data"
    }
   ],
   "source": [
    "display(evaluate_model_lang(valid_df, config['N_FOLDS']).style.applymap(color_map))"
   ]
  },
  {
   "cell_type": "markdown",
   "metadata": {},
   "source": [
    "# Visualize predictions"
   ]
  },
  {
   "cell_type": "code",
   "execution_count": 12,
   "metadata": {
    "_kg_hide-input": true
   },
   "outputs": [
    {
     "data": {
      "text/html": [
       "<div>\n",
       "<style scoped>\n",
       "    .dataframe tbody tr th:only-of-type {\n",
       "        vertical-align: middle;\n",
       "    }\n",
       "\n",
       "    .dataframe tbody tr th {\n",
       "        vertical-align: top;\n",
       "    }\n",
       "\n",
       "    .dataframe thead th {\n",
       "        text-align: right;\n",
       "    }\n",
       "</style>\n",
       "<table border=\"1\" class=\"dataframe\">\n",
       "  <thead>\n",
       "    <tr style=\"text-align: right;\">\n",
       "      <th></th>\n",
       "      <th>comment_text</th>\n",
       "      <th>toxic</th>\n",
       "      <th>pred_1</th>\n",
       "    </tr>\n",
       "  </thead>\n",
       "  <tbody>\n",
       "    <tr>\n",
       "      <th>0</th>\n",
       "      <td>Explanation\\nWhy the edits made under my username Hardcore Metallica Fan were reverted? They weren't vandalisms, jus...</td>\n",
       "      <td>0</td>\n",
       "      <td>0.0</td>\n",
       "    </tr>\n",
       "    <tr>\n",
       "      <th>1</th>\n",
       "      <td>D'aww! He matches this background colour I'm seemingly stuck with. Thanks.  (talk) 21:51, January 11, 2016 (UTC)</td>\n",
       "      <td>0</td>\n",
       "      <td>0.0</td>\n",
       "    </tr>\n",
       "    <tr>\n",
       "      <th>2</th>\n",
       "      <td>Hey man, I'm really not trying to edit war. It's just that this guy is constantly removing relevant information and ...</td>\n",
       "      <td>0</td>\n",
       "      <td>0.0</td>\n",
       "    </tr>\n",
       "    <tr>\n",
       "      <th>3</th>\n",
       "      <td>\"\\nMore\\nI can't make any real suggestions on improvement - I wondered if the section statistics should be later on,...</td>\n",
       "      <td>0</td>\n",
       "      <td>0.0</td>\n",
       "    </tr>\n",
       "    <tr>\n",
       "      <th>4</th>\n",
       "      <td>You, sir, are my hero. Any chance you remember what page that's on?</td>\n",
       "      <td>0</td>\n",
       "      <td>0.0</td>\n",
       "    </tr>\n",
       "    <tr>\n",
       "      <th>5</th>\n",
       "      <td>\"\\n\\nCongratulations from me as well, use the tools well.  · talk \"</td>\n",
       "      <td>0</td>\n",
       "      <td>0.0</td>\n",
       "    </tr>\n",
       "    <tr>\n",
       "      <th>6</th>\n",
       "      <td>COCKSUCKER BEFORE YOU PISS AROUND ON MY WORK</td>\n",
       "      <td>1</td>\n",
       "      <td>1.0</td>\n",
       "    </tr>\n",
       "    <tr>\n",
       "      <th>7</th>\n",
       "      <td>Your vandalism to the Matt Shirvington article has been reverted.  Please don't do it again, or you will be banned.</td>\n",
       "      <td>0</td>\n",
       "      <td>0.0</td>\n",
       "    </tr>\n",
       "    <tr>\n",
       "      <th>8</th>\n",
       "      <td>Sorry if the word 'nonsense' was offensive to you. Anyway, I'm not intending to write anything in the article(wow th...</td>\n",
       "      <td>0</td>\n",
       "      <td>0.0</td>\n",
       "    </tr>\n",
       "    <tr>\n",
       "      <th>9</th>\n",
       "      <td>alignment on this subject and which are contrary to those of DuLithgow</td>\n",
       "      <td>0</td>\n",
       "      <td>0.0</td>\n",
       "    </tr>\n",
       "    <tr>\n",
       "      <th>10</th>\n",
       "      <td>\"\\nFair use rationale for Image:Wonju.jpg\\n\\nThanks for uploading Image:Wonju.jpg. I notice the image page specifies...</td>\n",
       "      <td>0</td>\n",
       "      <td>0.0</td>\n",
       "    </tr>\n",
       "    <tr>\n",
       "      <th>11</th>\n",
       "      <td>bbq \\n\\nbe a man and lets discuss it-maybe over the phone?</td>\n",
       "      <td>0</td>\n",
       "      <td>0.0</td>\n",
       "    </tr>\n",
       "    <tr>\n",
       "      <th>12</th>\n",
       "      <td>Hey... what is it..\\n@ | talk .\\nWhat is it... an exclusive group of some WP TALIBANS...who are good at destroying, ...</td>\n",
       "      <td>1</td>\n",
       "      <td>0.0</td>\n",
       "    </tr>\n",
       "    <tr>\n",
       "      <th>13</th>\n",
       "      <td>Before you start throwing accusations and warnings at me, lets review the edit itself-making ad hominem attacks isn'...</td>\n",
       "      <td>0</td>\n",
       "      <td>0.0</td>\n",
       "    </tr>\n",
       "    <tr>\n",
       "      <th>14</th>\n",
       "      <td>Oh, and the girl above started her arguments with me. She stuck her nose where it doesn't belong. I believe the argu...</td>\n",
       "      <td>0</td>\n",
       "      <td>0.0</td>\n",
       "    </tr>\n",
       "  </tbody>\n",
       "</table>\n",
       "</div>"
      ],
      "text/plain": [
       "                                                                                                               comment_text  \\\n",
       "0   Explanation\\nWhy the edits made under my username Hardcore Metallica Fan were reverted? They weren't vandalisms, jus...   \n",
       "1          D'aww! He matches this background colour I'm seemingly stuck with. Thanks.  (talk) 21:51, January 11, 2016 (UTC)   \n",
       "2   Hey man, I'm really not trying to edit war. It's just that this guy is constantly removing relevant information and ...   \n",
       "3   \"\\nMore\\nI can't make any real suggestions on improvement - I wondered if the section statistics should be later on,...   \n",
       "4                                                       You, sir, are my hero. Any chance you remember what page that's on?   \n",
       "5                                                       \"\\n\\nCongratulations from me as well, use the tools well.  · talk \"   \n",
       "6                                                                              COCKSUCKER BEFORE YOU PISS AROUND ON MY WORK   \n",
       "7       Your vandalism to the Matt Shirvington article has been reverted.  Please don't do it again, or you will be banned.   \n",
       "8   Sorry if the word 'nonsense' was offensive to you. Anyway, I'm not intending to write anything in the article(wow th...   \n",
       "9                                                    alignment on this subject and which are contrary to those of DuLithgow   \n",
       "10  \"\\nFair use rationale for Image:Wonju.jpg\\n\\nThanks for uploading Image:Wonju.jpg. I notice the image page specifies...   \n",
       "11                                                               bbq \\n\\nbe a man and lets discuss it-maybe over the phone?   \n",
       "12  Hey... what is it..\\n@ | talk .\\nWhat is it... an exclusive group of some WP TALIBANS...who are good at destroying, ...   \n",
       "13  Before you start throwing accusations and warnings at me, lets review the edit itself-making ad hominem attacks isn'...   \n",
       "14  Oh, and the girl above started her arguments with me. She stuck her nose where it doesn't belong. I believe the argu...   \n",
       "\n",
       "    toxic  pred_1  \n",
       "0       0     0.0  \n",
       "1       0     0.0  \n",
       "2       0     0.0  \n",
       "3       0     0.0  \n",
       "4       0     0.0  \n",
       "5       0     0.0  \n",
       "6       1     1.0  \n",
       "7       0     0.0  \n",
       "8       0     0.0  \n",
       "9       0     0.0  \n",
       "10      0     0.0  \n",
       "11      0     0.0  \n",
       "12      1     0.0  \n",
       "13      0     0.0  \n",
       "14      0     0.0  "
      ]
     },
     "metadata": {},
     "output_type": "display_data"
    }
   ],
   "source": [
    "pd.set_option('max_colwidth', 120)\n",
    "display(k_fold[['comment_text', 'toxic'] + [c for c in k_fold.columns if c.startswith('pred')]].head(15))"
   ]
  }
 ],
 "metadata": {
  "kernelspec": {
   "display_name": "Python 3",
   "language": "python",
   "name": "python3"
  },
  "language_info": {
   "codemirror_mode": {
    "name": "ipython",
    "version": 3
   },
   "file_extension": ".py",
   "mimetype": "text/x-python",
   "name": "python",
   "nbconvert_exporter": "python",
   "pygments_lexer": "ipython3",
   "version": "3.6.6"
  }
 },
 "nbformat": 4,
 "nbformat_minor": 4
}
