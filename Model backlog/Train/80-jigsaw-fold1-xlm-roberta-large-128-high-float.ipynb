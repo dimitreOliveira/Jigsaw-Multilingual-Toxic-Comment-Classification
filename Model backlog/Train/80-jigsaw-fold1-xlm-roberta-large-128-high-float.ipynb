{
 "cells": [
  {
   "cell_type": "markdown",
   "execution_count": null,
   "metadata": {},
   "source": [
    "## Dependencies"
   ]
  },
  {
   "cell_type": "code",
   "execution_count": 1,
   "metadata": {
    "_kg_hide-input": true
   },
   "outputs": [],
   "source": [
    "import json, warnings, shutil, glob\n",
    "from jigsaw_utility_scripts import *\n",
    "from scripts_step_lr_schedulers import *\n",
    "from transformers import TFXLMRobertaModel, XLMRobertaConfig\n",
    "from tensorflow.keras.models import Model\n",
    "from tensorflow.keras import optimizers, metrics, losses, layers\n",
    "\n",
    "SEED = 0\n",
    "seed_everything(SEED)\n",
    "warnings.filterwarnings(\"ignore\")"
   ]
  },
  {
   "cell_type": "markdown",
   "execution_count": null,
   "metadata": {},
   "source": [
    "## TPU configuration"
   ]
  },
  {
   "cell_type": "code",
   "execution_count": 2,
   "metadata": {
    "_cell_guid": "79c7e3d0-c299-4dcb-8224-4455121ee9b0",
    "_kg_hide-input": true,
    "_uuid": "d629ff2d2480ee46fbb7e2d37f6b5fab8052498a"
   },
   "outputs": [
    {
     "name": "stdout",
     "output_type": "stream",
     "text": [
      "Running on TPU  grpc://10.0.0.2:8470\n",
      "REPLICAS:  8\n"
     ]
    }
   ],
   "source": [
    "strategy, tpu = set_up_strategy()\n",
    "print(\"REPLICAS: \", strategy.num_replicas_in_sync)\n",
    "AUTO = tf.data.experimental.AUTOTUNE"
   ]
  },
  {
   "cell_type": "markdown",
   "execution_count": null,
   "metadata": {},
   "source": [
    "# Load data"
   ]
  },
  {
   "cell_type": "code",
   "execution_count": 3,
   "metadata": {
    "_kg_hide-input": true
   },
   "outputs": [
    {
     "name": "stdout",
     "output_type": "stream",
     "text": [
      "Train samples: 207593\n"
     ]
    },
    {
     "data": {
      "text/html": [
       "<div>\n",
       "<style scoped>\n",
       "    .dataframe tbody tr th:only-of-type {\n",
       "        vertical-align: middle;\n",
       "    }\n",
       "\n",
       "    .dataframe tbody tr th {\n",
       "        vertical-align: top;\n",
       "    }\n",
       "\n",
       "    .dataframe thead th {\n",
       "        text-align: right;\n",
       "    }\n",
       "</style>\n",
       "<table border=\"1\" class=\"dataframe\">\n",
       "  <thead>\n",
       "    <tr style=\"text-align: right;\">\n",
       "      <th></th>\n",
       "      <th>comment_text</th>\n",
       "      <th>toxic</th>\n",
       "      <th>toxic_int</th>\n",
       "      <th>length</th>\n",
       "      <th>word_count</th>\n",
       "      <th>token_count</th>\n",
       "      <th>fold_1</th>\n",
       "      <th>fold_2</th>\n",
       "      <th>fold_3</th>\n",
       "      <th>fold_4</th>\n",
       "      <th>fold_5</th>\n",
       "    </tr>\n",
       "  </thead>\n",
       "  <tbody>\n",
       "    <tr>\n",
       "      <th>0</th>\n",
       "      <td>Why is the headline and the first paragraphs n...</td>\n",
       "      <td>0.000000</td>\n",
       "      <td>0</td>\n",
       "      <td>881</td>\n",
       "      <td>144</td>\n",
       "      <td>205</td>\n",
       "      <td>train</td>\n",
       "      <td>train</td>\n",
       "      <td>train</td>\n",
       "      <td>validation</td>\n",
       "      <td>train</td>\n",
       "    </tr>\n",
       "    <tr>\n",
       "      <th>1</th>\n",
       "      <td>Democrats speaking of a moral compass when the...</td>\n",
       "      <td>0.806452</td>\n",
       "      <td>1</td>\n",
       "      <td>173</td>\n",
       "      <td>22</td>\n",
       "      <td>52</td>\n",
       "      <td>train</td>\n",
       "      <td>train</td>\n",
       "      <td>validation</td>\n",
       "      <td>train</td>\n",
       "      <td>train</td>\n",
       "    </tr>\n",
       "    <tr>\n",
       "      <th>2</th>\n",
       "      <td>It's not currently a flood. It's been a trickl...</td>\n",
       "      <td>0.000000</td>\n",
       "      <td>0</td>\n",
       "      <td>100</td>\n",
       "      <td>19</td>\n",
       "      <td>31</td>\n",
       "      <td>train</td>\n",
       "      <td>validation</td>\n",
       "      <td>train</td>\n",
       "      <td>train</td>\n",
       "      <td>train</td>\n",
       "    </tr>\n",
       "    <tr>\n",
       "      <th>3</th>\n",
       "      <td>::May I ask what interest you have in these is...</td>\n",
       "      <td>0.000000</td>\n",
       "      <td>0</td>\n",
       "      <td>51</td>\n",
       "      <td>10</td>\n",
       "      <td>14</td>\n",
       "      <td>train</td>\n",
       "      <td>train</td>\n",
       "      <td>validation</td>\n",
       "      <td>train</td>\n",
       "      <td>train</td>\n",
       "    </tr>\n",
       "    <tr>\n",
       "      <th>4</th>\n",
       "      <td>Yup, you would think they were the majority. C...</td>\n",
       "      <td>0.000000</td>\n",
       "      <td>0</td>\n",
       "      <td>226</td>\n",
       "      <td>40</td>\n",
       "      <td>56</td>\n",
       "      <td>validation</td>\n",
       "      <td>train</td>\n",
       "      <td>train</td>\n",
       "      <td>train</td>\n",
       "      <td>train</td>\n",
       "    </tr>\n",
       "  </tbody>\n",
       "</table>\n",
       "</div>"
      ],
      "text/plain": [
       "                                        comment_text     toxic  toxic_int  \\\n",
       "0  Why is the headline and the first paragraphs n...  0.000000          0   \n",
       "1  Democrats speaking of a moral compass when the...  0.806452          1   \n",
       "2  It's not currently a flood. It's been a trickl...  0.000000          0   \n",
       "3  ::May I ask what interest you have in these is...  0.000000          0   \n",
       "4  Yup, you would think they were the majority. C...  0.000000          0   \n",
       "\n",
       "   length  word_count  token_count      fold_1      fold_2      fold_3  \\\n",
       "0     881         144          205       train       train       train   \n",
       "1     173          22           52       train       train  validation   \n",
       "2     100          19           31       train  validation       train   \n",
       "3      51          10           14       train       train  validation   \n",
       "4     226          40           56  validation       train       train   \n",
       "\n",
       "       fold_4 fold_5  \n",
       "0  validation  train  \n",
       "1       train  train  \n",
       "2       train  train  \n",
       "3       train  train  \n",
       "4       train  train  "
      ]
     },
     "metadata": {},
     "output_type": "display_data"
    },
    {
     "name": "stdout",
     "output_type": "stream",
     "text": [
      "Validation samples: 8000\n"
     ]
    },
    {
     "data": {
      "text/html": [
       "<div>\n",
       "<style scoped>\n",
       "    .dataframe tbody tr th:only-of-type {\n",
       "        vertical-align: middle;\n",
       "    }\n",
       "\n",
       "    .dataframe tbody tr th {\n",
       "        vertical-align: top;\n",
       "    }\n",
       "\n",
       "    .dataframe thead th {\n",
       "        text-align: right;\n",
       "    }\n",
       "</style>\n",
       "<table border=\"1\" class=\"dataframe\">\n",
       "  <thead>\n",
       "    <tr style=\"text-align: right;\">\n",
       "      <th></th>\n",
       "      <th>comment_text</th>\n",
       "      <th>lang</th>\n",
       "      <th>toxic</th>\n",
       "    </tr>\n",
       "  </thead>\n",
       "  <tbody>\n",
       "    <tr>\n",
       "      <th>0</th>\n",
       "      <td>Este usuario ni siquiera llega al rango de    ...</td>\n",
       "      <td>es</td>\n",
       "      <td>0</td>\n",
       "    </tr>\n",
       "    <tr>\n",
       "      <th>1</th>\n",
       "      <td>Il testo di questa voce pare esser scopiazzato...</td>\n",
       "      <td>it</td>\n",
       "      <td>0</td>\n",
       "    </tr>\n",
       "    <tr>\n",
       "      <th>2</th>\n",
       "      <td>Vale. Sólo expongo mi pasado. Todo tiempo pasa...</td>\n",
       "      <td>es</td>\n",
       "      <td>1</td>\n",
       "    </tr>\n",
       "    <tr>\n",
       "      <th>3</th>\n",
       "      <td>Bu maddenin alt başlığı olarak  uluslararası i...</td>\n",
       "      <td>tr</td>\n",
       "      <td>0</td>\n",
       "    </tr>\n",
       "    <tr>\n",
       "      <th>4</th>\n",
       "      <td>Belçika nın şehirlerinin yanında ilçe ve belde...</td>\n",
       "      <td>tr</td>\n",
       "      <td>0</td>\n",
       "    </tr>\n",
       "  </tbody>\n",
       "</table>\n",
       "</div>"
      ],
      "text/plain": [
       "                                        comment_text lang  toxic\n",
       "0  Este usuario ni siquiera llega al rango de    ...   es      0\n",
       "1  Il testo di questa voce pare esser scopiazzato...   it      0\n",
       "2  Vale. Sólo expongo mi pasado. Todo tiempo pasa...   es      1\n",
       "3  Bu maddenin alt başlığı olarak  uluslararası i...   tr      0\n",
       "4  Belçika nın şehirlerinin yanında ilçe ve belde...   tr      0"
      ]
     },
     "metadata": {},
     "output_type": "display_data"
    },
    {
     "name": "stdout",
     "output_type": "stream",
     "text": [
      "fold_1/\r\n",
      "fold_1/x_train.npy\r\n",
      "fold_1/x_valid.npy\r\n",
      "fold_1/x_valid_tail.npy\r\n",
      "fold_1/y_train_int.npy\r\n",
      "fold_1/y_valid.npy\r\n",
      "fold_1/y_valid_int.npy\r\n",
      "fold_1/x_train_tail.npy\r\n",
      "fold_1/y_train.npy\r\n"
     ]
    }
   ],
   "source": [
    "database_base_path = '/kaggle/input/jigsaw-data-split-roberta-128-ratio-2-high/'\n",
    "k_fold = pd.read_csv(database_base_path + '5-fold.csv')\n",
    "valid_df = pd.read_csv(\"/kaggle/input/jigsaw-multilingual-toxic-comment-classification/validation.csv\", \n",
    "                       usecols=['comment_text', 'toxic', 'lang'])\n",
    "\n",
    "print('Train samples: %d' % len(k_fold))\n",
    "display(k_fold.head())\n",
    "print('Validation samples: %d' % len(valid_df))\n",
    "display(valid_df.head())\n",
    "\n",
    "base_data_path = 'fold_1/'\n",
    "# Unzip files\n",
    "!tar -xvf /kaggle/input/jigsaw-data-split-roberta-128-ratio-2-high/fold_1.tar.gz"
   ]
  },
  {
   "cell_type": "markdown",
   "execution_count": null,
   "metadata": {},
   "source": [
    "# Model parameters"
   ]
  },
  {
   "cell_type": "code",
   "execution_count": 4,
   "metadata": {
    "_kg_hide-input": false
   },
   "outputs": [],
   "source": [
    "base_path = '/kaggle/input/jigsaw-transformers/XLM-RoBERTa/'\n",
    "\n",
    "config = {\n",
    "  \"MAX_LEN\": 128,\n",
    "  \"BATCH_SIZE\": 128,\n",
    "  \"EPOCHS\": 4,\n",
    "  \"LEARNING_RATE\": 1e-5, \n",
    "  \"ES_PATIENCE\": None,\n",
    "  \"base_model_path\": base_path + 'tf-xlm-roberta-large-tf_model.h5',\n",
    "  \"config_path\": base_path + 'xlm-roberta-large-config.json'\n",
    "}\n",
    "\n",
    "with open('config.json', 'w') as json_file:\n",
    "    json.dump(json.loads(json.dumps(config)), json_file)"
   ]
  },
  {
   "cell_type": "markdown",
   "execution_count": null,
   "metadata": {},
   "source": [
    "## Learning rate schedule"
   ]
  },
  {
   "cell_type": "code",
   "execution_count": 5,
   "metadata": {
    "_kg_hide-input": true
   },
   "outputs": [
    {
     "name": "stdout",
     "output_type": "stream",
     "text": [
      "Learning rate schedule: 1e-07 to 9.87e-06 to 9.71e-07\n"
     ]
    },
    {
     "data": {
      "image/png": "[encoded data removed]",
      "text/plain": [
       "<Figure size 1440x432 with 1 Axes>"
      ]
     },
     "metadata": {},
     "output_type": "display_data"
    }
   ],
   "source": [
    "lr_min = 1e-7\n",
    "lr_start = 1e-7\n",
    "lr_max = config['LEARNING_RATE']\n",
    "step_size = len(k_fold[k_fold['fold_1'] == 'train']) // config['BATCH_SIZE']\n",
    "total_steps = config['EPOCHS'] * step_size * 2 # tail\n",
    "hold_max_steps = 0\n",
    "warmup_steps = step_size * 1 * 2 # tail\n",
    "decay = .9997\n",
    "\n",
    "rng = [i for i in range(0, total_steps, config['BATCH_SIZE'])]\n",
    "y = [exponential_schedule_with_warmup(tf.cast(x, tf.float32), warmup_steps, hold_max_steps, \n",
    "                                      lr_start, lr_max, lr_min, decay) for x in rng]\n",
    "\n",
    "sns.set(style=\"whitegrid\")\n",
    "fig, ax = plt.subplots(figsize=(20, 6))\n",
    "plt.plot(rng, y)\n",
    "print(\"Learning rate schedule: {:.3g} to {:.3g} to {:.3g}\".format(y[0], max(y), y[-1]))"
   ]
  },
  {
   "cell_type": "markdown",
   "execution_count": null,
   "metadata": {},
   "source": [
    "# Model"
   ]
  },
  {
   "cell_type": "code",
   "execution_count": 6,
   "metadata": {},
   "outputs": [],
   "source": [
    "module_config = XLMRobertaConfig.from_pretrained(config['config_path'], output_hidden_states=False)\n",
    "\n",
    "def model_fn(MAX_LEN):\n",
    "    input_ids = layers.Input(shape=(MAX_LEN,), dtype=tf.int32, name='input_ids')\n",
    "    attention_mask = layers.Input(shape=(MAX_LEN,), dtype=tf.int32, name='attention_mask')\n",
    "    \n",
    "    base_model = TFXLMRobertaModel.from_pretrained(config['base_model_path'], config=module_config)\n",
    "    last_hidden_state, _ = base_model({'input_ids': input_ids, 'attention_mask': attention_mask})\n",
    "    cls_token = last_hidden_state[:, 0, :]\n",
    "    \n",
    "    output = layers.Dense(1, activation='sigmoid', name='output')(cls_token)\n",
    "    \n",
    "    model = Model(inputs=[input_ids, attention_mask], outputs=output)\n",
    "    \n",
    "    return model"
   ]
  },
  {
   "cell_type": "markdown",
   "execution_count": null,
   "metadata": {},
   "source": [
    "# Train"
   ]
  },
  {
   "cell_type": "code",
   "execution_count": 7,
   "metadata": {
    "_kg_hide-input": true
   },
   "outputs": [
    {
     "name": "stdout",
     "output_type": "stream",
     "text": [
      "Train for 2594 steps, validate for 62 steps\n",
      "\n",
      "EPOCH 1/4\n",
      "time: 717.8s loss: 0.3409 auc: 0.9066 val_loss: 0.2409 val_auc: 0.9283\n",
      "\n",
      "EPOCH 2/4\n",
      "time: 527.2s loss: 0.2590 auc: 0.9455 val_loss: 0.2689 val_auc: 0.9219\n",
      "\n",
      "EPOCH 3/4\n",
      "time: 527.0s loss: 0.2384 auc: 0.9536 val_loss: 0.2827 val_auc: 0.9163\n",
      "\n",
      "EPOCH 4/4\n",
      "time: 527.1s loss: 0.2264 auc: 0.9578 val_loss: 0.3050 val_auc: 0.9125\n",
      "Training finished\n",
      "Train for 125 steps, validate for 62 steps\n",
      "\n",
      "EPOCH 1/1\n",
      "time: 629.4s loss: 1.6517 auc: 0.9915 val_loss: 0.0043 val_auc: 1.0000\n",
      "Training finished\n"
     ]
    }
   ],
   "source": [
    "# Load data\n",
    "x_train = np.load(base_data_path + 'x_train.npy')\n",
    "y_train = np.load(base_data_path + 'y_train.npy').reshape(x_train.shape[1], 1).astype(np.float32)\n",
    "x_valid_ml = np.load(database_base_path + 'x_valid.npy')\n",
    "y_valid_ml = np.load(database_base_path + 'y_valid.npy').reshape(x_valid_ml.shape[1], 1).astype(np.float32)\n",
    "\n",
    "#################### ADD TAIL ####################\n",
    "x_train = np.hstack([x_train, np.load(base_data_path + 'x_train_tail.npy')])\n",
    "y_train = np.vstack([y_train, y_train])\n",
    "\n",
    "step_size = x_train.shape[1] // config['BATCH_SIZE']\n",
    "valid_step_size = x_valid_ml.shape[1] // config['BATCH_SIZE']\n",
    "\n",
    "# Build TF datasets\n",
    "train_dist_ds = strategy.experimental_distribute_dataset(get_training_dataset(x_train, y_train, config['BATCH_SIZE'], AUTO, seed=SEED))\n",
    "valid_dist_ds = strategy.experimental_distribute_dataset(get_validation_dataset(x_valid_ml, y_valid_ml, config['BATCH_SIZE'], AUTO, repeated=True, seed=SEED))\n",
    "train_data_iter = iter(train_dist_ds)\n",
    "valid_data_iter = iter(valid_dist_ds)\n",
    "\n",
    "# Step functions\n",
    "@tf.function\n",
    "def train_step(data_iter):\n",
    "    def train_step_fn(x, y):\n",
    "        with tf.GradientTape() as tape:\n",
    "            probabilities = model(x, training=True)\n",
    "            loss = loss_fn(y, probabilities)\n",
    "        grads = tape.gradient(loss, model.trainable_variables)\n",
    "        optimizer.apply_gradients(zip(grads, model.trainable_variables))\n",
    "        train_auc.update_state(y, probabilities)\n",
    "        train_loss.update_state(loss)\n",
    "    for _ in tf.range(step_size):\n",
    "        strategy.experimental_run_v2(train_step_fn, next(data_iter))\n",
    "\n",
    "@tf.function\n",
    "def valid_step(data_iter):\n",
    "    def valid_step_fn(x, y):\n",
    "        probabilities = model(x, training=False)\n",
    "        loss = loss_fn(y, probabilities)\n",
    "        valid_auc.update_state(y, probabilities)\n",
    "        valid_loss.update_state(loss)\n",
    "    for _ in tf.range(valid_step_size):\n",
    "        strategy.experimental_run_v2(valid_step_fn, next(data_iter))\n",
    "\n",
    "# Train model\n",
    "with strategy.scope():\n",
    "    model = model_fn(config['MAX_LEN'])\n",
    "    optimizer = optimizers.Adam(learning_rate=lambda: \n",
    "                                exponential_schedule_with_warmup(tf.cast(optimizer.iterations, tf.float32), \n",
    "                                                                 warmup_steps, hold_max_steps, lr_start, \n",
    "                                                                 lr_max, lr_min, decay))\n",
    "    loss_fn = losses.binary_crossentropy\n",
    "    train_auc = metrics.AUC()\n",
    "    valid_auc = metrics.AUC()\n",
    "    train_loss = metrics.Sum()\n",
    "    valid_loss = metrics.Sum()\n",
    "\n",
    "metrics_dict = {'loss': train_loss, 'auc': train_auc, \n",
    "                'val_loss': valid_loss, 'val_auc': valid_auc}\n",
    "\n",
    "history = custom_fit(model, metrics_dict, train_step, valid_step, train_data_iter, valid_data_iter, \n",
    "                     step_size, valid_step_size, config['BATCH_SIZE'], config['EPOCHS'], \n",
    "                     config['ES_PATIENCE'], save_last=False)\n",
    "# model.save_weights('model.h5')\n",
    "\n",
    "# Make predictions\n",
    "x_train = np.load(base_data_path + 'x_train.npy')\n",
    "x_valid = np.load(base_data_path + 'x_valid.npy')\n",
    "x_valid_ml_eval = np.load(database_base_path + 'x_valid.npy')\n",
    "\n",
    "train_preds = model.predict(get_test_dataset(x_train, config['BATCH_SIZE'], AUTO))\n",
    "valid_preds = model.predict(get_test_dataset(x_valid, config['BATCH_SIZE'], AUTO))\n",
    "valid_ml_preds = model.predict(get_test_dataset(x_valid_ml_eval, config['BATCH_SIZE'], AUTO))\n",
    "\n",
    "k_fold.loc[k_fold['fold_1'] == 'train', 'pred_1'] = np.round(train_preds)\n",
    "k_fold.loc[k_fold['fold_1'] == 'validation', 'pred_1'] = np.round(valid_preds)\n",
    "valid_df['pred_1'] = valid_ml_preds\n",
    "\n",
    "\n",
    "# Fine-tune on validation set\n",
    "x_train_ml_tail = x_valid_ml.copy()\n",
    "y_train_ml_tail = y_valid_ml.copy()\n",
    "#################### ADD TAIL ####################\n",
    "x_train_ml_tail = np.hstack([x_train_ml_tail, np.load(database_base_path + 'x_valid_tail.npy')])\n",
    "y_train_ml_tail = np.vstack([y_train_ml_tail, y_train_ml_tail])\n",
    "\n",
    "valid_step_size_tail = x_train_ml_tail.shape[1] // config['BATCH_SIZE']\n",
    "\n",
    "# Build TF datasets\n",
    "train_ml_dist_ds = strategy.experimental_distribute_dataset(get_training_dataset(x_train_ml_tail, y_train_ml_tail, \n",
    "                                                                                 config['BATCH_SIZE'], AUTO, seed=SEED))\n",
    "train_ml_data_iter = iter(train_ml_dist_ds)\n",
    "\n",
    "history_ml = custom_fit(model, metrics_dict, train_step, valid_step, train_ml_data_iter, valid_data_iter, \n",
    "                        valid_step_size_tail, valid_step_size, config['BATCH_SIZE'], 1, \n",
    "                        config['ES_PATIENCE'], save_last=False)\n",
    "model.save_weights('model_ml.h5')\n",
    "\n",
    "# Make predictions\n",
    "valid_ml_preds = model.predict(get_test_dataset(x_valid_ml_eval, config['BATCH_SIZE'], AUTO))\n",
    "valid_df['pred_ml_1'] = valid_ml_preds\n",
    "\n",
    "### Delete data dir\n",
    "shutil.rmtree(base_data_path)"
   ]
  },
  {
   "cell_type": "markdown",
   "execution_count": null,
   "metadata": {},
   "source": [
    "## Model loss graph"
   ]
  },
  {
   "cell_type": "code",
   "execution_count": 8,
   "metadata": {
    "_kg_hide-input": true
   },
   "outputs": [
    {
     "data": {
      "image/png": "[encoded data removed]",
      "text/plain": [
       "<Figure size 1440x720 with 2 Axes>"
      ]
     },
     "metadata": {},
     "output_type": "display_data"
    },
    {
     "data": {
      "image/png": "[encoded data removed]",
      "text/plain": [
       "<Figure size 1440x720 with 2 Axes>"
      ]
     },
     "metadata": {},
     "output_type": "display_data"
    }
   ],
   "source": [
    "plot_metrics(history)\n",
    "# ML fine-tunned preds\n",
    "plot_metrics(history_ml)"
   ]
  },
  {
   "cell_type": "markdown",
   "execution_count": null,
   "metadata": {},
   "source": [
    "# Model evaluation"
   ]
  },
  {
   "cell_type": "code",
   "execution_count": 9,
   "metadata": {
    "_kg_hide-input": true
   },
   "outputs": [
    {
     "data": {
      "text/html": [
       "<style  type=\"text/css\" >\n",
       "    #T_382264b2_9931_11ea_9382_0242ac130202row0_col0 {\n",
       "            color:  green;\n",
       "        }    #T_382264b2_9931_11ea_9382_0242ac130202row0_col1 {\n",
       "            color:  green;\n",
       "        }    #T_382264b2_9931_11ea_9382_0242ac130202row0_col2 {\n",
       "            color:  red;\n",
       "        }    #T_382264b2_9931_11ea_9382_0242ac130202row0_col3 {\n",
       "            color:  green;\n",
       "        }    #T_382264b2_9931_11ea_9382_0242ac130202row0_col4 {\n",
       "            color:  green;\n",
       "        }    #T_382264b2_9931_11ea_9382_0242ac130202row1_col0 {\n",
       "            color:  green;\n",
       "        }    #T_382264b2_9931_11ea_9382_0242ac130202row1_col1 {\n",
       "            color:  green;\n",
       "        }    #T_382264b2_9931_11ea_9382_0242ac130202row1_col2 {\n",
       "            color:  red;\n",
       "        }    #T_382264b2_9931_11ea_9382_0242ac130202row1_col3 {\n",
       "            color:  green;\n",
       "        }    #T_382264b2_9931_11ea_9382_0242ac130202row1_col4 {\n",
       "            color:  green;\n",
       "        }    #T_382264b2_9931_11ea_9382_0242ac130202row2_col0 {\n",
       "            color:  green;\n",
       "        }    #T_382264b2_9931_11ea_9382_0242ac130202row2_col1 {\n",
       "            color:  green;\n",
       "        }    #T_382264b2_9931_11ea_9382_0242ac130202row2_col2 {\n",
       "            color:  red;\n",
       "        }    #T_382264b2_9931_11ea_9382_0242ac130202row2_col3 {\n",
       "            color:  green;\n",
       "        }    #T_382264b2_9931_11ea_9382_0242ac130202row2_col4 {\n",
       "            color:  green;\n",
       "        }    #T_382264b2_9931_11ea_9382_0242ac130202row3_col0 {\n",
       "            color:  green;\n",
       "        }    #T_382264b2_9931_11ea_9382_0242ac130202row3_col1 {\n",
       "            color:  green;\n",
       "        }    #T_382264b2_9931_11ea_9382_0242ac130202row3_col2 {\n",
       "            color:  red;\n",
       "        }    #T_382264b2_9931_11ea_9382_0242ac130202row3_col3 {\n",
       "            color:  green;\n",
       "        }    #T_382264b2_9931_11ea_9382_0242ac130202row3_col4 {\n",
       "            color:  green;\n",
       "        }    #T_382264b2_9931_11ea_9382_0242ac130202row4_col0 {\n",
       "            color:  green;\n",
       "        }    #T_382264b2_9931_11ea_9382_0242ac130202row4_col1 {\n",
       "            color:  green;\n",
       "        }    #T_382264b2_9931_11ea_9382_0242ac130202row4_col2 {\n",
       "            color:  red;\n",
       "        }    #T_382264b2_9931_11ea_9382_0242ac130202row4_col3 {\n",
       "            color:  green;\n",
       "        }    #T_382264b2_9931_11ea_9382_0242ac130202row4_col4 {\n",
       "            color:  green;\n",
       "        }    #T_382264b2_9931_11ea_9382_0242ac130202row5_col0 {\n",
       "            color:  green;\n",
       "        }    #T_382264b2_9931_11ea_9382_0242ac130202row5_col1 {\n",
       "            color:  green;\n",
       "        }    #T_382264b2_9931_11ea_9382_0242ac130202row5_col2 {\n",
       "            color:  green;\n",
       "        }    #T_382264b2_9931_11ea_9382_0242ac130202row5_col3 {\n",
       "            color:  green;\n",
       "        }    #T_382264b2_9931_11ea_9382_0242ac130202row5_col4 {\n",
       "            color:  green;\n",
       "        }</style><table id=\"T_382264b2_9931_11ea_9382_0242ac130202\" ><thead>    <tr>        <th class=\"blank level0\" ></th>        <th class=\"col_heading level0 col0\" >Train</th>        <th class=\"col_heading level0 col1\" >Valid</th>        <th class=\"col_heading level0 col2\" >Var</th>        <th class=\"col_heading level0 col3\" >Train_fold_1</th>        <th class=\"col_heading level0 col4\" >Valid_fold_1</th>    </tr>    <tr>        <th class=\"index_name level0\" >Metric</th>        <th class=\"blank\" ></th>        <th class=\"blank\" ></th>        <th class=\"blank\" ></th>        <th class=\"blank\" ></th>        <th class=\"blank\" ></th>    </tr></thead><tbody>\n",
       "                <tr>\n",
       "                        <th id=\"T_382264b2_9931_11ea_9382_0242ac130202level0_row0\" class=\"row_heading level0 row0\" >ROC AUC</th>\n",
       "                        <td id=\"T_382264b2_9931_11ea_9382_0242ac130202row0_col0\" class=\"data row0 col0\" >0.974795</td>\n",
       "                        <td id=\"T_382264b2_9931_11ea_9382_0242ac130202row0_col1\" class=\"data row0 col1\" >0.945933</td>\n",
       "                        <td id=\"T_382264b2_9931_11ea_9382_0242ac130202row0_col2\" class=\"data row0 col2\" >0.0288625</td>\n",
       "                        <td id=\"T_382264b2_9931_11ea_9382_0242ac130202row0_col3\" class=\"data row0 col3\" >0.974795</td>\n",
       "                        <td id=\"T_382264b2_9931_11ea_9382_0242ac130202row0_col4\" class=\"data row0 col4\" >0.945933</td>\n",
       "            </tr>\n",
       "            <tr>\n",
       "                        <th id=\"T_382264b2_9931_11ea_9382_0242ac130202level0_row1\" class=\"row_heading level0 row1\" >Accuracy</th>\n",
       "                        <td id=\"T_382264b2_9931_11ea_9382_0242ac130202row1_col0\" class=\"data row1 col0\" >0.972591</td>\n",
       "                        <td id=\"T_382264b2_9931_11ea_9382_0242ac130202row1_col1\" class=\"data row1 col1\" >0.945061</td>\n",
       "                        <td id=\"T_382264b2_9931_11ea_9382_0242ac130202row1_col2\" class=\"data row1 col2\" >0.0275292</td>\n",
       "                        <td id=\"T_382264b2_9931_11ea_9382_0242ac130202row1_col3\" class=\"data row1 col3\" >0.972591</td>\n",
       "                        <td id=\"T_382264b2_9931_11ea_9382_0242ac130202row1_col4\" class=\"data row1 col4\" >0.945061</td>\n",
       "            </tr>\n",
       "            <tr>\n",
       "                        <th id=\"T_382264b2_9931_11ea_9382_0242ac130202level0_row2\" class=\"row_heading level0 row2\" >Precision</th>\n",
       "                        <td id=\"T_382264b2_9931_11ea_9382_0242ac130202row2_col0\" class=\"data row2 col0\" >0.939291</td>\n",
       "                        <td id=\"T_382264b2_9931_11ea_9382_0242ac130202row2_col1\" class=\"data row2 col1\" >0.893647</td>\n",
       "                        <td id=\"T_382264b2_9931_11ea_9382_0242ac130202row2_col2\" class=\"data row2 col2\" >0.0456432</td>\n",
       "                        <td id=\"T_382264b2_9931_11ea_9382_0242ac130202row2_col3\" class=\"data row2 col3\" >0.939291</td>\n",
       "                        <td id=\"T_382264b2_9931_11ea_9382_0242ac130202row2_col4\" class=\"data row2 col4\" >0.893647</td>\n",
       "            </tr>\n",
       "            <tr>\n",
       "                        <th id=\"T_382264b2_9931_11ea_9382_0242ac130202level0_row3\" class=\"row_heading level0 row3\" >Recall</th>\n",
       "                        <td id=\"T_382264b2_9931_11ea_9382_0242ac130202row3_col0\" class=\"data row3 col0\" >0.981449</td>\n",
       "                        <td id=\"T_382264b2_9931_11ea_9382_0242ac130202row3_col1\" class=\"data row3 col1\" >0.948563</td>\n",
       "                        <td id=\"T_382264b2_9931_11ea_9382_0242ac130202row3_col2\" class=\"data row3 col2\" >0.032886</td>\n",
       "                        <td id=\"T_382264b2_9931_11ea_9382_0242ac130202row3_col3\" class=\"data row3 col3\" >0.981449</td>\n",
       "                        <td id=\"T_382264b2_9931_11ea_9382_0242ac130202row3_col4\" class=\"data row3 col4\" >0.948563</td>\n",
       "            </tr>\n",
       "            <tr>\n",
       "                        <th id=\"T_382264b2_9931_11ea_9382_0242ac130202level0_row4\" class=\"row_heading level0 row4\" >F1-score</th>\n",
       "                        <td id=\"T_382264b2_9931_11ea_9382_0242ac130202row4_col0\" class=\"data row4 col0\" >0.959907</td>\n",
       "                        <td id=\"T_382264b2_9931_11ea_9382_0242ac130202row4_col1\" class=\"data row4 col1\" >0.920287</td>\n",
       "                        <td id=\"T_382264b2_9931_11ea_9382_0242ac130202row4_col2\" class=\"data row4 col2\" >0.0396204</td>\n",
       "                        <td id=\"T_382264b2_9931_11ea_9382_0242ac130202row4_col3\" class=\"data row4 col3\" >0.959907</td>\n",
       "                        <td id=\"T_382264b2_9931_11ea_9382_0242ac130202row4_col4\" class=\"data row4 col4\" >0.920287</td>\n",
       "            </tr>\n",
       "            <tr>\n",
       "                        <th id=\"T_382264b2_9931_11ea_9382_0242ac130202level0_row5\" class=\"row_heading level0 row5\" >Support</th>\n",
       "                        <td id=\"T_382264b2_9931_11ea_9382_0242ac130202row5_col0\" class=\"data row5 col0\" >55522</td>\n",
       "                        <td id=\"T_382264b2_9931_11ea_9382_0242ac130202row5_col1\" class=\"data row5 col1\" >13881</td>\n",
       "                        <td id=\"T_382264b2_9931_11ea_9382_0242ac130202row5_col2\" class=\"data row5 col2\" >41641</td>\n",
       "                        <td id=\"T_382264b2_9931_11ea_9382_0242ac130202row5_col3\" class=\"data row5 col3\" >55522</td>\n",
       "                        <td id=\"T_382264b2_9931_11ea_9382_0242ac130202row5_col4\" class=\"data row5 col4\" >13881</td>\n",
       "            </tr>\n",
       "    </tbody></table>"
      ],
      "text/plain": [
       "<pandas.io.formats.style.Styler at 0x7f282436c438>"
      ]
     },
     "metadata": {},
     "output_type": "display_data"
    }
   ],
   "source": [
    "display(evaluate_model(k_fold, 1, label_col='toxic_int').style.applymap(color_map))"
   ]
  },
  {
   "cell_type": "markdown",
   "execution_count": null,
   "metadata": {},
   "source": [
    "# Confusion matrix"
   ]
  },
  {
   "cell_type": "code",
   "execution_count": 10,
   "metadata": {
    "_kg_hide-input": true
   },
   "outputs": [
    {
     "data": {
      "image/png": "[encoded data removed]",
      "text/plain": [
       "<Figure size 1296x432 with 4 Axes>"
      ]
     },
     "metadata": {},
     "output_type": "display_data"
    }
   ],
   "source": [
    "train_set = k_fold[k_fold['fold_1'] == 'train']\n",
    "validation_set = k_fold[k_fold['fold_1'] == 'validation'] \n",
    "plot_confusion_matrix(train_set['toxic_int'], train_set['pred_1'], \n",
    "                      validation_set['toxic_int'], validation_set['pred_1'])"
   ]
  },
  {
   "cell_type": "markdown",
   "execution_count": null,
   "metadata": {},
   "source": [
    "# Model evaluation by language"
   ]
  },
  {
   "cell_type": "code",
   "execution_count": 11,
   "metadata": {
    "_kg_hide-input": true
   },
   "outputs": [
    {
     "data": {
      "text/html": [
       "<style  type=\"text/css\" >\n",
       "    #T_3943e8fc_9931_11ea_9382_0242ac130202row0_col0 {\n",
       "            color:  green;\n",
       "        }    #T_3943e8fc_9931_11ea_9382_0242ac130202row0_col1 {\n",
       "            color:  green;\n",
       "        }    #T_3943e8fc_9931_11ea_9382_0242ac130202row1_col0 {\n",
       "            color:  green;\n",
       "        }    #T_3943e8fc_9931_11ea_9382_0242ac130202row1_col1 {\n",
       "            color:  green;\n",
       "        }    #T_3943e8fc_9931_11ea_9382_0242ac130202row2_col0 {\n",
       "            color:  green;\n",
       "        }    #T_3943e8fc_9931_11ea_9382_0242ac130202row2_col1 {\n",
       "            color:  green;\n",
       "        }    #T_3943e8fc_9931_11ea_9382_0242ac130202row3_col0 {\n",
       "            color:  green;\n",
       "        }    #T_3943e8fc_9931_11ea_9382_0242ac130202row3_col1 {\n",
       "            color:  green;\n",
       "        }</style><table id=\"T_3943e8fc_9931_11ea_9382_0242ac130202\" ><thead>    <tr>        <th class=\"blank level0\" ></th>        <th class=\"col_heading level0 col0\" >Mean</th>        <th class=\"col_heading level0 col1\" >Fold_1</th>    </tr>    <tr>        <th class=\"index_name level0\" >Lang / ROC AUC</th>        <th class=\"blank\" ></th>        <th class=\"blank\" ></th>    </tr></thead><tbody>\n",
       "                <tr>\n",
       "                        <th id=\"T_3943e8fc_9931_11ea_9382_0242ac130202level0_row0\" class=\"row_heading level0 row0\" >Overall</th>\n",
       "                        <td id=\"T_3943e8fc_9931_11ea_9382_0242ac130202row0_col0\" class=\"data row0 col0\" >0.917543</td>\n",
       "                        <td id=\"T_3943e8fc_9931_11ea_9382_0242ac130202row0_col1\" class=\"data row0 col1\" >0.917543</td>\n",
       "            </tr>\n",
       "            <tr>\n",
       "                        <th id=\"T_3943e8fc_9931_11ea_9382_0242ac130202level0_row1\" class=\"row_heading level0 row1\" >es</th>\n",
       "                        <td id=\"T_3943e8fc_9931_11ea_9382_0242ac130202row1_col0\" class=\"data row1 col0\" >0.89461</td>\n",
       "                        <td id=\"T_3943e8fc_9931_11ea_9382_0242ac130202row1_col1\" class=\"data row1 col1\" >0.89461</td>\n",
       "            </tr>\n",
       "            <tr>\n",
       "                        <th id=\"T_3943e8fc_9931_11ea_9382_0242ac130202level0_row2\" class=\"row_heading level0 row2\" >it</th>\n",
       "                        <td id=\"T_3943e8fc_9931_11ea_9382_0242ac130202row2_col0\" class=\"data row2 col0\" >0.885078</td>\n",
       "                        <td id=\"T_3943e8fc_9931_11ea_9382_0242ac130202row2_col1\" class=\"data row2 col1\" >0.885078</td>\n",
       "            </tr>\n",
       "            <tr>\n",
       "                        <th id=\"T_3943e8fc_9931_11ea_9382_0242ac130202level0_row3\" class=\"row_heading level0 row3\" >tr</th>\n",
       "                        <td id=\"T_3943e8fc_9931_11ea_9382_0242ac130202row3_col0\" class=\"data row3 col0\" >0.983643</td>\n",
       "                        <td id=\"T_3943e8fc_9931_11ea_9382_0242ac130202row3_col1\" class=\"data row3 col1\" >0.983643</td>\n",
       "            </tr>\n",
       "    </tbody></table>"
      ],
      "text/plain": [
       "<pandas.io.formats.style.Styler at 0x7f2834283470>"
      ]
     },
     "metadata": {},
     "output_type": "display_data"
    },
    {
     "data": {
      "text/html": [
       "<style  type=\"text/css\" >\n",
       "    #T_3949a738_9931_11ea_9382_0242ac130202row0_col0 {\n",
       "            color:  green;\n",
       "        }    #T_3949a738_9931_11ea_9382_0242ac130202row0_col1 {\n",
       "            color:  green;\n",
       "        }    #T_3949a738_9931_11ea_9382_0242ac130202row1_col0 {\n",
       "            color:  green;\n",
       "        }    #T_3949a738_9931_11ea_9382_0242ac130202row1_col1 {\n",
       "            color:  green;\n",
       "        }    #T_3949a738_9931_11ea_9382_0242ac130202row2_col0 {\n",
       "            color:  green;\n",
       "        }    #T_3949a738_9931_11ea_9382_0242ac130202row2_col1 {\n",
       "            color:  green;\n",
       "        }    #T_3949a738_9931_11ea_9382_0242ac130202row3_col0 {\n",
       "            color:  green;\n",
       "        }    #T_3949a738_9931_11ea_9382_0242ac130202row3_col1 {\n",
       "            color:  green;\n",
       "        }</style><table id=\"T_3949a738_9931_11ea_9382_0242ac130202\" ><thead>    <tr>        <th class=\"blank level0\" ></th>        <th class=\"col_heading level0 col0\" >Mean</th>        <th class=\"col_heading level0 col1\" >Fold_1</th>    </tr>    <tr>        <th class=\"index_name level0\" >Lang / ROC AUC</th>        <th class=\"blank\" ></th>        <th class=\"blank\" ></th>    </tr></thead><tbody>\n",
       "                <tr>\n",
       "                        <th id=\"T_3949a738_9931_11ea_9382_0242ac130202level0_row0\" class=\"row_heading level0 row0\" >Overall</th>\n",
       "                        <td id=\"T_3949a738_9931_11ea_9382_0242ac130202row0_col0\" class=\"data row0 col0\" >0.999992</td>\n",
       "                        <td id=\"T_3949a738_9931_11ea_9382_0242ac130202row0_col1\" class=\"data row0 col1\" >0.999992</td>\n",
       "            </tr>\n",
       "            <tr>\n",
       "                        <th id=\"T_3949a738_9931_11ea_9382_0242ac130202level0_row1\" class=\"row_heading level0 row1\" >es</th>\n",
       "                        <td id=\"T_3949a738_9931_11ea_9382_0242ac130202row1_col0\" class=\"data row1 col0\" >0.999977</td>\n",
       "                        <td id=\"T_3949a738_9931_11ea_9382_0242ac130202row1_col1\" class=\"data row1 col1\" >0.999977</td>\n",
       "            </tr>\n",
       "            <tr>\n",
       "                        <th id=\"T_3949a738_9931_11ea_9382_0242ac130202level0_row2\" class=\"row_heading level0 row2\" >it</th>\n",
       "                        <td id=\"T_3949a738_9931_11ea_9382_0242ac130202row2_col0\" class=\"data row2 col0\" >1</td>\n",
       "                        <td id=\"T_3949a738_9931_11ea_9382_0242ac130202row2_col1\" class=\"data row2 col1\" >1</td>\n",
       "            </tr>\n",
       "            <tr>\n",
       "                        <th id=\"T_3949a738_9931_11ea_9382_0242ac130202level0_row3\" class=\"row_heading level0 row3\" >tr</th>\n",
       "                        <td id=\"T_3949a738_9931_11ea_9382_0242ac130202row3_col0\" class=\"data row3 col0\" >1</td>\n",
       "                        <td id=\"T_3949a738_9931_11ea_9382_0242ac130202row3_col1\" class=\"data row3 col1\" >1</td>\n",
       "            </tr>\n",
       "    </tbody></table>"
      ],
      "text/plain": [
       "<pandas.io.formats.style.Styler at 0x7f276b1f34a8>"
      ]
     },
     "metadata": {},
     "output_type": "display_data"
    }
   ],
   "source": [
    "display(evaluate_model_lang(valid_df, 1).style.applymap(color_map))\n",
    "# ML fine-tunned preds\n",
    "display(evaluate_model_lang(valid_df, 1, pred_col='pred_ml').style.applymap(color_map))"
   ]
  },
  {
   "cell_type": "markdown",
   "execution_count": null,
   "metadata": {},
   "source": [
    "# Visualize predictions"
   ]
  },
  {
   "cell_type": "code",
   "execution_count": 12,
   "metadata": {
    "_kg_hide-input": true
   },
   "outputs": [
    {
     "name": "stdout",
     "output_type": "stream",
     "text": [
      "English validation set\n"
     ]
    },
    {
     "data": {
      "text/html": [
       "<div>\n",
       "<style scoped>\n",
       "    .dataframe tbody tr th:only-of-type {\n",
       "        vertical-align: middle;\n",
       "    }\n",
       "\n",
       "    .dataframe tbody tr th {\n",
       "        vertical-align: top;\n",
       "    }\n",
       "\n",
       "    .dataframe thead th {\n",
       "        text-align: right;\n",
       "    }\n",
       "</style>\n",
       "<table border=\"1\" class=\"dataframe\">\n",
       "  <thead>\n",
       "    <tr style=\"text-align: right;\">\n",
       "      <th></th>\n",
       "      <th>comment_text</th>\n",
       "      <th>toxic</th>\n",
       "      <th>pred_1</th>\n",
       "    </tr>\n",
       "  </thead>\n",
       "  <tbody>\n",
       "    <tr>\n",
       "      <th>0</th>\n",
       "      <td>Why is the headline and the first paragraphs not spelling out clearly that the situation is one in which right wing ...</td>\n",
       "      <td>0.000000</td>\n",
       "      <td>0.0</td>\n",
       "    </tr>\n",
       "    <tr>\n",
       "      <th>1</th>\n",
       "      <td>Democrats speaking of a moral compass when they support the immoral, vile, evil, foul-mouthed, lying, thieving, untr...</td>\n",
       "      <td>0.806452</td>\n",
       "      <td>1.0</td>\n",
       "    </tr>\n",
       "    <tr>\n",
       "      <th>2</th>\n",
       "      <td>It's not currently a flood. It's been a trickle for years. What we now see is the cumulative number.</td>\n",
       "      <td>0.000000</td>\n",
       "      <td>0.0</td>\n",
       "    </tr>\n",
       "    <tr>\n",
       "      <th>3</th>\n",
       "      <td>::May I ask what interest you have in these issues?</td>\n",
       "      <td>0.000000</td>\n",
       "      <td>0.0</td>\n",
       "    </tr>\n",
       "    <tr>\n",
       "      <th>4</th>\n",
       "      <td>Yup, you would think they were the majority. Coincidentally, it's what Hillary needs to win. Duh!!!!!!! One day thos...</td>\n",
       "      <td>0.000000</td>\n",
       "      <td>0.0</td>\n",
       "    </tr>\n",
       "    <tr>\n",
       "      <th>5</th>\n",
       "      <td>MfD nomination of User:Inventor . Your opinions on the matter are welcome; please participate in the discussion by a...</td>\n",
       "      <td>0.000000</td>\n",
       "      <td>0.0</td>\n",
       "    </tr>\n",
       "    <tr>\n",
       "      <th>6</th>\n",
       "      <td>You mean that it is not some big conspiracy against the people (extremist few) of Broomfield?? *gasp*</td>\n",
       "      <td>0.000000</td>\n",
       "      <td>0.0</td>\n",
       "    </tr>\n",
       "    <tr>\n",
       "      <th>7</th>\n",
       "      <td>With a cent dollar surely BC softwood can compete in the US even with a duty. They managed to when the Canadian doll...</td>\n",
       "      <td>0.000000</td>\n",
       "      <td>0.0</td>\n",
       "    </tr>\n",
       "    <tr>\n",
       "      <th>8</th>\n",
       "      <td>There has been no invasion of Ukraine, and there was no annexation of Ukrainian territory, or Crimea. Crimea's own d...</td>\n",
       "      <td>0.000000</td>\n",
       "      <td>0.0</td>\n",
       "    </tr>\n",
       "    <tr>\n",
       "      <th>9</th>\n",
       "      <td>I sure a significant minority of prisoners are there for drug related reasons. Reform our drug laws (say by legalizi...</td>\n",
       "      <td>0.000000</td>\n",
       "      <td>0.0</td>\n",
       "    </tr>\n",
       "  </tbody>\n",
       "</table>\n",
       "</div>"
      ],
      "text/plain": [
       "                                                                                                              comment_text  \\\n",
       "0  Why is the headline and the first paragraphs not spelling out clearly that the situation is one in which right wing ...   \n",
       "1  Democrats speaking of a moral compass when they support the immoral, vile, evil, foul-mouthed, lying, thieving, untr...   \n",
       "2                     It's not currently a flood. It's been a trickle for years. What we now see is the cumulative number.   \n",
       "3                                                                      ::May I ask what interest you have in these issues?   \n",
       "4  Yup, you would think they were the majority. Coincidentally, it's what Hillary needs to win. Duh!!!!!!! One day thos...   \n",
       "5  MfD nomination of User:Inventor . Your opinions on the matter are welcome; please participate in the discussion by a...   \n",
       "6                    You mean that it is not some big conspiracy against the people (extremist few) of Broomfield?? *gasp*   \n",
       "7  With a cent dollar surely BC softwood can compete in the US even with a duty. They managed to when the Canadian doll...   \n",
       "8  There has been no invasion of Ukraine, and there was no annexation of Ukrainian territory, or Crimea. Crimea's own d...   \n",
       "9  I sure a significant minority of prisoners are there for drug related reasons. Reform our drug laws (say by legalizi...   \n",
       "\n",
       "      toxic  pred_1  \n",
       "0  0.000000     0.0  \n",
       "1  0.806452     1.0  \n",
       "2  0.000000     0.0  \n",
       "3  0.000000     0.0  \n",
       "4  0.000000     0.0  \n",
       "5  0.000000     0.0  \n",
       "6  0.000000     0.0  \n",
       "7  0.000000     0.0  \n",
       "8  0.000000     0.0  \n",
       "9  0.000000     0.0  "
      ]
     },
     "metadata": {},
     "output_type": "display_data"
    },
    {
     "name": "stdout",
     "output_type": "stream",
     "text": [
      "Multilingual validation set\n"
     ]
    },
    {
     "data": {
      "text/html": [
       "<div>\n",
       "<style scoped>\n",
       "    .dataframe tbody tr th:only-of-type {\n",
       "        vertical-align: middle;\n",
       "    }\n",
       "\n",
       "    .dataframe tbody tr th {\n",
       "        vertical-align: top;\n",
       "    }\n",
       "\n",
       "    .dataframe thead th {\n",
       "        text-align: right;\n",
       "    }\n",
       "</style>\n",
       "<table border=\"1\" class=\"dataframe\">\n",
       "  <thead>\n",
       "    <tr style=\"text-align: right;\">\n",
       "      <th></th>\n",
       "      <th>comment_text</th>\n",
       "      <th>toxic</th>\n",
       "      <th>pred_1</th>\n",
       "      <th>pred_ml_1</th>\n",
       "    </tr>\n",
       "  </thead>\n",
       "  <tbody>\n",
       "    <tr>\n",
       "      <th>0</th>\n",
       "      <td>Este usuario ni siquiera llega al rango de    hereje   . Por lo tanto debería ser quemado en la barbacoa para purifi...</td>\n",
       "      <td>0</td>\n",
       "      <td>0.928364</td>\n",
       "      <td>2.944469e-04</td>\n",
       "    </tr>\n",
       "    <tr>\n",
       "      <th>1</th>\n",
       "      <td>Il testo di questa voce pare esser scopiazzato direttamente da qui. Immagino possano esserci problemi di copyright, ...</td>\n",
       "      <td>0</td>\n",
       "      <td>0.000317</td>\n",
       "      <td>2.384186e-07</td>\n",
       "    </tr>\n",
       "    <tr>\n",
       "      <th>2</th>\n",
       "      <td>Vale. Sólo expongo mi pasado. Todo tiempo pasado fue mejor, ni mucho menos, yo no quisiera retroceder 31 años a nive...</td>\n",
       "      <td>1</td>\n",
       "      <td>0.911337</td>\n",
       "      <td>9.999409e-01</td>\n",
       "    </tr>\n",
       "    <tr>\n",
       "      <th>3</th>\n",
       "      <td>Bu maddenin alt başlığı olarak  uluslararası ilişkiler  ile konuyu sürdürmek ile ilgili tereddütlerim var.Önerim siy...</td>\n",
       "      <td>0</td>\n",
       "      <td>0.000415</td>\n",
       "      <td>2.682209e-07</td>\n",
       "    </tr>\n",
       "    <tr>\n",
       "      <th>4</th>\n",
       "      <td>Belçika nın şehirlerinin yanında ilçe ve beldelerini yaparken sanırım Portekizi örnek alacaksın. Ben de uzak gelecek...</td>\n",
       "      <td>0</td>\n",
       "      <td>0.000336</td>\n",
       "      <td>0.000000e+00</td>\n",
       "    </tr>\n",
       "    <tr>\n",
       "      <th>5</th>\n",
       "      <td>güzel, zaten kaynaklandırması zor subjektif kategoriler bunlar. bazı maddelerden çıkartmak, kiminden çıkartıp kimind...</td>\n",
       "      <td>0</td>\n",
       "      <td>0.002151</td>\n",
       "      <td>2.980232e-08</td>\n",
       "    </tr>\n",
       "    <tr>\n",
       "      <th>6</th>\n",
       "      <td>No es mala idea. De hecho, yo estaba pensando descolgarme ya del reto mensual, pero esto vuelve a ilusionarme. El pr...</td>\n",
       "      <td>0</td>\n",
       "      <td>0.000353</td>\n",
       "      <td>0.000000e+00</td>\n",
       "    </tr>\n",
       "    <tr>\n",
       "      <th>7</th>\n",
       "      <td>Kod hatalarını düzeltmişsiniz,elinize sağlık çok teşekkürler.Önceki sürümleri araştırdım.13 Haziran 2010 da Kullanıc...</td>\n",
       "      <td>0</td>\n",
       "      <td>0.000207</td>\n",
       "      <td>4.172325e-07</td>\n",
       "    </tr>\n",
       "    <tr>\n",
       "      <th>8</th>\n",
       "      <td>Levent Abi nasılsın? Hayat nasıl gidiyor? Umarım her şey istediğin gibidir. Bu arada Janet Jackson maddesi seçkin ma...</td>\n",
       "      <td>0</td>\n",
       "      <td>0.000588</td>\n",
       "      <td>1.192093e-07</td>\n",
       "    </tr>\n",
       "    <tr>\n",
       "      <th>9</th>\n",
       "      <td>Creo que es importante que podamos reconocer a gente como Victor Manuel Vucetich , quien es originario de Tampico y ...</td>\n",
       "      <td>0</td>\n",
       "      <td>0.006885</td>\n",
       "      <td>5.632639e-06</td>\n",
       "    </tr>\n",
       "  </tbody>\n",
       "</table>\n",
       "</div>"
      ],
      "text/plain": [
       "                                                                                                              comment_text  \\\n",
       "0  Este usuario ni siquiera llega al rango de    hereje   . Por lo tanto debería ser quemado en la barbacoa para purifi...   \n",
       "1  Il testo di questa voce pare esser scopiazzato direttamente da qui. Immagino possano esserci problemi di copyright, ...   \n",
       "2  Vale. Sólo expongo mi pasado. Todo tiempo pasado fue mejor, ni mucho menos, yo no quisiera retroceder 31 años a nive...   \n",
       "3  Bu maddenin alt başlığı olarak  uluslararası ilişkiler  ile konuyu sürdürmek ile ilgili tereddütlerim var.Önerim siy...   \n",
       "4  Belçika nın şehirlerinin yanında ilçe ve beldelerini yaparken sanırım Portekizi örnek alacaksın. Ben de uzak gelecek...   \n",
       "5  güzel, zaten kaynaklandırması zor subjektif kategoriler bunlar. bazı maddelerden çıkartmak, kiminden çıkartıp kimind...   \n",
       "6  No es mala idea. De hecho, yo estaba pensando descolgarme ya del reto mensual, pero esto vuelve a ilusionarme. El pr...   \n",
       "7  Kod hatalarını düzeltmişsiniz,elinize sağlık çok teşekkürler.Önceki sürümleri araştırdım.13 Haziran 2010 da Kullanıc...   \n",
       "8  Levent Abi nasılsın? Hayat nasıl gidiyor? Umarım her şey istediğin gibidir. Bu arada Janet Jackson maddesi seçkin ma...   \n",
       "9  Creo que es importante que podamos reconocer a gente como Victor Manuel Vucetich , quien es originario de Tampico y ...   \n",
       "\n",
       "   toxic    pred_1     pred_ml_1  \n",
       "0      0  0.928364  2.944469e-04  \n",
       "1      0  0.000317  2.384186e-07  \n",
       "2      1  0.911337  9.999409e-01  \n",
       "3      0  0.000415  2.682209e-07  \n",
       "4      0  0.000336  0.000000e+00  \n",
       "5      0  0.002151  2.980232e-08  \n",
       "6      0  0.000353  0.000000e+00  \n",
       "7      0  0.000207  4.172325e-07  \n",
       "8      0  0.000588  1.192093e-07  \n",
       "9      0  0.006885  5.632639e-06  "
      ]
     },
     "metadata": {},
     "output_type": "display_data"
    }
   ],
   "source": [
    "pd.set_option('max_colwidth', 120)\n",
    "print('English validation set')\n",
    "display(k_fold[['comment_text', 'toxic'] + [c for c in k_fold.columns if c.startswith('pred')]].head(10))\n",
    "\n",
    "print('Multilingual validation set')\n",
    "display(valid_df[['comment_text', 'toxic'] + [c for c in valid_df.columns if c.startswith('pred')]].head(10))"
   ]
  },
  {
   "cell_type": "markdown",
   "execution_count": null,
   "metadata": {},
   "source": [
    "# Test set predictions"
   ]
  },
  {
   "cell_type": "code",
   "execution_count": 13,
   "metadata": {
    "_kg_hide-input": true
   },
   "outputs": [],
   "source": [
    "x_test = np.load(database_base_path + 'x_test.npy')\n",
    "test_preds = model.predict(get_test_dataset(x_test, config['BATCH_SIZE'], AUTO))"
   ]
  },
  {
   "cell_type": "code",
   "execution_count": 14,
   "metadata": {
    "_kg_hide-input": true
   },
   "outputs": [
    {
     "data": {
      "text/html": [
       "<div>\n",
       "<style scoped>\n",
       "    .dataframe tbody tr th:only-of-type {\n",
       "        vertical-align: middle;\n",
       "    }\n",
       "\n",
       "    .dataframe tbody tr th {\n",
       "        vertical-align: top;\n",
       "    }\n",
       "\n",
       "    .dataframe thead th {\n",
       "        text-align: right;\n",
       "    }\n",
       "</style>\n",
       "<table border=\"1\" class=\"dataframe\">\n",
       "  <thead>\n",
       "    <tr style=\"text-align: right;\">\n",
       "      <th></th>\n",
       "      <th>id</th>\n",
       "      <th>toxic</th>\n",
       "    </tr>\n",
       "  </thead>\n",
       "  <tbody>\n",
       "    <tr>\n",
       "      <th>count</th>\n",
       "      <td>63812.000000</td>\n",
       "      <td>6.381200e+04</td>\n",
       "    </tr>\n",
       "    <tr>\n",
       "      <th>mean</th>\n",
       "      <td>31905.500000</td>\n",
       "      <td>2.443561e-01</td>\n",
       "    </tr>\n",
       "    <tr>\n",
       "      <th>std</th>\n",
       "      <td>18421.082026</td>\n",
       "      <td>4.068404e-01</td>\n",
       "    </tr>\n",
       "    <tr>\n",
       "      <th>min</th>\n",
       "      <td>0.000000</td>\n",
       "      <td>0.000000e+00</td>\n",
       "    </tr>\n",
       "    <tr>\n",
       "      <th>25%</th>\n",
       "      <td>15952.750000</td>\n",
       "      <td>2.980232e-08</td>\n",
       "    </tr>\n",
       "    <tr>\n",
       "      <th>50%</th>\n",
       "      <td>31905.500000</td>\n",
       "      <td>6.645918e-06</td>\n",
       "    </tr>\n",
       "    <tr>\n",
       "      <th>75%</th>\n",
       "      <td>47858.250000</td>\n",
       "      <td>4.072302e-01</td>\n",
       "    </tr>\n",
       "    <tr>\n",
       "      <th>max</th>\n",
       "      <td>63811.000000</td>\n",
       "      <td>1.000000e+00</td>\n",
       "    </tr>\n",
       "  </tbody>\n",
       "</table>\n",
       "</div>"
      ],
      "text/plain": [
       "                 id         toxic\n",
       "count  63812.000000  6.381200e+04\n",
       "mean   31905.500000  2.443561e-01\n",
       "std    18421.082026  4.068404e-01\n",
       "min        0.000000  0.000000e+00\n",
       "25%    15952.750000  2.980232e-08\n",
       "50%    31905.500000  6.645918e-06\n",
       "75%    47858.250000  4.072302e-01\n",
       "max    63811.000000  1.000000e+00"
      ]
     },
     "metadata": {},
     "output_type": "display_data"
    },
    {
     "data": {
      "text/html": [
       "<div>\n",
       "<style scoped>\n",
       "    .dataframe tbody tr th:only-of-type {\n",
       "        vertical-align: middle;\n",
       "    }\n",
       "\n",
       "    .dataframe tbody tr th {\n",
       "        vertical-align: top;\n",
       "    }\n",
       "\n",
       "    .dataframe thead th {\n",
       "        text-align: right;\n",
       "    }\n",
       "</style>\n",
       "<table border=\"1\" class=\"dataframe\">\n",
       "  <thead>\n",
       "    <tr style=\"text-align: right;\">\n",
       "      <th></th>\n",
       "      <th>id</th>\n",
       "      <th>toxic</th>\n",
       "    </tr>\n",
       "  </thead>\n",
       "  <tbody>\n",
       "    <tr>\n",
       "      <th>0</th>\n",
       "      <td>0</td>\n",
       "      <td>0.000000e+00</td>\n",
       "    </tr>\n",
       "    <tr>\n",
       "      <th>1</th>\n",
       "      <td>1</td>\n",
       "      <td>1.788139e-07</td>\n",
       "    </tr>\n",
       "    <tr>\n",
       "      <th>2</th>\n",
       "      <td>2</td>\n",
       "      <td>3.552961e-02</td>\n",
       "    </tr>\n",
       "    <tr>\n",
       "      <th>3</th>\n",
       "      <td>3</td>\n",
       "      <td>1.460314e-06</td>\n",
       "    </tr>\n",
       "    <tr>\n",
       "      <th>4</th>\n",
       "      <td>4</td>\n",
       "      <td>2.384186e-07</td>\n",
       "    </tr>\n",
       "    <tr>\n",
       "      <th>5</th>\n",
       "      <td>5</td>\n",
       "      <td>5.924702e-05</td>\n",
       "    </tr>\n",
       "    <tr>\n",
       "      <th>6</th>\n",
       "      <td>6</td>\n",
       "      <td>0.000000e+00</td>\n",
       "    </tr>\n",
       "    <tr>\n",
       "      <th>7</th>\n",
       "      <td>7</td>\n",
       "      <td>2.384186e-07</td>\n",
       "    </tr>\n",
       "    <tr>\n",
       "      <th>8</th>\n",
       "      <td>8</td>\n",
       "      <td>7.297318e-01</td>\n",
       "    </tr>\n",
       "    <tr>\n",
       "      <th>9</th>\n",
       "      <td>9</td>\n",
       "      <td>9.133518e-04</td>\n",
       "    </tr>\n",
       "  </tbody>\n",
       "</table>\n",
       "</div>"
      ],
      "text/plain": [
       "   id         toxic\n",
       "0   0  0.000000e+00\n",
       "1   1  1.788139e-07\n",
       "2   2  3.552961e-02\n",
       "3   3  1.460314e-06\n",
       "4   4  2.384186e-07\n",
       "5   5  5.924702e-05\n",
       "6   6  0.000000e+00\n",
       "7   7  2.384186e-07\n",
       "8   8  7.297318e-01\n",
       "9   9  9.133518e-04"
      ]
     },
     "metadata": {},
     "output_type": "display_data"
    }
   ],
   "source": [
    "submission = pd.read_csv('/kaggle/input/jigsaw-multilingual-toxic-comment-classification/sample_submission.csv')\n",
    "submission['toxic'] = test_preds\n",
    "submission.to_csv('submission.csv', index=False)\n",
    "\n",
    "display(submission.describe())\n",
    "display(submission.head(10))"
   ]
  }
 ],
 "metadata": {
  "kernelspec": {
   "display_name": "Python 3",
   "language": "python",
   "name": "python3"
  },
  "language_info": {
   "codemirror_mode": {
    "name": "ipython",
    "version": 3
   },
   "file_extension": ".py",
   "mimetype": "text/x-python",
   "name": "python",
   "nbconvert_exporter": "python",
   "pygments_lexer": "ipython3",
   "version": "3.6.6"
  }
 },
 "nbformat": 4,
 "nbformat_minor": 4
}
