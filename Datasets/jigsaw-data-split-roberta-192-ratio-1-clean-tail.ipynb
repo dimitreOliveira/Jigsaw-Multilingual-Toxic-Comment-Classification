{
 "cells": [
  {
   "cell_type": "markdown",
   "metadata": {},
   "source": [
    "# Dependencies"
   ]
  },
  {
   "cell_type": "code",
   "execution_count": 1,
   "metadata": {
    "_kg_hide-input": true
   },
   "outputs": [],
   "source": [
    "import os, warnings, shutil, re\n",
    "import numpy as np\n",
    "import pandas as pd\n",
    "import seaborn as sns\n",
    "import matplotlib.pyplot as plt\n",
    "from transformers import AutoTokenizer\n",
    "from sklearn.utils import shuffle\n",
    "from sklearn.model_selection import StratifiedKFold\n",
    "\n",
    "\n",
    "SEED = 0\n",
    "warnings.filterwarnings(\"ignore\")\n",
    "pd.set_option('max_colwidth', 160)"
   ]
  },
  {
   "cell_type": "code",
   "execution_count": 2,
   "metadata": {
    "_kg_hide-input": true
   },
   "outputs": [],
   "source": [
    "# Preprocess data\n",
    "def clean_text(text):\n",
    "    text = str(text)\n",
    "    text = re.sub(r'[0-9\"]', '', text)\n",
    "    text = re.sub(r'#[\\S]+\\b', '', text)\n",
    "    text = re.sub(r'@[\\S]+\\b', '', text)\n",
    "    text = re.sub(r'https?\\S+', '', text)\n",
    "    text = re.sub(r'\\s+', ' ', text)\n",
    "    return text.strip()\\\n",
    "\n",
    "# Preprocess inputs\n",
    "CLS = 0\n",
    "PAD = 1\n",
    "SEP = 2\n",
    "\n",
    "def preprocess_roberta(text, tokenizer, max_seq_len):\n",
    "    encoded = tokenizer.encode_plus(text, return_token_type_ids=False)\n",
    "    \n",
    "    # Truncate\n",
    "    input_ids = encoded['input_ids'][:max_seq_len]\n",
    "    attention_mask = encoded['attention_mask'][:max_seq_len]\n",
    "    \n",
    "    # Update input_ids\n",
    "    input_ids[0] = CLS\n",
    "    input_ids[-1] = SEP\n",
    "    \n",
    "    # Pad\n",
    "    input_ids = input_ids + [PAD] * (max_seq_len - len(input_ids))\n",
    "    attention_mask = attention_mask + [0] * (max_seq_len - len(attention_mask))\n",
    "    \n",
    "    x = [np.asarray(input_ids, dtype=np.int32), \n",
    "         np.asarray(attention_mask, dtype=np.int8)]\n",
    "    \n",
    "    return x\n",
    "\n",
    "def preprocess_roberta_tail(text, tokenizer, max_seq_len):\n",
    "    encoded = tokenizer.encode_plus(text, return_token_type_ids=False)\n",
    "    \n",
    "    # Truncate\n",
    "    input_ids = encoded['input_ids'][-max_seq_len:]\n",
    "    attention_mask = encoded['attention_mask'][-max_seq_len:]\n",
    "    \n",
    "    # Update input_ids\n",
    "    input_ids[0] = CLS\n",
    "    input_ids[-1] = SEP\n",
    "    \n",
    "    # Pad\n",
    "    input_ids = input_ids + [PAD] * (max_seq_len - len(input_ids))\n",
    "    attention_mask = attention_mask + [0] * (max_seq_len - len(attention_mask))\n",
    "    \n",
    "    x = [np.asarray(input_ids, dtype=np.int32), \n",
    "         np.asarray(attention_mask, dtype=np.int8)]\n",
    "    \n",
    "    return x\n",
    "\n",
    "def get_data(df, text_col, tokenizer, MAX_LEN, preprocess_fn=preprocess_roberta):\n",
    "    x_input_ids = []\n",
    "    x_attention_masks = []\n",
    "    y_data = []\n",
    "    y_data_int = []\n",
    "    \n",
    "    for row in df.itertuples(): \n",
    "        x = preprocess_fn(getattr(row, text_col), tokenizer, MAX_LEN)\n",
    "        x_input_ids.append(x[0])\n",
    "        x_attention_masks.append(x[1])\n",
    "\n",
    "        y_data.append(getattr(row, 'toxic'))\n",
    "        y_data_int.append(getattr(row, 'toxic_int'))\n",
    "\n",
    "    x_data = [np.asarray(x_input_ids, dtype=np.int32), \n",
    "              np.asarray(x_attention_masks, dtype=np.int8)]\n",
    "    \n",
    "    y_data = [np.asarray(y_data, dtype=np.float32), \n",
    "              np.asarray(y_data_int, dtype=np.int8)]\n",
    "    \n",
    "    return x_data, y_data\n",
    "    \n",
    "def get_data_valid(df, text_col, tokenizer, MAX_LEN, preprocess_fn=preprocess_roberta):\n",
    "    x_input_ids = []\n",
    "    x_attention_masks = []\n",
    "    y_data = []\n",
    "    \n",
    "    for row in df.itertuples(): \n",
    "        x = preprocess_fn(getattr(row, text_col), tokenizer, MAX_LEN)\n",
    "        x_input_ids.append(x[0])\n",
    "        x_attention_masks.append(x[1])\n",
    "\n",
    "        y_data.append(getattr(row, 'toxic'))\n",
    "\n",
    "    x_data = [np.asarray(x_input_ids, dtype=np.int32), \n",
    "              np.asarray(x_attention_masks, dtype=np.int8)]\n",
    "    \n",
    "    y_data = np.asarray(y_data, dtype=np.int8)\n",
    "    \n",
    "    return x_data, y_data\n",
    "\n",
    "def get_data_test(df, text_col, tokenizer, MAX_LEN, preprocess_fn=preprocess_roberta):\n",
    "    x_input_ids = []\n",
    "    x_attention_masks = []\n",
    "    \n",
    "    for row in df.itertuples(): \n",
    "        x = preprocess_fn(getattr(row, text_col), tokenizer, MAX_LEN)\n",
    "        x_input_ids.append(x[0])\n",
    "        x_attention_masks.append(x[1])\n",
    "\n",
    "\n",
    "    x_data = [np.asarray(x_input_ids, dtype=np.int32), \n",
    "              np.asarray(x_attention_masks, dtype=np.int8)]\n",
    "    \n",
    "    return x_data"
   ]
  },
  {
   "cell_type": "markdown",
   "metadata": {},
   "source": [
    "# Parameters"
   ]
  },
  {
   "cell_type": "code",
   "execution_count": 3,
   "metadata": {},
   "outputs": [],
   "source": [
    "MAX_LEN = 192\n",
    "tokenizer_path = 'jplu/tf-xlm-roberta-large'\n",
    "\n",
    "positive1 = 21384\n",
    "positive2 = 112226"
   ]
  },
  {
   "cell_type": "markdown",
   "metadata": {},
   "source": [
    "# Load data"
   ]
  },
  {
   "cell_type": "code",
   "execution_count": 4,
   "metadata": {
    "_kg_hide-input": true
   },
   "outputs": [
    {
     "name": "stdout",
     "output_type": "stream",
     "text": [
      "Train samples 267220\n"
     ]
    },
    {
     "data": {
      "text/html": [
       "<div>\n",
       "<style scoped>\n",
       "    .dataframe tbody tr th:only-of-type {\n",
       "        vertical-align: middle;\n",
       "    }\n",
       "\n",
       "    .dataframe tbody tr th {\n",
       "        vertical-align: top;\n",
       "    }\n",
       "\n",
       "    .dataframe thead th {\n",
       "        text-align: right;\n",
       "    }\n",
       "</style>\n",
       "<table border=\"1\" class=\"dataframe\">\n",
       "  <thead>\n",
       "    <tr style=\"text-align: right;\">\n",
       "      <th></th>\n",
       "      <th>comment_text</th>\n",
       "      <th>toxic</th>\n",
       "      <th>toxic_int</th>\n",
       "    </tr>\n",
       "  </thead>\n",
       "  <tbody>\n",
       "    <tr>\n",
       "      <th>0</th>\n",
       "      <td>It would be helpful if either story about this incident contained additional facts about what happened. Was the victim an innocent bystander? Did he provoke...</td>\n",
       "      <td>0.20000</td>\n",
       "      <td>0</td>\n",
       "    </tr>\n",
       "    <tr>\n",
       "      <th>1</th>\n",
       "      <td>What's missing in your stats is the percentage of Canadians who believed there was a clean exit to this mess.    I'm not happy about the settlement but reco...</td>\n",
       "      <td>0.00000</td>\n",
       "      <td>0</td>\n",
       "    </tr>\n",
       "    <tr>\n",
       "      <th>2</th>\n",
       "      <td>Great another mediocre season.</td>\n",
       "      <td>0.60000</td>\n",
       "      <td>1</td>\n",
       "    </tr>\n",
       "    <tr>\n",
       "      <th>3</th>\n",
       "      <td>Putting your money where your mouth is.  Can't fault him for that, for sure.  Oh, wait, that's right, he had no problem with sitting during the national ant...</td>\n",
       "      <td>0.65625</td>\n",
       "      <td>1</td>\n",
       "    </tr>\n",
       "    <tr>\n",
       "      <th>4</th>\n",
       "      <td>Just call me Nemo....\\n\\nI'm writing about the H1B visa program and so is the author of the article. \\n\\nThere are 60,000 openings and evidently there will ...</td>\n",
       "      <td>0.00000</td>\n",
       "      <td>0</td>\n",
       "    </tr>\n",
       "  </tbody>\n",
       "</table>\n",
       "</div>"
      ],
      "text/plain": [
       "                                                                                                                                                      comment_text  \\\n",
       "0  It would be helpful if either story about this incident contained additional facts about what happened. Was the victim an innocent bystander? Did he provoke...   \n",
       "1  What's missing in your stats is the percentage of Canadians who believed there was a clean exit to this mess.    I'm not happy about the settlement but reco...   \n",
       "2                                                                                                                                   Great another mediocre season.   \n",
       "3  Putting your money where your mouth is.  Can't fault him for that, for sure.  Oh, wait, that's right, he had no problem with sitting during the national ant...   \n",
       "4  Just call me Nemo....\\n\\nI'm writing about the H1B visa program and so is the author of the article. \\n\\nThere are 60,000 openings and evidently there will ...   \n",
       "\n",
       "     toxic  toxic_int  \n",
       "0  0.20000          0  \n",
       "1  0.00000          0  \n",
       "2  0.60000          1  \n",
       "3  0.65625          1  \n",
       "4  0.00000          0  "
      ]
     },
     "metadata": {},
     "output_type": "display_data"
    }
   ],
   "source": [
    "train1 = pd.read_csv(\"/kaggle/input/jigsaw-multilingual-toxic-comment-classification/jigsaw-toxic-comment-train.csv\")\n",
    "train2 = pd.read_csv(\"/kaggle/input/jigsaw-multilingual-toxic-comment-classification/jigsaw-unintended-bias-train.csv\")\n",
    "\n",
    "train_df = pd.concat([train1[['comment_text', 'toxic']].query('toxic == 1'),\n",
    "                      train1[['comment_text', 'toxic']].query('toxic == 0').sample(n=positive1, random_state=SEED),\n",
    "                      train2[['comment_text', 'toxic']].query('toxic > .5'),\n",
    "                      train2[['comment_text', 'toxic']].query('toxic <= .5').sample(n=positive2, random_state=SEED)\n",
    "                    ])\n",
    "train_df = shuffle(train_df, random_state=SEED).reset_index(drop=True)\n",
    "train_df['toxic_int'] = train_df['toxic'].round().astype(int)\n",
    "\n",
    "print('Train samples %d' % len(train_df))\n",
    "display(train_df.head())"
   ]
  },
  {
   "cell_type": "markdown",
   "metadata": {},
   "source": [
    "## Preprocess"
   ]
  },
  {
   "cell_type": "code",
   "execution_count": 5,
   "metadata": {},
   "outputs": [],
   "source": [
    "train_df['comment_text'] = train_df.apply(lambda x: clean_text(x['comment_text']), axis=1)"
   ]
  },
  {
   "cell_type": "markdown",
   "metadata": {},
   "source": [
    "# Tokenizer"
   ]
  },
  {
   "cell_type": "code",
   "execution_count": 6,
   "metadata": {
    "_kg_hide-output": true
   },
   "outputs": [
    {
     "data": {
      "application/vnd.jupyter.widget-view+json": {
       "model_id": "ba54fb16ef434c2589268e4209052f30",
       "version_major": 2,
       "version_minor": 0
      },
      "text/plain": [
       "HBox(children=(FloatProgress(value=0.0, description='Downloading', max=513.0, style=ProgressStyle(description_…"
      ]
     },
     "metadata": {},
     "output_type": "display_data"
    },
    {
     "name": "stdout",
     "output_type": "stream",
     "text": [
      "\n"
     ]
    },
    {
     "data": {
      "application/vnd.jupyter.widget-view+json": {
       "model_id": "bf5ea62553c946c695ff327dc95ecb10",
       "version_major": 2,
       "version_minor": 0
      },
      "text/plain": [
       "HBox(children=(FloatProgress(value=0.0, description='Downloading', max=5069051.0, style=ProgressStyle(descript…"
      ]
     },
     "metadata": {},
     "output_type": "display_data"
    },
    {
     "name": "stdout",
     "output_type": "stream",
     "text": [
      "\n"
     ]
    }
   ],
   "source": [
    "tokenizer = AutoTokenizer.from_pretrained(tokenizer_path)"
   ]
  },
  {
   "cell_type": "markdown",
   "metadata": {},
   "source": [
    "# Data generation sanity check"
   ]
  },
  {
   "cell_type": "code",
   "execution_count": 7,
   "metadata": {
    "_kg_hide-input": true
   },
   "outputs": [
    {
     "name": "stdout",
     "output_type": "stream",
     "text": [
      "\n",
      "Row 0\n",
      "label         : \"0.2000\"\n",
      "label int     : \"0\"\n",
      "comment_text  : \"It would be helpful if either story about this incident contained additional facts about what happened. Was the victim an innocent bystander? Did he provoke the suspects? Deal gone bad? It's hard to believe that after two days more isn't available.\"\n",
      "input_ids     : \"[    0  1650  2806   186 98893  2174 40101 13765  1672   903 45559 70541\n",
      "   297 78301 15824     7  1672  2367 73659     5  5282     2]\"\n",
      "attention_mask: \"[1 1 1 1 1 1 1 1 1 1 1 1 1 1 1 1 1 1 1 1 1 1]\"\n",
      "-------------------- TAIL --------------------\n",
      "input_ids     : \"[    0 90943 74955  6494    32  1650    25     7  7941    47 18822   450\n",
      "  7103  6626 13312  1286 56112    25    18 19882     5     2]\"\n",
      "attention_mask: \"[1 1 1 1 1 1 1 1 1 1 1 1 1 1 1 1 1 1 1 1 1 1]\"\n",
      "\n",
      "Row 1\n",
      "label         : \"0.0000\"\n",
      "label int     : \"0\"\n",
      "comment_text  : \"What's missing in your stats is the percentage of Canadians who believed there was a clean exit to this mess. I'm not happy about the settlement but recognize that given the blunders and abuse of law by previous Govts it was an inevitable conclusion. Being unhappy about it but recognizing there were no good solutions are not mutually exclusive. Exploiting this, and going so far as to undermine your own country on foreign soil is unconscionable. In fact Kent is not far removed from Khadr in the sense that he is a true believer and will do whatever it takes to further his beliefs, even if it hurts Canada.\"\n",
      "input_ids     : \"[     0   4865     25      7 132283     23    935  63841     83     70\n",
      " 169209    111 180972      7   2750  18822     71   2685    509     10\n",
      "  46622      2]\"\n",
      "attention_mask: \"[1 1 1 1 1 1 1 1 1 1 1 1 1 1 1 1 1 1 1 1 1 1]\"\n",
      "-------------------- TAIL --------------------\n",
      "input_ids     : \"[     0     42    136   1221     54  89778    442  51776     47  53333\n",
      "   1919 144239      7      4   3853   2174    442 103049      7  25730\n",
      "      5      2]\"\n",
      "attention_mask: \"[1 1 1 1 1 1 1 1 1 1 1 1 1 1 1 1 1 1 1 1 1 1]\"\n",
      "\n",
      "Row 2\n",
      "label         : \"0.6000\"\n",
      "label int     : \"1\"\n",
      "comment_text  : \"Great another mediocre season.\"\n",
      "input_ids     : \"[    0 32774 15700  8738  7612 34003     5     2     1     1     1     1\n",
      "     1     1     1     1     1     1     1     1     1     1]\"\n",
      "attention_mask: \"[1 1 1 1 1 1 1 1 0 0 0 0 0 0 0 0 0 0 0 0 0 0]\"\n",
      "-------------------- TAIL --------------------\n",
      "input_ids     : \"[    0 32774 15700  8738  7612 34003     5     2     1     1     1     1\n",
      "     1     1     1     1     1     1     1     1     1     1]\"\n",
      "attention_mask: \"[1 1 1 1 1 1 1 1 0 0 0 0 0 0 0 0 0 0 0 0 0 0]\"\n",
      "\n",
      "Row 3\n",
      "label         : \"0.6562\"\n",
      "label int     : \"1\"\n",
      "comment_text  : \"Putting your money where your mouth is. Can't fault him for that, for sure. Oh, wait, that's right, he had no problem with sitting during the national anthem. TRAITOR! /s\"\n",
      "input_ids     : \"[     0  19577   1916    935  17265   7440    935 113008     83      5\n",
      "   4171     25     18 193857   4049    100    450      4    100   9077\n",
      "      5      2]\"\n",
      "attention_mask: \"[1 1 1 1 1 1 1 1 1 1 1 1 1 1 1 1 1 1 1 1 1 1]\"\n",
      "-------------------- TAIL --------------------\n",
      "input_ids     : \"[     0   7108      4    764   1902    110   2967    678 129842  20271\n",
      "     70  15889  12936   7701      5  36230    568  27010     38    248\n",
      "      7      2]\"\n",
      "attention_mask: \"[1 1 1 1 1 1 1 1 1 1 1 1 1 1 1 1 1 1 1 1 1 1]\"\n",
      "\n",
      "Row 4\n",
      "label         : \"0.0000\"\n",
      "label int     : \"0\"\n",
      "comment_text  : \"Just call me Nemo.... I'm writing about the HB visa program and so is the author of the article. There are , openings and evidently there will continue to be , openings. Canada may 'benefit' by America being more selective in who it lets into the country, but it won't be as a result of cleaning up the HB mess.\"\n",
      "input_ids     : \"[    0  9563 11782   163 73479     5    27    87    25    39 32562  1672\n",
      "    70   572   571 11215  1528   136   221    83    70     2]\"\n",
      "attention_mask: \"[1 1 1 1 1 1 1 1 1 1 1 1 1 1 1 1 1 1 1 1 1 1]\"\n",
      "-------------------- TAIL --------------------\n",
      "input_ids     : \"[     0  23295      4   1284    442  23742     25     18    186    237\n",
      "     10  16750    111 174033   1257     70    572    571   2409      7\n",
      "      5      2]\"\n",
      "attention_mask: \"[1 1 1 1 1 1 1 1 1 1 1 1 1 1 1 1 1 1 1 1 1 1]\"\n"
     ]
    }
   ],
   "source": [
    "for idx in range(5):\n",
    "    print('\\nRow %d' % idx)\n",
    "    max_seq_len = 22\n",
    "    comment_text = train_df['comment_text'].loc[idx]\n",
    "    \n",
    "    x_train, y_train = get_data(train_df[idx:idx+1], 'comment_text', tokenizer, max_seq_len, preprocess_fn=preprocess_roberta)\n",
    "    \n",
    "    print('label         : \"%.4f\"' % y_train[0])\n",
    "    print('label int     : \"%d\"' % y_train[1])\n",
    "    print('comment_text  : \"%s\"' % comment_text)\n",
    "    print('input_ids     : \"%s\"' % x_train[0][0])\n",
    "    print('attention_mask: \"%s\"' % x_train[1][0])\n",
    "    \n",
    "    assert len(x_train[0][0]) == len(x_train[1][0]) == max_seq_len\n",
    "    \n",
    "    print('-------------------- TAIL --------------------')\n",
    "    x_train, _ = get_data(train_df[idx:idx+1], 'comment_text', tokenizer, max_seq_len, preprocess_fn=preprocess_roberta_tail)\n",
    "    \n",
    "    print('input_ids     : \"%s\"' % x_train[0][0])\n",
    "    print('attention_mask: \"%s\"' % x_train[1][0])\n",
    "    \n",
    "    assert len(x_train[0][0]) == len(x_train[1][0]) == max_seq_len"
   ]
  },
  {
   "cell_type": "markdown",
   "metadata": {},
   "source": [
    "# 5-Fold split"
   ]
  },
  {
   "cell_type": "code",
   "execution_count": 8,
   "metadata": {
    "_kg_hide-input": true
   },
   "outputs": [
    {
     "name": "stdout",
     "output_type": "stream",
     "text": [
      "Fold: 1, Train size: 213776, Validation size 53444\n",
      "Fold: 2, Train size: 213776, Validation size 53444\n",
      "Fold: 3, Train size: 213776, Validation size 53444\n",
      "Fold: 4, Train size: 213776, Validation size 53444\n",
      "Fold: 5, Train size: 213776, Validation size 53444\n"
     ]
    }
   ],
   "source": [
    "folds = StratifiedKFold(n_splits=5, shuffle=True, random_state=SEED)\n",
    "\n",
    "for fold_n, (train_idx, val_idx) in enumerate(folds.split(train_df, train_df['toxic_int'])):\n",
    "    print('Fold: %s, Train size: %s, Validation size %s' % (fold_n+1, len(train_idx), len(val_idx)))\n",
    "    train_df[('fold_%s' % str(fold_n+1))] = 0\n",
    "    train_df[('fold_%s' % str(fold_n+1))].loc[train_idx] = 'train'\n",
    "    train_df[('fold_%s' % str(fold_n+1))].loc[val_idx] = 'validation'"
   ]
  },
  {
   "cell_type": "markdown",
   "metadata": {},
   "source": [
    "# Label distribution"
   ]
  },
  {
   "cell_type": "code",
   "execution_count": 9,
   "metadata": {
    "_kg_hide-input": true
   },
   "outputs": [
    {
     "data": {
      "image/png": "[encoded data removed]",
      "text/plain": [
       "<Figure size 1296x432 with 2 Axes>"
      ]
     },
     "metadata": {
      "needs_background": "light"
     },
     "output_type": "display_data"
    },
    {
     "data": {
      "image/png": "[encoded data removed]",
      "text/plain": [
       "<Figure size 1296x432 with 2 Axes>"
      ]
     },
     "metadata": {
      "needs_background": "light"
     },
     "output_type": "display_data"
    },
    {
     "data": {
      "image/png": "[encoded data removed]",
      "text/plain": [
       "<Figure size 1296x432 with 2 Axes>"
      ]
     },
     "metadata": {
      "needs_background": "light"
     },
     "output_type": "display_data"
    },
    {
     "data": {
      "image/png": "[encoded data removed]",
      "text/plain": [
       "<Figure size 1296x432 with 2 Axes>"
      ]
     },
     "metadata": {
      "needs_background": "light"
     },
     "output_type": "display_data"
    },
    {
     "data": {
      "image/png": "[encoded data removed]",
      "text/plain": [
       "<Figure size 1296x432 with 2 Axes>"
      ]
     },
     "metadata": {
      "needs_background": "light"
     },
     "output_type": "display_data"
    }
   ],
   "source": [
    "for fold_n in range(folds.n_splits):\n",
    "    fold_n += 1\n",
    "    fig, (ax1, ax2) = plt.subplots(1, 2, figsize=(18, 6))\n",
    "    fig.suptitle('Fold %s' % fold_n, fontsize=22)    \n",
    "    sns.countplot(x=\"toxic_int\", data=train_df[train_df[('fold_%s' % fold_n)] == 'train'], palette=\"GnBu_d\", ax=ax1).set_title('Train')\n",
    "    sns.countplot(x=\"toxic_int\", data=train_df[train_df[('fold_%s' % fold_n)] == 'validation'], palette=\"GnBu_d\", ax=ax2).set_title('Validation')\n",
    "    sns.despine()\n",
    "    plt.show()"
   ]
  },
  {
   "cell_type": "code",
   "execution_count": 10,
   "metadata": {
    "_kg_hide-input": true
   },
   "outputs": [
    {
     "data": {
      "image/png": "[encoded data removed]",
      "text/plain": [
       "<Figure size 1296x432 with 2 Axes>"
      ]
     },
     "metadata": {
      "needs_background": "light"
     },
     "output_type": "display_data"
    },
    {
     "data": {
      "image/png": "[encoded data removed]",
      "text/plain": [
       "<Figure size 1296x432 with 2 Axes>"
      ]
     },
     "metadata": {
      "needs_background": "light"
     },
     "output_type": "display_data"
    },
    {
     "data": {
      "image/png": "[encoded data removed]",
      "text/plain": [
       "<Figure size 1296x432 with 2 Axes>"
      ]
     },
     "metadata": {
      "needs_background": "light"
     },
     "output_type": "display_data"
    },
    {
     "data": {
      "image/png": "[encoded data removed]",
      "text/plain": [
       "<Figure size 1296x432 with 2 Axes>"
      ]
     },
     "metadata": {
      "needs_background": "light"
     },
     "output_type": "display_data"
    },
    {
     "data": {
      "image/png": "[encoded data removed]",
      "text/plain": [
       "<Figure size 1296x432 with 2 Axes>"
      ]
     },
     "metadata": {
      "needs_background": "light"
     },
     "output_type": "display_data"
    }
   ],
   "source": [
    "for fold_n in range(folds.n_splits):\n",
    "    fold_n += 1\n",
    "    fig, (ax1, ax2) = plt.subplots(1, 2, figsize=(18, 6))\n",
    "    fig.suptitle('Fold %s' % fold_n, fontsize=22)    \n",
    "    sns.distplot(train_df[train_df[('fold_%s' % fold_n)] == 'train']['toxic'], ax=ax1).set_title('Train')\n",
    "    sns.distplot(train_df[train_df[('fold_%s' % fold_n)] == 'validation']['toxic'], ax=ax2).set_title('Validation')\n",
    "    sns.despine()\n",
    "    plt.show()"
   ]
  },
  {
   "cell_type": "markdown",
   "metadata": {},
   "source": [
    "# Output 5-fold set"
   ]
  },
  {
   "cell_type": "code",
   "execution_count": 11,
   "metadata": {
    "_kg_hide-input": true
   },
   "outputs": [
    {
     "data": {
      "text/html": [
       "<div>\n",
       "<style scoped>\n",
       "    .dataframe tbody tr th:only-of-type {\n",
       "        vertical-align: middle;\n",
       "    }\n",
       "\n",
       "    .dataframe tbody tr th {\n",
       "        vertical-align: top;\n",
       "    }\n",
       "\n",
       "    .dataframe thead th {\n",
       "        text-align: right;\n",
       "    }\n",
       "</style>\n",
       "<table border=\"1\" class=\"dataframe\">\n",
       "  <thead>\n",
       "    <tr style=\"text-align: right;\">\n",
       "      <th></th>\n",
       "      <th>comment_text</th>\n",
       "      <th>toxic</th>\n",
       "      <th>toxic_int</th>\n",
       "      <th>fold_1</th>\n",
       "      <th>fold_2</th>\n",
       "      <th>fold_3</th>\n",
       "      <th>fold_4</th>\n",
       "      <th>fold_5</th>\n",
       "    </tr>\n",
       "  </thead>\n",
       "  <tbody>\n",
       "    <tr>\n",
       "      <th>0</th>\n",
       "      <td>It would be helpful if either story about this incident contained additional facts about what happened. Was the victim an innocent bystander? Did he provoke...</td>\n",
       "      <td>0.20000</td>\n",
       "      <td>0</td>\n",
       "      <td>train</td>\n",
       "      <td>train</td>\n",
       "      <td>validation</td>\n",
       "      <td>train</td>\n",
       "      <td>train</td>\n",
       "    </tr>\n",
       "    <tr>\n",
       "      <th>1</th>\n",
       "      <td>What's missing in your stats is the percentage of Canadians who believed there was a clean exit to this mess. I'm not happy about the settlement but recogni...</td>\n",
       "      <td>0.00000</td>\n",
       "      <td>0</td>\n",
       "      <td>train</td>\n",
       "      <td>train</td>\n",
       "      <td>validation</td>\n",
       "      <td>train</td>\n",
       "      <td>train</td>\n",
       "    </tr>\n",
       "    <tr>\n",
       "      <th>2</th>\n",
       "      <td>Great another mediocre season.</td>\n",
       "      <td>0.60000</td>\n",
       "      <td>1</td>\n",
       "      <td>train</td>\n",
       "      <td>train</td>\n",
       "      <td>validation</td>\n",
       "      <td>train</td>\n",
       "      <td>train</td>\n",
       "    </tr>\n",
       "    <tr>\n",
       "      <th>3</th>\n",
       "      <td>Putting your money where your mouth is. Can't fault him for that, for sure. Oh, wait, that's right, he had no problem with sitting during the national anthe...</td>\n",
       "      <td>0.65625</td>\n",
       "      <td>1</td>\n",
       "      <td>validation</td>\n",
       "      <td>train</td>\n",
       "      <td>train</td>\n",
       "      <td>train</td>\n",
       "      <td>train</td>\n",
       "    </tr>\n",
       "    <tr>\n",
       "      <th>4</th>\n",
       "      <td>Just call me Nemo.... I'm writing about the HB visa program and so is the author of the article. There are , openings and evidently there will continue to b...</td>\n",
       "      <td>0.00000</td>\n",
       "      <td>0</td>\n",
       "      <td>train</td>\n",
       "      <td>train</td>\n",
       "      <td>train</td>\n",
       "      <td>train</td>\n",
       "      <td>validation</td>\n",
       "    </tr>\n",
       "  </tbody>\n",
       "</table>\n",
       "</div>"
      ],
      "text/plain": [
       "                                                                                                                                                      comment_text  \\\n",
       "0  It would be helpful if either story about this incident contained additional facts about what happened. Was the victim an innocent bystander? Did he provoke...   \n",
       "1  What's missing in your stats is the percentage of Canadians who believed there was a clean exit to this mess. I'm not happy about the settlement but recogni...   \n",
       "2                                                                                                                                   Great another mediocre season.   \n",
       "3  Putting your money where your mouth is. Can't fault him for that, for sure. Oh, wait, that's right, he had no problem with sitting during the national anthe...   \n",
       "4  Just call me Nemo.... I'm writing about the HB visa program and so is the author of the article. There are , openings and evidently there will continue to b...   \n",
       "\n",
       "     toxic  toxic_int      fold_1 fold_2      fold_3 fold_4      fold_5  \n",
       "0  0.20000          0       train  train  validation  train       train  \n",
       "1  0.00000          0       train  train  validation  train       train  \n",
       "2  0.60000          1       train  train  validation  train       train  \n",
       "3  0.65625          1  validation  train       train  train       train  \n",
       "4  0.00000          0       train  train       train  train  validation  "
      ]
     },
     "metadata": {},
     "output_type": "display_data"
    },
    {
     "name": "stdout",
     "output_type": "stream",
     "text": [
      "\n",
      "FOLD: 1\n",
      "x_train shape: (2, 213776, 192)\n",
      "y_train_float shape: (213776,)\n",
      "y_train_int shape: (213776,)\n",
      "x_valid shape: (2, 53444, 192)\n",
      "y_valid_float shape: (53444,)\n",
      "y_valid_int shape: (53444,)\n",
      "\n",
      "FOLD: 1 [TAIL]\n",
      "x_train shape: (2, 213776, 192)\n",
      "x_valid shape: (2, 53444, 192)\n",
      "\n",
      "FOLD: 2\n",
      "x_train shape: (2, 213776, 192)\n",
      "y_train_float shape: (213776,)\n",
      "y_train_int shape: (213776,)\n",
      "x_valid shape: (2, 53444, 192)\n",
      "y_valid_float shape: (53444,)\n",
      "y_valid_int shape: (53444,)\n",
      "\n",
      "FOLD: 2 [TAIL]\n",
      "x_train shape: (2, 213776, 192)\n",
      "x_valid shape: (2, 53444, 192)\n",
      "fold_1/\r\n",
      "fold_1/y_valid_int.npy\r\n",
      "fold_1/y_train_int.npy\r\n",
      "fold_1/x_valid.npy\r\n",
      "fold_1/x_valid_tail.npy\r\n",
      "fold_1/y_valid.npy\r\n",
      "fold_1/x_train_tail.npy\r\n",
      "fold_1/y_train.npy\r\n",
      "fold_1/x_train.npy\r\n",
      "fold_2/\r\n",
      "fold_2/y_valid_int.npy\r\n",
      "fold_2/y_train_int.npy\r\n",
      "fold_2/x_valid.npy\r\n",
      "fold_2/x_valid_tail.npy\r\n",
      "fold_2/y_valid.npy\r\n",
      "fold_2/x_train_tail.npy\r\n",
      "fold_2/y_train.npy\r\n",
      "fold_2/x_train.npy\r\n"
     ]
    }
   ],
   "source": [
    "train_df.to_csv('5-fold.csv', index=False)\n",
    "display(train_df.head())\n",
    "\n",
    "for fold_n in range(folds.n_splits):\n",
    "    if fold_n < 2:\n",
    "        fold_n += 1\n",
    "        base_path = 'fold_%d/' % fold_n\n",
    "\n",
    "        # Create dir\n",
    "        os.makedirs(base_path)\n",
    "\n",
    "        x_train, y_train = get_data(train_df[train_df[('fold_%s' % fold_n)] == 'train'], 'comment_text', \n",
    "                                    tokenizer, MAX_LEN, preprocess_fn=preprocess_roberta)\n",
    "        x_valid, y_valid = get_data(train_df[train_df[('fold_%s' % fold_n)] == 'validation'], 'comment_text', \n",
    "                                    tokenizer, MAX_LEN, preprocess_fn=preprocess_roberta)\n",
    "        y_train_float, y_train_int = y_train\n",
    "        y_valid_float, y_valid_int = y_valid\n",
    "        x_train, y_train_float, y_train_int =  np.asarray(x_train), np.asarray(y_train_float), np.asarray(y_train_int)\n",
    "        x_valid, y_valid_float, y_valid_int =  np.asarray(x_valid), np.asarray(y_valid_float), np.asarray(y_valid_int)\n",
    "        \n",
    "        np.save(base_path + 'x_train', x_train)\n",
    "        np.save(base_path + 'y_train', y_train_float)\n",
    "        np.save(base_path + 'y_train_int', y_train_int)\n",
    "        np.save(base_path + 'x_valid', x_valid)\n",
    "        np.save(base_path + 'y_valid', y_valid_float)\n",
    "        np.save(base_path + 'y_valid_int', y_valid_int)\n",
    "\n",
    "        print('\\nFOLD: %d' % (fold_n))\n",
    "        print('x_train shape:', x_train.shape)\n",
    "        print('y_train_float shape:', y_train_float.shape)\n",
    "        print('y_train_int shape:', y_train_int.shape)\n",
    "        print('x_valid shape:', x_valid.shape)\n",
    "        print('y_valid_float shape:', y_valid_float.shape)\n",
    "        print('y_valid_int shape:', y_valid_int.shape)\n",
    "        \n",
    "        #################### ENCODE TAIL ONLY ####################\n",
    "\n",
    "        x_train, _ = get_data(train_df[train_df[('fold_%s' % fold_n)] == 'train'], 'comment_text', \n",
    "                              tokenizer, MAX_LEN, preprocess_fn=preprocess_roberta_tail)\n",
    "        x_valid, _ = get_data(train_df[train_df[('fold_%s' % fold_n)] == 'validation'], 'comment_text', \n",
    "                              tokenizer, MAX_LEN, preprocess_fn=preprocess_roberta_tail)\n",
    "        x_train = np.asarray(x_train)\n",
    "        x_valid = np.asarray(x_valid)\n",
    "        \n",
    "        np.save(base_path + 'x_train_tail', x_train)\n",
    "        np.save(base_path + 'x_valid_tail', x_valid)\n",
    "\n",
    "        print('\\nFOLD: %d [TAIL]' % (fold_n))\n",
    "        print('x_train shape:', x_train.shape)\n",
    "        print('x_valid shape:', x_valid.shape)\n",
    "\n",
    "#  Compress logs dir\n",
    "!tar -cvzf fold_1.tar.gz fold_1\n",
    "!tar -cvzf fold_2.tar.gz fold_2\n",
    "# !tar -cvzf fold_3.tar.gz fold_3\n",
    "# !tar -cvzf fold_4.tar.gz fold_4\n",
    "# !tar -cvzf fold_5.tar.gz fold_5\n",
    "\n",
    "# Delete logs dir\n",
    "shutil.rmtree('fold_1')\n",
    "shutil.rmtree('fold_2')\n",
    "# shutil.rmtree('fold_3')\n",
    "# shutil.rmtree('fold_4')\n",
    "# shutil.rmtree('fold_5')"
   ]
  },
  {
   "cell_type": "markdown",
   "metadata": {},
   "source": [
    "# Validation set"
   ]
  },
  {
   "cell_type": "code",
   "execution_count": 12,
   "metadata": {
    "_kg_hide-input": true
   },
   "outputs": [
    {
     "data": {
      "text/html": [
       "<div>\n",
       "<style scoped>\n",
       "    .dataframe tbody tr th:only-of-type {\n",
       "        vertical-align: middle;\n",
       "    }\n",
       "\n",
       "    .dataframe tbody tr th {\n",
       "        vertical-align: top;\n",
       "    }\n",
       "\n",
       "    .dataframe thead th {\n",
       "        text-align: right;\n",
       "    }\n",
       "</style>\n",
       "<table border=\"1\" class=\"dataframe\">\n",
       "  <thead>\n",
       "    <tr style=\"text-align: right;\">\n",
       "      <th></th>\n",
       "      <th>comment_text</th>\n",
       "      <th>lang</th>\n",
       "      <th>toxic</th>\n",
       "    </tr>\n",
       "  </thead>\n",
       "  <tbody>\n",
       "    <tr>\n",
       "      <th>0</th>\n",
       "      <td>Este usuario ni siquiera llega al rango de hereje . Por lo tanto debería ser quemado en la barbacoa para purificar su alma y nuestro aparato digestivo media...</td>\n",
       "      <td>es</td>\n",
       "      <td>0</td>\n",
       "    </tr>\n",
       "    <tr>\n",
       "      <th>1</th>\n",
       "      <td>Il testo di questa voce pare esser scopiazzato direttamente da qui. Immagino possano esserci problemi di copyright, nel fare cio .</td>\n",
       "      <td>it</td>\n",
       "      <td>0</td>\n",
       "    </tr>\n",
       "    <tr>\n",
       "      <th>2</th>\n",
       "      <td>Vale. Sólo expongo mi pasado. Todo tiempo pasado fue mejor, ni mucho menos, yo no quisiera retroceder años a nivel particular. Las volveria a pasar putas.Fe...</td>\n",
       "      <td>es</td>\n",
       "      <td>1</td>\n",
       "    </tr>\n",
       "    <tr>\n",
       "      <th>3</th>\n",
       "      <td>Bu maddenin alt başlığı olarak uluslararası ilişkiler ile konuyu sürdürmek ile ilgili tereddütlerim var.Önerim siyaset bilimi ana başlığından sonra siyasal ...</td>\n",
       "      <td>tr</td>\n",
       "      <td>0</td>\n",
       "    </tr>\n",
       "    <tr>\n",
       "      <th>4</th>\n",
       "      <td>Belçika nın şehirlerinin yanında ilçe ve beldelerini yaparken sanırım Portekizi örnek alacaksın. Ben de uzak gelecekte(- yıl) bu tip şeyler düşünüyorum. Tab...</td>\n",
       "      <td>tr</td>\n",
       "      <td>0</td>\n",
       "    </tr>\n",
       "  </tbody>\n",
       "</table>\n",
       "</div>"
      ],
      "text/plain": [
       "                                                                                                                                                      comment_text  \\\n",
       "0  Este usuario ni siquiera llega al rango de hereje . Por lo tanto debería ser quemado en la barbacoa para purificar su alma y nuestro aparato digestivo media...   \n",
       "1                               Il testo di questa voce pare esser scopiazzato direttamente da qui. Immagino possano esserci problemi di copyright, nel fare cio .   \n",
       "2  Vale. Sólo expongo mi pasado. Todo tiempo pasado fue mejor, ni mucho menos, yo no quisiera retroceder años a nivel particular. Las volveria a pasar putas.Fe...   \n",
       "3  Bu maddenin alt başlığı olarak uluslararası ilişkiler ile konuyu sürdürmek ile ilgili tereddütlerim var.Önerim siyaset bilimi ana başlığından sonra siyasal ...   \n",
       "4  Belçika nın şehirlerinin yanında ilçe ve beldelerini yaparken sanırım Portekizi örnek alacaksın. Ben de uzak gelecekte(- yıl) bu tip şeyler düşünüyorum. Tab...   \n",
       "\n",
       "  lang  toxic  \n",
       "0   es      0  \n",
       "1   it      0  \n",
       "2   es      1  \n",
       "3   tr      0  \n",
       "4   tr      0  "
      ]
     },
     "metadata": {},
     "output_type": "display_data"
    },
    {
     "name": "stdout",
     "output_type": "stream",
     "text": [
      "x_valid shape: (2, 8000, 192)\n",
      "y_valid shape: (8000,)\n",
      "[TAIL] x_valid shape: (2, 8000, 192)\n"
     ]
    }
   ],
   "source": [
    "valid_df = pd.read_csv(\"/kaggle/input/jigsaw-multilingual-toxic-comment-classification/validation.csv\", usecols=['comment_text', 'toxic', 'lang'])\n",
    "# Preprocess\n",
    "valid_df['comment_text'] = valid_df.apply(lambda x: clean_text(x['comment_text']), axis=1)\n",
    "display(valid_df.head())\n",
    "\n",
    "x_valid, y_valid = get_data_valid(valid_df, 'comment_text', tokenizer, MAX_LEN, preprocess_fn=preprocess_roberta)\n",
    "x_valid, y_valid = np.asarray(x_valid), np.asarray(y_valid)\n",
    "\n",
    "np.save('x_valid', x_valid)\n",
    "np.save('y_valid', y_valid)\n",
    "print('x_valid shape:', x_valid.shape)\n",
    "print('y_valid shape:', y_valid.shape)\n",
    "\n",
    "#################### ENCODE TAIL ONLY ####################\n",
    "\n",
    "x_valid, _ = get_data_valid(valid_df, 'comment_text', tokenizer, MAX_LEN, preprocess_fn=preprocess_roberta_tail)\n",
    "x_valid =  np.asarray(x_valid)\n",
    "\n",
    "np.save('x_valid_tail', np.asarray(x_valid))\n",
    "print('[TAIL] x_valid shape:', x_valid.shape)"
   ]
  },
  {
   "cell_type": "markdown",
   "metadata": {},
   "source": [
    "# Test set"
   ]
  },
  {
   "cell_type": "code",
   "execution_count": 13,
   "metadata": {
    "_kg_hide-input": true
   },
   "outputs": [
    {
     "data": {
      "text/html": [
       "<div>\n",
       "<style scoped>\n",
       "    .dataframe tbody tr th:only-of-type {\n",
       "        vertical-align: middle;\n",
       "    }\n",
       "\n",
       "    .dataframe tbody tr th {\n",
       "        vertical-align: top;\n",
       "    }\n",
       "\n",
       "    .dataframe thead th {\n",
       "        text-align: right;\n",
       "    }\n",
       "</style>\n",
       "<table border=\"1\" class=\"dataframe\">\n",
       "  <thead>\n",
       "    <tr style=\"text-align: right;\">\n",
       "      <th></th>\n",
       "      <th>content</th>\n",
       "    </tr>\n",
       "  </thead>\n",
       "  <tbody>\n",
       "    <tr>\n",
       "      <th>0</th>\n",
       "      <td>Doctor Who adlı viki başlığına . doctor olarak bir viki yazarı kendi adını eklemiştir. Şahsen düzelttim. Onaylarsanız sevinirim. Occipital</td>\n",
       "    </tr>\n",
       "    <tr>\n",
       "      <th>1</th>\n",
       "      <td>Вполне возможно, но я пока не вижу необходимости выделять материал в отдельную статью. Если про правосудие в СССР будет написано хотя бы килобайт - — тогда ...</td>\n",
       "    </tr>\n",
       "    <tr>\n",
       "      <th>2</th>\n",
       "      <td>Quindi tu sei uno di quelli conservativi , che preferiscono non cancellare. Ok. Avresti lasciato anche sfaccimma ? Si? Ok. Contento te... io non approvo per...</td>\n",
       "    </tr>\n",
       "    <tr>\n",
       "      <th>3</th>\n",
       "      <td>Malesef gerçekleştirilmedi ancak şöyle bir şey vardı. Belki yararlanırsınız. İyi çalışmalar. Kud yaz Teşekkür ederim. Abidenin maddesini de genişletmeyi düş...</td>\n",
       "    </tr>\n",
       "    <tr>\n",
       "      <th>4</th>\n",
       "      <td>:Resim:Seldabagcan.jpg resminde kaynak sorunu :Resim:Seldabagcan.jpg resmini yüklediğiniz için teşekkürler. Ancak dosyanın tanım sayfasında içeriğin kimin t...</td>\n",
       "    </tr>\n",
       "  </tbody>\n",
       "</table>\n",
       "</div>"
      ],
      "text/plain": [
       "                                                                                                                                                           content\n",
       "0                       Doctor Who adlı viki başlığına . doctor olarak bir viki yazarı kendi adını eklemiştir. Şahsen düzelttim. Onaylarsanız sevinirim. Occipital\n",
       "1  Вполне возможно, но я пока не вижу необходимости выделять материал в отдельную статью. Если про правосудие в СССР будет написано хотя бы килобайт - — тогда ...\n",
       "2  Quindi tu sei uno di quelli conservativi , che preferiscono non cancellare. Ok. Avresti lasciato anche sfaccimma ? Si? Ok. Contento te... io non approvo per...\n",
       "3  Malesef gerçekleştirilmedi ancak şöyle bir şey vardı. Belki yararlanırsınız. İyi çalışmalar. Kud yaz Teşekkür ederim. Abidenin maddesini de genişletmeyi düş...\n",
       "4  :Resim:Seldabagcan.jpg resminde kaynak sorunu :Resim:Seldabagcan.jpg resmini yüklediğiniz için teşekkürler. Ancak dosyanın tanım sayfasında içeriğin kimin t..."
      ]
     },
     "metadata": {},
     "output_type": "display_data"
    },
    {
     "name": "stdout",
     "output_type": "stream",
     "text": [
      "x_test shape: (2, 63812, 192)\n",
      "[TAIL] x_test shape: (2, 63812, 192)\n"
     ]
    }
   ],
   "source": [
    "test_df = pd.read_csv(\"/kaggle/input/jigsaw-multilingual-toxic-comment-classification/test.csv\", usecols=['content'])\n",
    "# Preprocess\n",
    "test_df['content'] = test_df.apply(lambda x: clean_text(x['content']), axis=1)\n",
    "display(test_df.head())\n",
    "\n",
    "x_test = get_data_test(test_df, 'content', tokenizer, MAX_LEN, preprocess_fn=preprocess_roberta)\n",
    "x_test = np.asarray(x_test)\n",
    "\n",
    "np.save('x_test', x_test)\n",
    "print('x_test shape:', x_test.shape)\n",
    "\n",
    "#################### ENCODE TAIL ONLY ####################\n",
    "\n",
    "x_test = get_data_test(test_df, 'content', tokenizer, MAX_LEN, preprocess_fn=preprocess_roberta_tail)\n",
    "x_test = np.asarray(x_test)\n",
    "\n",
    "np.save('x_test_tail', x_test)\n",
    "print('[TAIL] x_test shape:', x_test.shape)"
   ]
  }
 ],
 "metadata": {
  "kernelspec": {
   "display_name": "Python 3",
   "language": "python",
   "name": "python3"
  },
  "language_info": {
   "codemirror_mode": {
    "name": "ipython",
    "version": 3
   },
   "file_extension": ".py",
   "mimetype": "text/x-python",
   "name": "python",
   "nbconvert_exporter": "python",
   "pygments_lexer": "ipython3",
   "version": "3.6.6"
  },
  "widgets": {
   "application/vnd.jupyter.widget-state+json": {
    "state": {
     "076d9de686f04a88a6c77fed18534185": {
      "model_module": "@jupyter-widgets/base",
      "model_module_version": "1.2.0",
      "model_name": "LayoutModel",
      "state": {
       "_model_module": "@jupyter-widgets/base",
       "_model_module_version": "1.2.0",
       "_model_name": "LayoutModel",
       "_view_count": null,
       "_view_module": "@jupyter-widgets/base",
       "_view_module_version": "1.2.0",
       "_view_name": "LayoutView",
       "align_content": null,
       "align_items": null,
       "align_self": null,
       "border": null,
       "bottom": null,
       "display": null,
       "flex": null,
       "flex_flow": null,
       "grid_area": null,
       "grid_auto_columns": null,
       "grid_auto_flow": null,
       "grid_auto_rows": null,
       "grid_column": null,
       "grid_gap": null,
       "grid_row": null,
       "grid_template_areas": null,
       "grid_template_columns": null,
       "grid_template_rows": null,
       "height": null,
       "justify_content": null,
       "justify_items": null,
       "left": null,
       "margin": null,
       "max_height": null,
       "max_width": null,
       "min_height": null,
       "min_width": null,
       "object_fit": null,
       "object_position": null,
       "order": null,
       "overflow": null,
       "overflow_x": null,
       "overflow_y": null,
       "padding": null,
       "right": null,
       "top": null,
       "visibility": null,
       "width": null
      }
     },
     "1fae537fdb724a14be07c8e9fcb152b7": {
      "model_module": "@jupyter-widgets/controls",
      "model_module_version": "1.5.0",
      "model_name": "FloatProgressModel",
      "state": {
       "_dom_classes": [],
       "_model_module": "@jupyter-widgets/controls",
       "_model_module_version": "1.5.0",
       "_model_name": "FloatProgressModel",
       "_view_count": null,
       "_view_module": "@jupyter-widgets/controls",
       "_view_module_version": "1.5.0",
       "_view_name": "ProgressView",
       "bar_style": "success",
       "description": "Downloading: 100%",
       "description_tooltip": null,
       "layout": "IPY_MODEL_7a0658bfa1b840e08774f87cdfb3b38b",
       "max": 5069051.0,
       "min": 0.0,
       "orientation": "horizontal",
       "style": "IPY_MODEL_9aade32227be464f8d8e9fce62c113ca",
       "value": 5069051.0
      }
     },
     "2110b8d426234ecb875787ad05cef8d9": {
      "model_module": "@jupyter-widgets/controls",
      "model_module_version": "1.5.0",
      "model_name": "HTMLModel",
      "state": {
       "_dom_classes": [],
       "_model_module": "@jupyter-widgets/controls",
       "_model_module_version": "1.5.0",
       "_model_name": "HTMLModel",
       "_view_count": null,
       "_view_module": "@jupyter-widgets/controls",
       "_view_module_version": "1.5.0",
       "_view_name": "HTMLView",
       "description": "",
       "description_tooltip": null,
       "layout": "IPY_MODEL_076d9de686f04a88a6c77fed18534185",
       "placeholder": "​",
       "style": "IPY_MODEL_6c522b4eccf644819b0c826127d49530",
       "value": " 5.07M/5.07M [00:03&lt;00:00, 1.41MB/s]"
      }
     },
     "39c946e65b4d49048ab6f17d43c78529": {
      "model_module": "@jupyter-widgets/base",
      "model_module_version": "1.2.0",
      "model_name": "LayoutModel",
      "state": {
       "_model_module": "@jupyter-widgets/base",
       "_model_module_version": "1.2.0",
       "_model_name": "LayoutModel",
       "_view_count": null,
       "_view_module": "@jupyter-widgets/base",
       "_view_module_version": "1.2.0",
       "_view_name": "LayoutView",
       "align_content": null,
       "align_items": null,
       "align_self": null,
       "border": null,
       "bottom": null,
       "display": null,
       "flex": null,
       "flex_flow": null,
       "grid_area": null,
       "grid_auto_columns": null,
       "grid_auto_flow": null,
       "grid_auto_rows": null,
       "grid_column": null,
       "grid_gap": null,
       "grid_row": null,
       "grid_template_areas": null,
       "grid_template_columns": null,
       "grid_template_rows": null,
       "height": null,
       "justify_content": null,
       "justify_items": null,
       "left": null,
       "margin": null,
       "max_height": null,
       "max_width": null,
       "min_height": null,
       "min_width": null,
       "object_fit": null,
       "object_position": null,
       "order": null,
       "overflow": null,
       "overflow_x": null,
       "overflow_y": null,
       "padding": null,
       "right": null,
       "top": null,
       "visibility": null,
       "width": null
      }
     },
     "48614f324a354fbf9b525dfa5b72f825": {
      "model_module": "@jupyter-widgets/controls",
      "model_module_version": "1.5.0",
      "model_name": "FloatProgressModel",
      "state": {
       "_dom_classes": [],
       "_model_module": "@jupyter-widgets/controls",
       "_model_module_version": "1.5.0",
       "_model_name": "FloatProgressModel",
       "_view_count": null,
       "_view_module": "@jupyter-widgets/controls",
       "_view_module_version": "1.5.0",
       "_view_name": "ProgressView",
       "bar_style": "success",
       "description": "Downloading: 100%",
       "description_tooltip": null,
       "layout": "IPY_MODEL_4c8a94eb7a8f499da886145b33450e4c",
       "max": 513.0,
       "min": 0.0,
       "orientation": "horizontal",
       "style": "IPY_MODEL_ac5f2f3a607547eda1e6eafd6e973f00",
       "value": 513.0
      }
     },
     "4c8a94eb7a8f499da886145b33450e4c": {
      "model_module": "@jupyter-widgets/base",
      "model_module_version": "1.2.0",
      "model_name": "LayoutModel",
      "state": {
       "_model_module": "@jupyter-widgets/base",
       "_model_module_version": "1.2.0",
       "_model_name": "LayoutModel",
       "_view_count": null,
       "_view_module": "@jupyter-widgets/base",
       "_view_module_version": "1.2.0",
       "_view_name": "LayoutView",
       "align_content": null,
       "align_items": null,
       "align_self": null,
       "border": null,
       "bottom": null,
       "display": null,
       "flex": null,
       "flex_flow": null,
       "grid_area": null,
       "grid_auto_columns": null,
       "grid_auto_flow": null,
       "grid_auto_rows": null,
       "grid_column": null,
       "grid_gap": null,
       "grid_row": null,
       "grid_template_areas": null,
       "grid_template_columns": null,
       "grid_template_rows": null,
       "height": null,
       "justify_content": null,
       "justify_items": null,
       "left": null,
       "margin": null,
       "max_height": null,
       "max_width": null,
       "min_height": null,
       "min_width": null,
       "object_fit": null,
       "object_position": null,
       "order": null,
       "overflow": null,
       "overflow_x": null,
       "overflow_y": null,
       "padding": null,
       "right": null,
       "top": null,
       "visibility": null,
       "width": null
      }
     },
     "65dd55efda0c41aa8ed93f389a01020f": {
      "model_module": "@jupyter-widgets/base",
      "model_module_version": "1.2.0",
      "model_name": "LayoutModel",
      "state": {
       "_model_module": "@jupyter-widgets/base",
       "_model_module_version": "1.2.0",
       "_model_name": "LayoutModel",
       "_view_count": null,
       "_view_module": "@jupyter-widgets/base",
       "_view_module_version": "1.2.0",
       "_view_name": "LayoutView",
       "align_content": null,
       "align_items": null,
       "align_self": null,
       "border": null,
       "bottom": null,
       "display": null,
       "flex": null,
       "flex_flow": null,
       "grid_area": null,
       "grid_auto_columns": null,
       "grid_auto_flow": null,
       "grid_auto_rows": null,
       "grid_column": null,
       "grid_gap": null,
       "grid_row": null,
       "grid_template_areas": null,
       "grid_template_columns": null,
       "grid_template_rows": null,
       "height": null,
       "justify_content": null,
       "justify_items": null,
       "left": null,
       "margin": null,
       "max_height": null,
       "max_width": null,
       "min_height": null,
       "min_width": null,
       "object_fit": null,
       "object_position": null,
       "order": null,
       "overflow": null,
       "overflow_x": null,
       "overflow_y": null,
       "padding": null,
       "right": null,
       "top": null,
       "visibility": null,
       "width": null
      }
     },
     "6c522b4eccf644819b0c826127d49530": {
      "model_module": "@jupyter-widgets/controls",
      "model_module_version": "1.5.0",
      "model_name": "DescriptionStyleModel",
      "state": {
       "_model_module": "@jupyter-widgets/controls",
       "_model_module_version": "1.5.0",
       "_model_name": "DescriptionStyleModel",
       "_view_count": null,
       "_view_module": "@jupyter-widgets/base",
       "_view_module_version": "1.2.0",
       "_view_name": "StyleView",
       "description_width": ""
      }
     },
     "7a0658bfa1b840e08774f87cdfb3b38b": {
      "model_module": "@jupyter-widgets/base",
      "model_module_version": "1.2.0",
      "model_name": "LayoutModel",
      "state": {
       "_model_module": "@jupyter-widgets/base",
       "_model_module_version": "1.2.0",
       "_model_name": "LayoutModel",
       "_view_count": null,
       "_view_module": "@jupyter-widgets/base",
       "_view_module_version": "1.2.0",
       "_view_name": "LayoutView",
       "align_content": null,
       "align_items": null,
       "align_self": null,
       "border": null,
       "bottom": null,
       "display": null,
       "flex": null,
       "flex_flow": null,
       "grid_area": null,
       "grid_auto_columns": null,
       "grid_auto_flow": null,
       "grid_auto_rows": null,
       "grid_column": null,
       "grid_gap": null,
       "grid_row": null,
       "grid_template_areas": null,
       "grid_template_columns": null,
       "grid_template_rows": null,
       "height": null,
       "justify_content": null,
       "justify_items": null,
       "left": null,
       "margin": null,
       "max_height": null,
       "max_width": null,
       "min_height": null,
       "min_width": null,
       "object_fit": null,
       "object_position": null,
       "order": null,
       "overflow": null,
       "overflow_x": null,
       "overflow_y": null,
       "padding": null,
       "right": null,
       "top": null,
       "visibility": null,
       "width": null
      }
     },
     "9aade32227be464f8d8e9fce62c113ca": {
      "model_module": "@jupyter-widgets/controls",
      "model_module_version": "1.5.0",
      "model_name": "ProgressStyleModel",
      "state": {
       "_model_module": "@jupyter-widgets/controls",
       "_model_module_version": "1.5.0",
       "_model_name": "ProgressStyleModel",
       "_view_count": null,
       "_view_module": "@jupyter-widgets/base",
       "_view_module_version": "1.2.0",
       "_view_name": "StyleView",
       "bar_color": null,
       "description_width": "initial"
      }
     },
     "ac5f2f3a607547eda1e6eafd6e973f00": {
      "model_module": "@jupyter-widgets/controls",
      "model_module_version": "1.5.0",
      "model_name": "ProgressStyleModel",
      "state": {
       "_model_module": "@jupyter-widgets/controls",
       "_model_module_version": "1.5.0",
       "_model_name": "ProgressStyleModel",
       "_view_count": null,
       "_view_module": "@jupyter-widgets/base",
       "_view_module_version": "1.2.0",
       "_view_name": "StyleView",
       "bar_color": null,
       "description_width": "initial"
      }
     },
     "ba54fb16ef434c2589268e4209052f30": {
      "model_module": "@jupyter-widgets/controls",
      "model_module_version": "1.5.0",
      "model_name": "HBoxModel",
      "state": {
       "_dom_classes": [],
       "_model_module": "@jupyter-widgets/controls",
       "_model_module_version": "1.5.0",
       "_model_name": "HBoxModel",
       "_view_count": null,
       "_view_module": "@jupyter-widgets/controls",
       "_view_module_version": "1.5.0",
       "_view_name": "HBoxView",
       "box_style": "",
       "children": [
        "IPY_MODEL_48614f324a354fbf9b525dfa5b72f825",
        "IPY_MODEL_e6e48826423c4545a3a86ad68210d1ce"
       ],
       "layout": "IPY_MODEL_c18c524035fc47b7bda0549da7e0c27c"
      }
     },
     "bf5ea62553c946c695ff327dc95ecb10": {
      "model_module": "@jupyter-widgets/controls",
      "model_module_version": "1.5.0",
      "model_name": "HBoxModel",
      "state": {
       "_dom_classes": [],
       "_model_module": "@jupyter-widgets/controls",
       "_model_module_version": "1.5.0",
       "_model_name": "HBoxModel",
       "_view_count": null,
       "_view_module": "@jupyter-widgets/controls",
       "_view_module_version": "1.5.0",
       "_view_name": "HBoxView",
       "box_style": "",
       "children": [
        "IPY_MODEL_1fae537fdb724a14be07c8e9fcb152b7",
        "IPY_MODEL_2110b8d426234ecb875787ad05cef8d9"
       ],
       "layout": "IPY_MODEL_39c946e65b4d49048ab6f17d43c78529"
      }
     },
     "c18c524035fc47b7bda0549da7e0c27c": {
      "model_module": "@jupyter-widgets/base",
      "model_module_version": "1.2.0",
      "model_name": "LayoutModel",
      "state": {
       "_model_module": "@jupyter-widgets/base",
       "_model_module_version": "1.2.0",
       "_model_name": "LayoutModel",
       "_view_count": null,
       "_view_module": "@jupyter-widgets/base",
       "_view_module_version": "1.2.0",
       "_view_name": "LayoutView",
       "align_content": null,
       "align_items": null,
       "align_self": null,
       "border": null,
       "bottom": null,
       "display": null,
       "flex": null,
       "flex_flow": null,
       "grid_area": null,
       "grid_auto_columns": null,
       "grid_auto_flow": null,
       "grid_auto_rows": null,
       "grid_column": null,
       "grid_gap": null,
       "grid_row": null,
       "grid_template_areas": null,
       "grid_template_columns": null,
       "grid_template_rows": null,
       "height": null,
       "justify_content": null,
       "justify_items": null,
       "left": null,
       "margin": null,
       "max_height": null,
       "max_width": null,
       "min_height": null,
       "min_width": null,
       "object_fit": null,
       "object_position": null,
       "order": null,
       "overflow": null,
       "overflow_x": null,
       "overflow_y": null,
       "padding": null,
       "right": null,
       "top": null,
       "visibility": null,
       "width": null
      }
     },
     "ce08eb7586b04bc0ac46899e05a82745": {
      "model_module": "@jupyter-widgets/controls",
      "model_module_version": "1.5.0",
      "model_name": "DescriptionStyleModel",
      "state": {
       "_model_module": "@jupyter-widgets/controls",
       "_model_module_version": "1.5.0",
       "_model_name": "DescriptionStyleModel",
       "_view_count": null,
       "_view_module": "@jupyter-widgets/base",
       "_view_module_version": "1.2.0",
       "_view_name": "StyleView",
       "description_width": ""
      }
     },
     "e6e48826423c4545a3a86ad68210d1ce": {
      "model_module": "@jupyter-widgets/controls",
      "model_module_version": "1.5.0",
      "model_name": "HTMLModel",
      "state": {
       "_dom_classes": [],
       "_model_module": "@jupyter-widgets/controls",
       "_model_module_version": "1.5.0",
       "_model_name": "HTMLModel",
       "_view_count": null,
       "_view_module": "@jupyter-widgets/controls",
       "_view_module_version": "1.5.0",
       "_view_name": "HTMLView",
       "description": "",
       "description_tooltip": null,
       "layout": "IPY_MODEL_65dd55efda0c41aa8ed93f389a01020f",
       "placeholder": "​",
       "style": "IPY_MODEL_ce08eb7586b04bc0ac46899e05a82745",
       "value": " 513/513 [00:00&lt;00:00, 714B/s]"
      }
     }
    },
    "version_major": 2,
    "version_minor": 0
   }
  }
 },
 "nbformat": 4,
 "nbformat_minor": 4
}
