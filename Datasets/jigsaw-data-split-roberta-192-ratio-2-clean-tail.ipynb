{
 "cells": [
  {
   "cell_type": "markdown",
   "metadata": {},
   "source": [
    "# Dependencies"
   ]
  },
  {
   "cell_type": "code",
   "execution_count": 1,
   "metadata": {
    "_kg_hide-input": true
   },
   "outputs": [],
   "source": [
    "import os, warnings, shutil, re\n",
    "import numpy as np\n",
    "import pandas as pd\n",
    "import seaborn as sns\n",
    "import matplotlib.pyplot as plt\n",
    "from transformers import AutoTokenizer\n",
    "from sklearn.utils import shuffle\n",
    "from sklearn.model_selection import StratifiedKFold\n",
    "\n",
    "\n",
    "SEED = 0\n",
    "warnings.filterwarnings(\"ignore\")\n",
    "pd.set_option('max_colwidth', 160)"
   ]
  },
  {
   "cell_type": "code",
   "execution_count": 2,
   "metadata": {
    "_kg_hide-input": true
   },
   "outputs": [],
   "source": [
    "# Preprocess data\n",
    "def clean_text(text):\n",
    "    text = str(text)\n",
    "    text = re.sub(r'[0-9\"]', '', text)\n",
    "    text = re.sub(r'#[\\S]+\\b', '', text)\n",
    "    text = re.sub(r'@[\\S]+\\b', '', text)\n",
    "    text = re.sub(r'https?\\S+', '', text)\n",
    "    text = re.sub(r'\\s+', ' ', text)\n",
    "    return text.strip()\\\n",
    "\n",
    "# Preprocess inputs\n",
    "CLS = 0\n",
    "PAD = 1\n",
    "SEP = 2\n",
    "\n",
    "def preprocess_roberta(text, tokenizer, max_seq_len):\n",
    "    encoded = tokenizer.encode_plus(text, return_token_type_ids=False)\n",
    "    \n",
    "    # Truncate\n",
    "    input_ids = encoded['input_ids'][:max_seq_len]\n",
    "    attention_mask = encoded['attention_mask'][:max_seq_len]\n",
    "    \n",
    "    # Update input_ids\n",
    "    input_ids[0] = CLS\n",
    "    input_ids[-1] = SEP\n",
    "    \n",
    "    # Pad\n",
    "    input_ids = input_ids + [PAD] * (max_seq_len - len(input_ids))\n",
    "    attention_mask = attention_mask + [0] * (max_seq_len - len(attention_mask))\n",
    "    \n",
    "    x = [np.asarray(input_ids, dtype=np.int32), \n",
    "         np.asarray(attention_mask, dtype=np.int8)]\n",
    "    \n",
    "    return x\n",
    "\n",
    "def preprocess_roberta_tail(text, tokenizer, max_seq_len):\n",
    "    encoded = tokenizer.encode_plus(text, return_token_type_ids=False)\n",
    "    \n",
    "    # Truncate\n",
    "    input_ids = encoded['input_ids'][-max_seq_len:]\n",
    "    attention_mask = encoded['attention_mask'][-max_seq_len:]\n",
    "    \n",
    "    # Update input_ids\n",
    "    input_ids[0] = CLS\n",
    "    input_ids[-1] = SEP\n",
    "    \n",
    "    # Pad\n",
    "    input_ids = input_ids + [PAD] * (max_seq_len - len(input_ids))\n",
    "    attention_mask = attention_mask + [0] * (max_seq_len - len(attention_mask))\n",
    "    \n",
    "    x = [np.asarray(input_ids, dtype=np.int32), \n",
    "         np.asarray(attention_mask, dtype=np.int8)]\n",
    "    \n",
    "    return x\n",
    "\n",
    "def get_data(df, text_col, tokenizer, MAX_LEN, preprocess_fn=preprocess_roberta):\n",
    "    x_input_ids = []\n",
    "    x_attention_masks = []\n",
    "    y_data = []\n",
    "    y_data_int = []\n",
    "    \n",
    "    for row in df.itertuples(): \n",
    "        x = preprocess_fn(getattr(row, text_col), tokenizer, MAX_LEN)\n",
    "        x_input_ids.append(x[0])\n",
    "        x_attention_masks.append(x[1])\n",
    "\n",
    "        y_data.append(getattr(row, 'toxic'))\n",
    "        y_data_int.append(getattr(row, 'toxic_int'))\n",
    "\n",
    "    x_data = [np.asarray(x_input_ids, dtype=np.int32), \n",
    "              np.asarray(x_attention_masks, dtype=np.int8)]\n",
    "    \n",
    "    y_data = [np.asarray(y_data, dtype=np.float32), \n",
    "              np.asarray(y_data_int, dtype=np.int8)]\n",
    "    \n",
    "    return x_data, y_data\n",
    "    \n",
    "def get_data_valid(df, text_col, tokenizer, MAX_LEN, preprocess_fn=preprocess_roberta):\n",
    "    x_input_ids = []\n",
    "    x_attention_masks = []\n",
    "    y_data = []\n",
    "    \n",
    "    for row in df.itertuples(): \n",
    "        x = preprocess_fn(getattr(row, text_col), tokenizer, MAX_LEN)\n",
    "        x_input_ids.append(x[0])\n",
    "        x_attention_masks.append(x[1])\n",
    "\n",
    "        y_data.append(getattr(row, 'toxic'))\n",
    "\n",
    "    x_data = [np.asarray(x_input_ids, dtype=np.int32), \n",
    "              np.asarray(x_attention_masks, dtype=np.int8)]\n",
    "    \n",
    "    y_data = np.asarray(y_data, dtype=np.int8)\n",
    "    \n",
    "    return x_data, y_data\n",
    "\n",
    "def get_data_test(df, text_col, tokenizer, MAX_LEN, preprocess_fn=preprocess_roberta):\n",
    "    x_input_ids = []\n",
    "    x_attention_masks = []\n",
    "    \n",
    "    for row in df.itertuples(): \n",
    "        x = preprocess_fn(getattr(row, text_col), tokenizer, MAX_LEN)\n",
    "        x_input_ids.append(x[0])\n",
    "        x_attention_masks.append(x[1])\n",
    "\n",
    "\n",
    "    x_data = [np.asarray(x_input_ids, dtype=np.int32), \n",
    "              np.asarray(x_attention_masks, dtype=np.int8)]\n",
    "    \n",
    "    return x_data"
   ]
  },
  {
   "cell_type": "markdown",
   "metadata": {},
   "source": [
    "# Parameters"
   ]
  },
  {
   "cell_type": "code",
   "execution_count": 3,
   "metadata": {},
   "outputs": [],
   "source": [
    "MAX_LEN = 192\n",
    "tokenizer_path = 'jplu/tf-xlm-roberta-large'\n",
    "\n",
    "positive1 = 21384 * 2\n",
    "positive2 = 112226 * 2"
   ]
  },
  {
   "cell_type": "markdown",
   "metadata": {},
   "source": [
    "# Load data"
   ]
  },
  {
   "cell_type": "code",
   "execution_count": 4,
   "metadata": {
    "_kg_hide-input": true
   },
   "outputs": [
    {
     "name": "stdout",
     "output_type": "stream",
     "text": [
      "Train samples 400830\n"
     ]
    },
    {
     "data": {
      "text/html": [
       "<div>\n",
       "<style scoped>\n",
       "    .dataframe tbody tr th:only-of-type {\n",
       "        vertical-align: middle;\n",
       "    }\n",
       "\n",
       "    .dataframe tbody tr th {\n",
       "        vertical-align: top;\n",
       "    }\n",
       "\n",
       "    .dataframe thead th {\n",
       "        text-align: right;\n",
       "    }\n",
       "</style>\n",
       "<table border=\"1\" class=\"dataframe\">\n",
       "  <thead>\n",
       "    <tr style=\"text-align: right;\">\n",
       "      <th></th>\n",
       "      <th>comment_text</th>\n",
       "      <th>toxic</th>\n",
       "      <th>toxic_int</th>\n",
       "    </tr>\n",
       "  </thead>\n",
       "  <tbody>\n",
       "    <tr>\n",
       "      <th>0</th>\n",
       "      <td>And you have something alien on your lips Chance.  Geez dude give it up.  Better yet why don't you ask the Krotch brothers to buy you another drink.</td>\n",
       "      <td>0.000000</td>\n",
       "      <td>0</td>\n",
       "    </tr>\n",
       "    <tr>\n",
       "      <th>1</th>\n",
       "      <td>no income tax for anyone that comes and works and leaves. no income tax for retirees that come and work and leave. no cutting in waste. sick of them, too.</td>\n",
       "      <td>0.166667</td>\n",
       "      <td>0</td>\n",
       "    </tr>\n",
       "    <tr>\n",
       "      <th>2</th>\n",
       "      <td>Rubbish, Brandon. Nothing stopped Comey of the FBI of dumping the phony story about a new investigation in Hillary's email at a time when he knew it would i...</td>\n",
       "      <td>0.833333</td>\n",
       "      <td>1</td>\n",
       "    </tr>\n",
       "    <tr>\n",
       "      <th>3</th>\n",
       "      <td>poster \\n\\nI have sent the e-mail. -Garrett</td>\n",
       "      <td>0.000000</td>\n",
       "      <td>0</td>\n",
       "    </tr>\n",
       "    <tr>\n",
       "      <th>4</th>\n",
       "      <td>== ECB exposure == \\n\\n I responded to a comment of yours here. Cheers.</td>\n",
       "      <td>0.000000</td>\n",
       "      <td>0</td>\n",
       "    </tr>\n",
       "  </tbody>\n",
       "</table>\n",
       "</div>"
      ],
      "text/plain": [
       "                                                                                                                                                      comment_text  \\\n",
       "0             And you have something alien on your lips Chance.  Geez dude give it up.  Better yet why don't you ask the Krotch brothers to buy you another drink.   \n",
       "1       no income tax for anyone that comes and works and leaves. no income tax for retirees that come and work and leave. no cutting in waste. sick of them, too.   \n",
       "2  Rubbish, Brandon. Nothing stopped Comey of the FBI of dumping the phony story about a new investigation in Hillary's email at a time when he knew it would i...   \n",
       "3                                                                                                                      poster \\n\\nI have sent the e-mail. -Garrett   \n",
       "4                                                                                          == ECB exposure == \\n\\n I responded to a comment of yours here. Cheers.   \n",
       "\n",
       "      toxic  toxic_int  \n",
       "0  0.000000          0  \n",
       "1  0.166667          0  \n",
       "2  0.833333          1  \n",
       "3  0.000000          0  \n",
       "4  0.000000          0  "
      ]
     },
     "metadata": {},
     "output_type": "display_data"
    }
   ],
   "source": [
    "train1 = pd.read_csv(\"/kaggle/input/jigsaw-multilingual-toxic-comment-classification/jigsaw-toxic-comment-train.csv\")\n",
    "train2 = pd.read_csv(\"/kaggle/input/jigsaw-multilingual-toxic-comment-classification/jigsaw-unintended-bias-train.csv\")\n",
    "\n",
    "train_df = pd.concat([train1[['comment_text', 'toxic']].query('toxic == 1'),\n",
    "                      train1[['comment_text', 'toxic']].query('toxic == 0').sample(n=positive1, random_state=SEED),\n",
    "                      train2[['comment_text', 'toxic']].query('toxic > .5'),\n",
    "                      train2[['comment_text', 'toxic']].query('toxic <= .5').sample(n=positive2, random_state=SEED)\n",
    "                    ])\n",
    "train_df = shuffle(train_df, random_state=SEED).reset_index(drop=True)\n",
    "train_df['toxic_int'] = train_df['toxic'].round().astype(int)\n",
    "\n",
    "print('Train samples %d' % len(train_df))\n",
    "display(train_df.head())"
   ]
  },
  {
   "cell_type": "markdown",
   "metadata": {},
   "source": [
    "## Preprocess"
   ]
  },
  {
   "cell_type": "code",
   "execution_count": 5,
   "metadata": {},
   "outputs": [],
   "source": [
    "train_df['comment_text'] = train_df.apply(lambda x: clean_text(x['comment_text']), axis=1)"
   ]
  },
  {
   "cell_type": "markdown",
   "metadata": {},
   "source": [
    "# Tokenizer"
   ]
  },
  {
   "cell_type": "code",
   "execution_count": 6,
   "metadata": {
    "_kg_hide-output": true
   },
   "outputs": [
    {
     "data": {
      "application/vnd.jupyter.widget-view+json": {
       "model_id": "a53e65c245864afdaee3fb17387c4553",
       "version_major": 2,
       "version_minor": 0
      },
      "text/plain": [
       "HBox(children=(FloatProgress(value=0.0, description='Downloading', max=513.0, style=ProgressStyle(description_…"
      ]
     },
     "metadata": {},
     "output_type": "display_data"
    },
    {
     "name": "stdout",
     "output_type": "stream",
     "text": [
      "\n"
     ]
    },
    {
     "data": {
      "application/vnd.jupyter.widget-view+json": {
       "model_id": "d215ffd09eda44bd9bca2870c2c06f03",
       "version_major": 2,
       "version_minor": 0
      },
      "text/plain": [
       "HBox(children=(FloatProgress(value=0.0, description='Downloading', max=5069051.0, style=ProgressStyle(descript…"
      ]
     },
     "metadata": {},
     "output_type": "display_data"
    },
    {
     "name": "stdout",
     "output_type": "stream",
     "text": [
      "\n"
     ]
    }
   ],
   "source": [
    "tokenizer = AutoTokenizer.from_pretrained(tokenizer_path)"
   ]
  },
  {
   "cell_type": "markdown",
   "metadata": {},
   "source": [
    "# Data generation sanity check"
   ]
  },
  {
   "cell_type": "code",
   "execution_count": 7,
   "metadata": {
    "_kg_hide-input": true
   },
   "outputs": [
    {
     "name": "stdout",
     "output_type": "stream",
     "text": [
      "\n",
      "Row 0\n",
      "label         : \"0.0000\"\n",
      "label int     : \"0\"\n",
      "comment_text  : \"And you have something alien on your lips Chance. Geez dude give it up. Better yet why don't you ask the Krotch brothers to buy you another drink.\"\n",
      "input_ids     : \"[     0   3493    398    765   9844  66961     98    935  66265  76710\n",
      "      5   2206   1255    115    112   8337    442   1257      5 177154\n",
      "  14373      2]\"\n",
      "attention_mask: \"[1 1 1 1 1 1 1 1 1 1 1 1 1 1 1 1 1 1 1 1 1 1]\"\n",
      "-------------------- TAIL --------------------\n",
      "input_ids     : \"[     0 177154  14373  15400   2301     25     18    398  26458     70\n",
      "  28431     18    206  82953      7     47  22113    398  15700  23417\n",
      "      5      2]\"\n",
      "attention_mask: \"[1 1 1 1 1 1 1 1 1 1 1 1 1 1 1 1 1 1 1 1 1 1]\"\n",
      "\n",
      "Row 1\n",
      "label         : \"0.1667\"\n",
      "label int     : \"0\"\n",
      "comment_text  : \"no income tax for anyone that comes and works and leaves. no income tax for retirees that come and work and leave. no cutting in waste. sick of them, too.\"\n",
      "input_ids     : \"[    0   110 91763 24643   100 35672   450 32497   136 43240   136 31358\n",
      "     7     5   110 91763 24643   100 90223    90   450     2]\"\n",
      "attention_mask: \"[1 1 1 1 1 1 1 1 1 1 1 1 1 1 1 1 1 1 1 1 1 1]\"\n",
      "-------------------- TAIL --------------------\n",
      "input_ids     : \"[     0    450   1380    136   4488    136  31358      5    110    314\n",
      "  19514     23    509     67      5 133054    111   2856      4   5792\n",
      "      5      2]\"\n",
      "attention_mask: \"[1 1 1 1 1 1 1 1 1 1 1 1 1 1 1 1 1 1 1 1 1 1]\"\n",
      "\n",
      "Row 2\n",
      "label         : \"0.8333\"\n",
      "label int     : \"1\"\n",
      "comment_text  : \"Rubbish, Brandon. Nothing stopped Comey of the FBI of dumping the phony story about a new investigation in Hillary's email at a time when he knew it would influence the election. Nothing stopped Putin's trolls from putting out fake news articles to undermine the Democrats. Nothing either stopped Trump from lying over seventy percent of the time during the campaign. So, even if this turns out to be untrue, it's completely fair to publish it.\"\n",
      "input_ids     : \"[     0  65787   6454    127      4  23243    191      5 182747 118066\n",
      "  10592     53    111     70  83085    111    115  44287     70  53073\n",
      "    299      2]\"\n",
      "attention_mask: \"[1 1 1 1 1 1 1 1 1 1 1 1 1 1 1 1 1 1 1 1 1 1]\"\n",
      "-------------------- TAIL --------------------\n",
      "input_ids     : \"[    0  2174   903 15504     7  1810    47   186    51  9774    13     4\n",
      "   442    25     7 64557 44075    47 80299   442     5     2]\"\n",
      "attention_mask: \"[1 1 1 1 1 1 1 1 1 1 1 1 1 1 1 1 1 1 1 1 1 1]\"\n",
      "\n",
      "Row 3\n",
      "label         : \"0.0000\"\n",
      "label int     : \"0\"\n",
      "comment_text  : \"poster I have sent the e-mail. -Garrett\"\n",
      "input_ids     : \"[    0 40908    87   765  9325    70    28     9  2065     5    20 82166\n",
      " 20574     2     1     1     1     1     1     1     1     1]\"\n",
      "attention_mask: \"[1 1 1 1 1 1 1 1 1 1 1 1 1 1 0 0 0 0 0 0 0 0]\"\n",
      "-------------------- TAIL --------------------\n",
      "input_ids     : \"[    0 40908    87   765  9325    70    28     9  2065     5    20 82166\n",
      " 20574     2     1     1     1     1     1     1     1     1]\"\n",
      "attention_mask: \"[1 1 1 1 1 1 1 1 1 1 1 1 1 1 0 0 0 0 0 0 0 0]\"\n",
      "\n",
      "Row 4\n",
      "label         : \"0.0000\"\n",
      "label int     : \"0\"\n",
      "comment_text  : \"== ECB exposure == I responded to a comment of yours here. Cheers.\"\n",
      "input_ids     : \"[     0      6  69112    241  47307 197826      6  69112     87  45739\n",
      "     71     47     10   6868    111    935      7   3688      5   5024\n",
      "   1314      2]\"\n",
      "attention_mask: \"[1 1 1 1 1 1 1 1 1 1 1 1 1 1 1 1 1 1 1 1 1 1]\"\n",
      "-------------------- TAIL --------------------\n",
      "input_ids     : \"[     0  69112    241  47307 197826      6  69112     87  45739     71\n",
      "     47     10   6868    111    935      7   3688      5   5024   1314\n",
      "      5      2]\"\n",
      "attention_mask: \"[1 1 1 1 1 1 1 1 1 1 1 1 1 1 1 1 1 1 1 1 1 1]\"\n"
     ]
    }
   ],
   "source": [
    "for idx in range(5):\n",
    "    print('\\nRow %d' % idx)\n",
    "    max_seq_len = 22\n",
    "    comment_text = train_df['comment_text'].loc[idx]\n",
    "    \n",
    "    x_train, y_train = get_data(train_df[idx:idx+1], 'comment_text', tokenizer, max_seq_len, preprocess_fn=preprocess_roberta)\n",
    "    \n",
    "    print('label         : \"%.4f\"' % y_train[0])\n",
    "    print('label int     : \"%d\"' % y_train[1])\n",
    "    print('comment_text  : \"%s\"' % comment_text)\n",
    "    print('input_ids     : \"%s\"' % x_train[0][0])\n",
    "    print('attention_mask: \"%s\"' % x_train[1][0])\n",
    "    \n",
    "    assert len(x_train[0][0]) == len(x_train[1][0]) == max_seq_len\n",
    "    \n",
    "    print('-------------------- TAIL --------------------')\n",
    "    x_train, _ = get_data(train_df[idx:idx+1], 'comment_text', tokenizer, max_seq_len, preprocess_fn=preprocess_roberta_tail)\n",
    "    \n",
    "    print('input_ids     : \"%s\"' % x_train[0][0])\n",
    "    print('attention_mask: \"%s\"' % x_train[1][0])\n",
    "    \n",
    "    assert len(x_train[0][0]) == len(x_train[1][0]) == max_seq_len"
   ]
  },
  {
   "cell_type": "markdown",
   "metadata": {},
   "source": [
    "# 5-Fold split"
   ]
  },
  {
   "cell_type": "code",
   "execution_count": 8,
   "metadata": {
    "_kg_hide-input": true
   },
   "outputs": [
    {
     "name": "stdout",
     "output_type": "stream",
     "text": [
      "Fold: 1, Train size: 320664, Validation size 80166\n",
      "Fold: 2, Train size: 320664, Validation size 80166\n",
      "Fold: 3, Train size: 320664, Validation size 80166\n",
      "Fold: 4, Train size: 320664, Validation size 80166\n",
      "Fold: 5, Train size: 320664, Validation size 80166\n"
     ]
    }
   ],
   "source": [
    "folds = StratifiedKFold(n_splits=5, shuffle=True, random_state=SEED)\n",
    "\n",
    "for fold_n, (train_idx, val_idx) in enumerate(folds.split(train_df, train_df['toxic_int'])):\n",
    "    print('Fold: %s, Train size: %s, Validation size %s' % (fold_n+1, len(train_idx), len(val_idx)))\n",
    "    train_df[('fold_%s' % str(fold_n+1))] = 0\n",
    "    train_df[('fold_%s' % str(fold_n+1))].loc[train_idx] = 'train'\n",
    "    train_df[('fold_%s' % str(fold_n+1))].loc[val_idx] = 'validation'"
   ]
  },
  {
   "cell_type": "markdown",
   "metadata": {},
   "source": [
    "# Label distribution"
   ]
  },
  {
   "cell_type": "code",
   "execution_count": 9,
   "metadata": {
    "_kg_hide-input": true
   },
   "outputs": [
    {
     "data": {
      "image/png": "[encoded data removed]",
      "text/plain": [
       "<Figure size 1296x432 with 2 Axes>"
      ]
     },
     "metadata": {
      "needs_background": "light"
     },
     "output_type": "display_data"
    },
    {
     "data": {
      "image/png": "[encoded data removed]",
      "text/plain": [
       "<Figure size 1296x432 with 2 Axes>"
      ]
     },
     "metadata": {
      "needs_background": "light"
     },
     "output_type": "display_data"
    },
    {
     "data": {
      "image/png": "[encoded data removed]",
      "text/plain": [
       "<Figure size 1296x432 with 2 Axes>"
      ]
     },
     "metadata": {
      "needs_background": "light"
     },
     "output_type": "display_data"
    },
    {
     "data": {
      "image/png": "[encoded data removed]",
      "text/plain": [
       "<Figure size 1296x432 with 2 Axes>"
      ]
     },
     "metadata": {
      "needs_background": "light"
     },
     "output_type": "display_data"
    },
    {
     "data": {
      "image/png": "[encoded data removed]",
      "text/plain": [
       "<Figure size 1296x432 with 2 Axes>"
      ]
     },
     "metadata": {
      "needs_background": "light"
     },
     "output_type": "display_data"
    }
   ],
   "source": [
    "for fold_n in range(folds.n_splits):\n",
    "    fold_n += 1\n",
    "    fig, (ax1, ax2) = plt.subplots(1, 2, figsize=(18, 6))\n",
    "    fig.suptitle('Fold %s' % fold_n, fontsize=22)    \n",
    "    sns.countplot(x=\"toxic_int\", data=train_df[train_df[('fold_%s' % fold_n)] == 'train'], palette=\"GnBu_d\", ax=ax1).set_title('Train')\n",
    "    sns.countplot(x=\"toxic_int\", data=train_df[train_df[('fold_%s' % fold_n)] == 'validation'], palette=\"GnBu_d\", ax=ax2).set_title('Validation')\n",
    "    sns.despine()\n",
    "    plt.show()"
   ]
  },
  {
   "cell_type": "code",
   "execution_count": 10,
   "metadata": {
    "_kg_hide-input": true
   },
   "outputs": [
    {
     "data": {
      "image/png": "[encoded data removed]",
      "text/plain": [
       "<Figure size 1296x432 with 2 Axes>"
      ]
     },
     "metadata": {
      "needs_background": "light"
     },
     "output_type": "display_data"
    },
    {
     "data": {
      "image/png": "[encoded data removed]",
      "text/plain": [
       "<Figure size 1296x432 with 2 Axes>"
      ]
     },
     "metadata": {
      "needs_background": "light"
     },
     "output_type": "display_data"
    },
    {
     "data": {
      "image/png": "[encoded data removed]",
      "text/plain": [
       "<Figure size 1296x432 with 2 Axes>"
      ]
     },
     "metadata": {
      "needs_background": "light"
     },
     "output_type": "display_data"
    },
    {
     "data": {
      "image/png": "[encoded data removed]",
      "text/plain": [
       "<Figure size 1296x432 with 2 Axes>"
      ]
     },
     "metadata": {
      "needs_background": "light"
     },
     "output_type": "display_data"
    },
    {
     "data": {
      "image/png": "[encoded data removed]",
      "text/plain": [
       "<Figure size 1296x432 with 2 Axes>"
      ]
     },
     "metadata": {
      "needs_background": "light"
     },
     "output_type": "display_data"
    }
   ],
   "source": [
    "for fold_n in range(folds.n_splits):\n",
    "    fold_n += 1\n",
    "    fig, (ax1, ax2) = plt.subplots(1, 2, figsize=(18, 6))\n",
    "    fig.suptitle('Fold %s' % fold_n, fontsize=22)    \n",
    "    sns.distplot(train_df[train_df[('fold_%s' % fold_n)] == 'train']['toxic'], ax=ax1).set_title('Train')\n",
    "    sns.distplot(train_df[train_df[('fold_%s' % fold_n)] == 'validation']['toxic'], ax=ax2).set_title('Validation')\n",
    "    sns.despine()\n",
    "    plt.show()"
   ]
  },
  {
   "cell_type": "markdown",
   "metadata": {},
   "source": [
    "# Output 5-fold set"
   ]
  },
  {
   "cell_type": "code",
   "execution_count": 11,
   "metadata": {
    "_kg_hide-input": true
   },
   "outputs": [
    {
     "data": {
      "text/html": [
       "<div>\n",
       "<style scoped>\n",
       "    .dataframe tbody tr th:only-of-type {\n",
       "        vertical-align: middle;\n",
       "    }\n",
       "\n",
       "    .dataframe tbody tr th {\n",
       "        vertical-align: top;\n",
       "    }\n",
       "\n",
       "    .dataframe thead th {\n",
       "        text-align: right;\n",
       "    }\n",
       "</style>\n",
       "<table border=\"1\" class=\"dataframe\">\n",
       "  <thead>\n",
       "    <tr style=\"text-align: right;\">\n",
       "      <th></th>\n",
       "      <th>comment_text</th>\n",
       "      <th>toxic</th>\n",
       "      <th>toxic_int</th>\n",
       "      <th>fold_1</th>\n",
       "      <th>fold_2</th>\n",
       "      <th>fold_3</th>\n",
       "      <th>fold_4</th>\n",
       "      <th>fold_5</th>\n",
       "    </tr>\n",
       "  </thead>\n",
       "  <tbody>\n",
       "    <tr>\n",
       "      <th>0</th>\n",
       "      <td>And you have something alien on your lips Chance. Geez dude give it up. Better yet why don't you ask the Krotch brothers to buy you another drink.</td>\n",
       "      <td>0.000000</td>\n",
       "      <td>0</td>\n",
       "      <td>train</td>\n",
       "      <td>train</td>\n",
       "      <td>validation</td>\n",
       "      <td>train</td>\n",
       "      <td>train</td>\n",
       "    </tr>\n",
       "    <tr>\n",
       "      <th>1</th>\n",
       "      <td>no income tax for anyone that comes and works and leaves. no income tax for retirees that come and work and leave. no cutting in waste. sick of them, too.</td>\n",
       "      <td>0.166667</td>\n",
       "      <td>0</td>\n",
       "      <td>train</td>\n",
       "      <td>train</td>\n",
       "      <td>train</td>\n",
       "      <td>train</td>\n",
       "      <td>validation</td>\n",
       "    </tr>\n",
       "    <tr>\n",
       "      <th>2</th>\n",
       "      <td>Rubbish, Brandon. Nothing stopped Comey of the FBI of dumping the phony story about a new investigation in Hillary's email at a time when he knew it would i...</td>\n",
       "      <td>0.833333</td>\n",
       "      <td>1</td>\n",
       "      <td>train</td>\n",
       "      <td>train</td>\n",
       "      <td>validation</td>\n",
       "      <td>train</td>\n",
       "      <td>train</td>\n",
       "    </tr>\n",
       "    <tr>\n",
       "      <th>3</th>\n",
       "      <td>poster I have sent the e-mail. -Garrett</td>\n",
       "      <td>0.000000</td>\n",
       "      <td>0</td>\n",
       "      <td>train</td>\n",
       "      <td>train</td>\n",
       "      <td>validation</td>\n",
       "      <td>train</td>\n",
       "      <td>train</td>\n",
       "    </tr>\n",
       "    <tr>\n",
       "      <th>4</th>\n",
       "      <td>== ECB exposure == I responded to a comment of yours here. Cheers.</td>\n",
       "      <td>0.000000</td>\n",
       "      <td>0</td>\n",
       "      <td>train</td>\n",
       "      <td>train</td>\n",
       "      <td>validation</td>\n",
       "      <td>train</td>\n",
       "      <td>train</td>\n",
       "    </tr>\n",
       "  </tbody>\n",
       "</table>\n",
       "</div>"
      ],
      "text/plain": [
       "                                                                                                                                                      comment_text  \\\n",
       "0               And you have something alien on your lips Chance. Geez dude give it up. Better yet why don't you ask the Krotch brothers to buy you another drink.   \n",
       "1       no income tax for anyone that comes and works and leaves. no income tax for retirees that come and work and leave. no cutting in waste. sick of them, too.   \n",
       "2  Rubbish, Brandon. Nothing stopped Comey of the FBI of dumping the phony story about a new investigation in Hillary's email at a time when he knew it would i...   \n",
       "3                                                                                                                          poster I have sent the e-mail. -Garrett   \n",
       "4                                                                                               == ECB exposure == I responded to a comment of yours here. Cheers.   \n",
       "\n",
       "      toxic  toxic_int fold_1 fold_2      fold_3 fold_4      fold_5  \n",
       "0  0.000000          0  train  train  validation  train       train  \n",
       "1  0.166667          0  train  train       train  train  validation  \n",
       "2  0.833333          1  train  train  validation  train       train  \n",
       "3  0.000000          0  train  train  validation  train       train  \n",
       "4  0.000000          0  train  train  validation  train       train  "
      ]
     },
     "metadata": {},
     "output_type": "display_data"
    },
    {
     "name": "stdout",
     "output_type": "stream",
     "text": [
      "\n",
      "FOLD: 1\n",
      "x_train shape: (2, 320664, 192)\n",
      "y_train_float shape: (320664,)\n",
      "y_train_int shape: (320664,)\n",
      "x_valid shape: (2, 80166, 192)\n",
      "y_valid_float shape: (80166,)\n",
      "y_valid_int shape: (80166,)\n",
      "\n",
      "FOLD: 1 [TAIL]\n",
      "x_train shape: (2, 320664, 192)\n",
      "x_valid shape: (2, 80166, 192)\n",
      "\n",
      "FOLD: 2\n",
      "x_train shape: (2, 320664, 192)\n",
      "y_train_float shape: (320664,)\n",
      "y_train_int shape: (320664,)\n",
      "x_valid shape: (2, 80166, 192)\n",
      "y_valid_float shape: (80166,)\n",
      "y_valid_int shape: (80166,)\n",
      "\n",
      "FOLD: 2 [TAIL]\n",
      "x_train shape: (2, 320664, 192)\n",
      "x_valid shape: (2, 80166, 192)\n",
      "fold_1/\r\n",
      "fold_1/x_train_tail.npy\r\n",
      "fold_1/x_train.npy\r\n",
      "fold_1/x_valid_tail.npy\r\n",
      "fold_1/y_train_int.npy\r\n",
      "fold_1/x_valid.npy\r\n",
      "fold_1/y_train.npy\r\n",
      "fold_1/y_valid.npy\r\n",
      "fold_1/y_valid_int.npy\r\n",
      "fold_2/\r\n",
      "fold_2/x_train_tail.npy\r\n",
      "fold_2/x_train.npy\r\n",
      "fold_2/x_valid_tail.npy\r\n",
      "fold_2/y_train_int.npy\r\n",
      "fold_2/x_valid.npy\r\n",
      "fold_2/y_train.npy\r\n",
      "fold_2/y_valid.npy\r\n",
      "fold_2/y_valid_int.npy\r\n"
     ]
    }
   ],
   "source": [
    "train_df.to_csv('5-fold.csv', index=False)\n",
    "display(train_df.head())\n",
    "\n",
    "for fold_n in range(folds.n_splits):\n",
    "    if fold_n < 2:\n",
    "        fold_n += 1\n",
    "        base_path = 'fold_%d/' % fold_n\n",
    "\n",
    "        # Create dir\n",
    "        os.makedirs(base_path)\n",
    "\n",
    "        x_train, y_train = get_data(train_df[train_df[('fold_%s' % fold_n)] == 'train'], 'comment_text', \n",
    "                                    tokenizer, MAX_LEN, preprocess_fn=preprocess_roberta)\n",
    "        x_valid, y_valid = get_data(train_df[train_df[('fold_%s' % fold_n)] == 'validation'], 'comment_text', \n",
    "                                    tokenizer, MAX_LEN, preprocess_fn=preprocess_roberta)\n",
    "        y_train_float, y_train_int = y_train\n",
    "        y_valid_float, y_valid_int = y_valid\n",
    "        x_train, y_train_float, y_train_int =  np.asarray(x_train), np.asarray(y_train_float), np.asarray(y_train_int)\n",
    "        x_valid, y_valid_float, y_valid_int =  np.asarray(x_valid), np.asarray(y_valid_float), np.asarray(y_valid_int)\n",
    "        \n",
    "        np.save(base_path + 'x_train', x_train)\n",
    "        np.save(base_path + 'y_train', y_train_float)\n",
    "        np.save(base_path + 'y_train_int', y_train_int)\n",
    "        np.save(base_path + 'x_valid', x_valid)\n",
    "        np.save(base_path + 'y_valid', y_valid_float)\n",
    "        np.save(base_path + 'y_valid_int', y_valid_int)\n",
    "\n",
    "        print('\\nFOLD: %d' % (fold_n))\n",
    "        print('x_train shape:', x_train.shape)\n",
    "        print('y_train_float shape:', y_train_float.shape)\n",
    "        print('y_train_int shape:', y_train_int.shape)\n",
    "        print('x_valid shape:', x_valid.shape)\n",
    "        print('y_valid_float shape:', y_valid_float.shape)\n",
    "        print('y_valid_int shape:', y_valid_int.shape)\n",
    "        \n",
    "        #################### ENCODE TAIL ONLY ####################\n",
    "\n",
    "        x_train, _ = get_data(train_df[train_df[('fold_%s' % fold_n)] == 'train'], 'comment_text', \n",
    "                              tokenizer, MAX_LEN, preprocess_fn=preprocess_roberta_tail)\n",
    "        x_valid, _ = get_data(train_df[train_df[('fold_%s' % fold_n)] == 'validation'], 'comment_text', \n",
    "                              tokenizer, MAX_LEN, preprocess_fn=preprocess_roberta_tail)\n",
    "        x_train = np.asarray(x_train)\n",
    "        x_valid = np.asarray(x_valid)\n",
    "        \n",
    "        np.save(base_path + 'x_train_tail', x_train)\n",
    "        np.save(base_path + 'x_valid_tail', x_valid)\n",
    "\n",
    "        print('\\nFOLD: %d [TAIL]' % (fold_n))\n",
    "        print('x_train shape:', x_train.shape)\n",
    "        print('x_valid shape:', x_valid.shape)\n",
    "\n",
    "#  Compress logs dir\n",
    "!tar -cvzf fold_1.tar.gz fold_1\n",
    "!tar -cvzf fold_2.tar.gz fold_2\n",
    "# !tar -cvzf fold_3.tar.gz fold_3\n",
    "# !tar -cvzf fold_4.tar.gz fold_4\n",
    "# !tar -cvzf fold_5.tar.gz fold_5\n",
    "\n",
    "# Delete logs dir\n",
    "shutil.rmtree('fold_1')\n",
    "shutil.rmtree('fold_2')\n",
    "# shutil.rmtree('fold_3')\n",
    "# shutil.rmtree('fold_4')\n",
    "# shutil.rmtree('fold_5')"
   ]
  },
  {
   "cell_type": "markdown",
   "metadata": {},
   "source": [
    "# Validation set"
   ]
  },
  {
   "cell_type": "code",
   "execution_count": 12,
   "metadata": {
    "_kg_hide-input": true
   },
   "outputs": [
    {
     "data": {
      "text/html": [
       "<div>\n",
       "<style scoped>\n",
       "    .dataframe tbody tr th:only-of-type {\n",
       "        vertical-align: middle;\n",
       "    }\n",
       "\n",
       "    .dataframe tbody tr th {\n",
       "        vertical-align: top;\n",
       "    }\n",
       "\n",
       "    .dataframe thead th {\n",
       "        text-align: right;\n",
       "    }\n",
       "</style>\n",
       "<table border=\"1\" class=\"dataframe\">\n",
       "  <thead>\n",
       "    <tr style=\"text-align: right;\">\n",
       "      <th></th>\n",
       "      <th>comment_text</th>\n",
       "      <th>lang</th>\n",
       "      <th>toxic</th>\n",
       "    </tr>\n",
       "  </thead>\n",
       "  <tbody>\n",
       "    <tr>\n",
       "      <th>0</th>\n",
       "      <td>Este usuario ni siquiera llega al rango de hereje . Por lo tanto debería ser quemado en la barbacoa para purificar su alma y nuestro aparato digestivo media...</td>\n",
       "      <td>es</td>\n",
       "      <td>0</td>\n",
       "    </tr>\n",
       "    <tr>\n",
       "      <th>1</th>\n",
       "      <td>Il testo di questa voce pare esser scopiazzato direttamente da qui. Immagino possano esserci problemi di copyright, nel fare cio .</td>\n",
       "      <td>it</td>\n",
       "      <td>0</td>\n",
       "    </tr>\n",
       "    <tr>\n",
       "      <th>2</th>\n",
       "      <td>Vale. Sólo expongo mi pasado. Todo tiempo pasado fue mejor, ni mucho menos, yo no quisiera retroceder años a nivel particular. Las volveria a pasar putas.Fe...</td>\n",
       "      <td>es</td>\n",
       "      <td>1</td>\n",
       "    </tr>\n",
       "    <tr>\n",
       "      <th>3</th>\n",
       "      <td>Bu maddenin alt başlığı olarak uluslararası ilişkiler ile konuyu sürdürmek ile ilgili tereddütlerim var.Önerim siyaset bilimi ana başlığından sonra siyasal ...</td>\n",
       "      <td>tr</td>\n",
       "      <td>0</td>\n",
       "    </tr>\n",
       "    <tr>\n",
       "      <th>4</th>\n",
       "      <td>Belçika nın şehirlerinin yanında ilçe ve beldelerini yaparken sanırım Portekizi örnek alacaksın. Ben de uzak gelecekte(- yıl) bu tip şeyler düşünüyorum. Tab...</td>\n",
       "      <td>tr</td>\n",
       "      <td>0</td>\n",
       "    </tr>\n",
       "  </tbody>\n",
       "</table>\n",
       "</div>"
      ],
      "text/plain": [
       "                                                                                                                                                      comment_text  \\\n",
       "0  Este usuario ni siquiera llega al rango de hereje . Por lo tanto debería ser quemado en la barbacoa para purificar su alma y nuestro aparato digestivo media...   \n",
       "1                               Il testo di questa voce pare esser scopiazzato direttamente da qui. Immagino possano esserci problemi di copyright, nel fare cio .   \n",
       "2  Vale. Sólo expongo mi pasado. Todo tiempo pasado fue mejor, ni mucho menos, yo no quisiera retroceder años a nivel particular. Las volveria a pasar putas.Fe...   \n",
       "3  Bu maddenin alt başlığı olarak uluslararası ilişkiler ile konuyu sürdürmek ile ilgili tereddütlerim var.Önerim siyaset bilimi ana başlığından sonra siyasal ...   \n",
       "4  Belçika nın şehirlerinin yanında ilçe ve beldelerini yaparken sanırım Portekizi örnek alacaksın. Ben de uzak gelecekte(- yıl) bu tip şeyler düşünüyorum. Tab...   \n",
       "\n",
       "  lang  toxic  \n",
       "0   es      0  \n",
       "1   it      0  \n",
       "2   es      1  \n",
       "3   tr      0  \n",
       "4   tr      0  "
      ]
     },
     "metadata": {},
     "output_type": "display_data"
    },
    {
     "name": "stdout",
     "output_type": "stream",
     "text": [
      "x_valid shape: (2, 8000, 192)\n",
      "y_valid shape: (8000,)\n",
      "[TAIL] x_valid shape: (2, 8000, 192)\n"
     ]
    }
   ],
   "source": [
    "valid_df = pd.read_csv(\"/kaggle/input/jigsaw-multilingual-toxic-comment-classification/validation.csv\", usecols=['comment_text', 'toxic', 'lang'])\n",
    "# Preprocess\n",
    "valid_df['comment_text'] = valid_df.apply(lambda x: clean_text(x['comment_text']), axis=1)\n",
    "display(valid_df.head())\n",
    "\n",
    "x_valid, y_valid = get_data_valid(valid_df, 'comment_text', tokenizer, MAX_LEN, preprocess_fn=preprocess_roberta)\n",
    "x_valid, y_valid = np.asarray(x_valid), np.asarray(y_valid)\n",
    "\n",
    "np.save('x_valid', x_valid)\n",
    "np.save('y_valid', y_valid)\n",
    "print('x_valid shape:', x_valid.shape)\n",
    "print('y_valid shape:', y_valid.shape)\n",
    "\n",
    "#################### ENCODE TAIL ONLY ####################\n",
    "\n",
    "x_valid, _ = get_data_valid(valid_df, 'comment_text', tokenizer, MAX_LEN, preprocess_fn=preprocess_roberta_tail)\n",
    "x_valid =  np.asarray(x_valid)\n",
    "\n",
    "np.save('x_valid_tail', np.asarray(x_valid))\n",
    "print('[TAIL] x_valid shape:', x_valid.shape)"
   ]
  },
  {
   "cell_type": "markdown",
   "metadata": {},
   "source": [
    "# Test set"
   ]
  },
  {
   "cell_type": "code",
   "execution_count": 13,
   "metadata": {
    "_kg_hide-input": true
   },
   "outputs": [
    {
     "data": {
      "text/html": [
       "<div>\n",
       "<style scoped>\n",
       "    .dataframe tbody tr th:only-of-type {\n",
       "        vertical-align: middle;\n",
       "    }\n",
       "\n",
       "    .dataframe tbody tr th {\n",
       "        vertical-align: top;\n",
       "    }\n",
       "\n",
       "    .dataframe thead th {\n",
       "        text-align: right;\n",
       "    }\n",
       "</style>\n",
       "<table border=\"1\" class=\"dataframe\">\n",
       "  <thead>\n",
       "    <tr style=\"text-align: right;\">\n",
       "      <th></th>\n",
       "      <th>content</th>\n",
       "    </tr>\n",
       "  </thead>\n",
       "  <tbody>\n",
       "    <tr>\n",
       "      <th>0</th>\n",
       "      <td>Doctor Who adlı viki başlığına . doctor olarak bir viki yazarı kendi adını eklemiştir. Şahsen düzelttim. Onaylarsanız sevinirim. Occipital</td>\n",
       "    </tr>\n",
       "    <tr>\n",
       "      <th>1</th>\n",
       "      <td>Вполне возможно, но я пока не вижу необходимости выделять материал в отдельную статью. Если про правосудие в СССР будет написано хотя бы килобайт - — тогда ...</td>\n",
       "    </tr>\n",
       "    <tr>\n",
       "      <th>2</th>\n",
       "      <td>Quindi tu sei uno di quelli conservativi , che preferiscono non cancellare. Ok. Avresti lasciato anche sfaccimma ? Si? Ok. Contento te... io non approvo per...</td>\n",
       "    </tr>\n",
       "    <tr>\n",
       "      <th>3</th>\n",
       "      <td>Malesef gerçekleştirilmedi ancak şöyle bir şey vardı. Belki yararlanırsınız. İyi çalışmalar. Kud yaz Teşekkür ederim. Abidenin maddesini de genişletmeyi düş...</td>\n",
       "    </tr>\n",
       "    <tr>\n",
       "      <th>4</th>\n",
       "      <td>:Resim:Seldabagcan.jpg resminde kaynak sorunu :Resim:Seldabagcan.jpg resmini yüklediğiniz için teşekkürler. Ancak dosyanın tanım sayfasında içeriğin kimin t...</td>\n",
       "    </tr>\n",
       "  </tbody>\n",
       "</table>\n",
       "</div>"
      ],
      "text/plain": [
       "                                                                                                                                                           content\n",
       "0                       Doctor Who adlı viki başlığına . doctor olarak bir viki yazarı kendi adını eklemiştir. Şahsen düzelttim. Onaylarsanız sevinirim. Occipital\n",
       "1  Вполне возможно, но я пока не вижу необходимости выделять материал в отдельную статью. Если про правосудие в СССР будет написано хотя бы килобайт - — тогда ...\n",
       "2  Quindi tu sei uno di quelli conservativi , che preferiscono non cancellare. Ok. Avresti lasciato anche sfaccimma ? Si? Ok. Contento te... io non approvo per...\n",
       "3  Malesef gerçekleştirilmedi ancak şöyle bir şey vardı. Belki yararlanırsınız. İyi çalışmalar. Kud yaz Teşekkür ederim. Abidenin maddesini de genişletmeyi düş...\n",
       "4  :Resim:Seldabagcan.jpg resminde kaynak sorunu :Resim:Seldabagcan.jpg resmini yüklediğiniz için teşekkürler. Ancak dosyanın tanım sayfasında içeriğin kimin t..."
      ]
     },
     "metadata": {},
     "output_type": "display_data"
    },
    {
     "name": "stdout",
     "output_type": "stream",
     "text": [
      "x_test shape: (2, 63812, 192)\n",
      "[TAIL] x_test shape: (2, 63812, 192)\n"
     ]
    }
   ],
   "source": [
    "test_df = pd.read_csv(\"/kaggle/input/jigsaw-multilingual-toxic-comment-classification/test.csv\", usecols=['content'])\n",
    "# Preprocess\n",
    "test_df['content'] = test_df.apply(lambda x: clean_text(x['content']), axis=1)\n",
    "display(test_df.head())\n",
    "\n",
    "x_test = get_data_test(test_df, 'content', tokenizer, MAX_LEN, preprocess_fn=preprocess_roberta)\n",
    "x_test = np.asarray(x_test)\n",
    "\n",
    "np.save('x_test', x_test)\n",
    "print('x_test shape:', x_test.shape)\n",
    "\n",
    "#################### ENCODE TAIL ONLY ####################\n",
    "\n",
    "x_test = get_data_test(test_df, 'content', tokenizer, MAX_LEN, preprocess_fn=preprocess_roberta_tail)\n",
    "x_test = np.asarray(x_test)\n",
    "\n",
    "np.save('x_test_tail', x_test)\n",
    "print('[TAIL] x_test shape:', x_test.shape)"
   ]
  }
 ],
 "metadata": {
  "kernelspec": {
   "display_name": "Python 3",
   "language": "python",
   "name": "python3"
  },
  "language_info": {
   "codemirror_mode": {
    "name": "ipython",
    "version": 3
   },
   "file_extension": ".py",
   "mimetype": "text/x-python",
   "name": "python",
   "nbconvert_exporter": "python",
   "pygments_lexer": "ipython3",
   "version": "3.6.6"
  },
  "widgets": {
   "application/vnd.jupyter.widget-state+json": {
    "state": {
     "04fa1f5bdb6b45e694efa50e0e33073c": {
      "model_module": "@jupyter-widgets/controls",
      "model_module_version": "1.5.0",
      "model_name": "FloatProgressModel",
      "state": {
       "_dom_classes": [],
       "_model_module": "@jupyter-widgets/controls",
       "_model_module_version": "1.5.0",
       "_model_name": "FloatProgressModel",
       "_view_count": null,
       "_view_module": "@jupyter-widgets/controls",
       "_view_module_version": "1.5.0",
       "_view_name": "ProgressView",
       "bar_style": "success",
       "description": "Downloading: 100%",
       "description_tooltip": null,
       "layout": "IPY_MODEL_89b7f1bece064b10bd78e0635388fea5",
       "max": 513.0,
       "min": 0.0,
       "orientation": "horizontal",
       "style": "IPY_MODEL_80d3fbf419b44e22a8e03d6ee2bb38e5",
       "value": 513.0
      }
     },
     "68be8b10e9fe4cd4aa3d381368134b30": {
      "model_module": "@jupyter-widgets/base",
      "model_module_version": "1.2.0",
      "model_name": "LayoutModel",
      "state": {
       "_model_module": "@jupyter-widgets/base",
       "_model_module_version": "1.2.0",
       "_model_name": "LayoutModel",
       "_view_count": null,
       "_view_module": "@jupyter-widgets/base",
       "_view_module_version": "1.2.0",
       "_view_name": "LayoutView",
       "align_content": null,
       "align_items": null,
       "align_self": null,
       "border": null,
       "bottom": null,
       "display": null,
       "flex": null,
       "flex_flow": null,
       "grid_area": null,
       "grid_auto_columns": null,
       "grid_auto_flow": null,
       "grid_auto_rows": null,
       "grid_column": null,
       "grid_gap": null,
       "grid_row": null,
       "grid_template_areas": null,
       "grid_template_columns": null,
       "grid_template_rows": null,
       "height": null,
       "justify_content": null,
       "justify_items": null,
       "left": null,
       "margin": null,
       "max_height": null,
       "max_width": null,
       "min_height": null,
       "min_width": null,
       "object_fit": null,
       "object_position": null,
       "order": null,
       "overflow": null,
       "overflow_x": null,
       "overflow_y": null,
       "padding": null,
       "right": null,
       "top": null,
       "visibility": null,
       "width": null
      }
     },
     "6f1406b680fb4ab8b879ffe7ef90aee7": {
      "model_module": "@jupyter-widgets/controls",
      "model_module_version": "1.5.0",
      "model_name": "HTMLModel",
      "state": {
       "_dom_classes": [],
       "_model_module": "@jupyter-widgets/controls",
       "_model_module_version": "1.5.0",
       "_model_name": "HTMLModel",
       "_view_count": null,
       "_view_module": "@jupyter-widgets/controls",
       "_view_module_version": "1.5.0",
       "_view_name": "HTMLView",
       "description": "",
       "description_tooltip": null,
       "layout": "IPY_MODEL_b0254f4229484e9a8bd22d74a2d9a075",
       "placeholder": "​",
       "style": "IPY_MODEL_7ecb3d6ff2054f3aacab2a2bfb3d6822",
       "value": " 513/513 [00:00&lt;00:00, 1.74kB/s]"
      }
     },
     "76eb24945a0941848a8edb72744f78fc": {
      "model_module": "@jupyter-widgets/controls",
      "model_module_version": "1.5.0",
      "model_name": "DescriptionStyleModel",
      "state": {
       "_model_module": "@jupyter-widgets/controls",
       "_model_module_version": "1.5.0",
       "_model_name": "DescriptionStyleModel",
       "_view_count": null,
       "_view_module": "@jupyter-widgets/base",
       "_view_module_version": "1.2.0",
       "_view_name": "StyleView",
       "description_width": ""
      }
     },
     "7ecb3d6ff2054f3aacab2a2bfb3d6822": {
      "model_module": "@jupyter-widgets/controls",
      "model_module_version": "1.5.0",
      "model_name": "DescriptionStyleModel",
      "state": {
       "_model_module": "@jupyter-widgets/controls",
       "_model_module_version": "1.5.0",
       "_model_name": "DescriptionStyleModel",
       "_view_count": null,
       "_view_module": "@jupyter-widgets/base",
       "_view_module_version": "1.2.0",
       "_view_name": "StyleView",
       "description_width": ""
      }
     },
     "8009a3d629ba46d18b6e3180b8e07051": {
      "model_module": "@jupyter-widgets/controls",
      "model_module_version": "1.5.0",
      "model_name": "HTMLModel",
      "state": {
       "_dom_classes": [],
       "_model_module": "@jupyter-widgets/controls",
       "_model_module_version": "1.5.0",
       "_model_name": "HTMLModel",
       "_view_count": null,
       "_view_module": "@jupyter-widgets/controls",
       "_view_module_version": "1.5.0",
       "_view_name": "HTMLView",
       "description": "",
       "description_tooltip": null,
       "layout": "IPY_MODEL_e1a5ec4422074d6eaa1936dbec2dac14",
       "placeholder": "​",
       "style": "IPY_MODEL_76eb24945a0941848a8edb72744f78fc",
       "value": " 5.07M/5.07M [00:02&lt;00:00, 1.83MB/s]"
      }
     },
     "80d3fbf419b44e22a8e03d6ee2bb38e5": {
      "model_module": "@jupyter-widgets/controls",
      "model_module_version": "1.5.0",
      "model_name": "ProgressStyleModel",
      "state": {
       "_model_module": "@jupyter-widgets/controls",
       "_model_module_version": "1.5.0",
       "_model_name": "ProgressStyleModel",
       "_view_count": null,
       "_view_module": "@jupyter-widgets/base",
       "_view_module_version": "1.2.0",
       "_view_name": "StyleView",
       "bar_color": null,
       "description_width": "initial"
      }
     },
     "88b0549cb5aa4916b503b46ba1abf326": {
      "model_module": "@jupyter-widgets/base",
      "model_module_version": "1.2.0",
      "model_name": "LayoutModel",
      "state": {
       "_model_module": "@jupyter-widgets/base",
       "_model_module_version": "1.2.0",
       "_model_name": "LayoutModel",
       "_view_count": null,
       "_view_module": "@jupyter-widgets/base",
       "_view_module_version": "1.2.0",
       "_view_name": "LayoutView",
       "align_content": null,
       "align_items": null,
       "align_self": null,
       "border": null,
       "bottom": null,
       "display": null,
       "flex": null,
       "flex_flow": null,
       "grid_area": null,
       "grid_auto_columns": null,
       "grid_auto_flow": null,
       "grid_auto_rows": null,
       "grid_column": null,
       "grid_gap": null,
       "grid_row": null,
       "grid_template_areas": null,
       "grid_template_columns": null,
       "grid_template_rows": null,
       "height": null,
       "justify_content": null,
       "justify_items": null,
       "left": null,
       "margin": null,
       "max_height": null,
       "max_width": null,
       "min_height": null,
       "min_width": null,
       "object_fit": null,
       "object_position": null,
       "order": null,
       "overflow": null,
       "overflow_x": null,
       "overflow_y": null,
       "padding": null,
       "right": null,
       "top": null,
       "visibility": null,
       "width": null
      }
     },
     "89b7f1bece064b10bd78e0635388fea5": {
      "model_module": "@jupyter-widgets/base",
      "model_module_version": "1.2.0",
      "model_name": "LayoutModel",
      "state": {
       "_model_module": "@jupyter-widgets/base",
       "_model_module_version": "1.2.0",
       "_model_name": "LayoutModel",
       "_view_count": null,
       "_view_module": "@jupyter-widgets/base",
       "_view_module_version": "1.2.0",
       "_view_name": "LayoutView",
       "align_content": null,
       "align_items": null,
       "align_self": null,
       "border": null,
       "bottom": null,
       "display": null,
       "flex": null,
       "flex_flow": null,
       "grid_area": null,
       "grid_auto_columns": null,
       "grid_auto_flow": null,
       "grid_auto_rows": null,
       "grid_column": null,
       "grid_gap": null,
       "grid_row": null,
       "grid_template_areas": null,
       "grid_template_columns": null,
       "grid_template_rows": null,
       "height": null,
       "justify_content": null,
       "justify_items": null,
       "left": null,
       "margin": null,
       "max_height": null,
       "max_width": null,
       "min_height": null,
       "min_width": null,
       "object_fit": null,
       "object_position": null,
       "order": null,
       "overflow": null,
       "overflow_x": null,
       "overflow_y": null,
       "padding": null,
       "right": null,
       "top": null,
       "visibility": null,
       "width": null
      }
     },
     "a53e65c245864afdaee3fb17387c4553": {
      "model_module": "@jupyter-widgets/controls",
      "model_module_version": "1.5.0",
      "model_name": "HBoxModel",
      "state": {
       "_dom_classes": [],
       "_model_module": "@jupyter-widgets/controls",
       "_model_module_version": "1.5.0",
       "_model_name": "HBoxModel",
       "_view_count": null,
       "_view_module": "@jupyter-widgets/controls",
       "_view_module_version": "1.5.0",
       "_view_name": "HBoxView",
       "box_style": "",
       "children": [
        "IPY_MODEL_04fa1f5bdb6b45e694efa50e0e33073c",
        "IPY_MODEL_6f1406b680fb4ab8b879ffe7ef90aee7"
       ],
       "layout": "IPY_MODEL_68be8b10e9fe4cd4aa3d381368134b30"
      }
     },
     "b0254f4229484e9a8bd22d74a2d9a075": {
      "model_module": "@jupyter-widgets/base",
      "model_module_version": "1.2.0",
      "model_name": "LayoutModel",
      "state": {
       "_model_module": "@jupyter-widgets/base",
       "_model_module_version": "1.2.0",
       "_model_name": "LayoutModel",
       "_view_count": null,
       "_view_module": "@jupyter-widgets/base",
       "_view_module_version": "1.2.0",
       "_view_name": "LayoutView",
       "align_content": null,
       "align_items": null,
       "align_self": null,
       "border": null,
       "bottom": null,
       "display": null,
       "flex": null,
       "flex_flow": null,
       "grid_area": null,
       "grid_auto_columns": null,
       "grid_auto_flow": null,
       "grid_auto_rows": null,
       "grid_column": null,
       "grid_gap": null,
       "grid_row": null,
       "grid_template_areas": null,
       "grid_template_columns": null,
       "grid_template_rows": null,
       "height": null,
       "justify_content": null,
       "justify_items": null,
       "left": null,
       "margin": null,
       "max_height": null,
       "max_width": null,
       "min_height": null,
       "min_width": null,
       "object_fit": null,
       "object_position": null,
       "order": null,
       "overflow": null,
       "overflow_x": null,
       "overflow_y": null,
       "padding": null,
       "right": null,
       "top": null,
       "visibility": null,
       "width": null
      }
     },
     "d1e1790237034b439c8be816cdc0fc87": {
      "model_module": "@jupyter-widgets/controls",
      "model_module_version": "1.5.0",
      "model_name": "FloatProgressModel",
      "state": {
       "_dom_classes": [],
       "_model_module": "@jupyter-widgets/controls",
       "_model_module_version": "1.5.0",
       "_model_name": "FloatProgressModel",
       "_view_count": null,
       "_view_module": "@jupyter-widgets/controls",
       "_view_module_version": "1.5.0",
       "_view_name": "ProgressView",
       "bar_style": "success",
       "description": "Downloading: 100%",
       "description_tooltip": null,
       "layout": "IPY_MODEL_d344fa27aefe4e98a192d1a45c93cd0f",
       "max": 5069051.0,
       "min": 0.0,
       "orientation": "horizontal",
       "style": "IPY_MODEL_d5aa52860e3a4030a76a8c07c2b35f61",
       "value": 5069051.0
      }
     },
     "d215ffd09eda44bd9bca2870c2c06f03": {
      "model_module": "@jupyter-widgets/controls",
      "model_module_version": "1.5.0",
      "model_name": "HBoxModel",
      "state": {
       "_dom_classes": [],
       "_model_module": "@jupyter-widgets/controls",
       "_model_module_version": "1.5.0",
       "_model_name": "HBoxModel",
       "_view_count": null,
       "_view_module": "@jupyter-widgets/controls",
       "_view_module_version": "1.5.0",
       "_view_name": "HBoxView",
       "box_style": "",
       "children": [
        "IPY_MODEL_d1e1790237034b439c8be816cdc0fc87",
        "IPY_MODEL_8009a3d629ba46d18b6e3180b8e07051"
       ],
       "layout": "IPY_MODEL_88b0549cb5aa4916b503b46ba1abf326"
      }
     },
     "d344fa27aefe4e98a192d1a45c93cd0f": {
      "model_module": "@jupyter-widgets/base",
      "model_module_version": "1.2.0",
      "model_name": "LayoutModel",
      "state": {
       "_model_module": "@jupyter-widgets/base",
       "_model_module_version": "1.2.0",
       "_model_name": "LayoutModel",
       "_view_count": null,
       "_view_module": "@jupyter-widgets/base",
       "_view_module_version": "1.2.0",
       "_view_name": "LayoutView",
       "align_content": null,
       "align_items": null,
       "align_self": null,
       "border": null,
       "bottom": null,
       "display": null,
       "flex": null,
       "flex_flow": null,
       "grid_area": null,
       "grid_auto_columns": null,
       "grid_auto_flow": null,
       "grid_auto_rows": null,
       "grid_column": null,
       "grid_gap": null,
       "grid_row": null,
       "grid_template_areas": null,
       "grid_template_columns": null,
       "grid_template_rows": null,
       "height": null,
       "justify_content": null,
       "justify_items": null,
       "left": null,
       "margin": null,
       "max_height": null,
       "max_width": null,
       "min_height": null,
       "min_width": null,
       "object_fit": null,
       "object_position": null,
       "order": null,
       "overflow": null,
       "overflow_x": null,
       "overflow_y": null,
       "padding": null,
       "right": null,
       "top": null,
       "visibility": null,
       "width": null
      }
     },
     "d5aa52860e3a4030a76a8c07c2b35f61": {
      "model_module": "@jupyter-widgets/controls",
      "model_module_version": "1.5.0",
      "model_name": "ProgressStyleModel",
      "state": {
       "_model_module": "@jupyter-widgets/controls",
       "_model_module_version": "1.5.0",
       "_model_name": "ProgressStyleModel",
       "_view_count": null,
       "_view_module": "@jupyter-widgets/base",
       "_view_module_version": "1.2.0",
       "_view_name": "StyleView",
       "bar_color": null,
       "description_width": "initial"
      }
     },
     "e1a5ec4422074d6eaa1936dbec2dac14": {
      "model_module": "@jupyter-widgets/base",
      "model_module_version": "1.2.0",
      "model_name": "LayoutModel",
      "state": {
       "_model_module": "@jupyter-widgets/base",
       "_model_module_version": "1.2.0",
       "_model_name": "LayoutModel",
       "_view_count": null,
       "_view_module": "@jupyter-widgets/base",
       "_view_module_version": "1.2.0",
       "_view_name": "LayoutView",
       "align_content": null,
       "align_items": null,
       "align_self": null,
       "border": null,
       "bottom": null,
       "display": null,
       "flex": null,
       "flex_flow": null,
       "grid_area": null,
       "grid_auto_columns": null,
       "grid_auto_flow": null,
       "grid_auto_rows": null,
       "grid_column": null,
       "grid_gap": null,
       "grid_row": null,
       "grid_template_areas": null,
       "grid_template_columns": null,
       "grid_template_rows": null,
       "height": null,
       "justify_content": null,
       "justify_items": null,
       "left": null,
       "margin": null,
       "max_height": null,
       "max_width": null,
       "min_height": null,
       "min_width": null,
       "object_fit": null,
       "object_position": null,
       "order": null,
       "overflow": null,
       "overflow_x": null,
       "overflow_y": null,
       "padding": null,
       "right": null,
       "top": null,
       "visibility": null,
       "width": null
      }
     }
    },
    "version_major": 2,
    "version_minor": 0
   }
  }
 },
 "nbformat": 4,
 "nbformat_minor": 4
}
